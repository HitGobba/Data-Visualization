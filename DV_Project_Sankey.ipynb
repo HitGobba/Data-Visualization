{
 "cells": [
  {
   "cell_type": "markdown",
   "id": "108b3752",
   "metadata": {},
   "source": [
    "# Imports"
   ]
  },
  {
   "cell_type": "code",
   "execution_count": 3,
   "id": "17f776de",
   "metadata": {
    "scrolled": true
   },
   "outputs": [
    {
     "data": {
      "text/plain": [
       "Renderers configuration\n",
       "-----------------------\n",
       "    Default renderer: 'vscode'\n",
       "    Available renderers:\n",
       "        ['plotly_mimetype', 'jupyterlab', 'nteract', 'vscode',\n",
       "         'notebook', 'notebook_connected', 'kaggle', 'azure', 'colab',\n",
       "         'cocalc', 'databricks', 'json', 'png', 'jpeg', 'jpg', 'svg',\n",
       "         'pdf', 'browser', 'firefox', 'chrome', 'chromium', 'iframe',\n",
       "         'iframe_connected', 'sphinx_gallery', 'sphinx_gallery_png']"
      ]
     },
     "execution_count": 3,
     "metadata": {},
     "output_type": "execute_result"
    }
   ],
   "source": [
    "import pandas as pd\n",
    "import numpy as np\n",
    "import plotly.graph_objects as go\n",
    "import plotly.express as px\n",
    "import plotly.io as pio\n",
    "pio.renderers"
   ]
  },
  {
   "cell_type": "markdown",
   "id": "1dc391e4",
   "metadata": {},
   "source": [
    "# Load the data"
   ]
  },
  {
   "cell_type": "code",
   "execution_count": 4,
   "id": "2caac9e1",
   "metadata": {},
   "outputs": [],
   "source": [
    "circuits = pd.read_csv(r'./datasets/circuits.csv')\n",
    "constructor_results = pd.read_csv(r'./datasets/constructor_results.csv')\n",
    "constructor_standings = pd.read_csv(r'./datasets/constructor_standings.csv')\n",
    "constructors = pd.read_csv(r'./datasets/constructors.csv')\n",
    "driver_standings = pd.read_csv(r'./datasets/driver_standings.csv')\n",
    "drivers = pd.read_csv(r'./datasets/drivers.csv')\n",
    "lap_times = pd.read_csv(r'./datasets/lap_times.csv')\n",
    "pit_stops = pd.read_csv(r'./datasets/pit_stops.csv')\n",
    "qualifying = pd.read_csv(r'./datasets/qualifying.csv')\n",
    "races = pd.read_csv(r'./datasets/races.csv')\n",
    "results = pd.read_csv(r'./datasets/results.csv')\n",
    "seasons = pd.read_csv(r'./datasets/seasons.csv')\n",
    "sprint_results = pd.read_csv(r'./datasets/sprint_results.csv')\n",
    "status = pd.read_csv(r'./datasets/status.csv')"
   ]
  },
  {
   "cell_type": "markdown",
   "id": "b0f3de8a",
   "metadata": {},
   "source": [
    "# Data"
   ]
  },
  {
   "cell_type": "code",
   "execution_count": 5,
   "id": "bb5037c4",
   "metadata": {},
   "outputs": [
    {
     "data": {
      "text/html": [
       "<div>\n",
       "<style scoped>\n",
       "    .dataframe tbody tr th:only-of-type {\n",
       "        vertical-align: middle;\n",
       "    }\n",
       "\n",
       "    .dataframe tbody tr th {\n",
       "        vertical-align: top;\n",
       "    }\n",
       "\n",
       "    .dataframe thead th {\n",
       "        text-align: right;\n",
       "    }\n",
       "</style>\n",
       "<table border=\"1\" class=\"dataframe\">\n",
       "  <thead>\n",
       "    <tr style=\"text-align: right;\">\n",
       "      <th></th>\n",
       "      <th>circuitId</th>\n",
       "      <th>circuitRef</th>\n",
       "      <th>name</th>\n",
       "      <th>location</th>\n",
       "      <th>country</th>\n",
       "      <th>lat</th>\n",
       "      <th>lng</th>\n",
       "      <th>alt</th>\n",
       "      <th>url</th>\n",
       "    </tr>\n",
       "  </thead>\n",
       "  <tbody>\n",
       "    <tr>\n",
       "      <th>0</th>\n",
       "      <td>1</td>\n",
       "      <td>albert_park</td>\n",
       "      <td>Albert Park Grand Prix Circuit</td>\n",
       "      <td>Melbourne</td>\n",
       "      <td>Australia</td>\n",
       "      <td>-37.84970</td>\n",
       "      <td>144.96800</td>\n",
       "      <td>10</td>\n",
       "      <td>http://en.wikipedia.org/wiki/Melbourne_Grand_P...</td>\n",
       "    </tr>\n",
       "    <tr>\n",
       "      <th>1</th>\n",
       "      <td>2</td>\n",
       "      <td>sepang</td>\n",
       "      <td>Sepang International Circuit</td>\n",
       "      <td>Kuala Lumpur</td>\n",
       "      <td>Malaysia</td>\n",
       "      <td>2.76083</td>\n",
       "      <td>101.73800</td>\n",
       "      <td>18</td>\n",
       "      <td>http://en.wikipedia.org/wiki/Sepang_Internatio...</td>\n",
       "    </tr>\n",
       "    <tr>\n",
       "      <th>2</th>\n",
       "      <td>3</td>\n",
       "      <td>bahrain</td>\n",
       "      <td>Bahrain International Circuit</td>\n",
       "      <td>Sakhir</td>\n",
       "      <td>Bahrain</td>\n",
       "      <td>26.03250</td>\n",
       "      <td>50.51060</td>\n",
       "      <td>7</td>\n",
       "      <td>http://en.wikipedia.org/wiki/Bahrain_Internati...</td>\n",
       "    </tr>\n",
       "    <tr>\n",
       "      <th>3</th>\n",
       "      <td>4</td>\n",
       "      <td>catalunya</td>\n",
       "      <td>Circuit de Barcelona-Catalunya</td>\n",
       "      <td>Montmeló</td>\n",
       "      <td>Spain</td>\n",
       "      <td>41.57000</td>\n",
       "      <td>2.26111</td>\n",
       "      <td>109</td>\n",
       "      <td>http://en.wikipedia.org/wiki/Circuit_de_Barcel...</td>\n",
       "    </tr>\n",
       "    <tr>\n",
       "      <th>4</th>\n",
       "      <td>5</td>\n",
       "      <td>istanbul</td>\n",
       "      <td>Istanbul Park</td>\n",
       "      <td>Istanbul</td>\n",
       "      <td>Turkey</td>\n",
       "      <td>40.95170</td>\n",
       "      <td>29.40500</td>\n",
       "      <td>130</td>\n",
       "      <td>http://en.wikipedia.org/wiki/Istanbul_Park</td>\n",
       "    </tr>\n",
       "  </tbody>\n",
       "</table>\n",
       "</div>"
      ],
      "text/plain": [
       "   circuitId   circuitRef                            name      location  \\\n",
       "0          1  albert_park  Albert Park Grand Prix Circuit     Melbourne   \n",
       "1          2       sepang    Sepang International Circuit  Kuala Lumpur   \n",
       "2          3      bahrain   Bahrain International Circuit        Sakhir   \n",
       "3          4    catalunya  Circuit de Barcelona-Catalunya      Montmeló   \n",
       "4          5     istanbul                   Istanbul Park      Istanbul   \n",
       "\n",
       "     country       lat        lng  alt  \\\n",
       "0  Australia -37.84970  144.96800   10   \n",
       "1   Malaysia   2.76083  101.73800   18   \n",
       "2    Bahrain  26.03250   50.51060    7   \n",
       "3      Spain  41.57000    2.26111  109   \n",
       "4     Turkey  40.95170   29.40500  130   \n",
       "\n",
       "                                                 url  \n",
       "0  http://en.wikipedia.org/wiki/Melbourne_Grand_P...  \n",
       "1  http://en.wikipedia.org/wiki/Sepang_Internatio...  \n",
       "2  http://en.wikipedia.org/wiki/Bahrain_Internati...  \n",
       "3  http://en.wikipedia.org/wiki/Circuit_de_Barcel...  \n",
       "4         http://en.wikipedia.org/wiki/Istanbul_Park  "
      ]
     },
     "execution_count": 5,
     "metadata": {},
     "output_type": "execute_result"
    }
   ],
   "source": [
    "circuits.head()\n",
    "# constructor_results.head()\n",
    "# constructor_standings.head()\n",
    "# constructors.head()\n",
    "# driver_standings.head()\n",
    "# drivers.head()\n",
    "# lap_times.head()\n",
    "# pit_stops.head()\n",
    "# qualifying.head()\n",
    "# races.head()\n",
    "# results.head()\n",
    "# seasons.head()\n",
    "# sprint_results.head()\n",
    "# status.head()"
   ]
  },
  {
   "cell_type": "markdown",
   "id": "781ba846",
   "metadata": {},
   "source": [
    "A dataset **qualifying** tem missing values mas fazem sentido (q2 e q3, pois nem todos os drivers vão a estas fases).   \n",
    "Nenhuma das outras datasets contém missing values."
   ]
  },
  {
   "cell_type": "code",
   "execution_count": 6,
   "id": "09c5ff7d",
   "metadata": {},
   "outputs": [],
   "source": [
    "circuits['country'].replace('United States', 'USA', inplace=True)"
   ]
  },
  {
   "cell_type": "markdown",
   "id": "7222e641",
   "metadata": {},
   "source": [
    "# Visualizations"
   ]
  },
  {
   "cell_type": "markdown",
   "id": "0427fb6d",
   "metadata": {},
   "source": [
    "## Position of the driver in each lap of a race"
   ]
  },
  {
   "cell_type": "markdown",
   "id": "11fcee67",
   "metadata": {},
   "source": [
    "Exemplo de uma corrida ao calhas:"
   ]
  },
  {
   "cell_type": "code",
   "execution_count": 7,
   "id": "7f98abc7",
   "metadata": {},
   "outputs": [
    {
     "data": {
      "text/html": [
       "<div>\n",
       "<style scoped>\n",
       "    .dataframe tbody tr th:only-of-type {\n",
       "        vertical-align: middle;\n",
       "    }\n",
       "\n",
       "    .dataframe tbody tr th {\n",
       "        vertical-align: top;\n",
       "    }\n",
       "\n",
       "    .dataframe thead th {\n",
       "        text-align: right;\n",
       "    }\n",
       "</style>\n",
       "<table border=\"1\" class=\"dataframe\">\n",
       "  <thead>\n",
       "    <tr style=\"text-align: right;\">\n",
       "      <th></th>\n",
       "      <th>raceId</th>\n",
       "      <th>year</th>\n",
       "      <th>round</th>\n",
       "      <th>circuitId</th>\n",
       "      <th>name</th>\n",
       "      <th>date</th>\n",
       "      <th>time</th>\n",
       "      <th>url</th>\n",
       "    </tr>\n",
       "  </thead>\n",
       "  <tbody>\n",
       "    <tr>\n",
       "      <th>0</th>\n",
       "      <td>1</td>\n",
       "      <td>2009</td>\n",
       "      <td>1</td>\n",
       "      <td>1</td>\n",
       "      <td>Australian Grand Prix</td>\n",
       "      <td>3/29/2009</td>\n",
       "      <td>06:00:00</td>\n",
       "      <td>http://en.wikipedia.org/wiki/2009_Australian_G...</td>\n",
       "    </tr>\n",
       "  </tbody>\n",
       "</table>\n",
       "</div>"
      ],
      "text/plain": [
       "   raceId  year  round  circuitId                   name       date      time  \\\n",
       "0       1  2009      1          1  Australian Grand Prix  3/29/2009  06:00:00   \n",
       "\n",
       "                                                 url  \n",
       "0  http://en.wikipedia.org/wiki/2009_Australian_G...  "
      ]
     },
     "execution_count": 7,
     "metadata": {},
     "output_type": "execute_result"
    }
   ],
   "source": [
    "races.loc[(races['year']==2009) & (races['circuitId']==1)]"
   ]
  },
  {
   "cell_type": "code",
   "execution_count": 8,
   "id": "a60cf656",
   "metadata": {
    "scrolled": true
   },
   "outputs": [],
   "source": [
    "# choosing the race\n",
    "race = races.loc[(races['year']==2009) & (races['circuitId']==1)]['raceId'].values[0]\n",
    "\n",
    "\n",
    "#dataframe of lap_times for that race\n",
    "pos_per_lap = lap_times[lap_times['raceId']==race]  \n",
    "\n",
    "\n",
    "driver_ids = np.unique(pos_per_lap['driverId'].values).tolist() #list of the ids of the drivers in that race\n",
    "driver_names = [drivers.loc[drivers['driverId']==name]['surname'].values[0] for name in driver_ids] #names of the drivers\n",
    "driver_dict = {driver_ids[i]: driver_names[i] for i in range(len(driver_ids))} #dictionary with ids and names\n",
    "\n",
    "\n",
    "data_ppl = [dict(type='scatter',\n",
    "             x=pos_per_lap[pos_per_lap['driverId']==driver]['lap'],\n",
    "             y=pos_per_lap[pos_per_lap['driverId']==driver]['position'],\n",
    "             name=name)\n",
    "                            for driver, name in driver_dict.items()]\n",
    "\n",
    "layout_ppl = dict(title=dict(\n",
    "                        text='Position of the drivers in each lap'\n",
    "                  ),\n",
    "                  xaxis=dict(title='Laps'),\n",
    "                  yaxis=dict(title='Positions'))"
   ]
  },
  {
   "cell_type": "code",
   "execution_count": 9,
   "id": "09a5481b",
   "metadata": {
    "scrolled": false
   },
   "outputs": [
    {
     "data": {
      "application/vnd.plotly.v1+json": {
       "config": {
        "plotlyServerURL": "https://plot.ly"
       },
       "data": [
        {
         "name": "Hamilton",
         "type": "scatter",
         "x": [
          1,
          2,
          3,
          4,
          5,
          6,
          7,
          8,
          9,
          10,
          11,
          12,
          13,
          14,
          15,
          16,
          17,
          18,
          19,
          20,
          21,
          22,
          23,
          24,
          25,
          26,
          27,
          28,
          29,
          30,
          31,
          32,
          33,
          34,
          35,
          36,
          37,
          38,
          39,
          40,
          41,
          42,
          43,
          44,
          45,
          46,
          47,
          48,
          49,
          50,
          51,
          52,
          53,
          54,
          55,
          56,
          57,
          58
         ],
         "y": [
          13,
          12,
          11,
          10,
          10,
          9,
          9,
          9,
          9,
          8,
          14,
          15,
          15,
          15,
          15,
          15,
          15,
          14,
          13,
          12,
          12,
          12,
          12,
          12,
          10,
          10,
          10,
          10,
          10,
          10,
          9,
          9,
          8,
          8,
          8,
          8,
          8,
          8,
          7,
          6,
          5,
          5,
          8,
          10,
          10,
          10,
          10,
          10,
          9,
          9,
          8,
          7,
          7,
          6,
          6,
          3,
          4,
          4
         ]
        },
        {
         "name": "Heidfeld",
         "type": "scatter",
         "x": [
          1,
          2,
          3,
          4,
          5,
          6,
          7,
          8,
          9,
          10,
          11,
          12,
          13,
          14,
          15,
          16,
          17,
          18,
          19,
          20,
          21,
          22,
          23,
          24,
          25,
          26,
          27,
          28,
          29,
          30,
          31,
          32,
          33,
          34,
          35,
          36,
          37,
          38,
          39,
          40,
          41,
          42,
          43,
          44,
          45,
          46,
          47,
          48,
          49,
          50,
          51,
          52,
          53,
          54,
          55,
          56,
          57,
          58
         ],
         "y": [
          17,
          17,
          17,
          17,
          17,
          17,
          17,
          17,
          17,
          17,
          17,
          17,
          17,
          17,
          17,
          17,
          17,
          17,
          17,
          17,
          17,
          16,
          16,
          16,
          16,
          16,
          16,
          16,
          16,
          16,
          16,
          16,
          16,
          15,
          15,
          15,
          14,
          14,
          14,
          14,
          14,
          14,
          13,
          15,
          15,
          14,
          14,
          14,
          14,
          13,
          13,
          13,
          13,
          13,
          13,
          12,
          11,
          11
         ]
        },
        {
         "name": "Rosberg",
         "type": "scatter",
         "x": [
          1,
          2,
          3,
          4,
          5,
          6,
          7,
          8,
          9,
          10,
          11,
          12,
          13,
          14,
          15,
          16,
          17,
          18,
          19,
          20,
          21,
          22,
          23,
          24,
          25,
          26,
          27,
          28,
          29,
          30,
          31,
          32,
          33,
          34,
          35,
          36,
          37,
          38,
          39,
          40,
          41,
          42,
          43,
          44,
          45,
          46,
          47,
          48,
          49,
          50,
          51,
          52,
          53,
          54,
          55,
          56,
          57,
          58
         ],
         "y": [
          6,
          6,
          6,
          6,
          6,
          6,
          6,
          6,
          6,
          5,
          4,
          3,
          3,
          3,
          3,
          12,
          13,
          9,
          7,
          6,
          6,
          6,
          6,
          6,
          9,
          9,
          9,
          9,
          9,
          9,
          8,
          8,
          7,
          7,
          7,
          7,
          7,
          7,
          6,
          5,
          4,
          4,
          4,
          7,
          7,
          7,
          7,
          7,
          7,
          6,
          5,
          4,
          5,
          8,
          9,
          8,
          7,
          7
         ]
        },
        {
         "name": "Alonso",
         "type": "scatter",
         "x": [
          1,
          2,
          3,
          4,
          5,
          6,
          7,
          8,
          9,
          10,
          11,
          12,
          13,
          14,
          15,
          16,
          17,
          18,
          19,
          20,
          21,
          22,
          23,
          24,
          25,
          26,
          27,
          28,
          29,
          30,
          31,
          32,
          33,
          34,
          35,
          36,
          37,
          38,
          39,
          40,
          41,
          42,
          43,
          44,
          45,
          46,
          47,
          48,
          49,
          50,
          51,
          52,
          53,
          54,
          55,
          56,
          57,
          58
         ],
         "y": [
          14,
          15,
          15,
          15,
          14,
          14,
          14,
          14,
          14,
          12,
          10,
          9,
          9,
          9,
          9,
          8,
          8,
          5,
          12,
          13,
          13,
          13,
          13,
          13,
          11,
          11,
          11,
          11,
          11,
          11,
          10,
          10,
          9,
          9,
          9,
          9,
          9,
          9,
          9,
          8,
          7,
          7,
          6,
          5,
          5,
          5,
          5,
          5,
          5,
          5,
          7,
          9,
          9,
          9,
          8,
          6,
          6,
          6
         ]
        },
        {
         "name": "Nakajima",
         "type": "scatter",
         "x": [
          1,
          2,
          3,
          4,
          5,
          6,
          7,
          8,
          9,
          10,
          11,
          12,
          13,
          14,
          15,
          16,
          17
         ],
         "y": [
          8,
          8,
          8,
          8,
          8,
          8,
          8,
          8,
          8,
          7,
          6,
          5,
          5,
          5,
          5,
          4,
          4
         ]
        },
        {
         "name": "Bourdais",
         "type": "scatter",
         "x": [
          1,
          2,
          3,
          4,
          5,
          6,
          7,
          8,
          9,
          10,
          11,
          12,
          13,
          14,
          15,
          16,
          17,
          18,
          19,
          20,
          21,
          22,
          23,
          24,
          25,
          26,
          27,
          28,
          29,
          30,
          31,
          32,
          33,
          34,
          35,
          36,
          37,
          38,
          39,
          40,
          41,
          42,
          43,
          44,
          45,
          46,
          47,
          48,
          49,
          50,
          51,
          52,
          53,
          54,
          55,
          56,
          57,
          58
         ],
         "y": [
          12,
          13,
          13,
          14,
          15,
          16,
          16,
          16,
          16,
          16,
          16,
          16,
          16,
          16,
          16,
          16,
          16,
          15,
          15,
          15,
          15,
          15,
          15,
          15,
          15,
          15,
          15,
          15,
          15,
          15,
          15,
          15,
          15,
          14,
          14,
          14,
          15,
          15,
          15,
          15,
          15,
          15,
          14,
          13,
          13,
          12,
          12,
          12,
          11,
          11,
          11,
          11,
          11,
          11,
          11,
          10,
          9,
          9
         ]
        },
        {
         "name": "Räikkönen",
         "type": "scatter",
         "x": [
          1,
          2,
          3,
          4,
          5,
          6,
          7,
          8,
          9,
          10,
          11,
          12,
          13,
          14,
          15,
          16,
          17,
          18,
          19,
          20,
          21,
          22,
          23,
          24,
          25,
          26,
          27,
          28,
          29,
          30,
          31,
          32,
          33,
          34,
          35,
          36,
          37,
          38,
          39,
          40,
          41,
          42,
          43,
          44,
          45,
          46,
          47,
          48,
          49,
          50,
          51,
          52,
          53,
          54,
          55
         ],
         "y": [
          5,
          5,
          5,
          5,
          5,
          5,
          5,
          5,
          5,
          14,
          13,
          13,
          13,
          13,
          13,
          13,
          12,
          8,
          6,
          5,
          5,
          5,
          5,
          5,
          5,
          5,
          5,
          5,
          5,
          5,
          4,
          4,
          4,
          4,
          4,
          4,
          4,
          4,
          8,
          9,
          8,
          8,
          16,
          16,
          16,
          15,
          15,
          15,
          15,
          15,
          15,
          15,
          15,
          15,
          15
         ]
        },
        {
         "name": "Kubica",
         "type": "scatter",
         "x": [
          1,
          2,
          3,
          4,
          5,
          6,
          7,
          8,
          9,
          10,
          11,
          12,
          13,
          14,
          15,
          16,
          17,
          18,
          19,
          20,
          21,
          22,
          23,
          24,
          25,
          26,
          27,
          28,
          29,
          30,
          31,
          32,
          33,
          34,
          35,
          36,
          37,
          38,
          39,
          40,
          41,
          42,
          43,
          44,
          45,
          46,
          47,
          48,
          49,
          50,
          51,
          52,
          53,
          54,
          55
         ],
         "y": [
          4,
          4,
          4,
          4,
          4,
          4,
          4,
          4,
          4,
          4,
          3,
          11,
          12,
          12,
          12,
          11,
          11,
          7,
          4,
          4,
          4,
          4,
          4,
          4,
          4,
          4,
          4,
          4,
          4,
          4,
          3,
          3,
          3,
          3,
          3,
          3,
          3,
          3,
          4,
          7,
          6,
          6,
          5,
          4,
          4,
          4,
          4,
          4,
          4,
          4,
          3,
          3,
          3,
          3,
          3
         ]
        },
        {
         "name": "Glock",
         "type": "scatter",
         "x": [
          1,
          2,
          3,
          4,
          5,
          6,
          7,
          8,
          9,
          10,
          11,
          12,
          13,
          14,
          15,
          16,
          17,
          18,
          19,
          20,
          21,
          22,
          23,
          24,
          25,
          26,
          27,
          28,
          29,
          30,
          31,
          32,
          33,
          34,
          35,
          36,
          37,
          38,
          39,
          40,
          41,
          42,
          43,
          44,
          45,
          46,
          47,
          48,
          49,
          50,
          51,
          52,
          53,
          54,
          55,
          56,
          57,
          58
         ],
         "y": [
          16,
          16,
          16,
          16,
          16,
          15,
          15,
          15,
          15,
          13,
          12,
          10,
          10,
          10,
          10,
          9,
          9,
          13,
          11,
          11,
          11,
          11,
          11,
          11,
          12,
          12,
          12,
          12,
          12,
          12,
          11,
          11,
          10,
          10,
          10,
          10,
          10,
          10,
          10,
          10,
          9,
          9,
          7,
          6,
          6,
          6,
          6,
          6,
          6,
          8,
          9,
          8,
          8,
          7,
          7,
          5,
          5,
          5
         ]
        },
        {
         "name": "Piquet Jr.",
         "type": "scatter",
         "x": [
          1,
          2,
          3,
          4,
          5,
          6,
          7,
          8,
          9,
          10,
          11,
          12,
          13,
          14,
          15,
          16,
          17,
          18,
          19,
          20,
          21,
          22,
          23,
          24
         ],
         "y": [
          9,
          9,
          9,
          9,
          9,
          10,
          10,
          10,
          10,
          9,
          7,
          6,
          6,
          6,
          6,
          5,
          5,
          3,
          5,
          7,
          7,
          7,
          7,
          7
         ]
        },
        {
         "name": "Massa",
         "type": "scatter",
         "x": [
          1,
          2,
          3,
          4,
          5,
          6,
          7,
          8,
          9,
          10,
          11,
          12,
          13,
          14,
          15,
          16,
          17,
          18,
          19,
          20,
          21,
          22,
          23,
          24,
          25,
          26,
          27,
          28,
          29,
          30,
          31,
          32,
          33,
          34,
          35,
          36,
          37,
          38,
          39,
          40,
          41,
          42,
          43,
          44,
          45
         ],
         "y": [
          3,
          3,
          3,
          3,
          3,
          3,
          3,
          3,
          3,
          3,
          11,
          12,
          11,
          11,
          11,
          10,
          10,
          6,
          3,
          3,
          3,
          3,
          3,
          3,
          3,
          3,
          3,
          3,
          3,
          3,
          13,
          14,
          14,
          13,
          13,
          13,
          13,
          13,
          13,
          13,
          13,
          12,
          11,
          11,
          11
         ]
        },
        {
         "name": "Trulli",
         "type": "scatter",
         "x": [
          1,
          2,
          3,
          4,
          5,
          6,
          7,
          8,
          9,
          10,
          11,
          12,
          13,
          14,
          15,
          16,
          17,
          18,
          19,
          20,
          21,
          22,
          23,
          24,
          25,
          26,
          27,
          28,
          29,
          30,
          31,
          32,
          33,
          34,
          35,
          36,
          37,
          38,
          39,
          40,
          41,
          42,
          43,
          44,
          45,
          46,
          47,
          48,
          49,
          50,
          51,
          52,
          53,
          54,
          55,
          56,
          57,
          58
         ],
         "y": [
          15,
          14,
          14,
          13,
          13,
          13,
          13,
          13,
          13,
          15,
          15,
          14,
          14,
          14,
          14,
          14,
          14,
          10,
          8,
          8,
          8,
          8,
          8,
          8,
          6,
          6,
          6,
          6,
          6,
          6,
          5,
          5,
          12,
          12,
          12,
          12,
          12,
          12,
          12,
          12,
          12,
          11,
          10,
          9,
          9,
          9,
          9,
          9,
          8,
          7,
          6,
          6,
          6,
          5,
          5,
          4,
          3,
          3
         ]
        },
        {
         "name": "Sutil",
         "type": "scatter",
         "x": [
          1,
          2,
          3,
          4,
          5,
          6,
          7,
          8,
          9,
          10,
          11,
          12,
          13,
          14,
          15,
          16,
          17,
          18,
          19,
          20,
          21,
          22,
          23,
          24,
          25,
          26,
          27,
          28,
          29,
          30,
          31,
          32,
          33,
          34,
          35,
          36,
          37,
          38,
          39,
          40,
          41,
          42,
          43,
          44,
          45,
          46,
          47,
          48,
          49,
          50,
          51,
          52,
          53,
          54,
          55,
          56,
          57,
          58
         ],
         "y": [
          18,
          18,
          18,
          18,
          18,
          18,
          18,
          18,
          18,
          18,
          18,
          18,
          18,
          18,
          18,
          18,
          18,
          16,
          16,
          16,
          16,
          17,
          17,
          17,
          14,
          14,
          14,
          14,
          13,
          13,
          12,
          12,
          11,
          17,
          16,
          16,
          16,
          16,
          16,
          16,
          16,
          16,
          15,
          14,
          14,
          13,
          13,
          13,
          12,
          12,
          12,
          12,
          12,
          12,
          12,
          11,
          10,
          10
         ]
        },
        {
         "name": "Webber",
         "type": "scatter",
         "x": [
          1,
          2,
          3,
          4,
          5,
          6,
          7,
          8,
          9,
          10,
          11,
          12,
          13,
          14,
          15,
          16,
          17,
          18,
          19,
          20,
          21,
          22,
          23,
          24,
          25,
          26,
          27,
          28,
          29,
          30,
          31,
          32,
          33,
          34,
          35,
          36,
          37,
          38,
          39,
          40,
          41,
          42,
          43,
          44,
          45,
          46,
          47,
          48,
          49,
          50,
          51,
          52,
          53,
          54,
          55,
          56,
          57
         ],
         "y": [
          19,
          19,
          19,
          19,
          19,
          19,
          19,
          19,
          19,
          19,
          19,
          19,
          19,
          19,
          19,
          19,
          19,
          18,
          18,
          18,
          18,
          18,
          18,
          18,
          17,
          17,
          17,
          17,
          17,
          17,
          17,
          17,
          17,
          16,
          17,
          17,
          17,
          17,
          17,
          17,
          17,
          17,
          17,
          17,
          17,
          16,
          16,
          16,
          16,
          16,
          16,
          16,
          16,
          16,
          16,
          14,
          13
         ]
        },
        {
         "name": "Button",
         "type": "scatter",
         "x": [
          1,
          2,
          3,
          4,
          5,
          6,
          7,
          8,
          9,
          10,
          11,
          12,
          13,
          14,
          15,
          16,
          17,
          18,
          19,
          20,
          21,
          22,
          23,
          24,
          25,
          26,
          27,
          28,
          29,
          30,
          31,
          32,
          33,
          34,
          35,
          36,
          37,
          38,
          39,
          40,
          41,
          42,
          43,
          44,
          45,
          46,
          47,
          48,
          49,
          50,
          51,
          52,
          53,
          54,
          55,
          56,
          57,
          58
         ],
         "y": [
          1,
          1,
          1,
          1,
          1,
          1,
          1,
          1,
          1,
          1,
          1,
          1,
          1,
          1,
          1,
          1,
          1,
          1,
          1,
          1,
          1,
          1,
          1,
          1,
          1,
          1,
          1,
          1,
          1,
          1,
          1,
          1,
          1,
          1,
          1,
          1,
          1,
          1,
          1,
          1,
          1,
          1,
          1,
          1,
          1,
          1,
          1,
          1,
          1,
          1,
          1,
          1,
          1,
          1,
          1,
          1,
          1,
          1
         ]
        },
        {
         "name": "Vettel",
         "type": "scatter",
         "x": [
          1,
          2,
          3,
          4,
          5,
          6,
          7,
          8,
          9,
          10,
          11,
          12,
          13,
          14,
          15,
          16,
          17,
          18,
          19,
          20,
          21,
          22,
          23,
          24,
          25,
          26,
          27,
          28,
          29,
          30,
          31,
          32,
          33,
          34,
          35,
          36,
          37,
          38,
          39,
          40,
          41,
          42,
          43,
          44,
          45,
          46,
          47,
          48,
          49,
          50,
          51,
          52,
          53,
          54,
          55,
          56
         ],
         "y": [
          2,
          2,
          2,
          2,
          2,
          2,
          2,
          2,
          2,
          2,
          2,
          2,
          2,
          2,
          2,
          2,
          2,
          2,
          2,
          2,
          2,
          2,
          2,
          2,
          2,
          2,
          2,
          2,
          2,
          2,
          2,
          2,
          2,
          2,
          2,
          2,
          2,
          2,
          2,
          2,
          2,
          2,
          2,
          2,
          2,
          2,
          2,
          2,
          2,
          2,
          2,
          2,
          2,
          2,
          2,
          7
         ]
        },
        {
         "name": "Fisichella",
         "type": "scatter",
         "x": [
          1,
          2,
          3,
          4,
          5,
          6,
          7,
          8,
          9,
          10,
          11,
          12,
          13,
          14,
          15,
          16,
          17,
          18,
          19,
          20,
          21,
          22,
          23,
          24,
          25,
          26,
          27,
          28,
          29,
          30,
          31,
          32,
          33,
          34,
          35,
          36,
          37,
          38,
          39,
          40,
          41,
          42,
          43,
          44,
          45,
          46,
          47,
          48,
          49,
          50,
          51,
          52,
          53,
          54,
          55,
          56,
          57,
          58
         ],
         "y": [
          11,
          11,
          12,
          12,
          12,
          12,
          12,
          12,
          12,
          11,
          9,
          8,
          8,
          8,
          8,
          7,
          7,
          4,
          14,
          14,
          14,
          14,
          14,
          14,
          13,
          13,
          13,
          13,
          14,
          14,
          14,
          13,
          13,
          11,
          11,
          11,
          11,
          11,
          11,
          11,
          11,
          10,
          9,
          8,
          8,
          8,
          8,
          8,
          13,
          14,
          14,
          14,
          14,
          14,
          14,
          13,
          12,
          12
         ]
        },
        {
         "name": "Barrichello",
         "type": "scatter",
         "x": [
          1,
          2,
          3,
          4,
          5,
          6,
          7,
          8,
          9,
          10,
          11,
          12,
          13,
          14,
          15,
          16,
          17,
          18,
          19,
          20,
          21,
          22,
          23,
          24,
          25,
          26,
          27,
          28,
          29,
          30,
          31,
          32,
          33,
          34,
          35,
          36,
          37,
          38,
          39,
          40,
          41,
          42,
          43,
          44,
          45,
          46,
          47,
          48,
          49,
          50,
          51,
          52,
          53,
          54,
          55,
          56,
          57,
          58
         ],
         "y": [
          7,
          7,
          7,
          7,
          7,
          7,
          7,
          7,
          7,
          6,
          5,
          4,
          4,
          4,
          4,
          3,
          3,
          12,
          10,
          10,
          10,
          10,
          10,
          10,
          7,
          7,
          7,
          7,
          7,
          7,
          6,
          6,
          5,
          5,
          5,
          5,
          5,
          5,
          3,
          3,
          3,
          3,
          3,
          3,
          3,
          3,
          3,
          3,
          3,
          3,
          4,
          5,
          4,
          4,
          4,
          2,
          2,
          2
         ]
        },
        {
         "name": "Buemi",
         "type": "scatter",
         "x": [
          1,
          2,
          3,
          4,
          5,
          6,
          7,
          8,
          9,
          10,
          11,
          12,
          13,
          14,
          15,
          16,
          17,
          18,
          19,
          20,
          21,
          22,
          23,
          24,
          25,
          26,
          27,
          28,
          29,
          30,
          31,
          32,
          33,
          34,
          35,
          36,
          37,
          38,
          39,
          40,
          41,
          42,
          43,
          44,
          45,
          46,
          47,
          48,
          49,
          50,
          51,
          52,
          53,
          54,
          55,
          56,
          57,
          58
         ],
         "y": [
          10,
          10,
          10,
          11,
          11,
          11,
          11,
          11,
          11,
          10,
          8,
          7,
          7,
          7,
          7,
          6,
          6,
          11,
          9,
          9,
          9,
          9,
          9,
          9,
          8,
          8,
          8,
          8,
          8,
          8,
          7,
          7,
          6,
          6,
          6,
          6,
          6,
          6,
          5,
          4,
          10,
          13,
          12,
          12,
          12,
          11,
          11,
          11,
          10,
          10,
          10,
          10,
          10,
          10,
          10,
          9,
          8,
          8
         ]
        }
       ],
       "layout": {
        "template": {
         "data": {
          "bar": [
           {
            "error_x": {
             "color": "#2a3f5f"
            },
            "error_y": {
             "color": "#2a3f5f"
            },
            "marker": {
             "line": {
              "color": "#E5ECF6",
              "width": 0.5
             },
             "pattern": {
              "fillmode": "overlay",
              "size": 10,
              "solidity": 0.2
             }
            },
            "type": "bar"
           }
          ],
          "barpolar": [
           {
            "marker": {
             "line": {
              "color": "#E5ECF6",
              "width": 0.5
             },
             "pattern": {
              "fillmode": "overlay",
              "size": 10,
              "solidity": 0.2
             }
            },
            "type": "barpolar"
           }
          ],
          "carpet": [
           {
            "aaxis": {
             "endlinecolor": "#2a3f5f",
             "gridcolor": "white",
             "linecolor": "white",
             "minorgridcolor": "white",
             "startlinecolor": "#2a3f5f"
            },
            "baxis": {
             "endlinecolor": "#2a3f5f",
             "gridcolor": "white",
             "linecolor": "white",
             "minorgridcolor": "white",
             "startlinecolor": "#2a3f5f"
            },
            "type": "carpet"
           }
          ],
          "choropleth": [
           {
            "colorbar": {
             "outlinewidth": 0,
             "ticks": ""
            },
            "type": "choropleth"
           }
          ],
          "contour": [
           {
            "colorbar": {
             "outlinewidth": 0,
             "ticks": ""
            },
            "colorscale": [
             [
              0,
              "#0d0887"
             ],
             [
              0.1111111111111111,
              "#46039f"
             ],
             [
              0.2222222222222222,
              "#7201a8"
             ],
             [
              0.3333333333333333,
              "#9c179e"
             ],
             [
              0.4444444444444444,
              "#bd3786"
             ],
             [
              0.5555555555555556,
              "#d8576b"
             ],
             [
              0.6666666666666666,
              "#ed7953"
             ],
             [
              0.7777777777777778,
              "#fb9f3a"
             ],
             [
              0.8888888888888888,
              "#fdca26"
             ],
             [
              1,
              "#f0f921"
             ]
            ],
            "type": "contour"
           }
          ],
          "contourcarpet": [
           {
            "colorbar": {
             "outlinewidth": 0,
             "ticks": ""
            },
            "type": "contourcarpet"
           }
          ],
          "heatmap": [
           {
            "colorbar": {
             "outlinewidth": 0,
             "ticks": ""
            },
            "colorscale": [
             [
              0,
              "#0d0887"
             ],
             [
              0.1111111111111111,
              "#46039f"
             ],
             [
              0.2222222222222222,
              "#7201a8"
             ],
             [
              0.3333333333333333,
              "#9c179e"
             ],
             [
              0.4444444444444444,
              "#bd3786"
             ],
             [
              0.5555555555555556,
              "#d8576b"
             ],
             [
              0.6666666666666666,
              "#ed7953"
             ],
             [
              0.7777777777777778,
              "#fb9f3a"
             ],
             [
              0.8888888888888888,
              "#fdca26"
             ],
             [
              1,
              "#f0f921"
             ]
            ],
            "type": "heatmap"
           }
          ],
          "heatmapgl": [
           {
            "colorbar": {
             "outlinewidth": 0,
             "ticks": ""
            },
            "colorscale": [
             [
              0,
              "#0d0887"
             ],
             [
              0.1111111111111111,
              "#46039f"
             ],
             [
              0.2222222222222222,
              "#7201a8"
             ],
             [
              0.3333333333333333,
              "#9c179e"
             ],
             [
              0.4444444444444444,
              "#bd3786"
             ],
             [
              0.5555555555555556,
              "#d8576b"
             ],
             [
              0.6666666666666666,
              "#ed7953"
             ],
             [
              0.7777777777777778,
              "#fb9f3a"
             ],
             [
              0.8888888888888888,
              "#fdca26"
             ],
             [
              1,
              "#f0f921"
             ]
            ],
            "type": "heatmapgl"
           }
          ],
          "histogram": [
           {
            "marker": {
             "pattern": {
              "fillmode": "overlay",
              "size": 10,
              "solidity": 0.2
             }
            },
            "type": "histogram"
           }
          ],
          "histogram2d": [
           {
            "colorbar": {
             "outlinewidth": 0,
             "ticks": ""
            },
            "colorscale": [
             [
              0,
              "#0d0887"
             ],
             [
              0.1111111111111111,
              "#46039f"
             ],
             [
              0.2222222222222222,
              "#7201a8"
             ],
             [
              0.3333333333333333,
              "#9c179e"
             ],
             [
              0.4444444444444444,
              "#bd3786"
             ],
             [
              0.5555555555555556,
              "#d8576b"
             ],
             [
              0.6666666666666666,
              "#ed7953"
             ],
             [
              0.7777777777777778,
              "#fb9f3a"
             ],
             [
              0.8888888888888888,
              "#fdca26"
             ],
             [
              1,
              "#f0f921"
             ]
            ],
            "type": "histogram2d"
           }
          ],
          "histogram2dcontour": [
           {
            "colorbar": {
             "outlinewidth": 0,
             "ticks": ""
            },
            "colorscale": [
             [
              0,
              "#0d0887"
             ],
             [
              0.1111111111111111,
              "#46039f"
             ],
             [
              0.2222222222222222,
              "#7201a8"
             ],
             [
              0.3333333333333333,
              "#9c179e"
             ],
             [
              0.4444444444444444,
              "#bd3786"
             ],
             [
              0.5555555555555556,
              "#d8576b"
             ],
             [
              0.6666666666666666,
              "#ed7953"
             ],
             [
              0.7777777777777778,
              "#fb9f3a"
             ],
             [
              0.8888888888888888,
              "#fdca26"
             ],
             [
              1,
              "#f0f921"
             ]
            ],
            "type": "histogram2dcontour"
           }
          ],
          "mesh3d": [
           {
            "colorbar": {
             "outlinewidth": 0,
             "ticks": ""
            },
            "type": "mesh3d"
           }
          ],
          "parcoords": [
           {
            "line": {
             "colorbar": {
              "outlinewidth": 0,
              "ticks": ""
             }
            },
            "type": "parcoords"
           }
          ],
          "pie": [
           {
            "automargin": true,
            "type": "pie"
           }
          ],
          "scatter": [
           {
            "marker": {
             "colorbar": {
              "outlinewidth": 0,
              "ticks": ""
             }
            },
            "type": "scatter"
           }
          ],
          "scatter3d": [
           {
            "line": {
             "colorbar": {
              "outlinewidth": 0,
              "ticks": ""
             }
            },
            "marker": {
             "colorbar": {
              "outlinewidth": 0,
              "ticks": ""
             }
            },
            "type": "scatter3d"
           }
          ],
          "scattercarpet": [
           {
            "marker": {
             "colorbar": {
              "outlinewidth": 0,
              "ticks": ""
             }
            },
            "type": "scattercarpet"
           }
          ],
          "scattergeo": [
           {
            "marker": {
             "colorbar": {
              "outlinewidth": 0,
              "ticks": ""
             }
            },
            "type": "scattergeo"
           }
          ],
          "scattergl": [
           {
            "marker": {
             "colorbar": {
              "outlinewidth": 0,
              "ticks": ""
             }
            },
            "type": "scattergl"
           }
          ],
          "scattermapbox": [
           {
            "marker": {
             "colorbar": {
              "outlinewidth": 0,
              "ticks": ""
             }
            },
            "type": "scattermapbox"
           }
          ],
          "scatterpolar": [
           {
            "marker": {
             "colorbar": {
              "outlinewidth": 0,
              "ticks": ""
             }
            },
            "type": "scatterpolar"
           }
          ],
          "scatterpolargl": [
           {
            "marker": {
             "colorbar": {
              "outlinewidth": 0,
              "ticks": ""
             }
            },
            "type": "scatterpolargl"
           }
          ],
          "scatterternary": [
           {
            "marker": {
             "colorbar": {
              "outlinewidth": 0,
              "ticks": ""
             }
            },
            "type": "scatterternary"
           }
          ],
          "surface": [
           {
            "colorbar": {
             "outlinewidth": 0,
             "ticks": ""
            },
            "colorscale": [
             [
              0,
              "#0d0887"
             ],
             [
              0.1111111111111111,
              "#46039f"
             ],
             [
              0.2222222222222222,
              "#7201a8"
             ],
             [
              0.3333333333333333,
              "#9c179e"
             ],
             [
              0.4444444444444444,
              "#bd3786"
             ],
             [
              0.5555555555555556,
              "#d8576b"
             ],
             [
              0.6666666666666666,
              "#ed7953"
             ],
             [
              0.7777777777777778,
              "#fb9f3a"
             ],
             [
              0.8888888888888888,
              "#fdca26"
             ],
             [
              1,
              "#f0f921"
             ]
            ],
            "type": "surface"
           }
          ],
          "table": [
           {
            "cells": {
             "fill": {
              "color": "#EBF0F8"
             },
             "line": {
              "color": "white"
             }
            },
            "header": {
             "fill": {
              "color": "#C8D4E3"
             },
             "line": {
              "color": "white"
             }
            },
            "type": "table"
           }
          ]
         },
         "layout": {
          "annotationdefaults": {
           "arrowcolor": "#2a3f5f",
           "arrowhead": 0,
           "arrowwidth": 1
          },
          "autotypenumbers": "strict",
          "coloraxis": {
           "colorbar": {
            "outlinewidth": 0,
            "ticks": ""
           }
          },
          "colorscale": {
           "diverging": [
            [
             0,
             "#8e0152"
            ],
            [
             0.1,
             "#c51b7d"
            ],
            [
             0.2,
             "#de77ae"
            ],
            [
             0.3,
             "#f1b6da"
            ],
            [
             0.4,
             "#fde0ef"
            ],
            [
             0.5,
             "#f7f7f7"
            ],
            [
             0.6,
             "#e6f5d0"
            ],
            [
             0.7,
             "#b8e186"
            ],
            [
             0.8,
             "#7fbc41"
            ],
            [
             0.9,
             "#4d9221"
            ],
            [
             1,
             "#276419"
            ]
           ],
           "sequential": [
            [
             0,
             "#0d0887"
            ],
            [
             0.1111111111111111,
             "#46039f"
            ],
            [
             0.2222222222222222,
             "#7201a8"
            ],
            [
             0.3333333333333333,
             "#9c179e"
            ],
            [
             0.4444444444444444,
             "#bd3786"
            ],
            [
             0.5555555555555556,
             "#d8576b"
            ],
            [
             0.6666666666666666,
             "#ed7953"
            ],
            [
             0.7777777777777778,
             "#fb9f3a"
            ],
            [
             0.8888888888888888,
             "#fdca26"
            ],
            [
             1,
             "#f0f921"
            ]
           ],
           "sequentialminus": [
            [
             0,
             "#0d0887"
            ],
            [
             0.1111111111111111,
             "#46039f"
            ],
            [
             0.2222222222222222,
             "#7201a8"
            ],
            [
             0.3333333333333333,
             "#9c179e"
            ],
            [
             0.4444444444444444,
             "#bd3786"
            ],
            [
             0.5555555555555556,
             "#d8576b"
            ],
            [
             0.6666666666666666,
             "#ed7953"
            ],
            [
             0.7777777777777778,
             "#fb9f3a"
            ],
            [
             0.8888888888888888,
             "#fdca26"
            ],
            [
             1,
             "#f0f921"
            ]
           ]
          },
          "colorway": [
           "#636efa",
           "#EF553B",
           "#00cc96",
           "#ab63fa",
           "#FFA15A",
           "#19d3f3",
           "#FF6692",
           "#B6E880",
           "#FF97FF",
           "#FECB52"
          ],
          "font": {
           "color": "#2a3f5f"
          },
          "geo": {
           "bgcolor": "white",
           "lakecolor": "white",
           "landcolor": "#E5ECF6",
           "showlakes": true,
           "showland": true,
           "subunitcolor": "white"
          },
          "hoverlabel": {
           "align": "left"
          },
          "hovermode": "closest",
          "mapbox": {
           "style": "light"
          },
          "paper_bgcolor": "white",
          "plot_bgcolor": "#E5ECF6",
          "polar": {
           "angularaxis": {
            "gridcolor": "white",
            "linecolor": "white",
            "ticks": ""
           },
           "bgcolor": "#E5ECF6",
           "radialaxis": {
            "gridcolor": "white",
            "linecolor": "white",
            "ticks": ""
           }
          },
          "scene": {
           "xaxis": {
            "backgroundcolor": "#E5ECF6",
            "gridcolor": "white",
            "gridwidth": 2,
            "linecolor": "white",
            "showbackground": true,
            "ticks": "",
            "zerolinecolor": "white"
           },
           "yaxis": {
            "backgroundcolor": "#E5ECF6",
            "gridcolor": "white",
            "gridwidth": 2,
            "linecolor": "white",
            "showbackground": true,
            "ticks": "",
            "zerolinecolor": "white"
           },
           "zaxis": {
            "backgroundcolor": "#E5ECF6",
            "gridcolor": "white",
            "gridwidth": 2,
            "linecolor": "white",
            "showbackground": true,
            "ticks": "",
            "zerolinecolor": "white"
           }
          },
          "shapedefaults": {
           "line": {
            "color": "#2a3f5f"
           }
          },
          "ternary": {
           "aaxis": {
            "gridcolor": "white",
            "linecolor": "white",
            "ticks": ""
           },
           "baxis": {
            "gridcolor": "white",
            "linecolor": "white",
            "ticks": ""
           },
           "bgcolor": "#E5ECF6",
           "caxis": {
            "gridcolor": "white",
            "linecolor": "white",
            "ticks": ""
           }
          },
          "title": {
           "x": 0.05
          },
          "xaxis": {
           "automargin": true,
           "gridcolor": "white",
           "linecolor": "white",
           "ticks": "",
           "title": {
            "standoff": 15
           },
           "zerolinecolor": "white",
           "zerolinewidth": 2
          },
          "yaxis": {
           "automargin": true,
           "gridcolor": "white",
           "linecolor": "white",
           "ticks": "",
           "title": {
            "standoff": 15
           },
           "zerolinecolor": "white",
           "zerolinewidth": 2
          }
         }
        },
        "title": {
         "text": "Position of the drivers in each lap"
        },
        "xaxis": {
         "title": {
          "text": "Laps"
         }
        },
        "yaxis": {
         "title": {
          "text": "Positions"
         }
        }
       }
      }
     },
     "metadata": {},
     "output_type": "display_data"
    }
   ],
   "source": [
    "fig_ppl = go.Figure(data=data_ppl, layout=layout_ppl)\n",
    "\n",
    "fig_ppl.show()"
   ]
  },
  {
   "cell_type": "markdown",
   "id": "64b4d2d4",
   "metadata": {},
   "source": [
    "### PROBLEMA: Range das cores!!\n",
    "E porque raio há um com linha e pontos????"
   ]
  },
  {
   "cell_type": "code",
   "execution_count": null,
   "id": "c28aec13",
   "metadata": {},
   "outputs": [],
   "source": []
  },
  {
   "cell_type": "markdown",
   "id": "27c72031",
   "metadata": {},
   "source": [
    "## Sankey "
   ]
  },
  {
   "cell_type": "markdown",
   "id": "711e70e5",
   "metadata": {},
   "source": [
    "### Data preprocessing for Sankey"
   ]
  },
  {
   "cell_type": "code",
   "execution_count": null,
   "id": "44ed089d",
   "metadata": {},
   "outputs": [],
   "source": [
    "year = 2016\n",
    "pstn = 1\n",
    "drivID = 830"
   ]
  },
  {
   "cell_type": "code",
   "execution_count": null,
   "id": "0da39b31",
   "metadata": {},
   "outputs": [],
   "source": [
    "results['position'].replace(to_replace='\\\\N',value=21,inplace=True)"
   ]
  },
  {
   "cell_type": "code",
   "execution_count": null,
   "id": "99027eaf",
   "metadata": {},
   "outputs": [],
   "source": [
    "results_driver = results.merge(drivers[['driverId','driverRef','forename','surname','code','dob','nationality']],left_on='driverId',right_on='driverId')"
   ]
  },
  {
   "cell_type": "code",
   "execution_count": null,
   "id": "dd95e0e1",
   "metadata": {},
   "outputs": [
    {
     "data": {
      "text/html": [
       "<div>\n",
       "<style scoped>\n",
       "    .dataframe tbody tr th:only-of-type {\n",
       "        vertical-align: middle;\n",
       "    }\n",
       "\n",
       "    .dataframe tbody tr th {\n",
       "        vertical-align: top;\n",
       "    }\n",
       "\n",
       "    .dataframe thead th {\n",
       "        text-align: right;\n",
       "    }\n",
       "</style>\n",
       "<table border=\"1\" class=\"dataframe\">\n",
       "  <thead>\n",
       "    <tr style=\"text-align: right;\">\n",
       "      <th></th>\n",
       "      <th>resultId</th>\n",
       "      <th>raceId</th>\n",
       "      <th>driverId</th>\n",
       "      <th>constructorId</th>\n",
       "      <th>number</th>\n",
       "      <th>grid</th>\n",
       "      <th>position</th>\n",
       "      <th>positionText</th>\n",
       "      <th>positionOrder</th>\n",
       "      <th>points</th>\n",
       "      <th>...</th>\n",
       "      <th>rank</th>\n",
       "      <th>fastestLapTime</th>\n",
       "      <th>fastestLapSpeed</th>\n",
       "      <th>statusId</th>\n",
       "      <th>driverRef</th>\n",
       "      <th>forename</th>\n",
       "      <th>surname</th>\n",
       "      <th>code</th>\n",
       "      <th>dob</th>\n",
       "      <th>nationality</th>\n",
       "    </tr>\n",
       "  </thead>\n",
       "  <tbody>\n",
       "    <tr>\n",
       "      <th>0</th>\n",
       "      <td>1</td>\n",
       "      <td>18</td>\n",
       "      <td>1</td>\n",
       "      <td>1</td>\n",
       "      <td>22</td>\n",
       "      <td>1</td>\n",
       "      <td>1</td>\n",
       "      <td>1</td>\n",
       "      <td>1</td>\n",
       "      <td>10.0</td>\n",
       "      <td>...</td>\n",
       "      <td>2</td>\n",
       "      <td>1:27.452</td>\n",
       "      <td>218.300</td>\n",
       "      <td>1</td>\n",
       "      <td>hamilton</td>\n",
       "      <td>Lewis</td>\n",
       "      <td>Hamilton</td>\n",
       "      <td>HAM</td>\n",
       "      <td>1985-01-07</td>\n",
       "      <td>British</td>\n",
       "    </tr>\n",
       "    <tr>\n",
       "      <th>1</th>\n",
       "      <td>27</td>\n",
       "      <td>19</td>\n",
       "      <td>1</td>\n",
       "      <td>1</td>\n",
       "      <td>22</td>\n",
       "      <td>9</td>\n",
       "      <td>5</td>\n",
       "      <td>5</td>\n",
       "      <td>5</td>\n",
       "      <td>4.0</td>\n",
       "      <td>...</td>\n",
       "      <td>3</td>\n",
       "      <td>1:35.462</td>\n",
       "      <td>209.033</td>\n",
       "      <td>1</td>\n",
       "      <td>hamilton</td>\n",
       "      <td>Lewis</td>\n",
       "      <td>Hamilton</td>\n",
       "      <td>HAM</td>\n",
       "      <td>1985-01-07</td>\n",
       "      <td>British</td>\n",
       "    </tr>\n",
       "    <tr>\n",
       "      <th>2</th>\n",
       "      <td>57</td>\n",
       "      <td>20</td>\n",
       "      <td>1</td>\n",
       "      <td>1</td>\n",
       "      <td>22</td>\n",
       "      <td>3</td>\n",
       "      <td>13</td>\n",
       "      <td>13</td>\n",
       "      <td>13</td>\n",
       "      <td>0.0</td>\n",
       "      <td>...</td>\n",
       "      <td>19</td>\n",
       "      <td>1:35.520</td>\n",
       "      <td>203.969</td>\n",
       "      <td>11</td>\n",
       "      <td>hamilton</td>\n",
       "      <td>Lewis</td>\n",
       "      <td>Hamilton</td>\n",
       "      <td>HAM</td>\n",
       "      <td>1985-01-07</td>\n",
       "      <td>British</td>\n",
       "    </tr>\n",
       "    <tr>\n",
       "      <th>3</th>\n",
       "      <td>69</td>\n",
       "      <td>21</td>\n",
       "      <td>1</td>\n",
       "      <td>1</td>\n",
       "      <td>22</td>\n",
       "      <td>5</td>\n",
       "      <td>3</td>\n",
       "      <td>3</td>\n",
       "      <td>3</td>\n",
       "      <td>6.0</td>\n",
       "      <td>...</td>\n",
       "      <td>3</td>\n",
       "      <td>1:22.017</td>\n",
       "      <td>204.323</td>\n",
       "      <td>1</td>\n",
       "      <td>hamilton</td>\n",
       "      <td>Lewis</td>\n",
       "      <td>Hamilton</td>\n",
       "      <td>HAM</td>\n",
       "      <td>1985-01-07</td>\n",
       "      <td>British</td>\n",
       "    </tr>\n",
       "    <tr>\n",
       "      <th>4</th>\n",
       "      <td>90</td>\n",
       "      <td>22</td>\n",
       "      <td>1</td>\n",
       "      <td>1</td>\n",
       "      <td>22</td>\n",
       "      <td>3</td>\n",
       "      <td>2</td>\n",
       "      <td>2</td>\n",
       "      <td>2</td>\n",
       "      <td>8.0</td>\n",
       "      <td>...</td>\n",
       "      <td>2</td>\n",
       "      <td>1:26.529</td>\n",
       "      <td>222.085</td>\n",
       "      <td>1</td>\n",
       "      <td>hamilton</td>\n",
       "      <td>Lewis</td>\n",
       "      <td>Hamilton</td>\n",
       "      <td>HAM</td>\n",
       "      <td>1985-01-07</td>\n",
       "      <td>British</td>\n",
       "    </tr>\n",
       "  </tbody>\n",
       "</table>\n",
       "<p>5 rows × 24 columns</p>\n",
       "</div>"
      ],
      "text/plain": [
       "   resultId  raceId  driverId  constructorId number  grid position  \\\n",
       "0         1      18         1              1     22     1        1   \n",
       "1        27      19         1              1     22     9        5   \n",
       "2        57      20         1              1     22     3       13   \n",
       "3        69      21         1              1     22     5        3   \n",
       "4        90      22         1              1     22     3        2   \n",
       "\n",
       "  positionText  positionOrder  points  ...  rank fastestLapTime  \\\n",
       "0            1              1    10.0  ...     2       1:27.452   \n",
       "1            5              5     4.0  ...     3       1:35.462   \n",
       "2           13             13     0.0  ...    19       1:35.520   \n",
       "3            3              3     6.0  ...     3       1:22.017   \n",
       "4            2              2     8.0  ...     2       1:26.529   \n",
       "\n",
       "  fastestLapSpeed statusId driverRef forename   surname  code         dob  \\\n",
       "0         218.300        1  hamilton    Lewis  Hamilton   HAM  1985-01-07   \n",
       "1         209.033        1  hamilton    Lewis  Hamilton   HAM  1985-01-07   \n",
       "2         203.969       11  hamilton    Lewis  Hamilton   HAM  1985-01-07   \n",
       "3         204.323        1  hamilton    Lewis  Hamilton   HAM  1985-01-07   \n",
       "4         222.085        1  hamilton    Lewis  Hamilton   HAM  1985-01-07   \n",
       "\n",
       "  nationality  \n",
       "0     British  \n",
       "1     British  \n",
       "2     British  \n",
       "3     British  \n",
       "4     British  \n",
       "\n",
       "[5 rows x 24 columns]"
      ]
     },
     "execution_count": 60,
     "metadata": {},
     "output_type": "execute_result"
    }
   ],
   "source": [
    "results_driver.head()"
   ]
  },
  {
   "cell_type": "code",
   "execution_count": null,
   "id": "b208d385",
   "metadata": {},
   "outputs": [],
   "source": [
    "results_driver.insert(len(results_driver.columns),'driverName',results_driver['forename']+' '+results_driver['surname'])\n",
    "results_driver.drop(columns=['forename','surname'],axis=1,inplace=True)"
   ]
  },
  {
   "cell_type": "code",
   "execution_count": null,
   "id": "bf7215a3",
   "metadata": {},
   "outputs": [],
   "source": [
    "results_driver['position']=results_driver['position'].astype(int)"
   ]
  },
  {
   "cell_type": "code",
   "execution_count": null,
   "id": "a989e816",
   "metadata": {},
   "outputs": [],
   "source": [
    "#races_year = races[races['year']==year]"
   ]
  },
  {
   "cell_type": "markdown",
   "id": "fd6d5bb4",
   "metadata": {},
   "source": [
    "#### Year"
   ]
  },
  {
   "cell_type": "code",
   "execution_count": 64,
   "id": "57038e08",
   "metadata": {},
   "outputs": [],
   "source": [
    "results_year = results_driver[results_driver['raceId']\\\n",
    "    .apply(lambda x: np.intersect1d(x,\\\n",
    "         races[races['year']==year]['raceId']).size > 0)]"
   ]
  },
  {
   "cell_type": "code",
   "execution_count": 65,
   "id": "e66bc8b3",
   "metadata": {},
   "outputs": [
    {
     "data": {
      "text/html": [
       "<div>\n",
       "<style scoped>\n",
       "    .dataframe tbody tr th:only-of-type {\n",
       "        vertical-align: middle;\n",
       "    }\n",
       "\n",
       "    .dataframe tbody tr th {\n",
       "        vertical-align: top;\n",
       "    }\n",
       "\n",
       "    .dataframe thead th {\n",
       "        text-align: right;\n",
       "    }\n",
       "</style>\n",
       "<table border=\"1\" class=\"dataframe\">\n",
       "  <thead>\n",
       "    <tr style=\"text-align: right;\">\n",
       "      <th></th>\n",
       "      <th>resultId</th>\n",
       "      <th>raceId</th>\n",
       "      <th>driverId</th>\n",
       "      <th>constructorId</th>\n",
       "      <th>number</th>\n",
       "      <th>grid</th>\n",
       "      <th>position</th>\n",
       "      <th>positionText</th>\n",
       "      <th>positionOrder</th>\n",
       "      <th>points</th>\n",
       "      <th>...</th>\n",
       "      <th>fastestLap</th>\n",
       "      <th>rank</th>\n",
       "      <th>fastestLapTime</th>\n",
       "      <th>fastestLapSpeed</th>\n",
       "      <th>statusId</th>\n",
       "      <th>driverRef</th>\n",
       "      <th>code</th>\n",
       "      <th>dob</th>\n",
       "      <th>nationality</th>\n",
       "      <th>driverName</th>\n",
       "    </tr>\n",
       "  </thead>\n",
       "  <tbody>\n",
       "    <tr>\n",
       "      <th>12217</th>\n",
       "      <td>23367</td>\n",
       "      <td>968</td>\n",
       "      <td>154</td>\n",
       "      <td>210</td>\n",
       "      <td>8</td>\n",
       "      <td>14</td>\n",
       "      <td>11</td>\n",
       "      <td>11</td>\n",
       "      <td>11</td>\n",
       "      <td>0.0</td>\n",
       "      <td>...</td>\n",
       "      <td>45</td>\n",
       "      <td>4</td>\n",
       "      <td>1:44.970</td>\n",
       "      <td>190.477</td>\n",
       "      <td>1</td>\n",
       "      <td>grosjean</td>\n",
       "      <td>GRO</td>\n",
       "      <td>1986-04-17</td>\n",
       "      <td>French</td>\n",
       "      <td>Romain Grosjean</td>\n",
       "    </tr>\n",
       "    <tr>\n",
       "      <th>23892</th>\n",
       "      <td>23266</td>\n",
       "      <td>963</td>\n",
       "      <td>825</td>\n",
       "      <td>4</td>\n",
       "      <td>20</td>\n",
       "      <td>14</td>\n",
       "      <td>21</td>\n",
       "      <td>R</td>\n",
       "      <td>20</td>\n",
       "      <td>0.0</td>\n",
       "      <td>...</td>\n",
       "      <td>3</td>\n",
       "      <td>21</td>\n",
       "      <td>1:43.379</td>\n",
       "      <td>193.025</td>\n",
       "      <td>75</td>\n",
       "      <td>kevin_magnussen</td>\n",
       "      <td>MAG</td>\n",
       "      <td>1992-10-05</td>\n",
       "      <td>Danish</td>\n",
       "      <td>Kevin Magnussen</td>\n",
       "    </tr>\n",
       "    <tr>\n",
       "      <th>24239</th>\n",
       "      <td>23224</td>\n",
       "      <td>961</td>\n",
       "      <td>831</td>\n",
       "      <td>15</td>\n",
       "      <td>12</td>\n",
       "      <td>18</td>\n",
       "      <td>21</td>\n",
       "      <td>R</td>\n",
       "      <td>22</td>\n",
       "      <td>0.0</td>\n",
       "      <td>...</td>\n",
       "      <td>\\N</td>\n",
       "      <td>0</td>\n",
       "      <td>\\N</td>\n",
       "      <td>\\N</td>\n",
       "      <td>130</td>\n",
       "      <td>nasr</td>\n",
       "      <td>NAS</td>\n",
       "      <td>1992-08-21</td>\n",
       "      <td>Brazilian</td>\n",
       "      <td>Felipe Nasr</td>\n",
       "    </tr>\n",
       "    <tr>\n",
       "      <th>671</th>\n",
       "      <td>23203</td>\n",
       "      <td>961</td>\n",
       "      <td>3</td>\n",
       "      <td>131</td>\n",
       "      <td>6</td>\n",
       "      <td>2</td>\n",
       "      <td>1</td>\n",
       "      <td>1</td>\n",
       "      <td>1</td>\n",
       "      <td>25.0</td>\n",
       "      <td>...</td>\n",
       "      <td>26</td>\n",
       "      <td>9</td>\n",
       "      <td>1:26.599</td>\n",
       "      <td>240.820</td>\n",
       "      <td>1</td>\n",
       "      <td>rosberg</td>\n",
       "      <td>ROS</td>\n",
       "      <td>1985-06-27</td>\n",
       "      <td>German</td>\n",
       "      <td>Nico Rosberg</td>\n",
       "    </tr>\n",
       "    <tr>\n",
       "      <th>12197</th>\n",
       "      <td>22922</td>\n",
       "      <td>948</td>\n",
       "      <td>154</td>\n",
       "      <td>210</td>\n",
       "      <td>8</td>\n",
       "      <td>19</td>\n",
       "      <td>6</td>\n",
       "      <td>6</td>\n",
       "      <td>6</td>\n",
       "      <td>8.0</td>\n",
       "      <td>...</td>\n",
       "      <td>48</td>\n",
       "      <td>17</td>\n",
       "      <td>1:32.862</td>\n",
       "      <td>205.582</td>\n",
       "      <td>1</td>\n",
       "      <td>grosjean</td>\n",
       "      <td>GRO</td>\n",
       "      <td>1986-04-17</td>\n",
       "      <td>French</td>\n",
       "      <td>Romain Grosjean</td>\n",
       "    </tr>\n",
       "  </tbody>\n",
       "</table>\n",
       "<p>5 rows × 23 columns</p>\n",
       "</div>"
      ],
      "text/plain": [
       "       resultId  raceId  driverId  constructorId number  grid  position  \\\n",
       "12217     23367     968       154            210      8    14        11   \n",
       "23892     23266     963       825              4     20    14        21   \n",
       "24239     23224     961       831             15     12    18        21   \n",
       "671       23203     961         3            131      6     2         1   \n",
       "12197     22922     948       154            210      8    19         6   \n",
       "\n",
       "      positionText  positionOrder  points  ...  fastestLap rank  \\\n",
       "12217           11             11     0.0  ...          45    4   \n",
       "23892            R             20     0.0  ...           3   21   \n",
       "24239            R             22     0.0  ...          \\N    0   \n",
       "671              1              1    25.0  ...          26    9   \n",
       "12197            6              6     8.0  ...          48   17   \n",
       "\n",
       "      fastestLapTime fastestLapSpeed statusId        driverRef code  \\\n",
       "12217       1:44.970         190.477        1         grosjean  GRO   \n",
       "23892       1:43.379         193.025       75  kevin_magnussen  MAG   \n",
       "24239             \\N              \\N      130             nasr  NAS   \n",
       "671         1:26.599         240.820        1          rosberg  ROS   \n",
       "12197       1:32.862         205.582        1         grosjean  GRO   \n",
       "\n",
       "              dob nationality       driverName  \n",
       "12217  1986-04-17      French  Romain Grosjean  \n",
       "23892  1992-10-05      Danish  Kevin Magnussen  \n",
       "24239  1992-08-21   Brazilian      Felipe Nasr  \n",
       "671    1985-06-27      German     Nico Rosberg  \n",
       "12197  1986-04-17      French  Romain Grosjean  \n",
       "\n",
       "[5 rows x 23 columns]"
      ]
     },
     "execution_count": 65,
     "metadata": {},
     "output_type": "execute_result"
    }
   ],
   "source": [
    "results_year.sample(5)"
   ]
  },
  {
   "cell_type": "code",
   "execution_count": 66,
   "id": "04b70cb8",
   "metadata": {},
   "outputs": [],
   "source": [
    "results_y = results_year[['driverId',\\\n",
    "    'driverName','raceId','grid','position','code','dob','nationality']]"
   ]
  },
  {
   "cell_type": "code",
   "execution_count": 67,
   "id": "21df3d8c",
   "metadata": {},
   "outputs": [],
   "source": [
    "results_y_abr = results_y[['position','grid','driverName']].sort_values(['position','grid','driverName'])"
   ]
  },
  {
   "cell_type": "markdown",
   "id": "8f7fb244",
   "metadata": {},
   "source": [
    "A grid position value of '0' indicates the driver started from the pit lane."
   ]
  },
  {
   "cell_type": "code",
   "execution_count": 68,
   "id": "fda7b2ce",
   "metadata": {},
   "outputs": [
    {
     "data": {
      "text/html": [
       "<div>\n",
       "<style scoped>\n",
       "    .dataframe tbody tr th:only-of-type {\n",
       "        vertical-align: middle;\n",
       "    }\n",
       "\n",
       "    .dataframe tbody tr th {\n",
       "        vertical-align: top;\n",
       "    }\n",
       "\n",
       "    .dataframe thead th {\n",
       "        text-align: right;\n",
       "    }\n",
       "</style>\n",
       "<table border=\"1\" class=\"dataframe\">\n",
       "  <thead>\n",
       "    <tr style=\"text-align: right;\">\n",
       "      <th></th>\n",
       "      <th>position</th>\n",
       "      <th>grid</th>\n",
       "      <th>driverName</th>\n",
       "    </tr>\n",
       "  </thead>\n",
       "  <tbody>\n",
       "    <tr>\n",
       "      <th>173</th>\n",
       "      <td>1</td>\n",
       "      <td>1</td>\n",
       "      <td>Lewis Hamilton</td>\n",
       "    </tr>\n",
       "    <tr>\n",
       "      <th>175</th>\n",
       "      <td>1</td>\n",
       "      <td>1</td>\n",
       "      <td>Lewis Hamilton</td>\n",
       "    </tr>\n",
       "    <tr>\n",
       "      <th>176</th>\n",
       "      <td>1</td>\n",
       "      <td>1</td>\n",
       "      <td>Lewis Hamilton</td>\n",
       "    </tr>\n",
       "    <tr>\n",
       "      <th>184</th>\n",
       "      <td>1</td>\n",
       "      <td>1</td>\n",
       "      <td>Lewis Hamilton</td>\n",
       "    </tr>\n",
       "    <tr>\n",
       "      <th>185</th>\n",
       "      <td>1</td>\n",
       "      <td>1</td>\n",
       "      <td>Lewis Hamilton</td>\n",
       "    </tr>\n",
       "  </tbody>\n",
       "</table>\n",
       "</div>"
      ],
      "text/plain": [
       "     position  grid      driverName\n",
       "173         1     1  Lewis Hamilton\n",
       "175         1     1  Lewis Hamilton\n",
       "176         1     1  Lewis Hamilton\n",
       "184         1     1  Lewis Hamilton\n",
       "185         1     1  Lewis Hamilton"
      ]
     },
     "execution_count": 68,
     "metadata": {},
     "output_type": "execute_result"
    }
   ],
   "source": [
    "results_y_abr.head()"
   ]
  },
  {
   "cell_type": "code",
   "execution_count": 69,
   "id": "ecbc8bda",
   "metadata": {},
   "outputs": [],
   "source": [
    "results_y_abr['driverGrid'] = \\\n",
    "results_y_abr['driverName'] + ' - ' + results_y_abr['grid'].astype(str)"
   ]
  },
  {
   "cell_type": "code",
   "execution_count": 70,
   "id": "ad5b83f1",
   "metadata": {},
   "outputs": [],
   "source": [
    "results_y_abr.drop(columns=['grid','driverName'],inplace=True)"
   ]
  },
  {
   "cell_type": "code",
   "execution_count": 71,
   "id": "46717600",
   "metadata": {},
   "outputs": [],
   "source": [
    "d_g_list = []\n",
    "\n",
    "curr_d_g = list(results_y_abr.iloc[0,:]) + [1]\n",
    "\n",
    "for i in range(1,len(results_y_abr['position'])):\n",
    "    if results_y_abr['position'].iloc[i] == results_y_abr['position'].iloc[i-1]:\n",
    "        if results_y_abr['driverGrid'].iloc[i] == results_y_abr['driverGrid'].iloc[i-1]:\n",
    "            curr_d_g[2] += 1\n",
    "        else:\n",
    "            d_g_list.append(curr_d_g)\n",
    "            curr_d_g = list(results_y_abr.iloc[i,:]) + [1]\n",
    "    else:\n",
    "        d_g_list.append(curr_d_g)\n",
    "        curr_d_g = list(results_y_abr.iloc[i,:]) + [1]\n",
    "\n",
    "d_g_list.append(curr_d_g)"
   ]
  },
  {
   "cell_type": "code",
   "execution_count": 72,
   "id": "4ae525d1",
   "metadata": {},
   "outputs": [
    {
     "data": {
      "text/plain": [
       "[[1, 'Lewis Hamilton - 1', 7],\n",
       " [1, 'Nico Rosberg - 1', 6],\n",
       " [1, 'Lewis Hamilton - 2', 2],\n",
       " [1, 'Nico Rosberg - 2', 3],\n",
       " [1, 'Lewis Hamilton - 3', 1],\n",
       " [1, 'Daniel Ricciardo - 4', 1],\n",
       " [1, 'Max Verstappen - 4', 1],\n",
       " [2, 'Daniel Ricciardo - 1', 1],\n",
       " [2, 'Lewis Hamilton - 1', 2],\n",
       " [2, 'Nico Rosberg - 1', 1],\n",
       " [2, 'Daniel Ricciardo - 2', 1],\n",
       " [2, 'Nico Rosberg - 2', 4],\n",
       " [2, 'Daniel Ricciardo - 3', 1],\n",
       " [2, 'Max Verstappen - 3', 3],\n",
       " [2, 'Sebastian Vettel - 3', 2],\n",
       " [2, 'Kimi Räikkönen - 4', 1],\n",
       " [2, 'Sebastian Vettel - 4', 1],\n",
       " [2, 'Daniel Ricciardo - 5', 1],\n",
       " [2, 'Kimi Räikkönen - 5', 1],\n",
       " [2, 'Max Verstappen - 8', 1]]"
      ]
     },
     "execution_count": 72,
     "metadata": {},
     "output_type": "execute_result"
    }
   ],
   "source": [
    "d_g_list[:20]"
   ]
  },
  {
   "cell_type": "code",
   "execution_count": 73,
   "id": "256549d4",
   "metadata": {},
   "outputs": [],
   "source": [
    "d_g_frame = pd.DataFrame(d_g_list,columns=['position','name','weight'])\\\n",
    "    .sort_values(['position','weight'],ascending=[True,False])"
   ]
  },
  {
   "cell_type": "code",
   "execution_count": 74,
   "id": "bc10d7d6",
   "metadata": {},
   "outputs": [],
   "source": [
    "labels_line = list(d_g_frame['name'])+list(d_g_frame['position'])\n",
    "labels_uni_line = list(dict.fromkeys(labels_line))\n",
    "labels_final = [labels_uni_line.index(x) for x in labels_line]\n",
    "weights_final = list(d_g_frame['weight'])"
   ]
  },
  {
   "cell_type": "code",
   "execution_count": 75,
   "id": "e6bda130",
   "metadata": {},
   "outputs": [
    {
     "data": {
      "application/vnd.plotly.v1+json": {
       "config": {
        "plotlyServerURL": "https://plot.ly"
       },
       "data": [
        {
         "link": {
          "source": [
           0,
           1,
           2,
           3,
           4,
           5,
           6,
           2,
           7,
           0,
           8,
           9,
           1,
           10,
           11,
           12,
           13,
           14,
           15,
           16,
           17,
           2,
           11,
           8,
           6,
           18,
           0,
           3,
           19,
           4,
           5,
           12,
           20,
           21,
           22,
           23,
           24,
           12,
           22,
           1,
           10,
           25,
           11,
           7,
           5,
           13,
           14,
           15,
           26,
           20,
           27,
           28,
           29,
           30,
           31,
           32,
           2,
           11,
           19,
           33,
           6,
           14,
           15,
           20,
           34,
           35,
           22,
           36,
           37,
           23,
           38,
           39,
           40,
           17,
           41,
           42,
           43,
           27,
           44,
           5,
           12,
           6,
           13,
           15,
           45,
           46,
           18,
           47,
           48,
           49,
           50,
           51,
           52,
           53,
           54,
           55,
           56,
           57,
           58,
           10,
           2,
           5,
           45,
           59,
           60,
           61,
           30,
           62,
           39,
           32,
           63,
           64,
           65,
           66,
           67,
           68,
           69,
           48,
           70,
           71,
           34,
           72,
           73,
           57,
           74,
           75,
           55,
           76,
           77,
           78,
           79,
           23,
           19,
           36,
           80,
           72,
           81,
           47,
           62,
           82,
           50,
           83,
           84,
           85,
           86,
           75,
           87,
           88,
           89,
           90,
           91,
           71,
           92,
           26,
           46,
           39,
           32,
           50,
           93,
           74,
           41,
           75,
           94,
           95,
           96,
           97,
           98,
           65,
           99,
           100,
           101,
           102,
           103,
           14,
           104,
           18,
           93,
           41,
           105,
           86,
           97,
           106,
           107,
           108,
           109,
           110,
           111,
           112,
           100,
           89,
           113,
           114,
           83,
           115,
           84,
           116,
           106,
           117,
           88,
           118,
           119,
           65,
           120,
           121,
           122,
           123,
           124,
           125,
           101,
           126,
           127,
           128,
           39,
           32,
           129,
           50,
           116,
           75,
           97,
           106,
           130,
           131,
           132,
           76,
           133,
           134,
           123,
           135,
           136,
           137,
           91,
           66,
           68,
           80,
           128,
           42,
           75,
           109,
           55,
           65,
           99,
           138,
           134,
           124,
           125,
           139,
           140,
           91,
           141,
           113,
           142,
           143,
           91,
           144,
           57,
           107,
           145,
           55,
           146,
           147,
           135,
           148,
           149,
           150,
           151,
           152,
           141,
           153,
           154,
           142,
           155,
           148,
           154,
           48,
           49,
           156,
           157,
           110,
           158,
           159,
           122,
           160,
           126,
           150,
           136,
           161,
           113,
           133,
           162,
           163,
           119,
           164,
           132,
           112,
           158,
           165,
           66,
           166,
           140,
           161,
           167,
           168,
           127,
           53,
           169,
           147,
           79,
           170,
           140,
           171,
           154,
           172,
           142,
           173,
           174,
           109,
           175,
           148,
           151,
           140,
           176,
           129,
           133,
           151,
           142,
           177,
           75,
           0,
           106,
           121,
           170,
           135,
           136,
           166,
           178,
           179,
           180,
           181,
           2,
           19,
           8,
           12,
           6,
           15,
           20,
           21,
           30,
           104,
           37,
           144,
           182,
           183,
           57,
           82,
           70,
           184,
           50,
           93,
           83,
           115,
           116,
           185,
           186,
           41,
           105,
           187,
           188,
           189,
           117,
           145,
           190,
           64,
           163,
           155,
           118,
           119,
           109,
           110,
           191,
           192,
           158,
           134,
           193,
           114,
           162,
           194,
           147,
           125,
           101,
           151,
           195,
           196,
           140,
           161,
           137,
           197,
           91,
           142,
           168,
           101,
           154
          ],
          "target": [
           198,
           198,
           198,
           198,
           198,
           198,
           198,
           199,
           199,
           199,
           199,
           199,
           199,
           199,
           199,
           199,
           199,
           199,
           199,
           199,
           199,
           200,
           200,
           200,
           200,
           200,
           200,
           200,
           200,
           200,
           200,
           200,
           200,
           200,
           200,
           200,
           200,
           201,
           201,
           201,
           201,
           201,
           201,
           201,
           201,
           201,
           201,
           201,
           201,
           201,
           201,
           201,
           201,
           201,
           201,
           201,
           202,
           202,
           202,
           202,
           202,
           202,
           202,
           202,
           202,
           202,
           202,
           202,
           202,
           202,
           202,
           202,
           202,
           202,
           202,
           202,
           202,
           203,
           203,
           203,
           203,
           203,
           203,
           203,
           203,
           203,
           203,
           203,
           203,
           203,
           203,
           203,
           203,
           203,
           203,
           203,
           203,
           204,
           204,
           204,
           204,
           204,
           204,
           204,
           204,
           204,
           204,
           204,
           204,
           204,
           204,
           204,
           204,
           204,
           204,
           205,
           205,
           205,
           205,
           205,
           205,
           205,
           205,
           205,
           205,
           205,
           205,
           205,
           205,
           205,
           205,
           206,
           206,
           206,
           206,
           206,
           206,
           206,
           206,
           206,
           206,
           206,
           206,
           206,
           206,
           206,
           206,
           206,
           206,
           206,
           206,
           207,
           207,
           207,
           207,
           207,
           207,
           207,
           207,
           207,
           207,
           207,
           207,
           207,
           207,
           207,
           207,
           207,
           207,
           207,
           207,
           208,
           208,
           208,
           208,
           208,
           208,
           208,
           208,
           208,
           208,
           208,
           208,
           208,
           208,
           208,
           208,
           208,
           208,
           208,
           208,
           209,
           209,
           209,
           209,
           209,
           209,
           209,
           209,
           209,
           209,
           209,
           209,
           209,
           209,
           209,
           209,
           209,
           209,
           209,
           209,
           210,
           210,
           210,
           210,
           210,
           210,
           210,
           210,
           210,
           210,
           210,
           210,
           210,
           210,
           210,
           210,
           210,
           210,
           210,
           210,
           211,
           211,
           211,
           211,
           211,
           211,
           211,
           211,
           211,
           211,
           211,
           211,
           211,
           211,
           211,
           211,
           211,
           211,
           211,
           211,
           212,
           212,
           212,
           212,
           212,
           212,
           212,
           212,
           212,
           212,
           212,
           212,
           212,
           212,
           212,
           212,
           212,
           212,
           212,
           213,
           213,
           213,
           213,
           213,
           213,
           213,
           213,
           213,
           213,
           213,
           213,
           213,
           213,
           213,
           213,
           213,
           214,
           214,
           214,
           214,
           214,
           214,
           214,
           214,
           214,
           214,
           214,
           214,
           214,
           214,
           214,
           215,
           215,
           215,
           215,
           215,
           215,
           215,
           215,
           215,
           215,
           215,
           216,
           216,
           216,
           216,
           216,
           216,
           216,
           217,
           217,
           217,
           217,
           217,
           217,
           218,
           218,
           218,
           218,
           218,
           218,
           218,
           218,
           218,
           218,
           218,
           218,
           218,
           218,
           218,
           218,
           218,
           218,
           218,
           218,
           218,
           218,
           218,
           218,
           218,
           218,
           218,
           218,
           218,
           218,
           218,
           218,
           218,
           218,
           218,
           218,
           218,
           218,
           218,
           218,
           218,
           218,
           218,
           218,
           218,
           218,
           218,
           218,
           218,
           218,
           218,
           218,
           218,
           218,
           218,
           218,
           218,
           218,
           218,
           218,
           218,
           218,
           218,
           218,
           218,
           218,
           218,
           218,
           218,
           218,
           218,
           218,
           218,
           219,
           219
          ],
          "value": [
           7,
           6,
           3,
           2,
           1,
           1,
           1,
           4,
           3,
           2,
           2,
           1,
           1,
           1,
           1,
           1,
           1,
           1,
           1,
           1,
           1,
           2,
           2,
           2,
           2,
           2,
           1,
           1,
           1,
           1,
           1,
           1,
           1,
           1,
           1,
           1,
           1,
           2,
           2,
           1,
           1,
           1,
           1,
           1,
           1,
           1,
           1,
           1,
           1,
           1,
           1,
           1,
           1,
           1,
           1,
           1,
           1,
           1,
           1,
           1,
           1,
           1,
           1,
           1,
           1,
           1,
           1,
           1,
           1,
           1,
           1,
           1,
           1,
           1,
           1,
           1,
           1,
           2,
           1,
           1,
           1,
           1,
           1,
           1,
           1,
           1,
           1,
           1,
           1,
           1,
           1,
           1,
           1,
           1,
           1,
           1,
           1,
           3,
           2,
           1,
           1,
           1,
           1,
           1,
           1,
           1,
           1,
           1,
           1,
           1,
           1,
           1,
           1,
           1,
           1,
           2,
           2,
           2,
           2,
           2,
           1,
           1,
           1,
           1,
           1,
           1,
           1,
           1,
           1,
           1,
           1,
           2,
           1,
           1,
           1,
           1,
           1,
           1,
           1,
           1,
           1,
           1,
           1,
           1,
           1,
           1,
           1,
           1,
           1,
           1,
           1,
           2,
           1,
           1,
           1,
           1,
           1,
           1,
           1,
           1,
           1,
           1,
           1,
           1,
           1,
           1,
           1,
           1,
           1,
           1,
           1,
           2,
           1,
           1,
           1,
           1,
           1,
           1,
           1,
           1,
           1,
           1,
           1,
           1,
           1,
           1,
           1,
           1,
           1,
           1,
           1,
           2,
           1,
           1,
           1,
           1,
           1,
           1,
           1,
           1,
           1,
           1,
           1,
           1,
           1,
           1,
           1,
           1,
           1,
           1,
           1,
           2,
           1,
           1,
           1,
           1,
           1,
           1,
           1,
           1,
           1,
           1,
           1,
           1,
           1,
           1,
           1,
           1,
           1,
           1,
           1,
           2,
           1,
           1,
           1,
           1,
           1,
           1,
           1,
           1,
           1,
           1,
           1,
           1,
           1,
           1,
           1,
           1,
           1,
           1,
           1,
           2,
           2,
           1,
           1,
           1,
           1,
           1,
           1,
           1,
           1,
           1,
           1,
           1,
           1,
           1,
           1,
           1,
           1,
           1,
           2,
           2,
           2,
           1,
           1,
           1,
           1,
           1,
           1,
           1,
           1,
           1,
           1,
           1,
           1,
           1,
           1,
           2,
           2,
           1,
           1,
           1,
           1,
           1,
           1,
           1,
           1,
           1,
           1,
           1,
           1,
           1,
           2,
           1,
           1,
           1,
           1,
           1,
           1,
           1,
           1,
           1,
           1,
           1,
           1,
           1,
           1,
           1,
           1,
           1,
           1,
           1,
           1,
           1,
           1,
           1,
           3,
           2,
           2,
           2,
           2,
           2,
           2,
           2,
           2,
           1,
           1,
           1,
           1,
           1,
           1,
           1,
           1,
           1,
           1,
           1,
           1,
           1,
           1,
           1,
           1,
           1,
           1,
           1,
           1,
           1,
           1,
           1,
           1,
           1,
           1,
           1,
           1,
           1,
           1,
           1,
           1,
           1,
           1,
           1,
           1,
           1,
           1,
           1,
           1,
           1,
           1,
           1,
           1,
           1,
           1,
           1,
           1,
           1,
           1,
           1,
           1,
           1,
           1,
           1,
           1,
           1,
           1,
           1,
           1,
           1,
           1,
           1,
           1,
           1,
           1
          ]
         },
         "node": {
          "label": [
           "Lewis Hamilton - 1",
           "Nico Rosberg - 1",
           "Nico Rosberg - 2",
           "Lewis Hamilton - 2",
           "Lewis Hamilton - 3",
           "Daniel Ricciardo - 4",
           "Max Verstappen - 4",
           "Max Verstappen - 3",
           "Sebastian Vettel - 3",
           "Daniel Ricciardo - 1",
           "Daniel Ricciardo - 2",
           "Daniel Ricciardo - 3",
           "Kimi Räikkönen - 4",
           "Sebastian Vettel - 4",
           "Daniel Ricciardo - 5",
           "Kimi Räikkönen - 5",
           "Max Verstappen - 8",
           "Lewis Hamilton - 10",
           "Sergio Pérez - 7",
           "Kimi Räikkönen - 3",
           "Sebastian Vettel - 5",
           "Daniil Kvyat - 6",
           "Sebastian Vettel - 6",
           "Valtteri Bottas - 7",
           "Lewis Hamilton - 21",
           "Valtteri Bottas - 2",
           "Max Verstappen - 5",
           "Kimi Räikkönen - 6",
           "Max Verstappen - 6",
           "Nico Rosberg - 6",
           "Nico Hülkenberg - 7",
           "Daniel Ricciardo - 8",
           "Sergio Pérez - 9",
           "Felipe Massa - 4",
           "Daniel Ricciardo - 6",
           "Felipe Massa - 6",
           "Sergio Pérez - 6",
           "Sebastian Vettel - 7",
           "Kimi Räikkönen - 8",
           "Fernando Alonso - 9",
           "Romain Grosjean - 9",
           "Valtteri Bottas - 11",
           "Fernando Alonso - 12",
           "Sebastian Vettel - 22",
           "Jenson Button - 3",
           "Nico Hülkenberg - 5",
           "Valtteri Bottas - 5",
           "Carlos Sainz - 8",
           "Valtteri Bottas - 8",
           "Carlos Sainz - 10",
           "Felipe Massa - 10",
           "Max Verstappen - 10",
           "Sergio Pérez - 10",
           "Fernando Alonso - 14",
           "Kimi Räikkönen - 14",
           "Carlos Sainz - 15",
           "Romain Grosjean - 19",
           "Nico Hülkenberg - 8",
           "Fernando Alonso - 22",
           "Sergio Pérez - 5",
           "Fernando Alonso - 7",
           "Max Verstappen - 7",
           "Felipe Massa - 9",
           "Nico Hülkenberg - 10",
           "Romain Grosjean - 13",
           "Daniil Kvyat - 15",
           "Kevin Magnussen - 17",
           "Lewis Hamilton - 22",
           "Carlos Sainz - 6",
           "Sergio Pérez - 8",
           "Max Verstappen - 9",
           "Nico Hülkenberg - 9",
           "Carlos Sainz - 7",
           "Felipe Massa - 7",
           "Sergio Pérez - 11",
           "Jenson Button - 12",
           "Romain Grosjean - 15",
           "Valtteri Bottas - 16",
           "Sergio Pérez - 17",
           "Felipe Massa - 18",
           "Valtteri Bottas - 6",
           "Daniil Kvyat - 7",
           "Jenson Button - 9",
           "Valtteri Bottas - 10",
           "Felipe Massa - 11",
           "Sebastian Vettel - 11",
           "Felipe Massa - 12",
           "Nico Hülkenberg - 12",
           "Jenson Button - 13",
           "Jenson Button - 19",
           "Carlos Sainz - 20",
           "Felipe Nasr - 21",
           "Felipe Massa - 5",
           "Fernando Alonso - 10",
           "Pascal Wehrlein - 12",
           "Sergio Pérez - 12",
           "Stoffel Vandoorne - 12",
           "Daniil Kvyat - 13",
           "Felipe Massa - 14",
           "Kevin Magnussen - 15",
           "Romain Grosjean - 17",
           "Jolyon Palmer - 19",
           "Esteban Gutiérrez - 11",
           "Max Verstappen - 2",
           "Romain Grosjean - 7",
           "Esteban Gutiérrez - 12",
           "Esteban Gutiérrez - 13",
           "Jolyon Palmer - 13",
           "Sergio Pérez - 13",
           "Romain Grosjean - 14",
           "Marcus Ericsson - 15",
           "Carlos Sainz - 16",
           "Esteban Gutiérrez - 16",
           "Kevin Magnussen - 22",
           "Marcus Ericsson - 17",
           "Carlos Sainz - 11",
           "Fernando Alonso - 11",
           "Fernando Alonso - 13",
           "Jenson Button - 14",
           "Kevin Magnussen - 14",
           "Felipe Nasr - 15",
           "Jolyon Palmer - 16",
           "Jenson Button - 17",
           "Jolyon Palmer - 17",
           "Esteban Gutiérrez - 18",
           "Kevin Magnussen - 18",
           "Marcus Ericsson - 19",
           "Esteban Ocon - 22",
           "Romain Grosjean - 11",
           "Esteban Gutiérrez - 10",
           "Daniil Kvyat - 14",
           "Esteban Gutiérrez - 15",
           "Jolyon Palmer - 15",
           "Felipe Nasr - 16",
           "Pascal Wehrlein - 16",
           "Jolyon Palmer - 18",
           "Esteban Ocon - 20",
           "Romain Grosjean - 20",
           "Marcus Ericsson - 16",
           "Daniil Kvyat - 19",
           "Pascal Wehrlein - 20",
           "Jolyon Palmer - 21",
           "Marcus Ericsson - 22",
           "Marcus Ericsson - 18",
           "Daniil Kvyat - 8",
           "Nico Hülkenberg - 13",
           "Felipe Nasr - 17",
           "Daniil Kvyat - 18",
           "Felipe Nasr - 19",
           "Kevin Magnussen - 19",
           "Pascal Wehrlein - 19",
           "Rio Haryanto - 19",
           "Felipe Nasr - 20",
           "Marcus Ericsson - 21",
           "Pascal Wehrlein - 21",
           "Esteban Gutiérrez - 14",
           "Daniil Kvyat - 12",
           "Fernando Alonso - 15",
           "Kevin Magnussen - 16",
           "Esteban Ocon - 17",
           "Sergio Pérez - 18",
           "Rio Haryanto - 20",
           "Pascal Wehrlein - 17",
           "Carlos Sainz - 14",
           "Marcus Ericsson - 14",
           "Sergio Pérez - 16",
           "Marcus Ericsson - 20",
           "Kevin Magnussen - 21",
           "Rio Haryanto - 22",
           "Rio Haryanto - 16",
           "Felipe Nasr - 18",
           "Esteban Ocon - 21",
           "Jenson Button - 22",
           "Nico Hülkenberg - 2",
           "Jolyon Palmer - 14",
           "Esteban Gutiérrez - 17",
           "Felipe Massa - 0",
           "Romain Grosjean - 22",
           "Rio Haryanto - 21",
           "Daniil Kvyat - 0",
           "Felipe Nasr - 0",
           "Max Verstappen - 0",
           "Felipe Massa - 8",
           "Jenson Button - 8",
           "Sebastian Vettel - 9",
           "Kimi Räikkönen - 11",
           "Nico Hülkenberg - 11",
           "Kevin Magnussen - 12",
           "Romain Grosjean - 12",
           "Felipe Massa - 13",
           "Pascal Wehrlein - 13",
           "Pascal Wehrlein - 15",
           "Daniil Kvyat - 16",
           "Daniil Kvyat - 17",
           "Carlos Sainz - 18",
           "Esteban Gutiérrez - 20",
           "Jolyon Palmer - 20",
           "Carlos Sainz - 21",
           1,
           2,
           3,
           4,
           5,
           6,
           7,
           8,
           9,
           10,
           11,
           12,
           13,
           14,
           15,
           16,
           17,
           18,
           19,
           20,
           21,
           22
          ],
          "line": {
           "color": "black",
           "width": 0.5
          },
          "pad": 15,
          "thickness": 20
         },
         "type": "sankey"
        }
       ],
       "layout": {
        "font": {
         "size": 10
        },
        "template": {
         "data": {
          "bar": [
           {
            "error_x": {
             "color": "#2a3f5f"
            },
            "error_y": {
             "color": "#2a3f5f"
            },
            "marker": {
             "line": {
              "color": "#E5ECF6",
              "width": 0.5
             },
             "pattern": {
              "fillmode": "overlay",
              "size": 10,
              "solidity": 0.2
             }
            },
            "type": "bar"
           }
          ],
          "barpolar": [
           {
            "marker": {
             "line": {
              "color": "#E5ECF6",
              "width": 0.5
             },
             "pattern": {
              "fillmode": "overlay",
              "size": 10,
              "solidity": 0.2
             }
            },
            "type": "barpolar"
           }
          ],
          "carpet": [
           {
            "aaxis": {
             "endlinecolor": "#2a3f5f",
             "gridcolor": "white",
             "linecolor": "white",
             "minorgridcolor": "white",
             "startlinecolor": "#2a3f5f"
            },
            "baxis": {
             "endlinecolor": "#2a3f5f",
             "gridcolor": "white",
             "linecolor": "white",
             "minorgridcolor": "white",
             "startlinecolor": "#2a3f5f"
            },
            "type": "carpet"
           }
          ],
          "choropleth": [
           {
            "colorbar": {
             "outlinewidth": 0,
             "ticks": ""
            },
            "type": "choropleth"
           }
          ],
          "contour": [
           {
            "colorbar": {
             "outlinewidth": 0,
             "ticks": ""
            },
            "colorscale": [
             [
              0,
              "#0d0887"
             ],
             [
              0.1111111111111111,
              "#46039f"
             ],
             [
              0.2222222222222222,
              "#7201a8"
             ],
             [
              0.3333333333333333,
              "#9c179e"
             ],
             [
              0.4444444444444444,
              "#bd3786"
             ],
             [
              0.5555555555555556,
              "#d8576b"
             ],
             [
              0.6666666666666666,
              "#ed7953"
             ],
             [
              0.7777777777777778,
              "#fb9f3a"
             ],
             [
              0.8888888888888888,
              "#fdca26"
             ],
             [
              1,
              "#f0f921"
             ]
            ],
            "type": "contour"
           }
          ],
          "contourcarpet": [
           {
            "colorbar": {
             "outlinewidth": 0,
             "ticks": ""
            },
            "type": "contourcarpet"
           }
          ],
          "heatmap": [
           {
            "colorbar": {
             "outlinewidth": 0,
             "ticks": ""
            },
            "colorscale": [
             [
              0,
              "#0d0887"
             ],
             [
              0.1111111111111111,
              "#46039f"
             ],
             [
              0.2222222222222222,
              "#7201a8"
             ],
             [
              0.3333333333333333,
              "#9c179e"
             ],
             [
              0.4444444444444444,
              "#bd3786"
             ],
             [
              0.5555555555555556,
              "#d8576b"
             ],
             [
              0.6666666666666666,
              "#ed7953"
             ],
             [
              0.7777777777777778,
              "#fb9f3a"
             ],
             [
              0.8888888888888888,
              "#fdca26"
             ],
             [
              1,
              "#f0f921"
             ]
            ],
            "type": "heatmap"
           }
          ],
          "heatmapgl": [
           {
            "colorbar": {
             "outlinewidth": 0,
             "ticks": ""
            },
            "colorscale": [
             [
              0,
              "#0d0887"
             ],
             [
              0.1111111111111111,
              "#46039f"
             ],
             [
              0.2222222222222222,
              "#7201a8"
             ],
             [
              0.3333333333333333,
              "#9c179e"
             ],
             [
              0.4444444444444444,
              "#bd3786"
             ],
             [
              0.5555555555555556,
              "#d8576b"
             ],
             [
              0.6666666666666666,
              "#ed7953"
             ],
             [
              0.7777777777777778,
              "#fb9f3a"
             ],
             [
              0.8888888888888888,
              "#fdca26"
             ],
             [
              1,
              "#f0f921"
             ]
            ],
            "type": "heatmapgl"
           }
          ],
          "histogram": [
           {
            "marker": {
             "pattern": {
              "fillmode": "overlay",
              "size": 10,
              "solidity": 0.2
             }
            },
            "type": "histogram"
           }
          ],
          "histogram2d": [
           {
            "colorbar": {
             "outlinewidth": 0,
             "ticks": ""
            },
            "colorscale": [
             [
              0,
              "#0d0887"
             ],
             [
              0.1111111111111111,
              "#46039f"
             ],
             [
              0.2222222222222222,
              "#7201a8"
             ],
             [
              0.3333333333333333,
              "#9c179e"
             ],
             [
              0.4444444444444444,
              "#bd3786"
             ],
             [
              0.5555555555555556,
              "#d8576b"
             ],
             [
              0.6666666666666666,
              "#ed7953"
             ],
             [
              0.7777777777777778,
              "#fb9f3a"
             ],
             [
              0.8888888888888888,
              "#fdca26"
             ],
             [
              1,
              "#f0f921"
             ]
            ],
            "type": "histogram2d"
           }
          ],
          "histogram2dcontour": [
           {
            "colorbar": {
             "outlinewidth": 0,
             "ticks": ""
            },
            "colorscale": [
             [
              0,
              "#0d0887"
             ],
             [
              0.1111111111111111,
              "#46039f"
             ],
             [
              0.2222222222222222,
              "#7201a8"
             ],
             [
              0.3333333333333333,
              "#9c179e"
             ],
             [
              0.4444444444444444,
              "#bd3786"
             ],
             [
              0.5555555555555556,
              "#d8576b"
             ],
             [
              0.6666666666666666,
              "#ed7953"
             ],
             [
              0.7777777777777778,
              "#fb9f3a"
             ],
             [
              0.8888888888888888,
              "#fdca26"
             ],
             [
              1,
              "#f0f921"
             ]
            ],
            "type": "histogram2dcontour"
           }
          ],
          "mesh3d": [
           {
            "colorbar": {
             "outlinewidth": 0,
             "ticks": ""
            },
            "type": "mesh3d"
           }
          ],
          "parcoords": [
           {
            "line": {
             "colorbar": {
              "outlinewidth": 0,
              "ticks": ""
             }
            },
            "type": "parcoords"
           }
          ],
          "pie": [
           {
            "automargin": true,
            "type": "pie"
           }
          ],
          "scatter": [
           {
            "marker": {
             "colorbar": {
              "outlinewidth": 0,
              "ticks": ""
             }
            },
            "type": "scatter"
           }
          ],
          "scatter3d": [
           {
            "line": {
             "colorbar": {
              "outlinewidth": 0,
              "ticks": ""
             }
            },
            "marker": {
             "colorbar": {
              "outlinewidth": 0,
              "ticks": ""
             }
            },
            "type": "scatter3d"
           }
          ],
          "scattercarpet": [
           {
            "marker": {
             "colorbar": {
              "outlinewidth": 0,
              "ticks": ""
             }
            },
            "type": "scattercarpet"
           }
          ],
          "scattergeo": [
           {
            "marker": {
             "colorbar": {
              "outlinewidth": 0,
              "ticks": ""
             }
            },
            "type": "scattergeo"
           }
          ],
          "scattergl": [
           {
            "marker": {
             "colorbar": {
              "outlinewidth": 0,
              "ticks": ""
             }
            },
            "type": "scattergl"
           }
          ],
          "scattermapbox": [
           {
            "marker": {
             "colorbar": {
              "outlinewidth": 0,
              "ticks": ""
             }
            },
            "type": "scattermapbox"
           }
          ],
          "scatterpolar": [
           {
            "marker": {
             "colorbar": {
              "outlinewidth": 0,
              "ticks": ""
             }
            },
            "type": "scatterpolar"
           }
          ],
          "scatterpolargl": [
           {
            "marker": {
             "colorbar": {
              "outlinewidth": 0,
              "ticks": ""
             }
            },
            "type": "scatterpolargl"
           }
          ],
          "scatterternary": [
           {
            "marker": {
             "colorbar": {
              "outlinewidth": 0,
              "ticks": ""
             }
            },
            "type": "scatterternary"
           }
          ],
          "surface": [
           {
            "colorbar": {
             "outlinewidth": 0,
             "ticks": ""
            },
            "colorscale": [
             [
              0,
              "#0d0887"
             ],
             [
              0.1111111111111111,
              "#46039f"
             ],
             [
              0.2222222222222222,
              "#7201a8"
             ],
             [
              0.3333333333333333,
              "#9c179e"
             ],
             [
              0.4444444444444444,
              "#bd3786"
             ],
             [
              0.5555555555555556,
              "#d8576b"
             ],
             [
              0.6666666666666666,
              "#ed7953"
             ],
             [
              0.7777777777777778,
              "#fb9f3a"
             ],
             [
              0.8888888888888888,
              "#fdca26"
             ],
             [
              1,
              "#f0f921"
             ]
            ],
            "type": "surface"
           }
          ],
          "table": [
           {
            "cells": {
             "fill": {
              "color": "#EBF0F8"
             },
             "line": {
              "color": "white"
             }
            },
            "header": {
             "fill": {
              "color": "#C8D4E3"
             },
             "line": {
              "color": "white"
             }
            },
            "type": "table"
           }
          ]
         },
         "layout": {
          "annotationdefaults": {
           "arrowcolor": "#2a3f5f",
           "arrowhead": 0,
           "arrowwidth": 1
          },
          "autotypenumbers": "strict",
          "coloraxis": {
           "colorbar": {
            "outlinewidth": 0,
            "ticks": ""
           }
          },
          "colorscale": {
           "diverging": [
            [
             0,
             "#8e0152"
            ],
            [
             0.1,
             "#c51b7d"
            ],
            [
             0.2,
             "#de77ae"
            ],
            [
             0.3,
             "#f1b6da"
            ],
            [
             0.4,
             "#fde0ef"
            ],
            [
             0.5,
             "#f7f7f7"
            ],
            [
             0.6,
             "#e6f5d0"
            ],
            [
             0.7,
             "#b8e186"
            ],
            [
             0.8,
             "#7fbc41"
            ],
            [
             0.9,
             "#4d9221"
            ],
            [
             1,
             "#276419"
            ]
           ],
           "sequential": [
            [
             0,
             "#0d0887"
            ],
            [
             0.1111111111111111,
             "#46039f"
            ],
            [
             0.2222222222222222,
             "#7201a8"
            ],
            [
             0.3333333333333333,
             "#9c179e"
            ],
            [
             0.4444444444444444,
             "#bd3786"
            ],
            [
             0.5555555555555556,
             "#d8576b"
            ],
            [
             0.6666666666666666,
             "#ed7953"
            ],
            [
             0.7777777777777778,
             "#fb9f3a"
            ],
            [
             0.8888888888888888,
             "#fdca26"
            ],
            [
             1,
             "#f0f921"
            ]
           ],
           "sequentialminus": [
            [
             0,
             "#0d0887"
            ],
            [
             0.1111111111111111,
             "#46039f"
            ],
            [
             0.2222222222222222,
             "#7201a8"
            ],
            [
             0.3333333333333333,
             "#9c179e"
            ],
            [
             0.4444444444444444,
             "#bd3786"
            ],
            [
             0.5555555555555556,
             "#d8576b"
            ],
            [
             0.6666666666666666,
             "#ed7953"
            ],
            [
             0.7777777777777778,
             "#fb9f3a"
            ],
            [
             0.8888888888888888,
             "#fdca26"
            ],
            [
             1,
             "#f0f921"
            ]
           ]
          },
          "colorway": [
           "#636efa",
           "#EF553B",
           "#00cc96",
           "#ab63fa",
           "#FFA15A",
           "#19d3f3",
           "#FF6692",
           "#B6E880",
           "#FF97FF",
           "#FECB52"
          ],
          "font": {
           "color": "#2a3f5f"
          },
          "geo": {
           "bgcolor": "white",
           "lakecolor": "white",
           "landcolor": "#E5ECF6",
           "showlakes": true,
           "showland": true,
           "subunitcolor": "white"
          },
          "hoverlabel": {
           "align": "left"
          },
          "hovermode": "closest",
          "mapbox": {
           "style": "light"
          },
          "paper_bgcolor": "white",
          "plot_bgcolor": "#E5ECF6",
          "polar": {
           "angularaxis": {
            "gridcolor": "white",
            "linecolor": "white",
            "ticks": ""
           },
           "bgcolor": "#E5ECF6",
           "radialaxis": {
            "gridcolor": "white",
            "linecolor": "white",
            "ticks": ""
           }
          },
          "scene": {
           "xaxis": {
            "backgroundcolor": "#E5ECF6",
            "gridcolor": "white",
            "gridwidth": 2,
            "linecolor": "white",
            "showbackground": true,
            "ticks": "",
            "zerolinecolor": "white"
           },
           "yaxis": {
            "backgroundcolor": "#E5ECF6",
            "gridcolor": "white",
            "gridwidth": 2,
            "linecolor": "white",
            "showbackground": true,
            "ticks": "",
            "zerolinecolor": "white"
           },
           "zaxis": {
            "backgroundcolor": "#E5ECF6",
            "gridcolor": "white",
            "gridwidth": 2,
            "linecolor": "white",
            "showbackground": true,
            "ticks": "",
            "zerolinecolor": "white"
           }
          },
          "shapedefaults": {
           "line": {
            "color": "#2a3f5f"
           }
          },
          "ternary": {
           "aaxis": {
            "gridcolor": "white",
            "linecolor": "white",
            "ticks": ""
           },
           "baxis": {
            "gridcolor": "white",
            "linecolor": "white",
            "ticks": ""
           },
           "bgcolor": "#E5ECF6",
           "caxis": {
            "gridcolor": "white",
            "linecolor": "white",
            "ticks": ""
           }
          },
          "title": {
           "x": 0.05
          },
          "xaxis": {
           "automargin": true,
           "gridcolor": "white",
           "linecolor": "white",
           "ticks": "",
           "title": {
            "standoff": 15
           },
           "zerolinecolor": "white",
           "zerolinewidth": 2
          },
          "yaxis": {
           "automargin": true,
           "gridcolor": "white",
           "linecolor": "white",
           "ticks": "",
           "title": {
            "standoff": 15
           },
           "zerolinecolor": "white",
           "zerolinewidth": 2
          }
         }
        },
        "title": {
         "text": "Placings in 2016"
        }
       }
      }
     },
     "metadata": {},
     "output_type": "display_data"
    }
   ],
   "source": [
    "fig = go.Figure(data=[go.Sankey(\n",
    "    node = dict(\n",
    "      pad = 15,\n",
    "      thickness = 20,\n",
    "      line = dict(color = \"black\", width = 0.5),\n",
    "      label = labels_uni_line\n",
    "    ),\n",
    "    link = dict(\n",
    "      source = labels_final[:len(labels_final)//2], # indices correspond to labels, eg A1, A2, A1, B1, ...\n",
    "      target = labels_final[len(labels_final)//2:],\n",
    "      value = weights_final\n",
    "  ))])\n",
    "\n",
    "fig.update_layout(title_text=\"Placings in \"+str(year), font_size=10)\n",
    "fig.show()"
   ]
  },
  {
   "cell_type": "code",
   "execution_count": null,
   "id": "c0e330e1",
   "metadata": {},
   "outputs": [],
   "source": []
  },
  {
   "cell_type": "code",
   "execution_count": null,
   "id": "7f04ae8d",
   "metadata": {},
   "outputs": [],
   "source": []
  },
  {
   "cell_type": "markdown",
   "id": "e22f9602",
   "metadata": {},
   "source": [
    "#### Year and position"
   ]
  },
  {
   "cell_type": "code",
   "execution_count": 76,
   "id": "f56355c0",
   "metadata": {},
   "outputs": [],
   "source": [
    "results_year_pstn = results_year[results_year['grid']==pstn]"
   ]
  },
  {
   "cell_type": "code",
   "execution_count": 77,
   "id": "a0b97cde",
   "metadata": {},
   "outputs": [],
   "source": [
    "results_yp = results_year_pstn[['driverId',\\\n",
    "    'driverName','raceId','grid','position','code','dob','nationality']]"
   ]
  },
  {
   "cell_type": "code",
   "execution_count": 78,
   "id": "8975070d",
   "metadata": {},
   "outputs": [],
   "source": [
    "results_yp_abr = results_yp[['position','driverName']].sort_values(['position','driverName'])"
   ]
  },
  {
   "cell_type": "code",
   "execution_count": 79,
   "id": "8c18c3f4",
   "metadata": {},
   "outputs": [],
   "source": [
    "driver_list = []\n",
    "\n",
    "curr_driver = list(results_yp_abr.iloc[0,:]) + [1]\n",
    "\n",
    "for i in range(1,len(results_yp_abr['position'])):\n",
    "    if results_yp_abr['position'].iloc[i] == results_yp_abr['position'].iloc[i-1]:\n",
    "        if results_yp_abr['driverName'].iloc[i] == results_yp_abr['driverName'].iloc[i-1]:\n",
    "            curr_driver[2] += 1\n",
    "        else:\n",
    "            driver_list.append(curr_driver)\n",
    "            curr_driver = list(results_yp_abr.iloc[i,:]) + [1]\n",
    "    else:\n",
    "        driver_list.append(curr_driver)\n",
    "        curr_driver = list(results_yp_abr.iloc[i,:]) + [1]\n",
    "\n",
    "driver_list.append(curr_driver)"
   ]
  },
  {
   "cell_type": "code",
   "execution_count": 80,
   "id": "42dc3150",
   "metadata": {},
   "outputs": [
    {
     "data": {
      "text/plain": [
       "[[1, 'Lewis Hamilton', 7],\n",
       " [1, 'Nico Rosberg', 6],\n",
       " [2, 'Daniel Ricciardo', 1],\n",
       " [2, 'Lewis Hamilton', 2],\n",
       " [2, 'Nico Rosberg', 1],\n",
       " [3, 'Lewis Hamilton', 1],\n",
       " [4, 'Nico Rosberg', 1],\n",
       " [21, 'Lewis Hamilton', 2]]"
      ]
     },
     "execution_count": 80,
     "metadata": {},
     "output_type": "execute_result"
    }
   ],
   "source": [
    "driver_list"
   ]
  },
  {
   "cell_type": "code",
   "execution_count": 81,
   "id": "c0976057",
   "metadata": {},
   "outputs": [],
   "source": [
    "driver_frame = pd.DataFrame(driver_list,columns=['position','name','weight'])\\\n",
    "    .sort_values(['position','weight'],ascending=[True,False])"
   ]
  },
  {
   "cell_type": "code",
   "execution_count": 82,
   "id": "4d8b74c0",
   "metadata": {},
   "outputs": [],
   "source": [
    "labels_line = list(driver_frame['name'])+list(driver_frame['position'])\n",
    "labels_uni_line = list(dict.fromkeys(labels_line))\n",
    "labels_final = [labels_uni_line.index(x) for x in labels_line]\n",
    "weights_final = list(driver_frame['weight'])"
   ]
  },
  {
   "cell_type": "code",
   "execution_count": 83,
   "metadata": {},
   "outputs": [
    {
     "name": "stdout",
     "output_type": "stream",
     "text": [
      "[0, 1, 0, 2, 1, 0, 1, 0]\n",
      "[3, 3, 4, 4, 4, 5, 6, 7]\n",
      "[7, 6, 2, 1, 1, 1, 1, 2]\n"
     ]
    }
   ],
   "source": [
    "print(labels_final[:len(labels_final)//2]) # indices correspond to labels, eg A1, A2, A1, B1, .\n",
    "print(labels_final[len(labels_final)//2:])\n",
    "print(weights_final)"
   ]
  },
  {
   "cell_type": "code",
   "execution_count": 84,
   "id": "ff4aefde",
   "metadata": {},
   "outputs": [
    {
     "data": {
      "application/vnd.plotly.v1+json": {
       "config": {
        "plotlyServerURL": "https://plot.ly"
       },
       "data": [
        {
         "link": {
          "source": [
           0,
           1,
           0,
           2,
           1,
           0,
           1,
           0
          ],
          "target": [
           3,
           3,
           4,
           4,
           4,
           5,
           6,
           7
          ],
          "value": [
           7,
           6,
           2,
           1,
           1,
           1,
           1,
           2
          ]
         },
         "node": {
          "label": [
           "Lewis Hamilton",
           "Nico Rosberg",
           "Daniel Ricciardo",
           1,
           2,
           3,
           4,
           21
          ],
          "line": {
           "color": "black",
           "width": 0.5
          },
          "pad": 15,
          "thickness": 20
         },
         "type": "sankey"
        }
       ],
       "layout": {
        "font": {
         "size": 10
        },
        "template": {
         "data": {
          "bar": [
           {
            "error_x": {
             "color": "#2a3f5f"
            },
            "error_y": {
             "color": "#2a3f5f"
            },
            "marker": {
             "line": {
              "color": "#E5ECF6",
              "width": 0.5
             },
             "pattern": {
              "fillmode": "overlay",
              "size": 10,
              "solidity": 0.2
             }
            },
            "type": "bar"
           }
          ],
          "barpolar": [
           {
            "marker": {
             "line": {
              "color": "#E5ECF6",
              "width": 0.5
             },
             "pattern": {
              "fillmode": "overlay",
              "size": 10,
              "solidity": 0.2
             }
            },
            "type": "barpolar"
           }
          ],
          "carpet": [
           {
            "aaxis": {
             "endlinecolor": "#2a3f5f",
             "gridcolor": "white",
             "linecolor": "white",
             "minorgridcolor": "white",
             "startlinecolor": "#2a3f5f"
            },
            "baxis": {
             "endlinecolor": "#2a3f5f",
             "gridcolor": "white",
             "linecolor": "white",
             "minorgridcolor": "white",
             "startlinecolor": "#2a3f5f"
            },
            "type": "carpet"
           }
          ],
          "choropleth": [
           {
            "colorbar": {
             "outlinewidth": 0,
             "ticks": ""
            },
            "type": "choropleth"
           }
          ],
          "contour": [
           {
            "colorbar": {
             "outlinewidth": 0,
             "ticks": ""
            },
            "colorscale": [
             [
              0,
              "#0d0887"
             ],
             [
              0.1111111111111111,
              "#46039f"
             ],
             [
              0.2222222222222222,
              "#7201a8"
             ],
             [
              0.3333333333333333,
              "#9c179e"
             ],
             [
              0.4444444444444444,
              "#bd3786"
             ],
             [
              0.5555555555555556,
              "#d8576b"
             ],
             [
              0.6666666666666666,
              "#ed7953"
             ],
             [
              0.7777777777777778,
              "#fb9f3a"
             ],
             [
              0.8888888888888888,
              "#fdca26"
             ],
             [
              1,
              "#f0f921"
             ]
            ],
            "type": "contour"
           }
          ],
          "contourcarpet": [
           {
            "colorbar": {
             "outlinewidth": 0,
             "ticks": ""
            },
            "type": "contourcarpet"
           }
          ],
          "heatmap": [
           {
            "colorbar": {
             "outlinewidth": 0,
             "ticks": ""
            },
            "colorscale": [
             [
              0,
              "#0d0887"
             ],
             [
              0.1111111111111111,
              "#46039f"
             ],
             [
              0.2222222222222222,
              "#7201a8"
             ],
             [
              0.3333333333333333,
              "#9c179e"
             ],
             [
              0.4444444444444444,
              "#bd3786"
             ],
             [
              0.5555555555555556,
              "#d8576b"
             ],
             [
              0.6666666666666666,
              "#ed7953"
             ],
             [
              0.7777777777777778,
              "#fb9f3a"
             ],
             [
              0.8888888888888888,
              "#fdca26"
             ],
             [
              1,
              "#f0f921"
             ]
            ],
            "type": "heatmap"
           }
          ],
          "heatmapgl": [
           {
            "colorbar": {
             "outlinewidth": 0,
             "ticks": ""
            },
            "colorscale": [
             [
              0,
              "#0d0887"
             ],
             [
              0.1111111111111111,
              "#46039f"
             ],
             [
              0.2222222222222222,
              "#7201a8"
             ],
             [
              0.3333333333333333,
              "#9c179e"
             ],
             [
              0.4444444444444444,
              "#bd3786"
             ],
             [
              0.5555555555555556,
              "#d8576b"
             ],
             [
              0.6666666666666666,
              "#ed7953"
             ],
             [
              0.7777777777777778,
              "#fb9f3a"
             ],
             [
              0.8888888888888888,
              "#fdca26"
             ],
             [
              1,
              "#f0f921"
             ]
            ],
            "type": "heatmapgl"
           }
          ],
          "histogram": [
           {
            "marker": {
             "pattern": {
              "fillmode": "overlay",
              "size": 10,
              "solidity": 0.2
             }
            },
            "type": "histogram"
           }
          ],
          "histogram2d": [
           {
            "colorbar": {
             "outlinewidth": 0,
             "ticks": ""
            },
            "colorscale": [
             [
              0,
              "#0d0887"
             ],
             [
              0.1111111111111111,
              "#46039f"
             ],
             [
              0.2222222222222222,
              "#7201a8"
             ],
             [
              0.3333333333333333,
              "#9c179e"
             ],
             [
              0.4444444444444444,
              "#bd3786"
             ],
             [
              0.5555555555555556,
              "#d8576b"
             ],
             [
              0.6666666666666666,
              "#ed7953"
             ],
             [
              0.7777777777777778,
              "#fb9f3a"
             ],
             [
              0.8888888888888888,
              "#fdca26"
             ],
             [
              1,
              "#f0f921"
             ]
            ],
            "type": "histogram2d"
           }
          ],
          "histogram2dcontour": [
           {
            "colorbar": {
             "outlinewidth": 0,
             "ticks": ""
            },
            "colorscale": [
             [
              0,
              "#0d0887"
             ],
             [
              0.1111111111111111,
              "#46039f"
             ],
             [
              0.2222222222222222,
              "#7201a8"
             ],
             [
              0.3333333333333333,
              "#9c179e"
             ],
             [
              0.4444444444444444,
              "#bd3786"
             ],
             [
              0.5555555555555556,
              "#d8576b"
             ],
             [
              0.6666666666666666,
              "#ed7953"
             ],
             [
              0.7777777777777778,
              "#fb9f3a"
             ],
             [
              0.8888888888888888,
              "#fdca26"
             ],
             [
              1,
              "#f0f921"
             ]
            ],
            "type": "histogram2dcontour"
           }
          ],
          "mesh3d": [
           {
            "colorbar": {
             "outlinewidth": 0,
             "ticks": ""
            },
            "type": "mesh3d"
           }
          ],
          "parcoords": [
           {
            "line": {
             "colorbar": {
              "outlinewidth": 0,
              "ticks": ""
             }
            },
            "type": "parcoords"
           }
          ],
          "pie": [
           {
            "automargin": true,
            "type": "pie"
           }
          ],
          "scatter": [
           {
            "marker": {
             "colorbar": {
              "outlinewidth": 0,
              "ticks": ""
             }
            },
            "type": "scatter"
           }
          ],
          "scatter3d": [
           {
            "line": {
             "colorbar": {
              "outlinewidth": 0,
              "ticks": ""
             }
            },
            "marker": {
             "colorbar": {
              "outlinewidth": 0,
              "ticks": ""
             }
            },
            "type": "scatter3d"
           }
          ],
          "scattercarpet": [
           {
            "marker": {
             "colorbar": {
              "outlinewidth": 0,
              "ticks": ""
             }
            },
            "type": "scattercarpet"
           }
          ],
          "scattergeo": [
           {
            "marker": {
             "colorbar": {
              "outlinewidth": 0,
              "ticks": ""
             }
            },
            "type": "scattergeo"
           }
          ],
          "scattergl": [
           {
            "marker": {
             "colorbar": {
              "outlinewidth": 0,
              "ticks": ""
             }
            },
            "type": "scattergl"
           }
          ],
          "scattermapbox": [
           {
            "marker": {
             "colorbar": {
              "outlinewidth": 0,
              "ticks": ""
             }
            },
            "type": "scattermapbox"
           }
          ],
          "scatterpolar": [
           {
            "marker": {
             "colorbar": {
              "outlinewidth": 0,
              "ticks": ""
             }
            },
            "type": "scatterpolar"
           }
          ],
          "scatterpolargl": [
           {
            "marker": {
             "colorbar": {
              "outlinewidth": 0,
              "ticks": ""
             }
            },
            "type": "scatterpolargl"
           }
          ],
          "scatterternary": [
           {
            "marker": {
             "colorbar": {
              "outlinewidth": 0,
              "ticks": ""
             }
            },
            "type": "scatterternary"
           }
          ],
          "surface": [
           {
            "colorbar": {
             "outlinewidth": 0,
             "ticks": ""
            },
            "colorscale": [
             [
              0,
              "#0d0887"
             ],
             [
              0.1111111111111111,
              "#46039f"
             ],
             [
              0.2222222222222222,
              "#7201a8"
             ],
             [
              0.3333333333333333,
              "#9c179e"
             ],
             [
              0.4444444444444444,
              "#bd3786"
             ],
             [
              0.5555555555555556,
              "#d8576b"
             ],
             [
              0.6666666666666666,
              "#ed7953"
             ],
             [
              0.7777777777777778,
              "#fb9f3a"
             ],
             [
              0.8888888888888888,
              "#fdca26"
             ],
             [
              1,
              "#f0f921"
             ]
            ],
            "type": "surface"
           }
          ],
          "table": [
           {
            "cells": {
             "fill": {
              "color": "#EBF0F8"
             },
             "line": {
              "color": "white"
             }
            },
            "header": {
             "fill": {
              "color": "#C8D4E3"
             },
             "line": {
              "color": "white"
             }
            },
            "type": "table"
           }
          ]
         },
         "layout": {
          "annotationdefaults": {
           "arrowcolor": "#2a3f5f",
           "arrowhead": 0,
           "arrowwidth": 1
          },
          "autotypenumbers": "strict",
          "coloraxis": {
           "colorbar": {
            "outlinewidth": 0,
            "ticks": ""
           }
          },
          "colorscale": {
           "diverging": [
            [
             0,
             "#8e0152"
            ],
            [
             0.1,
             "#c51b7d"
            ],
            [
             0.2,
             "#de77ae"
            ],
            [
             0.3,
             "#f1b6da"
            ],
            [
             0.4,
             "#fde0ef"
            ],
            [
             0.5,
             "#f7f7f7"
            ],
            [
             0.6,
             "#e6f5d0"
            ],
            [
             0.7,
             "#b8e186"
            ],
            [
             0.8,
             "#7fbc41"
            ],
            [
             0.9,
             "#4d9221"
            ],
            [
             1,
             "#276419"
            ]
           ],
           "sequential": [
            [
             0,
             "#0d0887"
            ],
            [
             0.1111111111111111,
             "#46039f"
            ],
            [
             0.2222222222222222,
             "#7201a8"
            ],
            [
             0.3333333333333333,
             "#9c179e"
            ],
            [
             0.4444444444444444,
             "#bd3786"
            ],
            [
             0.5555555555555556,
             "#d8576b"
            ],
            [
             0.6666666666666666,
             "#ed7953"
            ],
            [
             0.7777777777777778,
             "#fb9f3a"
            ],
            [
             0.8888888888888888,
             "#fdca26"
            ],
            [
             1,
             "#f0f921"
            ]
           ],
           "sequentialminus": [
            [
             0,
             "#0d0887"
            ],
            [
             0.1111111111111111,
             "#46039f"
            ],
            [
             0.2222222222222222,
             "#7201a8"
            ],
            [
             0.3333333333333333,
             "#9c179e"
            ],
            [
             0.4444444444444444,
             "#bd3786"
            ],
            [
             0.5555555555555556,
             "#d8576b"
            ],
            [
             0.6666666666666666,
             "#ed7953"
            ],
            [
             0.7777777777777778,
             "#fb9f3a"
            ],
            [
             0.8888888888888888,
             "#fdca26"
            ],
            [
             1,
             "#f0f921"
            ]
           ]
          },
          "colorway": [
           "#636efa",
           "#EF553B",
           "#00cc96",
           "#ab63fa",
           "#FFA15A",
           "#19d3f3",
           "#FF6692",
           "#B6E880",
           "#FF97FF",
           "#FECB52"
          ],
          "font": {
           "color": "#2a3f5f"
          },
          "geo": {
           "bgcolor": "white",
           "lakecolor": "white",
           "landcolor": "#E5ECF6",
           "showlakes": true,
           "showland": true,
           "subunitcolor": "white"
          },
          "hoverlabel": {
           "align": "left"
          },
          "hovermode": "closest",
          "mapbox": {
           "style": "light"
          },
          "paper_bgcolor": "white",
          "plot_bgcolor": "#E5ECF6",
          "polar": {
           "angularaxis": {
            "gridcolor": "white",
            "linecolor": "white",
            "ticks": ""
           },
           "bgcolor": "#E5ECF6",
           "radialaxis": {
            "gridcolor": "white",
            "linecolor": "white",
            "ticks": ""
           }
          },
          "scene": {
           "xaxis": {
            "backgroundcolor": "#E5ECF6",
            "gridcolor": "white",
            "gridwidth": 2,
            "linecolor": "white",
            "showbackground": true,
            "ticks": "",
            "zerolinecolor": "white"
           },
           "yaxis": {
            "backgroundcolor": "#E5ECF6",
            "gridcolor": "white",
            "gridwidth": 2,
            "linecolor": "white",
            "showbackground": true,
            "ticks": "",
            "zerolinecolor": "white"
           },
           "zaxis": {
            "backgroundcolor": "#E5ECF6",
            "gridcolor": "white",
            "gridwidth": 2,
            "linecolor": "white",
            "showbackground": true,
            "ticks": "",
            "zerolinecolor": "white"
           }
          },
          "shapedefaults": {
           "line": {
            "color": "#2a3f5f"
           }
          },
          "ternary": {
           "aaxis": {
            "gridcolor": "white",
            "linecolor": "white",
            "ticks": ""
           },
           "baxis": {
            "gridcolor": "white",
            "linecolor": "white",
            "ticks": ""
           },
           "bgcolor": "#E5ECF6",
           "caxis": {
            "gridcolor": "white",
            "linecolor": "white",
            "ticks": ""
           }
          },
          "title": {
           "x": 0.05
          },
          "xaxis": {
           "automargin": true,
           "gridcolor": "white",
           "linecolor": "white",
           "ticks": "",
           "title": {
            "standoff": 15
           },
           "zerolinecolor": "white",
           "zerolinewidth": 2
          },
          "yaxis": {
           "automargin": true,
           "gridcolor": "white",
           "linecolor": "white",
           "ticks": "",
           "title": {
            "standoff": 15
           },
           "zerolinecolor": "white",
           "zerolinewidth": 2
          }
         }
        },
        "title": {
         "text": "Placings in 2016 starting at position 1"
        }
       }
      }
     },
     "metadata": {},
     "output_type": "display_data"
    }
   ],
   "source": [
    "fig = go.Figure(data=[go.Sankey(\n",
    "    node = dict(\n",
    "      pad = 15,\n",
    "      thickness = 20,\n",
    "      line = dict(color = \"black\", width = 0.5),\n",
    "      label = labels_uni_line\n",
    "    ),\n",
    "    link = dict(\n",
    "      source = labels_final[:len(labels_final)//2], # indices correspond to labels, eg A1, A2, A1, B1, ...\n",
    "      target = labels_final[len(labels_final)//2:],\n",
    "      value = weights_final\n",
    "  ))])\n",
    "\n",
    "fig.update_layout(title_text=\"Placings in \"+str(year)+\\\n",
    "  \" starting at position \"+str(pstn), font_size=10)\n",
    "fig.show()"
   ]
  },
  {
   "cell_type": "code",
   "execution_count": null,
   "id": "67ce1187",
   "metadata": {},
   "outputs": [],
   "source": []
  },
  {
   "cell_type": "markdown",
   "id": "c3a519f8",
   "metadata": {},
   "source": [
    "#### Year, start and driver"
   ]
  },
  {
   "cell_type": "code",
   "execution_count": 85,
   "id": "97beaa7a",
   "metadata": {},
   "outputs": [],
   "source": [
    "results_year_pstn_driver = \\\n",
    "    results_year_pstn[results_year_pstn['driverId']==drivID]"
   ]
  },
  {
   "cell_type": "code",
   "execution_count": 86,
   "id": "db933658",
   "metadata": {},
   "outputs": [],
   "source": [
    "results_ypd = results_year_pstn_driver[['driverId',\\\n",
    "    'driverName','raceId','grid','position','code','dob','nationality']]"
   ]
  },
  {
   "cell_type": "code",
   "execution_count": 87,
   "id": "ff2ade6f",
   "metadata": {},
   "outputs": [
    {
     "data": {
      "text/html": [
       "<div>\n",
       "<style scoped>\n",
       "    .dataframe tbody tr th:only-of-type {\n",
       "        vertical-align: middle;\n",
       "    }\n",
       "\n",
       "    .dataframe tbody tr th {\n",
       "        vertical-align: top;\n",
       "    }\n",
       "\n",
       "    .dataframe thead th {\n",
       "        text-align: right;\n",
       "    }\n",
       "</style>\n",
       "<table border=\"1\" class=\"dataframe\">\n",
       "  <thead>\n",
       "    <tr style=\"text-align: right;\">\n",
       "      <th></th>\n",
       "      <th>driverId</th>\n",
       "      <th>driverName</th>\n",
       "      <th>raceId</th>\n",
       "      <th>grid</th>\n",
       "      <th>position</th>\n",
       "      <th>code</th>\n",
       "      <th>dob</th>\n",
       "      <th>nationality</th>\n",
       "    </tr>\n",
       "  </thead>\n",
       "  <tbody>\n",
       "  </tbody>\n",
       "</table>\n",
       "</div>"
      ],
      "text/plain": [
       "Empty DataFrame\n",
       "Columns: [driverId, driverName, raceId, grid, position, code, dob, nationality]\n",
       "Index: []"
      ]
     },
     "execution_count": 87,
     "metadata": {},
     "output_type": "execute_result"
    }
   ],
   "source": [
    "results_ypd.head()"
   ]
  },
  {
   "cell_type": "code",
   "execution_count": 88,
   "id": "e190eda4",
   "metadata": {},
   "outputs": [],
   "source": [
    "results_ypd_abr = results_ypd[['position','driverName']].sort_values('position')"
   ]
  },
  {
   "cell_type": "code",
   "execution_count": 89,
   "id": "79479401",
   "metadata": {},
   "outputs": [
    {
     "data": {
      "text/html": [
       "<div>\n",
       "<style scoped>\n",
       "    .dataframe tbody tr th:only-of-type {\n",
       "        vertical-align: middle;\n",
       "    }\n",
       "\n",
       "    .dataframe tbody tr th {\n",
       "        vertical-align: top;\n",
       "    }\n",
       "\n",
       "    .dataframe thead th {\n",
       "        text-align: right;\n",
       "    }\n",
       "</style>\n",
       "<table border=\"1\" class=\"dataframe\">\n",
       "  <thead>\n",
       "    <tr style=\"text-align: right;\">\n",
       "      <th></th>\n",
       "      <th>position</th>\n",
       "      <th>driverName</th>\n",
       "    </tr>\n",
       "  </thead>\n",
       "  <tbody>\n",
       "  </tbody>\n",
       "</table>\n",
       "</div>"
      ],
      "text/plain": [
       "Empty DataFrame\n",
       "Columns: [position, driverName]\n",
       "Index: []"
      ]
     },
     "execution_count": 89,
     "metadata": {},
     "output_type": "execute_result"
    }
   ],
   "source": [
    "results_ypd_abr#['position']#.iloc[11]"
   ]
  },
  {
   "cell_type": "code",
   "execution_count": 90,
   "id": "16921fcd",
   "metadata": {},
   "outputs": [
    {
     "ename": "IndexError",
     "evalue": "single positional indexer is out-of-bounds",
     "output_type": "error",
     "traceback": [
      "\u001b[1;31m---------------------------------------------------------------------------\u001b[0m",
      "\u001b[1;31mIndexError\u001b[0m                                Traceback (most recent call last)",
      "\u001b[1;32mc:\\Users\\Utilizador\\Desktop\\nova ims\\1º ano\\2º semestre\\data visualization\\final project\\DV_Project.ipynb Cell 59'\u001b[0m in \u001b[0;36m<cell line: 1>\u001b[1;34m()\u001b[0m\n\u001b[1;32m----> <a href='vscode-notebook-cell:/c%3A/Users/Utilizador/Desktop/nova%20ims/1%C2%BA%20ano/2%C2%BA%20semestre/data%20visualization/final%20project/DV_Project.ipynb#ch0000058?line=0'>1</a>\u001b[0m \u001b[39mlist\u001b[39m(results_ypd_abr\u001b[39m.\u001b[39;49miloc[\u001b[39m0\u001b[39;49m,:])\u001b[39m+\u001b[39m[\u001b[39m1\u001b[39m]\n",
      "File \u001b[1;32m~\\.conda\\envs\\data_mongpy\\lib\\site-packages\\pandas\\core\\indexing.py:961\u001b[0m, in \u001b[0;36m_LocationIndexer.__getitem__\u001b[1;34m(self, key)\u001b[0m\n\u001b[0;32m    <a href='file:///c%3A/Users/Utilizador/.conda/envs/data_mongpy/lib/site-packages/pandas/core/indexing.py?line=958'>959</a>\u001b[0m     \u001b[39mif\u001b[39;00m \u001b[39mself\u001b[39m\u001b[39m.\u001b[39m_is_scalar_access(key):\n\u001b[0;32m    <a href='file:///c%3A/Users/Utilizador/.conda/envs/data_mongpy/lib/site-packages/pandas/core/indexing.py?line=959'>960</a>\u001b[0m         \u001b[39mreturn\u001b[39;00m \u001b[39mself\u001b[39m\u001b[39m.\u001b[39mobj\u001b[39m.\u001b[39m_get_value(\u001b[39m*\u001b[39mkey, takeable\u001b[39m=\u001b[39m\u001b[39mself\u001b[39m\u001b[39m.\u001b[39m_takeable)\n\u001b[1;32m--> <a href='file:///c%3A/Users/Utilizador/.conda/envs/data_mongpy/lib/site-packages/pandas/core/indexing.py?line=960'>961</a>\u001b[0m     \u001b[39mreturn\u001b[39;00m \u001b[39mself\u001b[39;49m\u001b[39m.\u001b[39;49m_getitem_tuple(key)\n\u001b[0;32m    <a href='file:///c%3A/Users/Utilizador/.conda/envs/data_mongpy/lib/site-packages/pandas/core/indexing.py?line=961'>962</a>\u001b[0m \u001b[39melse\u001b[39;00m:\n\u001b[0;32m    <a href='file:///c%3A/Users/Utilizador/.conda/envs/data_mongpy/lib/site-packages/pandas/core/indexing.py?line=962'>963</a>\u001b[0m     \u001b[39m# we by definition only have the 0th axis\u001b[39;00m\n\u001b[0;32m    <a href='file:///c%3A/Users/Utilizador/.conda/envs/data_mongpy/lib/site-packages/pandas/core/indexing.py?line=963'>964</a>\u001b[0m     axis \u001b[39m=\u001b[39m \u001b[39mself\u001b[39m\u001b[39m.\u001b[39maxis \u001b[39mor\u001b[39;00m \u001b[39m0\u001b[39m\n",
      "File \u001b[1;32m~\\.conda\\envs\\data_mongpy\\lib\\site-packages\\pandas\\core\\indexing.py:1458\u001b[0m, in \u001b[0;36m_iLocIndexer._getitem_tuple\u001b[1;34m(self, tup)\u001b[0m\n\u001b[0;32m   <a href='file:///c%3A/Users/Utilizador/.conda/envs/data_mongpy/lib/site-packages/pandas/core/indexing.py?line=1455'>1456</a>\u001b[0m \u001b[39mdef\u001b[39;00m \u001b[39m_getitem_tuple\u001b[39m(\u001b[39mself\u001b[39m, tup: \u001b[39mtuple\u001b[39m):\n\u001b[1;32m-> <a href='file:///c%3A/Users/Utilizador/.conda/envs/data_mongpy/lib/site-packages/pandas/core/indexing.py?line=1457'>1458</a>\u001b[0m     tup \u001b[39m=\u001b[39m \u001b[39mself\u001b[39;49m\u001b[39m.\u001b[39;49m_validate_tuple_indexer(tup)\n\u001b[0;32m   <a href='file:///c%3A/Users/Utilizador/.conda/envs/data_mongpy/lib/site-packages/pandas/core/indexing.py?line=1458'>1459</a>\u001b[0m     \u001b[39mwith\u001b[39;00m suppress(IndexingError):\n\u001b[0;32m   <a href='file:///c%3A/Users/Utilizador/.conda/envs/data_mongpy/lib/site-packages/pandas/core/indexing.py?line=1459'>1460</a>\u001b[0m         \u001b[39mreturn\u001b[39;00m \u001b[39mself\u001b[39m\u001b[39m.\u001b[39m_getitem_lowerdim(tup)\n",
      "File \u001b[1;32m~\\.conda\\envs\\data_mongpy\\lib\\site-packages\\pandas\\core\\indexing.py:769\u001b[0m, in \u001b[0;36m_LocationIndexer._validate_tuple_indexer\u001b[1;34m(self, key)\u001b[0m\n\u001b[0;32m    <a href='file:///c%3A/Users/Utilizador/.conda/envs/data_mongpy/lib/site-packages/pandas/core/indexing.py?line=766'>767</a>\u001b[0m \u001b[39mfor\u001b[39;00m i, k \u001b[39min\u001b[39;00m \u001b[39menumerate\u001b[39m(key):\n\u001b[0;32m    <a href='file:///c%3A/Users/Utilizador/.conda/envs/data_mongpy/lib/site-packages/pandas/core/indexing.py?line=767'>768</a>\u001b[0m     \u001b[39mtry\u001b[39;00m:\n\u001b[1;32m--> <a href='file:///c%3A/Users/Utilizador/.conda/envs/data_mongpy/lib/site-packages/pandas/core/indexing.py?line=768'>769</a>\u001b[0m         \u001b[39mself\u001b[39;49m\u001b[39m.\u001b[39;49m_validate_key(k, i)\n\u001b[0;32m    <a href='file:///c%3A/Users/Utilizador/.conda/envs/data_mongpy/lib/site-packages/pandas/core/indexing.py?line=769'>770</a>\u001b[0m     \u001b[39mexcept\u001b[39;00m \u001b[39mValueError\u001b[39;00m \u001b[39mas\u001b[39;00m err:\n\u001b[0;32m    <a href='file:///c%3A/Users/Utilizador/.conda/envs/data_mongpy/lib/site-packages/pandas/core/indexing.py?line=770'>771</a>\u001b[0m         \u001b[39mraise\u001b[39;00m \u001b[39mValueError\u001b[39;00m(\n\u001b[0;32m    <a href='file:///c%3A/Users/Utilizador/.conda/envs/data_mongpy/lib/site-packages/pandas/core/indexing.py?line=771'>772</a>\u001b[0m             \u001b[39m\"\u001b[39m\u001b[39mLocation based indexing can only have \u001b[39m\u001b[39m\"\u001b[39m\n\u001b[0;32m    <a href='file:///c%3A/Users/Utilizador/.conda/envs/data_mongpy/lib/site-packages/pandas/core/indexing.py?line=772'>773</a>\u001b[0m             \u001b[39mf\u001b[39m\u001b[39m\"\u001b[39m\u001b[39m[\u001b[39m\u001b[39m{\u001b[39;00m\u001b[39mself\u001b[39m\u001b[39m.\u001b[39m_valid_types\u001b[39m}\u001b[39;00m\u001b[39m] types\u001b[39m\u001b[39m\"\u001b[39m\n\u001b[0;32m    <a href='file:///c%3A/Users/Utilizador/.conda/envs/data_mongpy/lib/site-packages/pandas/core/indexing.py?line=773'>774</a>\u001b[0m         ) \u001b[39mfrom\u001b[39;00m \u001b[39merr\u001b[39;00m\n",
      "File \u001b[1;32m~\\.conda\\envs\\data_mongpy\\lib\\site-packages\\pandas\\core\\indexing.py:1361\u001b[0m, in \u001b[0;36m_iLocIndexer._validate_key\u001b[1;34m(self, key, axis)\u001b[0m\n\u001b[0;32m   <a href='file:///c%3A/Users/Utilizador/.conda/envs/data_mongpy/lib/site-packages/pandas/core/indexing.py?line=1358'>1359</a>\u001b[0m     \u001b[39mreturn\u001b[39;00m\n\u001b[0;32m   <a href='file:///c%3A/Users/Utilizador/.conda/envs/data_mongpy/lib/site-packages/pandas/core/indexing.py?line=1359'>1360</a>\u001b[0m \u001b[39melif\u001b[39;00m is_integer(key):\n\u001b[1;32m-> <a href='file:///c%3A/Users/Utilizador/.conda/envs/data_mongpy/lib/site-packages/pandas/core/indexing.py?line=1360'>1361</a>\u001b[0m     \u001b[39mself\u001b[39;49m\u001b[39m.\u001b[39;49m_validate_integer(key, axis)\n\u001b[0;32m   <a href='file:///c%3A/Users/Utilizador/.conda/envs/data_mongpy/lib/site-packages/pandas/core/indexing.py?line=1361'>1362</a>\u001b[0m \u001b[39melif\u001b[39;00m \u001b[39misinstance\u001b[39m(key, \u001b[39mtuple\u001b[39m):\n\u001b[0;32m   <a href='file:///c%3A/Users/Utilizador/.conda/envs/data_mongpy/lib/site-packages/pandas/core/indexing.py?line=1362'>1363</a>\u001b[0m     \u001b[39m# a tuple should already have been caught by this point\u001b[39;00m\n\u001b[0;32m   <a href='file:///c%3A/Users/Utilizador/.conda/envs/data_mongpy/lib/site-packages/pandas/core/indexing.py?line=1363'>1364</a>\u001b[0m     \u001b[39m# so don't treat a tuple as a valid indexer\u001b[39;00m\n\u001b[0;32m   <a href='file:///c%3A/Users/Utilizador/.conda/envs/data_mongpy/lib/site-packages/pandas/core/indexing.py?line=1364'>1365</a>\u001b[0m     \u001b[39mraise\u001b[39;00m IndexingError(\u001b[39m\"\u001b[39m\u001b[39mToo many indexers\u001b[39m\u001b[39m\"\u001b[39m)\n",
      "File \u001b[1;32m~\\.conda\\envs\\data_mongpy\\lib\\site-packages\\pandas\\core\\indexing.py:1452\u001b[0m, in \u001b[0;36m_iLocIndexer._validate_integer\u001b[1;34m(self, key, axis)\u001b[0m\n\u001b[0;32m   <a href='file:///c%3A/Users/Utilizador/.conda/envs/data_mongpy/lib/site-packages/pandas/core/indexing.py?line=1449'>1450</a>\u001b[0m len_axis \u001b[39m=\u001b[39m \u001b[39mlen\u001b[39m(\u001b[39mself\u001b[39m\u001b[39m.\u001b[39mobj\u001b[39m.\u001b[39m_get_axis(axis))\n\u001b[0;32m   <a href='file:///c%3A/Users/Utilizador/.conda/envs/data_mongpy/lib/site-packages/pandas/core/indexing.py?line=1450'>1451</a>\u001b[0m \u001b[39mif\u001b[39;00m key \u001b[39m>\u001b[39m\u001b[39m=\u001b[39m len_axis \u001b[39mor\u001b[39;00m key \u001b[39m<\u001b[39m \u001b[39m-\u001b[39mlen_axis:\n\u001b[1;32m-> <a href='file:///c%3A/Users/Utilizador/.conda/envs/data_mongpy/lib/site-packages/pandas/core/indexing.py?line=1451'>1452</a>\u001b[0m     \u001b[39mraise\u001b[39;00m \u001b[39mIndexError\u001b[39;00m(\u001b[39m\"\u001b[39m\u001b[39msingle positional indexer is out-of-bounds\u001b[39m\u001b[39m\"\u001b[39m)\n",
      "\u001b[1;31mIndexError\u001b[0m: single positional indexer is out-of-bounds"
     ]
    }
   ],
   "source": [
    "list(results_ypd_abr.iloc[0,:])+[1]"
   ]
  },
  {
   "cell_type": "code",
   "execution_count": null,
   "id": "fe066dd8",
   "metadata": {},
   "outputs": [],
   "source": [
    "posit_list = []\n",
    "\n",
    "curr_posit = list(results_ypd_abr.iloc[0,:]) + [1]\n",
    "\n",
    "for i in range(1,len(results_ypd_abr['position'])):\n",
    "    if results_ypd_abr['position'].iloc[i] == results_ypd_abr['position'].iloc[i-1]:\n",
    "        curr_posit[2] += 1\n",
    "    else:\n",
    "        posit_list.append(curr_posit)\n",
    "        curr_posit = list(results_ypd_abr.iloc[i,:]) + [1]\n",
    "\n",
    "posit_list.append(curr_posit)\n"
   ]
  },
  {
   "cell_type": "code",
   "execution_count": null,
   "id": "8a50450e",
   "metadata": {},
   "outputs": [
    {
     "data": {
      "text/plain": [
       "False    23822\n",
       "True      1598\n",
       "Name: grid, dtype: int64"
      ]
     },
     "execution_count": 55,
     "metadata": {},
     "output_type": "execute_result"
    }
   ],
   "source": [
    "(results['grid']==0).value_counts()"
   ]
  },
  {
   "cell_type": "code",
   "execution_count": null,
   "id": "4cd2c1c2",
   "metadata": {},
   "outputs": [],
   "source": [
    "posit_frame = pd.DataFrame(posit_list,columns=['position','name','weight'])\\\n",
    "    .sort_values(['position','weight'],ascending=[True,False])"
   ]
  },
  {
   "cell_type": "code",
   "execution_count": null,
   "id": "5745ad57",
   "metadata": {},
   "outputs": [],
   "source": [
    "labels_line = list(posit_frame['name'])+list(posit_frame['position'])\n",
    "labels_uni_line = list(dict.fromkeys(labels_line))\n",
    "labels_final = [labels_uni_line.index(x) for x in labels_line]\n",
    "weights_final = list(posit_frame['weight'])"
   ]
  },
  {
   "cell_type": "code",
   "execution_count": 91,
   "id": "74040127",
   "metadata": {},
   "outputs": [
    {
     "data": {
      "text/plain": [
       "[0, 1, 0, 2, 1, 0, 1, 0, 3, 3, 4, 4, 4, 5, 6, 7]"
      ]
     },
     "execution_count": 91,
     "metadata": {},
     "output_type": "execute_result"
    }
   ],
   "source": [
    "labels_final"
   ]
  },
  {
   "cell_type": "code",
   "execution_count": 92,
   "id": "75d0661e",
   "metadata": {},
   "outputs": [
    {
     "data": {
      "text/plain": [
       "['Lewis Hamilton', 'Nico Rosberg', 'Daniel Ricciardo', 1, 2, 3, 4, 21]"
      ]
     },
     "execution_count": 92,
     "metadata": {},
     "output_type": "execute_result"
    }
   ],
   "source": [
    "labels_uni_line"
   ]
  },
  {
   "cell_type": "code",
   "execution_count": 93,
   "id": "6e2fb2ba",
   "metadata": {},
   "outputs": [
    {
     "data": {
      "text/plain": [
       "[0, 1, 0, 2, 1, 0, 1, 0]"
      ]
     },
     "execution_count": 93,
     "metadata": {},
     "output_type": "execute_result"
    }
   ],
   "source": [
    "labels_final[:len(labels_final)//2]"
   ]
  },
  {
   "cell_type": "code",
   "execution_count": 94,
   "id": "17730d7e",
   "metadata": {},
   "outputs": [
    {
     "name": "stdout",
     "output_type": "stream",
     "text": [
      "[0, 1, 0, 2, 1, 0, 1, 0]\n",
      "[3, 3, 4, 4, 4, 5, 6, 7]\n",
      "[7, 6, 2, 1, 1, 1, 1, 2]\n"
     ]
    }
   ],
   "source": [
    "print(labels_final[:len(labels_final)//2]) # indices correspond to labels, eg A1, A2, A1, B1, .\n",
    "print(labels_final[len(labels_final)//2:])\n",
    "print(weights_final)"
   ]
  },
  {
   "cell_type": "code",
   "execution_count": 95,
   "id": "8ae1e5ce",
   "metadata": {},
   "outputs": [
    {
     "data": {
      "application/vnd.plotly.v1+json": {
       "config": {
        "plotlyServerURL": "https://plot.ly"
       },
       "data": [
        {
         "link": {
          "source": [
           0,
           1,
           0,
           2,
           1,
           0,
           1,
           0
          ],
          "target": [
           3,
           3,
           4,
           4,
           4,
           5,
           6,
           7
          ],
          "value": [
           7,
           6,
           2,
           1,
           1,
           1,
           1,
           2
          ]
         },
         "node": {
          "label": [
           "Lewis Hamilton",
           "Nico Rosberg",
           "Daniel Ricciardo",
           1,
           2,
           3,
           4,
           21
          ],
          "line": {
           "color": "black",
           "width": 0.5
          },
          "pad": 15,
          "thickness": 20
         },
         "type": "sankey"
        }
       ],
       "layout": {
        "font": {
         "size": 10
        },
        "template": {
         "data": {
          "bar": [
           {
            "error_x": {
             "color": "#2a3f5f"
            },
            "error_y": {
             "color": "#2a3f5f"
            },
            "marker": {
             "line": {
              "color": "#E5ECF6",
              "width": 0.5
             },
             "pattern": {
              "fillmode": "overlay",
              "size": 10,
              "solidity": 0.2
             }
            },
            "type": "bar"
           }
          ],
          "barpolar": [
           {
            "marker": {
             "line": {
              "color": "#E5ECF6",
              "width": 0.5
             },
             "pattern": {
              "fillmode": "overlay",
              "size": 10,
              "solidity": 0.2
             }
            },
            "type": "barpolar"
           }
          ],
          "carpet": [
           {
            "aaxis": {
             "endlinecolor": "#2a3f5f",
             "gridcolor": "white",
             "linecolor": "white",
             "minorgridcolor": "white",
             "startlinecolor": "#2a3f5f"
            },
            "baxis": {
             "endlinecolor": "#2a3f5f",
             "gridcolor": "white",
             "linecolor": "white",
             "minorgridcolor": "white",
             "startlinecolor": "#2a3f5f"
            },
            "type": "carpet"
           }
          ],
          "choropleth": [
           {
            "colorbar": {
             "outlinewidth": 0,
             "ticks": ""
            },
            "type": "choropleth"
           }
          ],
          "contour": [
           {
            "colorbar": {
             "outlinewidth": 0,
             "ticks": ""
            },
            "colorscale": [
             [
              0,
              "#0d0887"
             ],
             [
              0.1111111111111111,
              "#46039f"
             ],
             [
              0.2222222222222222,
              "#7201a8"
             ],
             [
              0.3333333333333333,
              "#9c179e"
             ],
             [
              0.4444444444444444,
              "#bd3786"
             ],
             [
              0.5555555555555556,
              "#d8576b"
             ],
             [
              0.6666666666666666,
              "#ed7953"
             ],
             [
              0.7777777777777778,
              "#fb9f3a"
             ],
             [
              0.8888888888888888,
              "#fdca26"
             ],
             [
              1,
              "#f0f921"
             ]
            ],
            "type": "contour"
           }
          ],
          "contourcarpet": [
           {
            "colorbar": {
             "outlinewidth": 0,
             "ticks": ""
            },
            "type": "contourcarpet"
           }
          ],
          "heatmap": [
           {
            "colorbar": {
             "outlinewidth": 0,
             "ticks": ""
            },
            "colorscale": [
             [
              0,
              "#0d0887"
             ],
             [
              0.1111111111111111,
              "#46039f"
             ],
             [
              0.2222222222222222,
              "#7201a8"
             ],
             [
              0.3333333333333333,
              "#9c179e"
             ],
             [
              0.4444444444444444,
              "#bd3786"
             ],
             [
              0.5555555555555556,
              "#d8576b"
             ],
             [
              0.6666666666666666,
              "#ed7953"
             ],
             [
              0.7777777777777778,
              "#fb9f3a"
             ],
             [
              0.8888888888888888,
              "#fdca26"
             ],
             [
              1,
              "#f0f921"
             ]
            ],
            "type": "heatmap"
           }
          ],
          "heatmapgl": [
           {
            "colorbar": {
             "outlinewidth": 0,
             "ticks": ""
            },
            "colorscale": [
             [
              0,
              "#0d0887"
             ],
             [
              0.1111111111111111,
              "#46039f"
             ],
             [
              0.2222222222222222,
              "#7201a8"
             ],
             [
              0.3333333333333333,
              "#9c179e"
             ],
             [
              0.4444444444444444,
              "#bd3786"
             ],
             [
              0.5555555555555556,
              "#d8576b"
             ],
             [
              0.6666666666666666,
              "#ed7953"
             ],
             [
              0.7777777777777778,
              "#fb9f3a"
             ],
             [
              0.8888888888888888,
              "#fdca26"
             ],
             [
              1,
              "#f0f921"
             ]
            ],
            "type": "heatmapgl"
           }
          ],
          "histogram": [
           {
            "marker": {
             "pattern": {
              "fillmode": "overlay",
              "size": 10,
              "solidity": 0.2
             }
            },
            "type": "histogram"
           }
          ],
          "histogram2d": [
           {
            "colorbar": {
             "outlinewidth": 0,
             "ticks": ""
            },
            "colorscale": [
             [
              0,
              "#0d0887"
             ],
             [
              0.1111111111111111,
              "#46039f"
             ],
             [
              0.2222222222222222,
              "#7201a8"
             ],
             [
              0.3333333333333333,
              "#9c179e"
             ],
             [
              0.4444444444444444,
              "#bd3786"
             ],
             [
              0.5555555555555556,
              "#d8576b"
             ],
             [
              0.6666666666666666,
              "#ed7953"
             ],
             [
              0.7777777777777778,
              "#fb9f3a"
             ],
             [
              0.8888888888888888,
              "#fdca26"
             ],
             [
              1,
              "#f0f921"
             ]
            ],
            "type": "histogram2d"
           }
          ],
          "histogram2dcontour": [
           {
            "colorbar": {
             "outlinewidth": 0,
             "ticks": ""
            },
            "colorscale": [
             [
              0,
              "#0d0887"
             ],
             [
              0.1111111111111111,
              "#46039f"
             ],
             [
              0.2222222222222222,
              "#7201a8"
             ],
             [
              0.3333333333333333,
              "#9c179e"
             ],
             [
              0.4444444444444444,
              "#bd3786"
             ],
             [
              0.5555555555555556,
              "#d8576b"
             ],
             [
              0.6666666666666666,
              "#ed7953"
             ],
             [
              0.7777777777777778,
              "#fb9f3a"
             ],
             [
              0.8888888888888888,
              "#fdca26"
             ],
             [
              1,
              "#f0f921"
             ]
            ],
            "type": "histogram2dcontour"
           }
          ],
          "mesh3d": [
           {
            "colorbar": {
             "outlinewidth": 0,
             "ticks": ""
            },
            "type": "mesh3d"
           }
          ],
          "parcoords": [
           {
            "line": {
             "colorbar": {
              "outlinewidth": 0,
              "ticks": ""
             }
            },
            "type": "parcoords"
           }
          ],
          "pie": [
           {
            "automargin": true,
            "type": "pie"
           }
          ],
          "scatter": [
           {
            "marker": {
             "colorbar": {
              "outlinewidth": 0,
              "ticks": ""
             }
            },
            "type": "scatter"
           }
          ],
          "scatter3d": [
           {
            "line": {
             "colorbar": {
              "outlinewidth": 0,
              "ticks": ""
             }
            },
            "marker": {
             "colorbar": {
              "outlinewidth": 0,
              "ticks": ""
             }
            },
            "type": "scatter3d"
           }
          ],
          "scattercarpet": [
           {
            "marker": {
             "colorbar": {
              "outlinewidth": 0,
              "ticks": ""
             }
            },
            "type": "scattercarpet"
           }
          ],
          "scattergeo": [
           {
            "marker": {
             "colorbar": {
              "outlinewidth": 0,
              "ticks": ""
             }
            },
            "type": "scattergeo"
           }
          ],
          "scattergl": [
           {
            "marker": {
             "colorbar": {
              "outlinewidth": 0,
              "ticks": ""
             }
            },
            "type": "scattergl"
           }
          ],
          "scattermapbox": [
           {
            "marker": {
             "colorbar": {
              "outlinewidth": 0,
              "ticks": ""
             }
            },
            "type": "scattermapbox"
           }
          ],
          "scatterpolar": [
           {
            "marker": {
             "colorbar": {
              "outlinewidth": 0,
              "ticks": ""
             }
            },
            "type": "scatterpolar"
           }
          ],
          "scatterpolargl": [
           {
            "marker": {
             "colorbar": {
              "outlinewidth": 0,
              "ticks": ""
             }
            },
            "type": "scatterpolargl"
           }
          ],
          "scatterternary": [
           {
            "marker": {
             "colorbar": {
              "outlinewidth": 0,
              "ticks": ""
             }
            },
            "type": "scatterternary"
           }
          ],
          "surface": [
           {
            "colorbar": {
             "outlinewidth": 0,
             "ticks": ""
            },
            "colorscale": [
             [
              0,
              "#0d0887"
             ],
             [
              0.1111111111111111,
              "#46039f"
             ],
             [
              0.2222222222222222,
              "#7201a8"
             ],
             [
              0.3333333333333333,
              "#9c179e"
             ],
             [
              0.4444444444444444,
              "#bd3786"
             ],
             [
              0.5555555555555556,
              "#d8576b"
             ],
             [
              0.6666666666666666,
              "#ed7953"
             ],
             [
              0.7777777777777778,
              "#fb9f3a"
             ],
             [
              0.8888888888888888,
              "#fdca26"
             ],
             [
              1,
              "#f0f921"
             ]
            ],
            "type": "surface"
           }
          ],
          "table": [
           {
            "cells": {
             "fill": {
              "color": "#EBF0F8"
             },
             "line": {
              "color": "white"
             }
            },
            "header": {
             "fill": {
              "color": "#C8D4E3"
             },
             "line": {
              "color": "white"
             }
            },
            "type": "table"
           }
          ]
         },
         "layout": {
          "annotationdefaults": {
           "arrowcolor": "#2a3f5f",
           "arrowhead": 0,
           "arrowwidth": 1
          },
          "autotypenumbers": "strict",
          "coloraxis": {
           "colorbar": {
            "outlinewidth": 0,
            "ticks": ""
           }
          },
          "colorscale": {
           "diverging": [
            [
             0,
             "#8e0152"
            ],
            [
             0.1,
             "#c51b7d"
            ],
            [
             0.2,
             "#de77ae"
            ],
            [
             0.3,
             "#f1b6da"
            ],
            [
             0.4,
             "#fde0ef"
            ],
            [
             0.5,
             "#f7f7f7"
            ],
            [
             0.6,
             "#e6f5d0"
            ],
            [
             0.7,
             "#b8e186"
            ],
            [
             0.8,
             "#7fbc41"
            ],
            [
             0.9,
             "#4d9221"
            ],
            [
             1,
             "#276419"
            ]
           ],
           "sequential": [
            [
             0,
             "#0d0887"
            ],
            [
             0.1111111111111111,
             "#46039f"
            ],
            [
             0.2222222222222222,
             "#7201a8"
            ],
            [
             0.3333333333333333,
             "#9c179e"
            ],
            [
             0.4444444444444444,
             "#bd3786"
            ],
            [
             0.5555555555555556,
             "#d8576b"
            ],
            [
             0.6666666666666666,
             "#ed7953"
            ],
            [
             0.7777777777777778,
             "#fb9f3a"
            ],
            [
             0.8888888888888888,
             "#fdca26"
            ],
            [
             1,
             "#f0f921"
            ]
           ],
           "sequentialminus": [
            [
             0,
             "#0d0887"
            ],
            [
             0.1111111111111111,
             "#46039f"
            ],
            [
             0.2222222222222222,
             "#7201a8"
            ],
            [
             0.3333333333333333,
             "#9c179e"
            ],
            [
             0.4444444444444444,
             "#bd3786"
            ],
            [
             0.5555555555555556,
             "#d8576b"
            ],
            [
             0.6666666666666666,
             "#ed7953"
            ],
            [
             0.7777777777777778,
             "#fb9f3a"
            ],
            [
             0.8888888888888888,
             "#fdca26"
            ],
            [
             1,
             "#f0f921"
            ]
           ]
          },
          "colorway": [
           "#636efa",
           "#EF553B",
           "#00cc96",
           "#ab63fa",
           "#FFA15A",
           "#19d3f3",
           "#FF6692",
           "#B6E880",
           "#FF97FF",
           "#FECB52"
          ],
          "font": {
           "color": "#2a3f5f"
          },
          "geo": {
           "bgcolor": "white",
           "lakecolor": "white",
           "landcolor": "#E5ECF6",
           "showlakes": true,
           "showland": true,
           "subunitcolor": "white"
          },
          "hoverlabel": {
           "align": "left"
          },
          "hovermode": "closest",
          "mapbox": {
           "style": "light"
          },
          "paper_bgcolor": "white",
          "plot_bgcolor": "#E5ECF6",
          "polar": {
           "angularaxis": {
            "gridcolor": "white",
            "linecolor": "white",
            "ticks": ""
           },
           "bgcolor": "#E5ECF6",
           "radialaxis": {
            "gridcolor": "white",
            "linecolor": "white",
            "ticks": ""
           }
          },
          "scene": {
           "xaxis": {
            "backgroundcolor": "#E5ECF6",
            "gridcolor": "white",
            "gridwidth": 2,
            "linecolor": "white",
            "showbackground": true,
            "ticks": "",
            "zerolinecolor": "white"
           },
           "yaxis": {
            "backgroundcolor": "#E5ECF6",
            "gridcolor": "white",
            "gridwidth": 2,
            "linecolor": "white",
            "showbackground": true,
            "ticks": "",
            "zerolinecolor": "white"
           },
           "zaxis": {
            "backgroundcolor": "#E5ECF6",
            "gridcolor": "white",
            "gridwidth": 2,
            "linecolor": "white",
            "showbackground": true,
            "ticks": "",
            "zerolinecolor": "white"
           }
          },
          "shapedefaults": {
           "line": {
            "color": "#2a3f5f"
           }
          },
          "ternary": {
           "aaxis": {
            "gridcolor": "white",
            "linecolor": "white",
            "ticks": ""
           },
           "baxis": {
            "gridcolor": "white",
            "linecolor": "white",
            "ticks": ""
           },
           "bgcolor": "#E5ECF6",
           "caxis": {
            "gridcolor": "white",
            "linecolor": "white",
            "ticks": ""
           }
          },
          "title": {
           "x": 0.05
          },
          "xaxis": {
           "automargin": true,
           "gridcolor": "white",
           "linecolor": "white",
           "ticks": "",
           "title": {
            "standoff": 15
           },
           "zerolinecolor": "white",
           "zerolinewidth": 2
          },
          "yaxis": {
           "automargin": true,
           "gridcolor": "white",
           "linecolor": "white",
           "ticks": "",
           "title": {
            "standoff": 15
           },
           "zerolinecolor": "white",
           "zerolinewidth": 2
          }
         }
        },
        "title": {
         "text": "Placings of driver  in 2016 starting at position 1"
        }
       }
      }
     },
     "metadata": {},
     "output_type": "display_data"
    }
   ],
   "source": [
    "fig = go.Figure(data=[go.Sankey(\n",
    "    node = dict(\n",
    "      pad = 15,\n",
    "      thickness = 20,\n",
    "      line = dict(color = \"black\", width = 0.5),\n",
    "      label = labels_uni_line\n",
    "    ),\n",
    "    link = dict(\n",
    "      source = labels_final[:len(labels_final)//2], # indices correspond to labels, eg A1, A2, A1, B1, ...\n",
    "      target = labels_final[len(labels_final)//2:],\n",
    "      value = weights_final\n",
    "  ))])\n",
    "\n",
    "fig.update_layout(title_text=\"Placings of driver \" + \" in \"+str(year)+\\\n",
    "  \" starting at position \"+str(pstn), font_size=10)\n",
    "fig.show()"
   ]
  },
  {
   "cell_type": "code",
   "execution_count": null,
   "id": "bb317bde",
   "metadata": {},
   "outputs": [],
   "source": []
  },
  {
   "cell_type": "markdown",
   "id": "c8f244a8",
   "metadata": {},
   "source": [
    "#### Sankey in Dash"
   ]
  },
  {
   "cell_type": "code",
   "execution_count": 53,
   "id": "1212006e",
   "metadata": {},
   "outputs": [
    {
     "name": "stdout",
     "output_type": "stream",
     "text": [
      "Dash is running on http://127.0.0.1:8050/\n",
      "\n",
      "Dash is running on http://127.0.0.1:8050/\n",
      "\n",
      " * Serving Flask app '__main__' (lazy loading)\n",
      " * Environment: production\n",
      "\u001b[31m   WARNING: This is a development server. Do not use it in a production deployment.\u001b[0m\n",
      "\u001b[2m   Use a production WSGI server instead.\u001b[0m\n",
      " * Debug mode: on\n"
     ]
    },
    {
     "ename": "SystemExit",
     "evalue": "1",
     "output_type": "error",
     "traceback": [
      "An exception has occurred, use %tb to see the full traceback.\n",
      "\u001b[1;31mSystemExit\u001b[0m\u001b[1;31m:\u001b[0m 1\n"
     ]
    },
    {
     "name": "stderr",
     "output_type": "stream",
     "text": [
      "C:\\Users\\Utilizador\\.conda\\envs\\data_mongpy\\lib\\site-packages\\IPython\\core\\interactiveshell.py:3369: UserWarning:\n",
      "\n",
      "To exit: use 'exit', 'quit', or Ctrl-D.\n",
      "\n"
     ]
    }
   ],
   "source": [
    "from dash import Dash, dcc, html, Input, Output\n",
    "import plotly.graph_objects as go\n",
    "import json, urllib\n",
    "\n",
    "app = Dash(__name__)\n",
    "\n",
    "app.layout = html.Div([\n",
    "    html.H4('Supply chain of the energy production'),\n",
    "    dcc.Graph(id=\"graph\"),\n",
    "    html.P(\"Opacity\"),\n",
    "    dcc.Slider(id='slider', min=0, max=1, \n",
    "               value=0.5, step=0.1)\n",
    "])\n",
    "\n",
    "@app.callback(\n",
    "    Output(\"graph\", \"figure\"), \n",
    "    Input(\"slider\", \"value\"))\n",
    "def display_sankey(opacity):\n",
    "    url = 'https://raw.githubusercontent.com/plotly/plotly.js/master/test/image/mocks/sankey_energy.json'\n",
    "    response = urllib.request.urlopen(url)\n",
    "    data = json.loads(response.read()) # replace with your own data source\n",
    "\n",
    "    node = data['data'][0]['node']\n",
    "    node['color'] = [\n",
    "        f'rgba(255,0,255,{opacity})' \n",
    "        if c == \"magenta\" else c.replace('0.8', str(opacity)) \n",
    "        for c in node['color']]\n",
    "\n",
    "    link = data['data'][0]['link']\n",
    "    link['color'] = [\n",
    "        node['color'][src] for src in link['source']]\n",
    "\n",
    "    fig = go.Figure(go.Sankey(link=link, node=node))\n",
    "    fig.update_layout(font_size=10)\n",
    "    return fig\n",
    "\n",
    "app.run_server(debug=True)"
   ]
  },
  {
   "cell_type": "code",
   "execution_count": null,
   "id": "fe6e2fb4",
   "metadata": {},
   "outputs": [],
   "source": []
  },
  {
   "cell_type": "markdown",
   "id": "cd7fad05",
   "metadata": {},
   "source": [
    "### Tab code"
   ]
  },
  {
   "cell_type": "code",
   "execution_count": null,
   "id": "9431e9f9",
   "metadata": {},
   "outputs": [],
   "source": [
    "from dash import Dash, dcc, html\n",
    "\n",
    "external_stylesheets = ['https://codepen.io/chriddyp/pen/bWLwgP.css']\n",
    "\n",
    "app = Dash(__name__, external_stylesheets=external_stylesheets)\n",
    "\n",
    "app.layout = html.Div([\n",
    "    dcc.Tabs([\n",
    "        dcc.Tab(label='Tab one', children=[\n",
    "            dcc.Graph(\n",
    "                figure={\n",
    "                    'data': [\n",
    "                        {'x': [1, 2, 3], 'y': [4, 1, 2],\n",
    "                            'type': 'bar', 'name': 'SF'},\n",
    "                        {'x': [1, 2, 3], 'y': [2, 4, 5],\n",
    "                         'type': 'bar', 'name': u'Montréal'},\n",
    "                    ]\n",
    "                }\n",
    "            )\n",
    "        ]),\n",
    "        dcc.Tab(label='Tab two', children=[\n",
    "            dcc.Graph(\n",
    "                figure={\n",
    "                    'data': [\n",
    "                        {'x': [1, 2, 3], 'y': [1, 4, 1],\n",
    "                            'type': 'bar', 'name': 'SF'},\n",
    "                        {'x': [1, 2, 3], 'y': [1, 2, 3],\n",
    "                         'type': 'bar', 'name': u'Montréal'},\n",
    "                    ]\n",
    "                }\n",
    "            )\n",
    "        ]),\n",
    "        dcc.Tab(label='Tab three', children=[\n",
    "            dcc.Graph(\n",
    "                figure={\n",
    "                    'data': [\n",
    "                        {'x': [1, 2, 3], 'y': [2, 4, 3],\n",
    "                            'type': 'bar', 'name': 'SF'},\n",
    "                        {'x': [1, 2, 3], 'y': [5, 4, 3],\n",
    "                         'type': 'bar', 'name': u'Montréal'},\n",
    "                    ]\n",
    "                }\n",
    "            )\n",
    "        ]),\n",
    "    ])\n",
    "])\n",
    "\n",
    "if __name__ == '__main__':\n",
    "    app.run_server(debug=True)"
   ]
  },
  {
   "cell_type": "code",
   "execution_count": null,
   "id": "caa54a8b",
   "metadata": {},
   "outputs": [],
   "source": []
  },
  {
   "cell_type": "code",
   "execution_count": null,
   "id": "8f6af02d",
   "metadata": {},
   "outputs": [],
   "source": []
  },
  {
   "cell_type": "code",
   "execution_count": null,
   "id": "75b054a7",
   "metadata": {},
   "outputs": [],
   "source": []
  },
  {
   "cell_type": "code",
   "execution_count": null,
   "id": "d2fca08a",
   "metadata": {},
   "outputs": [],
   "source": []
  }
 ],
 "metadata": {
  "kernelspec": {
   "display_name": "Python 3 (ipykernel)",
   "language": "python",
   "name": "python3"
  },
  "language_info": {
   "codemirror_mode": {
    "name": "ipython",
    "version": 3
   },
   "file_extension": ".py",
   "mimetype": "text/x-python",
   "name": "python",
   "nbconvert_exporter": "python",
   "pygments_lexer": "ipython3",
   "version": "3.8.12"
  }
 },
 "nbformat": 4,
 "nbformat_minor": 5
}
