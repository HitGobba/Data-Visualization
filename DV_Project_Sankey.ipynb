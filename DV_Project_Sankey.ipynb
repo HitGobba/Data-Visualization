{
 "cells": [
  {
   "cell_type": "markdown",
   "id": "108b3752",
   "metadata": {},
   "source": [
    "# Imports"
   ]
  },
  {
   "cell_type": "code",
   "execution_count": 94,
   "id": "17f776de",
   "metadata": {
    "scrolled": true
   },
   "outputs": [
    {
     "data": {
      "text/plain": [
       "Renderers configuration\n",
       "-----------------------\n",
       "    Default renderer: 'vscode'\n",
       "    Available renderers:\n",
       "        ['plotly_mimetype', 'jupyterlab', 'nteract', 'vscode',\n",
       "         'notebook', 'notebook_connected', 'kaggle', 'azure', 'colab',\n",
       "         'cocalc', 'databricks', 'json', 'png', 'jpeg', 'jpg', 'svg',\n",
       "         'pdf', 'browser', 'firefox', 'chrome', 'chromium', 'iframe',\n",
       "         'iframe_connected', 'sphinx_gallery', 'sphinx_gallery_png']"
      ]
     },
     "execution_count": 94,
     "metadata": {},
     "output_type": "execute_result"
    }
   ],
   "source": [
    "import pandas as pd\n",
    "import numpy as np\n",
    "import plotly.graph_objects as go\n",
    "import plotly.express as px\n",
    "import plotly.io as pio\n",
    "import random\n",
    "from matplotlib.colors import to_rgba\n",
    "pio.renderers"
   ]
  },
  {
   "cell_type": "code",
   "execution_count": null,
   "id": "b4b8d5ca",
   "metadata": {},
   "outputs": [],
   "source": []
  },
  {
   "cell_type": "markdown",
   "id": "1dc391e4",
   "metadata": {},
   "source": [
    "# Load the data"
   ]
  },
  {
   "cell_type": "code",
   "execution_count": 95,
   "id": "2caac9e1",
   "metadata": {},
   "outputs": [],
   "source": [
    "circuits = pd.read_csv(r'./datasets/circuits.csv')\n",
    "constructor_results = pd.read_csv(r'./datasets/constructor_results.csv')\n",
    "constructor_standings = pd.read_csv(r'./datasets/constructor_standings.csv')\n",
    "constructors = pd.read_csv(r'./datasets/constructors.csv')\n",
    "driver_standings = pd.read_csv(r'./datasets/driver_standings.csv')\n",
    "drivers = pd.read_csv(r'./datasets/drivers.csv')\n",
    "lap_times = pd.read_csv(r'./datasets/lap_times.csv')\n",
    "pit_stops = pd.read_csv(r'./datasets/pit_stops.csv')\n",
    "qualifying = pd.read_csv(r'./datasets/qualifying.csv')\n",
    "races = pd.read_csv(r'./datasets/races.csv')\n",
    "results = pd.read_csv(r'./datasets/results.csv')\n",
    "seasons = pd.read_csv(r'./datasets/seasons.csv')\n",
    "sprint_results = pd.read_csv(r'./datasets/sprint_results.csv')\n",
    "status = pd.read_csv(r'./datasets/status.csv')"
   ]
  },
  {
   "cell_type": "markdown",
   "id": "b0f3de8a",
   "metadata": {},
   "source": [
    "# Data"
   ]
  },
  {
   "cell_type": "code",
   "execution_count": 96,
   "id": "bb5037c4",
   "metadata": {},
   "outputs": [
    {
     "data": {
      "text/html": [
       "<div>\n",
       "<style scoped>\n",
       "    .dataframe tbody tr th:only-of-type {\n",
       "        vertical-align: middle;\n",
       "    }\n",
       "\n",
       "    .dataframe tbody tr th {\n",
       "        vertical-align: top;\n",
       "    }\n",
       "\n",
       "    .dataframe thead th {\n",
       "        text-align: right;\n",
       "    }\n",
       "</style>\n",
       "<table border=\"1\" class=\"dataframe\">\n",
       "  <thead>\n",
       "    <tr style=\"text-align: right;\">\n",
       "      <th></th>\n",
       "      <th>circuitId</th>\n",
       "      <th>circuitRef</th>\n",
       "      <th>name</th>\n",
       "      <th>location</th>\n",
       "      <th>country</th>\n",
       "      <th>lat</th>\n",
       "      <th>lng</th>\n",
       "      <th>alt</th>\n",
       "      <th>url</th>\n",
       "    </tr>\n",
       "  </thead>\n",
       "  <tbody>\n",
       "    <tr>\n",
       "      <th>0</th>\n",
       "      <td>1</td>\n",
       "      <td>albert_park</td>\n",
       "      <td>Albert Park Grand Prix Circuit</td>\n",
       "      <td>Melbourne</td>\n",
       "      <td>Australia</td>\n",
       "      <td>-37.84970</td>\n",
       "      <td>144.96800</td>\n",
       "      <td>10</td>\n",
       "      <td>http://en.wikipedia.org/wiki/Melbourne_Grand_P...</td>\n",
       "    </tr>\n",
       "    <tr>\n",
       "      <th>1</th>\n",
       "      <td>2</td>\n",
       "      <td>sepang</td>\n",
       "      <td>Sepang International Circuit</td>\n",
       "      <td>Kuala Lumpur</td>\n",
       "      <td>Malaysia</td>\n",
       "      <td>2.76083</td>\n",
       "      <td>101.73800</td>\n",
       "      <td>18</td>\n",
       "      <td>http://en.wikipedia.org/wiki/Sepang_Internatio...</td>\n",
       "    </tr>\n",
       "    <tr>\n",
       "      <th>2</th>\n",
       "      <td>3</td>\n",
       "      <td>bahrain</td>\n",
       "      <td>Bahrain International Circuit</td>\n",
       "      <td>Sakhir</td>\n",
       "      <td>Bahrain</td>\n",
       "      <td>26.03250</td>\n",
       "      <td>50.51060</td>\n",
       "      <td>7</td>\n",
       "      <td>http://en.wikipedia.org/wiki/Bahrain_Internati...</td>\n",
       "    </tr>\n",
       "    <tr>\n",
       "      <th>3</th>\n",
       "      <td>4</td>\n",
       "      <td>catalunya</td>\n",
       "      <td>Circuit de Barcelona-Catalunya</td>\n",
       "      <td>Montmeló</td>\n",
       "      <td>Spain</td>\n",
       "      <td>41.57000</td>\n",
       "      <td>2.26111</td>\n",
       "      <td>109</td>\n",
       "      <td>http://en.wikipedia.org/wiki/Circuit_de_Barcel...</td>\n",
       "    </tr>\n",
       "    <tr>\n",
       "      <th>4</th>\n",
       "      <td>5</td>\n",
       "      <td>istanbul</td>\n",
       "      <td>Istanbul Park</td>\n",
       "      <td>Istanbul</td>\n",
       "      <td>Turkey</td>\n",
       "      <td>40.95170</td>\n",
       "      <td>29.40500</td>\n",
       "      <td>130</td>\n",
       "      <td>http://en.wikipedia.org/wiki/Istanbul_Park</td>\n",
       "    </tr>\n",
       "  </tbody>\n",
       "</table>\n",
       "</div>"
      ],
      "text/plain": [
       "   circuitId   circuitRef                            name      location  \\\n",
       "0          1  albert_park  Albert Park Grand Prix Circuit     Melbourne   \n",
       "1          2       sepang    Sepang International Circuit  Kuala Lumpur   \n",
       "2          3      bahrain   Bahrain International Circuit        Sakhir   \n",
       "3          4    catalunya  Circuit de Barcelona-Catalunya      Montmeló   \n",
       "4          5     istanbul                   Istanbul Park      Istanbul   \n",
       "\n",
       "     country       lat        lng  alt  \\\n",
       "0  Australia -37.84970  144.96800   10   \n",
       "1   Malaysia   2.76083  101.73800   18   \n",
       "2    Bahrain  26.03250   50.51060    7   \n",
       "3      Spain  41.57000    2.26111  109   \n",
       "4     Turkey  40.95170   29.40500  130   \n",
       "\n",
       "                                                 url  \n",
       "0  http://en.wikipedia.org/wiki/Melbourne_Grand_P...  \n",
       "1  http://en.wikipedia.org/wiki/Sepang_Internatio...  \n",
       "2  http://en.wikipedia.org/wiki/Bahrain_Internati...  \n",
       "3  http://en.wikipedia.org/wiki/Circuit_de_Barcel...  \n",
       "4         http://en.wikipedia.org/wiki/Istanbul_Park  "
      ]
     },
     "execution_count": 96,
     "metadata": {},
     "output_type": "execute_result"
    }
   ],
   "source": [
    "circuits.head()\n",
    "# constructor_results.head()\n",
    "# constructor_standings.head()\n",
    "# constructors.head()\n",
    "# driver_standings.head()\n",
    "# drivers.head()\n",
    "# lap_times.head()\n",
    "# pit_stops.head()\n",
    "# qualifying.head()\n",
    "# races.head()\n",
    "# results.head()\n",
    "# seasons.head()\n",
    "# sprint_results.head()\n",
    "# status.head()"
   ]
  },
  {
   "cell_type": "markdown",
   "id": "781ba846",
   "metadata": {},
   "source": [
    "A dataset **qualifying** tem missing values mas fazem sentido (q2 e q3, pois nem todos os drivers vão a estas fases).   \n",
    "Nenhuma das outras datasets contém missing values."
   ]
  },
  {
   "cell_type": "code",
   "execution_count": 97,
   "id": "09c5ff7d",
   "metadata": {},
   "outputs": [],
   "source": [
    "circuits['country'].replace('United States', 'USA', inplace=True)"
   ]
  },
  {
   "cell_type": "markdown",
   "id": "7222e641",
   "metadata": {},
   "source": [
    "# Visualizations"
   ]
  },
  {
   "cell_type": "markdown",
   "id": "0427fb6d",
   "metadata": {},
   "source": [
    "## Position of the driver in each lap of a race"
   ]
  },
  {
   "cell_type": "markdown",
   "id": "11fcee67",
   "metadata": {},
   "source": [
    "Exemplo de uma corrida ao calhas:"
   ]
  },
  {
   "cell_type": "code",
   "execution_count": 98,
   "id": "7f98abc7",
   "metadata": {},
   "outputs": [
    {
     "data": {
      "text/html": [
       "<div>\n",
       "<style scoped>\n",
       "    .dataframe tbody tr th:only-of-type {\n",
       "        vertical-align: middle;\n",
       "    }\n",
       "\n",
       "    .dataframe tbody tr th {\n",
       "        vertical-align: top;\n",
       "    }\n",
       "\n",
       "    .dataframe thead th {\n",
       "        text-align: right;\n",
       "    }\n",
       "</style>\n",
       "<table border=\"1\" class=\"dataframe\">\n",
       "  <thead>\n",
       "    <tr style=\"text-align: right;\">\n",
       "      <th></th>\n",
       "      <th>raceId</th>\n",
       "      <th>year</th>\n",
       "      <th>round</th>\n",
       "      <th>circuitId</th>\n",
       "      <th>name</th>\n",
       "      <th>date</th>\n",
       "      <th>time</th>\n",
       "      <th>url</th>\n",
       "    </tr>\n",
       "  </thead>\n",
       "  <tbody>\n",
       "    <tr>\n",
       "      <th>0</th>\n",
       "      <td>1</td>\n",
       "      <td>2009</td>\n",
       "      <td>1</td>\n",
       "      <td>1</td>\n",
       "      <td>Australian Grand Prix</td>\n",
       "      <td>3/29/2009</td>\n",
       "      <td>06:00:00</td>\n",
       "      <td>http://en.wikipedia.org/wiki/2009_Australian_G...</td>\n",
       "    </tr>\n",
       "  </tbody>\n",
       "</table>\n",
       "</div>"
      ],
      "text/plain": [
       "   raceId  year  round  circuitId                   name       date      time  \\\n",
       "0       1  2009      1          1  Australian Grand Prix  3/29/2009  06:00:00   \n",
       "\n",
       "                                                 url  \n",
       "0  http://en.wikipedia.org/wiki/2009_Australian_G...  "
      ]
     },
     "execution_count": 98,
     "metadata": {},
     "output_type": "execute_result"
    }
   ],
   "source": [
    "races.loc[(races['year']==2009) & (races['circuitId']==1)]"
   ]
  },
  {
   "cell_type": "code",
   "execution_count": 99,
   "id": "a60cf656",
   "metadata": {
    "scrolled": true
   },
   "outputs": [],
   "source": [
    "# choosing the race\n",
    "race = races.loc[(races['year']==2009) & (races['circuitId']==1)]['raceId'].values[0]\n",
    "\n",
    "\n",
    "#dataframe of lap_times for that race\n",
    "pos_per_lap = lap_times[lap_times['raceId']==race]  \n",
    "\n",
    "\n",
    "driver_ids = np.unique(pos_per_lap['driverId'].values).tolist() #list of the ids of the drivers in that race\n",
    "driver_names = [drivers.loc[drivers['driverId']==name]['surname'].values[0] for name in driver_ids] #names of the drivers\n",
    "driver_dict = {driver_ids[i]: driver_names[i] for i in range(len(driver_ids))} #dictionary with ids and names\n",
    "\n",
    "\n",
    "data_ppl = [dict(type='scatter',\n",
    "             x=pos_per_lap[pos_per_lap['driverId']==driver]['lap'],\n",
    "             y=pos_per_lap[pos_per_lap['driverId']==driver]['position'],\n",
    "             name=name)\n",
    "                            for driver, name in driver_dict.items()]\n",
    "\n",
    "layout_ppl = dict(title=dict(\n",
    "                        text='Position of the drivers in each lap'\n",
    "                  ),\n",
    "                  xaxis=dict(title='Laps'),\n",
    "                  yaxis=dict(title='Positions'))"
   ]
  },
  {
   "cell_type": "code",
   "execution_count": 100,
   "id": "09a5481b",
   "metadata": {
    "scrolled": false
   },
   "outputs": [
    {
     "data": {
      "application/vnd.plotly.v1+json": {
       "config": {
        "plotlyServerURL": "https://plot.ly"
       },
       "data": [
        {
         "name": "Hamilton",
         "type": "scatter",
         "x": [
          1,
          2,
          3,
          4,
          5,
          6,
          7,
          8,
          9,
          10,
          11,
          12,
          13,
          14,
          15,
          16,
          17,
          18,
          19,
          20,
          21,
          22,
          23,
          24,
          25,
          26,
          27,
          28,
          29,
          30,
          31,
          32,
          33,
          34,
          35,
          36,
          37,
          38,
          39,
          40,
          41,
          42,
          43,
          44,
          45,
          46,
          47,
          48,
          49,
          50,
          51,
          52,
          53,
          54,
          55,
          56,
          57,
          58
         ],
         "y": [
          13,
          12,
          11,
          10,
          10,
          9,
          9,
          9,
          9,
          8,
          14,
          15,
          15,
          15,
          15,
          15,
          15,
          14,
          13,
          12,
          12,
          12,
          12,
          12,
          10,
          10,
          10,
          10,
          10,
          10,
          9,
          9,
          8,
          8,
          8,
          8,
          8,
          8,
          7,
          6,
          5,
          5,
          8,
          10,
          10,
          10,
          10,
          10,
          9,
          9,
          8,
          7,
          7,
          6,
          6,
          3,
          4,
          4
         ]
        },
        {
         "name": "Heidfeld",
         "type": "scatter",
         "x": [
          1,
          2,
          3,
          4,
          5,
          6,
          7,
          8,
          9,
          10,
          11,
          12,
          13,
          14,
          15,
          16,
          17,
          18,
          19,
          20,
          21,
          22,
          23,
          24,
          25,
          26,
          27,
          28,
          29,
          30,
          31,
          32,
          33,
          34,
          35,
          36,
          37,
          38,
          39,
          40,
          41,
          42,
          43,
          44,
          45,
          46,
          47,
          48,
          49,
          50,
          51,
          52,
          53,
          54,
          55,
          56,
          57,
          58
         ],
         "y": [
          17,
          17,
          17,
          17,
          17,
          17,
          17,
          17,
          17,
          17,
          17,
          17,
          17,
          17,
          17,
          17,
          17,
          17,
          17,
          17,
          17,
          16,
          16,
          16,
          16,
          16,
          16,
          16,
          16,
          16,
          16,
          16,
          16,
          15,
          15,
          15,
          14,
          14,
          14,
          14,
          14,
          14,
          13,
          15,
          15,
          14,
          14,
          14,
          14,
          13,
          13,
          13,
          13,
          13,
          13,
          12,
          11,
          11
         ]
        },
        {
         "name": "Rosberg",
         "type": "scatter",
         "x": [
          1,
          2,
          3,
          4,
          5,
          6,
          7,
          8,
          9,
          10,
          11,
          12,
          13,
          14,
          15,
          16,
          17,
          18,
          19,
          20,
          21,
          22,
          23,
          24,
          25,
          26,
          27,
          28,
          29,
          30,
          31,
          32,
          33,
          34,
          35,
          36,
          37,
          38,
          39,
          40,
          41,
          42,
          43,
          44,
          45,
          46,
          47,
          48,
          49,
          50,
          51,
          52,
          53,
          54,
          55,
          56,
          57,
          58
         ],
         "y": [
          6,
          6,
          6,
          6,
          6,
          6,
          6,
          6,
          6,
          5,
          4,
          3,
          3,
          3,
          3,
          12,
          13,
          9,
          7,
          6,
          6,
          6,
          6,
          6,
          9,
          9,
          9,
          9,
          9,
          9,
          8,
          8,
          7,
          7,
          7,
          7,
          7,
          7,
          6,
          5,
          4,
          4,
          4,
          7,
          7,
          7,
          7,
          7,
          7,
          6,
          5,
          4,
          5,
          8,
          9,
          8,
          7,
          7
         ]
        },
        {
         "name": "Alonso",
         "type": "scatter",
         "x": [
          1,
          2,
          3,
          4,
          5,
          6,
          7,
          8,
          9,
          10,
          11,
          12,
          13,
          14,
          15,
          16,
          17,
          18,
          19,
          20,
          21,
          22,
          23,
          24,
          25,
          26,
          27,
          28,
          29,
          30,
          31,
          32,
          33,
          34,
          35,
          36,
          37,
          38,
          39,
          40,
          41,
          42,
          43,
          44,
          45,
          46,
          47,
          48,
          49,
          50,
          51,
          52,
          53,
          54,
          55,
          56,
          57,
          58
         ],
         "y": [
          14,
          15,
          15,
          15,
          14,
          14,
          14,
          14,
          14,
          12,
          10,
          9,
          9,
          9,
          9,
          8,
          8,
          5,
          12,
          13,
          13,
          13,
          13,
          13,
          11,
          11,
          11,
          11,
          11,
          11,
          10,
          10,
          9,
          9,
          9,
          9,
          9,
          9,
          9,
          8,
          7,
          7,
          6,
          5,
          5,
          5,
          5,
          5,
          5,
          5,
          7,
          9,
          9,
          9,
          8,
          6,
          6,
          6
         ]
        },
        {
         "name": "Nakajima",
         "type": "scatter",
         "x": [
          1,
          2,
          3,
          4,
          5,
          6,
          7,
          8,
          9,
          10,
          11,
          12,
          13,
          14,
          15,
          16,
          17
         ],
         "y": [
          8,
          8,
          8,
          8,
          8,
          8,
          8,
          8,
          8,
          7,
          6,
          5,
          5,
          5,
          5,
          4,
          4
         ]
        },
        {
         "name": "Bourdais",
         "type": "scatter",
         "x": [
          1,
          2,
          3,
          4,
          5,
          6,
          7,
          8,
          9,
          10,
          11,
          12,
          13,
          14,
          15,
          16,
          17,
          18,
          19,
          20,
          21,
          22,
          23,
          24,
          25,
          26,
          27,
          28,
          29,
          30,
          31,
          32,
          33,
          34,
          35,
          36,
          37,
          38,
          39,
          40,
          41,
          42,
          43,
          44,
          45,
          46,
          47,
          48,
          49,
          50,
          51,
          52,
          53,
          54,
          55,
          56,
          57,
          58
         ],
         "y": [
          12,
          13,
          13,
          14,
          15,
          16,
          16,
          16,
          16,
          16,
          16,
          16,
          16,
          16,
          16,
          16,
          16,
          15,
          15,
          15,
          15,
          15,
          15,
          15,
          15,
          15,
          15,
          15,
          15,
          15,
          15,
          15,
          15,
          14,
          14,
          14,
          15,
          15,
          15,
          15,
          15,
          15,
          14,
          13,
          13,
          12,
          12,
          12,
          11,
          11,
          11,
          11,
          11,
          11,
          11,
          10,
          9,
          9
         ]
        },
        {
         "name": "Räikkönen",
         "type": "scatter",
         "x": [
          1,
          2,
          3,
          4,
          5,
          6,
          7,
          8,
          9,
          10,
          11,
          12,
          13,
          14,
          15,
          16,
          17,
          18,
          19,
          20,
          21,
          22,
          23,
          24,
          25,
          26,
          27,
          28,
          29,
          30,
          31,
          32,
          33,
          34,
          35,
          36,
          37,
          38,
          39,
          40,
          41,
          42,
          43,
          44,
          45,
          46,
          47,
          48,
          49,
          50,
          51,
          52,
          53,
          54,
          55
         ],
         "y": [
          5,
          5,
          5,
          5,
          5,
          5,
          5,
          5,
          5,
          14,
          13,
          13,
          13,
          13,
          13,
          13,
          12,
          8,
          6,
          5,
          5,
          5,
          5,
          5,
          5,
          5,
          5,
          5,
          5,
          5,
          4,
          4,
          4,
          4,
          4,
          4,
          4,
          4,
          8,
          9,
          8,
          8,
          16,
          16,
          16,
          15,
          15,
          15,
          15,
          15,
          15,
          15,
          15,
          15,
          15
         ]
        },
        {
         "name": "Kubica",
         "type": "scatter",
         "x": [
          1,
          2,
          3,
          4,
          5,
          6,
          7,
          8,
          9,
          10,
          11,
          12,
          13,
          14,
          15,
          16,
          17,
          18,
          19,
          20,
          21,
          22,
          23,
          24,
          25,
          26,
          27,
          28,
          29,
          30,
          31,
          32,
          33,
          34,
          35,
          36,
          37,
          38,
          39,
          40,
          41,
          42,
          43,
          44,
          45,
          46,
          47,
          48,
          49,
          50,
          51,
          52,
          53,
          54,
          55
         ],
         "y": [
          4,
          4,
          4,
          4,
          4,
          4,
          4,
          4,
          4,
          4,
          3,
          11,
          12,
          12,
          12,
          11,
          11,
          7,
          4,
          4,
          4,
          4,
          4,
          4,
          4,
          4,
          4,
          4,
          4,
          4,
          3,
          3,
          3,
          3,
          3,
          3,
          3,
          3,
          4,
          7,
          6,
          6,
          5,
          4,
          4,
          4,
          4,
          4,
          4,
          4,
          3,
          3,
          3,
          3,
          3
         ]
        },
        {
         "name": "Glock",
         "type": "scatter",
         "x": [
          1,
          2,
          3,
          4,
          5,
          6,
          7,
          8,
          9,
          10,
          11,
          12,
          13,
          14,
          15,
          16,
          17,
          18,
          19,
          20,
          21,
          22,
          23,
          24,
          25,
          26,
          27,
          28,
          29,
          30,
          31,
          32,
          33,
          34,
          35,
          36,
          37,
          38,
          39,
          40,
          41,
          42,
          43,
          44,
          45,
          46,
          47,
          48,
          49,
          50,
          51,
          52,
          53,
          54,
          55,
          56,
          57,
          58
         ],
         "y": [
          16,
          16,
          16,
          16,
          16,
          15,
          15,
          15,
          15,
          13,
          12,
          10,
          10,
          10,
          10,
          9,
          9,
          13,
          11,
          11,
          11,
          11,
          11,
          11,
          12,
          12,
          12,
          12,
          12,
          12,
          11,
          11,
          10,
          10,
          10,
          10,
          10,
          10,
          10,
          10,
          9,
          9,
          7,
          6,
          6,
          6,
          6,
          6,
          6,
          8,
          9,
          8,
          8,
          7,
          7,
          5,
          5,
          5
         ]
        },
        {
         "name": "Piquet Jr.",
         "type": "scatter",
         "x": [
          1,
          2,
          3,
          4,
          5,
          6,
          7,
          8,
          9,
          10,
          11,
          12,
          13,
          14,
          15,
          16,
          17,
          18,
          19,
          20,
          21,
          22,
          23,
          24
         ],
         "y": [
          9,
          9,
          9,
          9,
          9,
          10,
          10,
          10,
          10,
          9,
          7,
          6,
          6,
          6,
          6,
          5,
          5,
          3,
          5,
          7,
          7,
          7,
          7,
          7
         ]
        },
        {
         "name": "Massa",
         "type": "scatter",
         "x": [
          1,
          2,
          3,
          4,
          5,
          6,
          7,
          8,
          9,
          10,
          11,
          12,
          13,
          14,
          15,
          16,
          17,
          18,
          19,
          20,
          21,
          22,
          23,
          24,
          25,
          26,
          27,
          28,
          29,
          30,
          31,
          32,
          33,
          34,
          35,
          36,
          37,
          38,
          39,
          40,
          41,
          42,
          43,
          44,
          45
         ],
         "y": [
          3,
          3,
          3,
          3,
          3,
          3,
          3,
          3,
          3,
          3,
          11,
          12,
          11,
          11,
          11,
          10,
          10,
          6,
          3,
          3,
          3,
          3,
          3,
          3,
          3,
          3,
          3,
          3,
          3,
          3,
          13,
          14,
          14,
          13,
          13,
          13,
          13,
          13,
          13,
          13,
          13,
          12,
          11,
          11,
          11
         ]
        },
        {
         "name": "Trulli",
         "type": "scatter",
         "x": [
          1,
          2,
          3,
          4,
          5,
          6,
          7,
          8,
          9,
          10,
          11,
          12,
          13,
          14,
          15,
          16,
          17,
          18,
          19,
          20,
          21,
          22,
          23,
          24,
          25,
          26,
          27,
          28,
          29,
          30,
          31,
          32,
          33,
          34,
          35,
          36,
          37,
          38,
          39,
          40,
          41,
          42,
          43,
          44,
          45,
          46,
          47,
          48,
          49,
          50,
          51,
          52,
          53,
          54,
          55,
          56,
          57,
          58
         ],
         "y": [
          15,
          14,
          14,
          13,
          13,
          13,
          13,
          13,
          13,
          15,
          15,
          14,
          14,
          14,
          14,
          14,
          14,
          10,
          8,
          8,
          8,
          8,
          8,
          8,
          6,
          6,
          6,
          6,
          6,
          6,
          5,
          5,
          12,
          12,
          12,
          12,
          12,
          12,
          12,
          12,
          12,
          11,
          10,
          9,
          9,
          9,
          9,
          9,
          8,
          7,
          6,
          6,
          6,
          5,
          5,
          4,
          3,
          3
         ]
        },
        {
         "name": "Sutil",
         "type": "scatter",
         "x": [
          1,
          2,
          3,
          4,
          5,
          6,
          7,
          8,
          9,
          10,
          11,
          12,
          13,
          14,
          15,
          16,
          17,
          18,
          19,
          20,
          21,
          22,
          23,
          24,
          25,
          26,
          27,
          28,
          29,
          30,
          31,
          32,
          33,
          34,
          35,
          36,
          37,
          38,
          39,
          40,
          41,
          42,
          43,
          44,
          45,
          46,
          47,
          48,
          49,
          50,
          51,
          52,
          53,
          54,
          55,
          56,
          57,
          58
         ],
         "y": [
          18,
          18,
          18,
          18,
          18,
          18,
          18,
          18,
          18,
          18,
          18,
          18,
          18,
          18,
          18,
          18,
          18,
          16,
          16,
          16,
          16,
          17,
          17,
          17,
          14,
          14,
          14,
          14,
          13,
          13,
          12,
          12,
          11,
          17,
          16,
          16,
          16,
          16,
          16,
          16,
          16,
          16,
          15,
          14,
          14,
          13,
          13,
          13,
          12,
          12,
          12,
          12,
          12,
          12,
          12,
          11,
          10,
          10
         ]
        },
        {
         "name": "Webber",
         "type": "scatter",
         "x": [
          1,
          2,
          3,
          4,
          5,
          6,
          7,
          8,
          9,
          10,
          11,
          12,
          13,
          14,
          15,
          16,
          17,
          18,
          19,
          20,
          21,
          22,
          23,
          24,
          25,
          26,
          27,
          28,
          29,
          30,
          31,
          32,
          33,
          34,
          35,
          36,
          37,
          38,
          39,
          40,
          41,
          42,
          43,
          44,
          45,
          46,
          47,
          48,
          49,
          50,
          51,
          52,
          53,
          54,
          55,
          56,
          57
         ],
         "y": [
          19,
          19,
          19,
          19,
          19,
          19,
          19,
          19,
          19,
          19,
          19,
          19,
          19,
          19,
          19,
          19,
          19,
          18,
          18,
          18,
          18,
          18,
          18,
          18,
          17,
          17,
          17,
          17,
          17,
          17,
          17,
          17,
          17,
          16,
          17,
          17,
          17,
          17,
          17,
          17,
          17,
          17,
          17,
          17,
          17,
          16,
          16,
          16,
          16,
          16,
          16,
          16,
          16,
          16,
          16,
          14,
          13
         ]
        },
        {
         "name": "Button",
         "type": "scatter",
         "x": [
          1,
          2,
          3,
          4,
          5,
          6,
          7,
          8,
          9,
          10,
          11,
          12,
          13,
          14,
          15,
          16,
          17,
          18,
          19,
          20,
          21,
          22,
          23,
          24,
          25,
          26,
          27,
          28,
          29,
          30,
          31,
          32,
          33,
          34,
          35,
          36,
          37,
          38,
          39,
          40,
          41,
          42,
          43,
          44,
          45,
          46,
          47,
          48,
          49,
          50,
          51,
          52,
          53,
          54,
          55,
          56,
          57,
          58
         ],
         "y": [
          1,
          1,
          1,
          1,
          1,
          1,
          1,
          1,
          1,
          1,
          1,
          1,
          1,
          1,
          1,
          1,
          1,
          1,
          1,
          1,
          1,
          1,
          1,
          1,
          1,
          1,
          1,
          1,
          1,
          1,
          1,
          1,
          1,
          1,
          1,
          1,
          1,
          1,
          1,
          1,
          1,
          1,
          1,
          1,
          1,
          1,
          1,
          1,
          1,
          1,
          1,
          1,
          1,
          1,
          1,
          1,
          1,
          1
         ]
        },
        {
         "name": "Vettel",
         "type": "scatter",
         "x": [
          1,
          2,
          3,
          4,
          5,
          6,
          7,
          8,
          9,
          10,
          11,
          12,
          13,
          14,
          15,
          16,
          17,
          18,
          19,
          20,
          21,
          22,
          23,
          24,
          25,
          26,
          27,
          28,
          29,
          30,
          31,
          32,
          33,
          34,
          35,
          36,
          37,
          38,
          39,
          40,
          41,
          42,
          43,
          44,
          45,
          46,
          47,
          48,
          49,
          50,
          51,
          52,
          53,
          54,
          55,
          56
         ],
         "y": [
          2,
          2,
          2,
          2,
          2,
          2,
          2,
          2,
          2,
          2,
          2,
          2,
          2,
          2,
          2,
          2,
          2,
          2,
          2,
          2,
          2,
          2,
          2,
          2,
          2,
          2,
          2,
          2,
          2,
          2,
          2,
          2,
          2,
          2,
          2,
          2,
          2,
          2,
          2,
          2,
          2,
          2,
          2,
          2,
          2,
          2,
          2,
          2,
          2,
          2,
          2,
          2,
          2,
          2,
          2,
          7
         ]
        },
        {
         "name": "Fisichella",
         "type": "scatter",
         "x": [
          1,
          2,
          3,
          4,
          5,
          6,
          7,
          8,
          9,
          10,
          11,
          12,
          13,
          14,
          15,
          16,
          17,
          18,
          19,
          20,
          21,
          22,
          23,
          24,
          25,
          26,
          27,
          28,
          29,
          30,
          31,
          32,
          33,
          34,
          35,
          36,
          37,
          38,
          39,
          40,
          41,
          42,
          43,
          44,
          45,
          46,
          47,
          48,
          49,
          50,
          51,
          52,
          53,
          54,
          55,
          56,
          57,
          58
         ],
         "y": [
          11,
          11,
          12,
          12,
          12,
          12,
          12,
          12,
          12,
          11,
          9,
          8,
          8,
          8,
          8,
          7,
          7,
          4,
          14,
          14,
          14,
          14,
          14,
          14,
          13,
          13,
          13,
          13,
          14,
          14,
          14,
          13,
          13,
          11,
          11,
          11,
          11,
          11,
          11,
          11,
          11,
          10,
          9,
          8,
          8,
          8,
          8,
          8,
          13,
          14,
          14,
          14,
          14,
          14,
          14,
          13,
          12,
          12
         ]
        },
        {
         "name": "Barrichello",
         "type": "scatter",
         "x": [
          1,
          2,
          3,
          4,
          5,
          6,
          7,
          8,
          9,
          10,
          11,
          12,
          13,
          14,
          15,
          16,
          17,
          18,
          19,
          20,
          21,
          22,
          23,
          24,
          25,
          26,
          27,
          28,
          29,
          30,
          31,
          32,
          33,
          34,
          35,
          36,
          37,
          38,
          39,
          40,
          41,
          42,
          43,
          44,
          45,
          46,
          47,
          48,
          49,
          50,
          51,
          52,
          53,
          54,
          55,
          56,
          57,
          58
         ],
         "y": [
          7,
          7,
          7,
          7,
          7,
          7,
          7,
          7,
          7,
          6,
          5,
          4,
          4,
          4,
          4,
          3,
          3,
          12,
          10,
          10,
          10,
          10,
          10,
          10,
          7,
          7,
          7,
          7,
          7,
          7,
          6,
          6,
          5,
          5,
          5,
          5,
          5,
          5,
          3,
          3,
          3,
          3,
          3,
          3,
          3,
          3,
          3,
          3,
          3,
          3,
          4,
          5,
          4,
          4,
          4,
          2,
          2,
          2
         ]
        },
        {
         "name": "Buemi",
         "type": "scatter",
         "x": [
          1,
          2,
          3,
          4,
          5,
          6,
          7,
          8,
          9,
          10,
          11,
          12,
          13,
          14,
          15,
          16,
          17,
          18,
          19,
          20,
          21,
          22,
          23,
          24,
          25,
          26,
          27,
          28,
          29,
          30,
          31,
          32,
          33,
          34,
          35,
          36,
          37,
          38,
          39,
          40,
          41,
          42,
          43,
          44,
          45,
          46,
          47,
          48,
          49,
          50,
          51,
          52,
          53,
          54,
          55,
          56,
          57,
          58
         ],
         "y": [
          10,
          10,
          10,
          11,
          11,
          11,
          11,
          11,
          11,
          10,
          8,
          7,
          7,
          7,
          7,
          6,
          6,
          11,
          9,
          9,
          9,
          9,
          9,
          9,
          8,
          8,
          8,
          8,
          8,
          8,
          7,
          7,
          6,
          6,
          6,
          6,
          6,
          6,
          5,
          4,
          10,
          13,
          12,
          12,
          12,
          11,
          11,
          11,
          10,
          10,
          10,
          10,
          10,
          10,
          10,
          9,
          8,
          8
         ]
        }
       ],
       "layout": {
        "template": {
         "data": {
          "bar": [
           {
            "error_x": {
             "color": "#2a3f5f"
            },
            "error_y": {
             "color": "#2a3f5f"
            },
            "marker": {
             "line": {
              "color": "#E5ECF6",
              "width": 0.5
             },
             "pattern": {
              "fillmode": "overlay",
              "size": 10,
              "solidity": 0.2
             }
            },
            "type": "bar"
           }
          ],
          "barpolar": [
           {
            "marker": {
             "line": {
              "color": "#E5ECF6",
              "width": 0.5
             },
             "pattern": {
              "fillmode": "overlay",
              "size": 10,
              "solidity": 0.2
             }
            },
            "type": "barpolar"
           }
          ],
          "carpet": [
           {
            "aaxis": {
             "endlinecolor": "#2a3f5f",
             "gridcolor": "white",
             "linecolor": "white",
             "minorgridcolor": "white",
             "startlinecolor": "#2a3f5f"
            },
            "baxis": {
             "endlinecolor": "#2a3f5f",
             "gridcolor": "white",
             "linecolor": "white",
             "minorgridcolor": "white",
             "startlinecolor": "#2a3f5f"
            },
            "type": "carpet"
           }
          ],
          "choropleth": [
           {
            "colorbar": {
             "outlinewidth": 0,
             "ticks": ""
            },
            "type": "choropleth"
           }
          ],
          "contour": [
           {
            "colorbar": {
             "outlinewidth": 0,
             "ticks": ""
            },
            "colorscale": [
             [
              0,
              "#0d0887"
             ],
             [
              0.1111111111111111,
              "#46039f"
             ],
             [
              0.2222222222222222,
              "#7201a8"
             ],
             [
              0.3333333333333333,
              "#9c179e"
             ],
             [
              0.4444444444444444,
              "#bd3786"
             ],
             [
              0.5555555555555556,
              "#d8576b"
             ],
             [
              0.6666666666666666,
              "#ed7953"
             ],
             [
              0.7777777777777778,
              "#fb9f3a"
             ],
             [
              0.8888888888888888,
              "#fdca26"
             ],
             [
              1,
              "#f0f921"
             ]
            ],
            "type": "contour"
           }
          ],
          "contourcarpet": [
           {
            "colorbar": {
             "outlinewidth": 0,
             "ticks": ""
            },
            "type": "contourcarpet"
           }
          ],
          "heatmap": [
           {
            "colorbar": {
             "outlinewidth": 0,
             "ticks": ""
            },
            "colorscale": [
             [
              0,
              "#0d0887"
             ],
             [
              0.1111111111111111,
              "#46039f"
             ],
             [
              0.2222222222222222,
              "#7201a8"
             ],
             [
              0.3333333333333333,
              "#9c179e"
             ],
             [
              0.4444444444444444,
              "#bd3786"
             ],
             [
              0.5555555555555556,
              "#d8576b"
             ],
             [
              0.6666666666666666,
              "#ed7953"
             ],
             [
              0.7777777777777778,
              "#fb9f3a"
             ],
             [
              0.8888888888888888,
              "#fdca26"
             ],
             [
              1,
              "#f0f921"
             ]
            ],
            "type": "heatmap"
           }
          ],
          "heatmapgl": [
           {
            "colorbar": {
             "outlinewidth": 0,
             "ticks": ""
            },
            "colorscale": [
             [
              0,
              "#0d0887"
             ],
             [
              0.1111111111111111,
              "#46039f"
             ],
             [
              0.2222222222222222,
              "#7201a8"
             ],
             [
              0.3333333333333333,
              "#9c179e"
             ],
             [
              0.4444444444444444,
              "#bd3786"
             ],
             [
              0.5555555555555556,
              "#d8576b"
             ],
             [
              0.6666666666666666,
              "#ed7953"
             ],
             [
              0.7777777777777778,
              "#fb9f3a"
             ],
             [
              0.8888888888888888,
              "#fdca26"
             ],
             [
              1,
              "#f0f921"
             ]
            ],
            "type": "heatmapgl"
           }
          ],
          "histogram": [
           {
            "marker": {
             "pattern": {
              "fillmode": "overlay",
              "size": 10,
              "solidity": 0.2
             }
            },
            "type": "histogram"
           }
          ],
          "histogram2d": [
           {
            "colorbar": {
             "outlinewidth": 0,
             "ticks": ""
            },
            "colorscale": [
             [
              0,
              "#0d0887"
             ],
             [
              0.1111111111111111,
              "#46039f"
             ],
             [
              0.2222222222222222,
              "#7201a8"
             ],
             [
              0.3333333333333333,
              "#9c179e"
             ],
             [
              0.4444444444444444,
              "#bd3786"
             ],
             [
              0.5555555555555556,
              "#d8576b"
             ],
             [
              0.6666666666666666,
              "#ed7953"
             ],
             [
              0.7777777777777778,
              "#fb9f3a"
             ],
             [
              0.8888888888888888,
              "#fdca26"
             ],
             [
              1,
              "#f0f921"
             ]
            ],
            "type": "histogram2d"
           }
          ],
          "histogram2dcontour": [
           {
            "colorbar": {
             "outlinewidth": 0,
             "ticks": ""
            },
            "colorscale": [
             [
              0,
              "#0d0887"
             ],
             [
              0.1111111111111111,
              "#46039f"
             ],
             [
              0.2222222222222222,
              "#7201a8"
             ],
             [
              0.3333333333333333,
              "#9c179e"
             ],
             [
              0.4444444444444444,
              "#bd3786"
             ],
             [
              0.5555555555555556,
              "#d8576b"
             ],
             [
              0.6666666666666666,
              "#ed7953"
             ],
             [
              0.7777777777777778,
              "#fb9f3a"
             ],
             [
              0.8888888888888888,
              "#fdca26"
             ],
             [
              1,
              "#f0f921"
             ]
            ],
            "type": "histogram2dcontour"
           }
          ],
          "mesh3d": [
           {
            "colorbar": {
             "outlinewidth": 0,
             "ticks": ""
            },
            "type": "mesh3d"
           }
          ],
          "parcoords": [
           {
            "line": {
             "colorbar": {
              "outlinewidth": 0,
              "ticks": ""
             }
            },
            "type": "parcoords"
           }
          ],
          "pie": [
           {
            "automargin": true,
            "type": "pie"
           }
          ],
          "scatter": [
           {
            "marker": {
             "colorbar": {
              "outlinewidth": 0,
              "ticks": ""
             }
            },
            "type": "scatter"
           }
          ],
          "scatter3d": [
           {
            "line": {
             "colorbar": {
              "outlinewidth": 0,
              "ticks": ""
             }
            },
            "marker": {
             "colorbar": {
              "outlinewidth": 0,
              "ticks": ""
             }
            },
            "type": "scatter3d"
           }
          ],
          "scattercarpet": [
           {
            "marker": {
             "colorbar": {
              "outlinewidth": 0,
              "ticks": ""
             }
            },
            "type": "scattercarpet"
           }
          ],
          "scattergeo": [
           {
            "marker": {
             "colorbar": {
              "outlinewidth": 0,
              "ticks": ""
             }
            },
            "type": "scattergeo"
           }
          ],
          "scattergl": [
           {
            "marker": {
             "colorbar": {
              "outlinewidth": 0,
              "ticks": ""
             }
            },
            "type": "scattergl"
           }
          ],
          "scattermapbox": [
           {
            "marker": {
             "colorbar": {
              "outlinewidth": 0,
              "ticks": ""
             }
            },
            "type": "scattermapbox"
           }
          ],
          "scatterpolar": [
           {
            "marker": {
             "colorbar": {
              "outlinewidth": 0,
              "ticks": ""
             }
            },
            "type": "scatterpolar"
           }
          ],
          "scatterpolargl": [
           {
            "marker": {
             "colorbar": {
              "outlinewidth": 0,
              "ticks": ""
             }
            },
            "type": "scatterpolargl"
           }
          ],
          "scatterternary": [
           {
            "marker": {
             "colorbar": {
              "outlinewidth": 0,
              "ticks": ""
             }
            },
            "type": "scatterternary"
           }
          ],
          "surface": [
           {
            "colorbar": {
             "outlinewidth": 0,
             "ticks": ""
            },
            "colorscale": [
             [
              0,
              "#0d0887"
             ],
             [
              0.1111111111111111,
              "#46039f"
             ],
             [
              0.2222222222222222,
              "#7201a8"
             ],
             [
              0.3333333333333333,
              "#9c179e"
             ],
             [
              0.4444444444444444,
              "#bd3786"
             ],
             [
              0.5555555555555556,
              "#d8576b"
             ],
             [
              0.6666666666666666,
              "#ed7953"
             ],
             [
              0.7777777777777778,
              "#fb9f3a"
             ],
             [
              0.8888888888888888,
              "#fdca26"
             ],
             [
              1,
              "#f0f921"
             ]
            ],
            "type": "surface"
           }
          ],
          "table": [
           {
            "cells": {
             "fill": {
              "color": "#EBF0F8"
             },
             "line": {
              "color": "white"
             }
            },
            "header": {
             "fill": {
              "color": "#C8D4E3"
             },
             "line": {
              "color": "white"
             }
            },
            "type": "table"
           }
          ]
         },
         "layout": {
          "annotationdefaults": {
           "arrowcolor": "#2a3f5f",
           "arrowhead": 0,
           "arrowwidth": 1
          },
          "autotypenumbers": "strict",
          "coloraxis": {
           "colorbar": {
            "outlinewidth": 0,
            "ticks": ""
           }
          },
          "colorscale": {
           "diverging": [
            [
             0,
             "#8e0152"
            ],
            [
             0.1,
             "#c51b7d"
            ],
            [
             0.2,
             "#de77ae"
            ],
            [
             0.3,
             "#f1b6da"
            ],
            [
             0.4,
             "#fde0ef"
            ],
            [
             0.5,
             "#f7f7f7"
            ],
            [
             0.6,
             "#e6f5d0"
            ],
            [
             0.7,
             "#b8e186"
            ],
            [
             0.8,
             "#7fbc41"
            ],
            [
             0.9,
             "#4d9221"
            ],
            [
             1,
             "#276419"
            ]
           ],
           "sequential": [
            [
             0,
             "#0d0887"
            ],
            [
             0.1111111111111111,
             "#46039f"
            ],
            [
             0.2222222222222222,
             "#7201a8"
            ],
            [
             0.3333333333333333,
             "#9c179e"
            ],
            [
             0.4444444444444444,
             "#bd3786"
            ],
            [
             0.5555555555555556,
             "#d8576b"
            ],
            [
             0.6666666666666666,
             "#ed7953"
            ],
            [
             0.7777777777777778,
             "#fb9f3a"
            ],
            [
             0.8888888888888888,
             "#fdca26"
            ],
            [
             1,
             "#f0f921"
            ]
           ],
           "sequentialminus": [
            [
             0,
             "#0d0887"
            ],
            [
             0.1111111111111111,
             "#46039f"
            ],
            [
             0.2222222222222222,
             "#7201a8"
            ],
            [
             0.3333333333333333,
             "#9c179e"
            ],
            [
             0.4444444444444444,
             "#bd3786"
            ],
            [
             0.5555555555555556,
             "#d8576b"
            ],
            [
             0.6666666666666666,
             "#ed7953"
            ],
            [
             0.7777777777777778,
             "#fb9f3a"
            ],
            [
             0.8888888888888888,
             "#fdca26"
            ],
            [
             1,
             "#f0f921"
            ]
           ]
          },
          "colorway": [
           "#636efa",
           "#EF553B",
           "#00cc96",
           "#ab63fa",
           "#FFA15A",
           "#19d3f3",
           "#FF6692",
           "#B6E880",
           "#FF97FF",
           "#FECB52"
          ],
          "font": {
           "color": "#2a3f5f"
          },
          "geo": {
           "bgcolor": "white",
           "lakecolor": "white",
           "landcolor": "#E5ECF6",
           "showlakes": true,
           "showland": true,
           "subunitcolor": "white"
          },
          "hoverlabel": {
           "align": "left"
          },
          "hovermode": "closest",
          "mapbox": {
           "style": "light"
          },
          "paper_bgcolor": "white",
          "plot_bgcolor": "#E5ECF6",
          "polar": {
           "angularaxis": {
            "gridcolor": "white",
            "linecolor": "white",
            "ticks": ""
           },
           "bgcolor": "#E5ECF6",
           "radialaxis": {
            "gridcolor": "white",
            "linecolor": "white",
            "ticks": ""
           }
          },
          "scene": {
           "xaxis": {
            "backgroundcolor": "#E5ECF6",
            "gridcolor": "white",
            "gridwidth": 2,
            "linecolor": "white",
            "showbackground": true,
            "ticks": "",
            "zerolinecolor": "white"
           },
           "yaxis": {
            "backgroundcolor": "#E5ECF6",
            "gridcolor": "white",
            "gridwidth": 2,
            "linecolor": "white",
            "showbackground": true,
            "ticks": "",
            "zerolinecolor": "white"
           },
           "zaxis": {
            "backgroundcolor": "#E5ECF6",
            "gridcolor": "white",
            "gridwidth": 2,
            "linecolor": "white",
            "showbackground": true,
            "ticks": "",
            "zerolinecolor": "white"
           }
          },
          "shapedefaults": {
           "line": {
            "color": "#2a3f5f"
           }
          },
          "ternary": {
           "aaxis": {
            "gridcolor": "white",
            "linecolor": "white",
            "ticks": ""
           },
           "baxis": {
            "gridcolor": "white",
            "linecolor": "white",
            "ticks": ""
           },
           "bgcolor": "#E5ECF6",
           "caxis": {
            "gridcolor": "white",
            "linecolor": "white",
            "ticks": ""
           }
          },
          "title": {
           "x": 0.05
          },
          "xaxis": {
           "automargin": true,
           "gridcolor": "white",
           "linecolor": "white",
           "ticks": "",
           "title": {
            "standoff": 15
           },
           "zerolinecolor": "white",
           "zerolinewidth": 2
          },
          "yaxis": {
           "automargin": true,
           "gridcolor": "white",
           "linecolor": "white",
           "ticks": "",
           "title": {
            "standoff": 15
           },
           "zerolinecolor": "white",
           "zerolinewidth": 2
          }
         }
        },
        "title": {
         "text": "Position of the drivers in each lap"
        },
        "xaxis": {
         "title": {
          "text": "Laps"
         }
        },
        "yaxis": {
         "title": {
          "text": "Positions"
         }
        }
       }
      }
     },
     "metadata": {},
     "output_type": "display_data"
    }
   ],
   "source": [
    "fig_ppl = go.Figure(data=data_ppl, layout=layout_ppl)\n",
    "\n",
    "fig_ppl.show()"
   ]
  },
  {
   "cell_type": "markdown",
   "id": "64b4d2d4",
   "metadata": {},
   "source": [
    "### PROBLEMA: Range das cores!!\n",
    "E porque raio há um com linha e pontos????"
   ]
  },
  {
   "cell_type": "code",
   "execution_count": null,
   "id": "c28aec13",
   "metadata": {},
   "outputs": [],
   "source": []
  },
  {
   "cell_type": "markdown",
   "id": "27c72031",
   "metadata": {},
   "source": [
    "## Sankey "
   ]
  },
  {
   "cell_type": "markdown",
   "id": "711e70e5",
   "metadata": {},
   "source": [
    "### Data preprocessing for Sankey"
   ]
  },
  {
   "cell_type": "code",
   "execution_count": 101,
   "id": "44ed089d",
   "metadata": {},
   "outputs": [],
   "source": [
    "year = 2021"
   ]
  },
  {
   "cell_type": "code",
   "execution_count": 102,
   "id": "0da39b31",
   "metadata": {},
   "outputs": [],
   "source": [
    "results['position'].replace(to_replace='\\\\N',value='DNF',inplace=True)\n",
    "# results['grid'].replace(to_replace=0,value='Pit',inplace=True)"
   ]
  },
  {
   "cell_type": "code",
   "execution_count": 103,
   "id": "99027eaf",
   "metadata": {},
   "outputs": [],
   "source": [
    "results_driver = results.merge(drivers[['driverId','driverRef','forename','surname','code','dob','nationality']],left_on='driverId',right_on='driverId')"
   ]
  },
  {
   "cell_type": "code",
   "execution_count": 104,
   "id": "dd95e0e1",
   "metadata": {},
   "outputs": [
    {
     "data": {
      "text/html": [
       "<div>\n",
       "<style scoped>\n",
       "    .dataframe tbody tr th:only-of-type {\n",
       "        vertical-align: middle;\n",
       "    }\n",
       "\n",
       "    .dataframe tbody tr th {\n",
       "        vertical-align: top;\n",
       "    }\n",
       "\n",
       "    .dataframe thead th {\n",
       "        text-align: right;\n",
       "    }\n",
       "</style>\n",
       "<table border=\"1\" class=\"dataframe\">\n",
       "  <thead>\n",
       "    <tr style=\"text-align: right;\">\n",
       "      <th></th>\n",
       "      <th>resultId</th>\n",
       "      <th>raceId</th>\n",
       "      <th>driverId</th>\n",
       "      <th>constructorId</th>\n",
       "      <th>number</th>\n",
       "      <th>grid</th>\n",
       "      <th>position</th>\n",
       "      <th>positionText</th>\n",
       "      <th>positionOrder</th>\n",
       "      <th>points</th>\n",
       "      <th>...</th>\n",
       "      <th>rank</th>\n",
       "      <th>fastestLapTime</th>\n",
       "      <th>fastestLapSpeed</th>\n",
       "      <th>statusId</th>\n",
       "      <th>driverRef</th>\n",
       "      <th>forename</th>\n",
       "      <th>surname</th>\n",
       "      <th>code</th>\n",
       "      <th>dob</th>\n",
       "      <th>nationality</th>\n",
       "    </tr>\n",
       "  </thead>\n",
       "  <tbody>\n",
       "    <tr>\n",
       "      <th>0</th>\n",
       "      <td>1</td>\n",
       "      <td>18</td>\n",
       "      <td>1</td>\n",
       "      <td>1</td>\n",
       "      <td>22</td>\n",
       "      <td>1</td>\n",
       "      <td>1</td>\n",
       "      <td>1</td>\n",
       "      <td>1</td>\n",
       "      <td>10.0</td>\n",
       "      <td>...</td>\n",
       "      <td>2</td>\n",
       "      <td>1:27.452</td>\n",
       "      <td>218.300</td>\n",
       "      <td>1</td>\n",
       "      <td>hamilton</td>\n",
       "      <td>Lewis</td>\n",
       "      <td>Hamilton</td>\n",
       "      <td>HAM</td>\n",
       "      <td>1985-01-07</td>\n",
       "      <td>British</td>\n",
       "    </tr>\n",
       "    <tr>\n",
       "      <th>1</th>\n",
       "      <td>27</td>\n",
       "      <td>19</td>\n",
       "      <td>1</td>\n",
       "      <td>1</td>\n",
       "      <td>22</td>\n",
       "      <td>9</td>\n",
       "      <td>5</td>\n",
       "      <td>5</td>\n",
       "      <td>5</td>\n",
       "      <td>4.0</td>\n",
       "      <td>...</td>\n",
       "      <td>3</td>\n",
       "      <td>1:35.462</td>\n",
       "      <td>209.033</td>\n",
       "      <td>1</td>\n",
       "      <td>hamilton</td>\n",
       "      <td>Lewis</td>\n",
       "      <td>Hamilton</td>\n",
       "      <td>HAM</td>\n",
       "      <td>1985-01-07</td>\n",
       "      <td>British</td>\n",
       "    </tr>\n",
       "    <tr>\n",
       "      <th>2</th>\n",
       "      <td>57</td>\n",
       "      <td>20</td>\n",
       "      <td>1</td>\n",
       "      <td>1</td>\n",
       "      <td>22</td>\n",
       "      <td>3</td>\n",
       "      <td>13</td>\n",
       "      <td>13</td>\n",
       "      <td>13</td>\n",
       "      <td>0.0</td>\n",
       "      <td>...</td>\n",
       "      <td>19</td>\n",
       "      <td>1:35.520</td>\n",
       "      <td>203.969</td>\n",
       "      <td>11</td>\n",
       "      <td>hamilton</td>\n",
       "      <td>Lewis</td>\n",
       "      <td>Hamilton</td>\n",
       "      <td>HAM</td>\n",
       "      <td>1985-01-07</td>\n",
       "      <td>British</td>\n",
       "    </tr>\n",
       "    <tr>\n",
       "      <th>3</th>\n",
       "      <td>69</td>\n",
       "      <td>21</td>\n",
       "      <td>1</td>\n",
       "      <td>1</td>\n",
       "      <td>22</td>\n",
       "      <td>5</td>\n",
       "      <td>3</td>\n",
       "      <td>3</td>\n",
       "      <td>3</td>\n",
       "      <td>6.0</td>\n",
       "      <td>...</td>\n",
       "      <td>3</td>\n",
       "      <td>1:22.017</td>\n",
       "      <td>204.323</td>\n",
       "      <td>1</td>\n",
       "      <td>hamilton</td>\n",
       "      <td>Lewis</td>\n",
       "      <td>Hamilton</td>\n",
       "      <td>HAM</td>\n",
       "      <td>1985-01-07</td>\n",
       "      <td>British</td>\n",
       "    </tr>\n",
       "    <tr>\n",
       "      <th>4</th>\n",
       "      <td>90</td>\n",
       "      <td>22</td>\n",
       "      <td>1</td>\n",
       "      <td>1</td>\n",
       "      <td>22</td>\n",
       "      <td>3</td>\n",
       "      <td>2</td>\n",
       "      <td>2</td>\n",
       "      <td>2</td>\n",
       "      <td>8.0</td>\n",
       "      <td>...</td>\n",
       "      <td>2</td>\n",
       "      <td>1:26.529</td>\n",
       "      <td>222.085</td>\n",
       "      <td>1</td>\n",
       "      <td>hamilton</td>\n",
       "      <td>Lewis</td>\n",
       "      <td>Hamilton</td>\n",
       "      <td>HAM</td>\n",
       "      <td>1985-01-07</td>\n",
       "      <td>British</td>\n",
       "    </tr>\n",
       "  </tbody>\n",
       "</table>\n",
       "<p>5 rows × 24 columns</p>\n",
       "</div>"
      ],
      "text/plain": [
       "   resultId  raceId  driverId  constructorId number  grid position  \\\n",
       "0         1      18         1              1     22     1        1   \n",
       "1        27      19         1              1     22     9        5   \n",
       "2        57      20         1              1     22     3       13   \n",
       "3        69      21         1              1     22     5        3   \n",
       "4        90      22         1              1     22     3        2   \n",
       "\n",
       "  positionText  positionOrder  points  ...  rank fastestLapTime  \\\n",
       "0            1              1    10.0  ...     2       1:27.452   \n",
       "1            5              5     4.0  ...     3       1:35.462   \n",
       "2           13             13     0.0  ...    19       1:35.520   \n",
       "3            3              3     6.0  ...     3       1:22.017   \n",
       "4            2              2     8.0  ...     2       1:26.529   \n",
       "\n",
       "  fastestLapSpeed statusId driverRef forename   surname  code         dob  \\\n",
       "0         218.300        1  hamilton    Lewis  Hamilton   HAM  1985-01-07   \n",
       "1         209.033        1  hamilton    Lewis  Hamilton   HAM  1985-01-07   \n",
       "2         203.969       11  hamilton    Lewis  Hamilton   HAM  1985-01-07   \n",
       "3         204.323        1  hamilton    Lewis  Hamilton   HAM  1985-01-07   \n",
       "4         222.085        1  hamilton    Lewis  Hamilton   HAM  1985-01-07   \n",
       "\n",
       "  nationality  \n",
       "0     British  \n",
       "1     British  \n",
       "2     British  \n",
       "3     British  \n",
       "4     British  \n",
       "\n",
       "[5 rows x 24 columns]"
      ]
     },
     "execution_count": 104,
     "metadata": {},
     "output_type": "execute_result"
    }
   ],
   "source": [
    "results_driver.head()"
   ]
  },
  {
   "cell_type": "code",
   "execution_count": 105,
   "id": "b208d385",
   "metadata": {},
   "outputs": [],
   "source": [
    "results_driver.insert(len(results_driver.columns),'driverName',results_driver['forename']+' '+results_driver['surname'])\n",
    "results_driver.drop(columns=['forename','surname'],axis=1,inplace=True)"
   ]
  },
  {
   "cell_type": "code",
   "execution_count": 106,
   "id": "bf7215a3",
   "metadata": {},
   "outputs": [],
   "source": [
    "# results_driver['position']=results_driver['position'].astype(int)"
   ]
  },
  {
   "cell_type": "code",
   "execution_count": 107,
   "id": "a989e816",
   "metadata": {},
   "outputs": [],
   "source": [
    "#races_year = races[races['year']==year]"
   ]
  },
  {
   "cell_type": "markdown",
   "id": "fd6d5bb4",
   "metadata": {},
   "source": [
    "#### Year"
   ]
  },
  {
   "cell_type": "code",
   "execution_count": 108,
   "id": "57038e08",
   "metadata": {},
   "outputs": [],
   "source": [
    "results_year = results_driver[results_driver['raceId']\\\n",
    "    .apply(lambda x: np.intersect1d(x,\\\n",
    "         races[races['year']==year]['raceId']).size > 0)]"
   ]
  },
  {
   "cell_type": "code",
   "execution_count": 109,
   "id": "e66bc8b3",
   "metadata": {},
   "outputs": [
    {
     "data": {
      "text/html": [
       "<div>\n",
       "<style scoped>\n",
       "    .dataframe tbody tr th:only-of-type {\n",
       "        vertical-align: middle;\n",
       "    }\n",
       "\n",
       "    .dataframe tbody tr th {\n",
       "        vertical-align: top;\n",
       "    }\n",
       "\n",
       "    .dataframe thead th {\n",
       "        text-align: right;\n",
       "    }\n",
       "</style>\n",
       "<table border=\"1\" class=\"dataframe\">\n",
       "  <thead>\n",
       "    <tr style=\"text-align: right;\">\n",
       "      <th></th>\n",
       "      <th>resultId</th>\n",
       "      <th>raceId</th>\n",
       "      <th>driverId</th>\n",
       "      <th>constructorId</th>\n",
       "      <th>number</th>\n",
       "      <th>grid</th>\n",
       "      <th>position</th>\n",
       "      <th>positionText</th>\n",
       "      <th>positionOrder</th>\n",
       "      <th>points</th>\n",
       "      <th>...</th>\n",
       "      <th>fastestLap</th>\n",
       "      <th>rank</th>\n",
       "      <th>fastestLapTime</th>\n",
       "      <th>fastestLapSpeed</th>\n",
       "      <th>statusId</th>\n",
       "      <th>driverRef</th>\n",
       "      <th>code</th>\n",
       "      <th>dob</th>\n",
       "      <th>nationality</th>\n",
       "      <th>driverName</th>\n",
       "    </tr>\n",
       "  </thead>\n",
       "  <tbody>\n",
       "    <tr>\n",
       "      <th>23428</th>\n",
       "      <td>25344</td>\n",
       "      <td>1071</td>\n",
       "      <td>817</td>\n",
       "      <td>1</td>\n",
       "      <td>3</td>\n",
       "      <td>11</td>\n",
       "      <td>DNF</td>\n",
       "      <td>R</td>\n",
       "      <td>19</td>\n",
       "      <td>0.0</td>\n",
       "      <td>...</td>\n",
       "      <td>40</td>\n",
       "      <td>17</td>\n",
       "      <td>1:14.443</td>\n",
       "      <td>208.379</td>\n",
       "      <td>75</td>\n",
       "      <td>ricciardo</td>\n",
       "      <td>RIC</td>\n",
       "      <td>1989-07-01</td>\n",
       "      <td>Australian</td>\n",
       "      <td>Daniel Ricciardo</td>\n",
       "    </tr>\n",
       "    <tr>\n",
       "      <th>23419</th>\n",
       "      <td>25150</td>\n",
       "      <td>1061</td>\n",
       "      <td>817</td>\n",
       "      <td>1</td>\n",
       "      <td>3</td>\n",
       "      <td>6</td>\n",
       "      <td>5</td>\n",
       "      <td>5</td>\n",
       "      <td>5</td>\n",
       "      <td>10.0</td>\n",
       "      <td>...</td>\n",
       "      <td>51</td>\n",
       "      <td>8</td>\n",
       "      <td>1:31.284</td>\n",
       "      <td>232.325</td>\n",
       "      <td>1</td>\n",
       "      <td>ricciardo</td>\n",
       "      <td>RIC</td>\n",
       "      <td>1989-07-01</td>\n",
       "      <td>Australian</td>\n",
       "      <td>Daniel Ricciardo</td>\n",
       "    </tr>\n",
       "    <tr>\n",
       "      <th>25382</th>\n",
       "      <td>25143</td>\n",
       "      <td>1060</td>\n",
       "      <td>854</td>\n",
       "      <td>210</td>\n",
       "      <td>47</td>\n",
       "      <td>19</td>\n",
       "      <td>18</td>\n",
       "      <td>18</td>\n",
       "      <td>18</td>\n",
       "      <td>0.0</td>\n",
       "      <td>...</td>\n",
       "      <td>56</td>\n",
       "      <td>18</td>\n",
       "      <td>1:09.394</td>\n",
       "      <td>224.007</td>\n",
       "      <td>12</td>\n",
       "      <td>mick_schumacher</td>\n",
       "      <td>MSC</td>\n",
       "      <td>1999-03-22</td>\n",
       "      <td>German</td>\n",
       "      <td>Mick Schumacher</td>\n",
       "    </tr>\n",
       "    <tr>\n",
       "      <th>1533</th>\n",
       "      <td>25175</td>\n",
       "      <td>1062</td>\n",
       "      <td>8</td>\n",
       "      <td>51</td>\n",
       "      <td>7</td>\n",
       "      <td>13</td>\n",
       "      <td>10</td>\n",
       "      <td>10</td>\n",
       "      <td>10</td>\n",
       "      <td>1.0</td>\n",
       "      <td>...</td>\n",
       "      <td>58</td>\n",
       "      <td>8</td>\n",
       "      <td>1:21.518</td>\n",
       "      <td>193.473</td>\n",
       "      <td>11</td>\n",
       "      <td>raikkonen</td>\n",
       "      <td>RAI</td>\n",
       "      <td>1979-10-17</td>\n",
       "      <td>Finnish</td>\n",
       "      <td>Kimi Räikkönen</td>\n",
       "    </tr>\n",
       "    <tr>\n",
       "      <th>23220</th>\n",
       "      <td>25400</td>\n",
       "      <td>1073</td>\n",
       "      <td>815</td>\n",
       "      <td>9</td>\n",
       "      <td>11</td>\n",
       "      <td>4</td>\n",
       "      <td>15</td>\n",
       "      <td>15</td>\n",
       "      <td>15</td>\n",
       "      <td>0.0</td>\n",
       "      <td>...</td>\n",
       "      <td>51</td>\n",
       "      <td>2</td>\n",
       "      <td>1:26.419</td>\n",
       "      <td>219.993</td>\n",
       "      <td>5</td>\n",
       "      <td>perez</td>\n",
       "      <td>PER</td>\n",
       "      <td>1990-01-26</td>\n",
       "      <td>Mexican</td>\n",
       "      <td>Sergio Pérez</td>\n",
       "    </tr>\n",
       "  </tbody>\n",
       "</table>\n",
       "<p>5 rows × 23 columns</p>\n",
       "</div>"
      ],
      "text/plain": [
       "       resultId  raceId  driverId  constructorId number  grid position  \\\n",
       "23428     25344    1071       817              1      3    11      DNF   \n",
       "23419     25150    1061       817              1      3     6        5   \n",
       "25382     25143    1060       854            210     47    19       18   \n",
       "1533      25175    1062         8             51      7    13       10   \n",
       "23220     25400    1073       815              9     11     4       15   \n",
       "\n",
       "      positionText  positionOrder  points  ...  fastestLap rank  \\\n",
       "23428            R             19     0.0  ...          40   17   \n",
       "23419            5              5    10.0  ...          51    8   \n",
       "25382           18             18     0.0  ...          56   18   \n",
       "1533            10             10     1.0  ...          58    8   \n",
       "23220           15             15     0.0  ...          51    2   \n",
       "\n",
       "      fastestLapTime fastestLapSpeed statusId        driverRef code  \\\n",
       "23428       1:14.443         208.379       75        ricciardo  RIC   \n",
       "23419       1:31.284         232.325        1        ricciardo  RIC   \n",
       "25382       1:09.394         224.007       12  mick_schumacher  MSC   \n",
       "1533        1:21.518         193.473       11        raikkonen  RAI   \n",
       "23220       1:26.419         219.993        5            perez  PER   \n",
       "\n",
       "              dob nationality        driverName  \n",
       "23428  1989-07-01  Australian  Daniel Ricciardo  \n",
       "23419  1989-07-01  Australian  Daniel Ricciardo  \n",
       "25382  1999-03-22      German   Mick Schumacher  \n",
       "1533   1979-10-17     Finnish    Kimi Räikkönen  \n",
       "23220  1990-01-26     Mexican      Sergio Pérez  \n",
       "\n",
       "[5 rows x 23 columns]"
      ]
     },
     "execution_count": 109,
     "metadata": {},
     "output_type": "execute_result"
    }
   ],
   "source": [
    "results_year.sample(5)"
   ]
  },
  {
   "cell_type": "code",
   "execution_count": 110,
   "id": "04b70cb8",
   "metadata": {},
   "outputs": [],
   "source": [
    "results_y = results_year[['driverId',\\\n",
    "    'driverName','raceId','grid','position','code','dob','nationality']]"
   ]
  },
  {
   "cell_type": "code",
   "execution_count": 111,
   "id": "21df3d8c",
   "metadata": {},
   "outputs": [],
   "source": [
    "results_y_abr = results_y[['position','grid','driverName']].sort_values(['position','grid','driverName'])"
   ]
  },
  {
   "cell_type": "markdown",
   "id": "8f7fb244",
   "metadata": {},
   "source": [
    "A grid position value of '0' indicates the driver started from the pit lane."
   ]
  },
  {
   "cell_type": "code",
   "execution_count": 112,
   "id": "fda7b2ce",
   "metadata": {},
   "outputs": [
    {
     "data": {
      "text/html": [
       "<div>\n",
       "<style scoped>\n",
       "    .dataframe tbody tr th:only-of-type {\n",
       "        vertical-align: middle;\n",
       "    }\n",
       "\n",
       "    .dataframe tbody tr th {\n",
       "        vertical-align: top;\n",
       "    }\n",
       "\n",
       "    .dataframe thead th {\n",
       "        text-align: right;\n",
       "    }\n",
       "</style>\n",
       "<table border=\"1\" class=\"dataframe\">\n",
       "  <thead>\n",
       "    <tr style=\"text-align: right;\">\n",
       "      <th></th>\n",
       "      <th>position</th>\n",
       "      <th>grid</th>\n",
       "      <th>driverName</th>\n",
       "    </tr>\n",
       "  </thead>\n",
       "  <tbody>\n",
       "    <tr>\n",
       "      <th>269</th>\n",
       "      <td>1</td>\n",
       "      <td>1</td>\n",
       "      <td>Lewis Hamilton</td>\n",
       "    </tr>\n",
       "    <tr>\n",
       "      <th>285</th>\n",
       "      <td>1</td>\n",
       "      <td>1</td>\n",
       "      <td>Lewis Hamilton</td>\n",
       "    </tr>\n",
       "    <tr>\n",
       "      <th>286</th>\n",
       "      <td>1</td>\n",
       "      <td>1</td>\n",
       "      <td>Lewis Hamilton</td>\n",
       "    </tr>\n",
       "    <tr>\n",
       "      <th>24514</th>\n",
       "      <td>1</td>\n",
       "      <td>1</td>\n",
       "      <td>Max Verstappen</td>\n",
       "    </tr>\n",
       "    <tr>\n",
       "      <th>24515</th>\n",
       "      <td>1</td>\n",
       "      <td>1</td>\n",
       "      <td>Max Verstappen</td>\n",
       "    </tr>\n",
       "  </tbody>\n",
       "</table>\n",
       "</div>"
      ],
      "text/plain": [
       "      position  grid      driverName\n",
       "269          1     1  Lewis Hamilton\n",
       "285          1     1  Lewis Hamilton\n",
       "286          1     1  Lewis Hamilton\n",
       "24514        1     1  Max Verstappen\n",
       "24515        1     1  Max Verstappen"
      ]
     },
     "execution_count": 112,
     "metadata": {},
     "output_type": "execute_result"
    }
   ],
   "source": [
    "results_y_abr.head()"
   ]
  },
  {
   "cell_type": "code",
   "execution_count": 113,
   "id": "ecbc8bda",
   "metadata": {},
   "outputs": [],
   "source": [
    "results_y_abr['driverGrid'] = \\\n",
    "results_y_abr['driverName'] + ' - ' + results_y_abr['grid'].astype(str)"
   ]
  },
  {
   "cell_type": "code",
   "execution_count": 114,
   "id": "ad5b83f1",
   "metadata": {},
   "outputs": [],
   "source": [
    "results_y_abr.drop(columns=['grid','driverName'],inplace=True)"
   ]
  },
  {
   "cell_type": "code",
   "execution_count": 115,
   "id": "46717600",
   "metadata": {},
   "outputs": [],
   "source": [
    "d_g_list = []\n",
    "\n",
    "curr_d_g = list(results_y_abr.iloc[0,:]) + [1]\n",
    "\n",
    "for i in range(1,len(results_y_abr['position'])):\n",
    "    if results_y_abr['position'].iloc[i] == results_y_abr['position'].iloc[i-1]:\n",
    "        if results_y_abr['driverGrid'].iloc[i] == results_y_abr['driverGrid'].iloc[i-1]:\n",
    "            curr_d_g[2] += 1\n",
    "        else:\n",
    "            d_g_list.append(curr_d_g)\n",
    "            curr_d_g = list(results_y_abr.iloc[i,:]) + [1]\n",
    "    else:\n",
    "        d_g_list.append(curr_d_g)\n",
    "        curr_d_g = list(results_y_abr.iloc[i,:]) + [1]\n",
    "\n",
    "d_g_list.append(curr_d_g)"
   ]
  },
  {
   "cell_type": "code",
   "execution_count": 116,
   "id": "4ae525d1",
   "metadata": {},
   "outputs": [
    {
     "data": {
      "text/plain": [
       "[['1', 'Lewis Hamilton - 1', 3],\n",
       " ['1', 'Max Verstappen - 1', 7],\n",
       " ['1', 'Valtteri Bottas - 1', 1],\n",
       " ['1', 'Daniel Ricciardo - 2', 1],\n",
       " ['1', 'Lewis Hamilton - 2', 3],\n",
       " ['1', 'Max Verstappen - 2', 1],\n",
       " ['1', 'Max Verstappen - 3', 2],\n",
       " ['1', 'Lewis Hamilton - 4', 1],\n",
       " ['1', 'Sergio Pérez - 6', 1],\n",
       " ['1', 'Esteban Ocon - 8', 1],\n",
       " ['1', 'Lewis Hamilton - 10', 1],\n",
       " ['10', 'George Russell - 3', 1],\n",
       " ['10', 'Lando Norris - 5', 1],\n",
       " ['10', 'Charles Leclerc - 7', 1],\n",
       " ['10', 'Lando Norris - 7', 1],\n",
       " ['10', 'Pierre Gasly - 9', 1],\n",
       " ['10', 'Antonio Giovinazzi - 10', 1],\n",
       " ['10', 'Lance Stroll - 10', 1],\n",
       " ['10', 'Sebastian Vettel - 10', 1],\n",
       " ['10', 'Carlos Sainz - 11', 1]]"
      ]
     },
     "execution_count": 116,
     "metadata": {},
     "output_type": "execute_result"
    }
   ],
   "source": [
    "d_g_list[:20]"
   ]
  },
  {
   "cell_type": "code",
   "execution_count": 117,
   "id": "256549d4",
   "metadata": {},
   "outputs": [],
   "source": [
    "d_g_frame = pd.DataFrame(d_g_list,columns=['position','name','weight'])\\\n",
    "    .sort_values(['position','weight'],ascending=[True,False])"
   ]
  },
  {
   "cell_type": "code",
   "execution_count": 118,
   "id": "bc10d7d6",
   "metadata": {},
   "outputs": [],
   "source": [
    "labels_line = list(d_g_frame['name'])+list(d_g_frame['position'])\n",
    "labels_uni_line = list(dict.fromkeys(labels_line))\n",
    "labels_final = [labels_uni_line.index(x) for x in labels_line]\n",
    "weights_final = list(d_g_frame['weight'])"
   ]
  },
  {
   "cell_type": "code",
   "execution_count": 119,
   "id": "e6bda130",
   "metadata": {},
   "outputs": [
    {
     "data": {
      "application/vnd.plotly.v1+json": {
       "config": {
        "plotlyServerURL": "https://plot.ly"
       },
       "data": [
        {
         "link": {
          "source": [
           0,
           1,
           2,
           3,
           4,
           5,
           6,
           7,
           8,
           9,
           10,
           11,
           12,
           13,
           14,
           15,
           16,
           17,
           18,
           19,
           20,
           21,
           22,
           23,
           24,
           25,
           26,
           27,
           28,
           29,
           30,
           31,
           32,
           26,
           33,
           34,
           35,
           36,
           37,
           38,
           39,
           40,
           41,
           42,
           43,
           44,
           45,
           46,
           47,
           48,
           49,
           50,
           43,
           51,
           52,
           53,
           54,
           38,
           19,
           55,
           56,
           57,
           58,
           59,
           60,
           61,
           62,
           63,
           64,
           65,
           66,
           67,
           68,
           69,
           70,
           71,
           72,
           19,
           42,
           73,
           74,
           60,
           75,
           76,
           77,
           78,
           46,
           79,
           80,
           81,
           82,
           83,
           84,
           85,
           86,
           70,
           71,
           87,
           88,
           89,
           90,
           77,
           91,
           80,
           92,
           93,
           94,
           95,
           96,
           97,
           98,
           99,
           100,
           101,
           4,
           2,
           102,
           103,
           90,
           104,
           23,
           76,
           105,
           106,
           77,
           107,
           80,
           108,
           28,
           109,
           110,
           111,
           112,
           113,
           65,
           110,
           98,
           114,
           115,
           116,
           14,
           117,
           118,
           119,
           28,
           92,
           83,
           111,
           120,
           121,
           122,
           123,
           117,
           56,
           124,
           45,
           86,
           125,
           65,
           51,
           126,
           97,
           98,
           110,
           127,
           128,
           52,
           19,
           65,
           83,
           95,
           111,
           98,
           66,
           128,
           115,
           129,
           130,
           111,
           2,
           6,
           1,
           3,
           0,
           131,
           132,
           133,
           134,
           135,
           136,
           56,
           137,
           97,
           31,
           138,
           4,
           102,
           139,
           140,
           141,
           142,
           143,
           144,
           145,
           32,
           13,
           135,
           8,
           15,
           146,
           147,
           134,
           102,
           148,
           149,
           138,
           150,
           7,
           145,
           151,
           152,
           13,
           122,
           15,
           71,
           87,
           153,
           154,
           155,
           156,
           157,
           115,
           132,
           151,
           122,
           158,
           159,
           15,
           160,
           161,
           162,
           87,
           163,
           164,
           20,
           40,
           165,
           22,
           166,
           167,
           168,
           169,
           144,
           134,
           145,
           156,
           170,
           171,
           53,
           160,
           172,
           153,
           173,
           164,
           38,
           174,
           59,
           28,
           32,
           168,
           175,
           132,
           134,
           122,
           156,
           176,
           167,
           14,
           177,
           15,
           178,
           179,
           54,
           9,
           72,
           37,
           73,
           111,
           115,
           32,
           15,
           180,
           9,
           181,
           153,
           72,
           163,
           123,
           182,
           18,
           183,
           184,
           185,
           74,
           23,
           60,
           186,
           146,
           82,
           187,
           87,
           44,
           3,
           188,
           189,
           167,
           9,
           172,
           190,
           157,
           17,
           191,
           192,
           89,
           193,
           73,
           194,
           63,
           195,
           0,
           129,
           121,
           128,
           196,
           69,
           148,
           141,
           3,
           138,
           7,
           102,
           197,
           198,
           167,
           171,
           14,
           199,
           162,
           200,
           153,
           201,
           19,
           40,
           89,
           11,
           58,
           59,
           76,
           63,
           186,
           105,
           106,
           86,
           78,
           65,
           202,
           28,
           93,
           82,
           95,
           203,
           204,
           48,
           97,
           205,
           31,
           98
          ],
          "target": [
           206,
           206,
           206,
           206,
           206,
           206,
           206,
           206,
           206,
           206,
           206,
           207,
           207,
           207,
           207,
           207,
           207,
           207,
           207,
           207,
           207,
           207,
           207,
           207,
           207,
           207,
           207,
           207,
           207,
           207,
           207,
           207,
           208,
           208,
           208,
           208,
           208,
           208,
           208,
           208,
           208,
           208,
           208,
           208,
           208,
           208,
           208,
           208,
           208,
           208,
           208,
           208,
           209,
           209,
           209,
           209,
           209,
           209,
           209,
           209,
           209,
           209,
           209,
           209,
           209,
           209,
           209,
           209,
           209,
           209,
           209,
           209,
           210,
           210,
           210,
           210,
           210,
           210,
           210,
           210,
           210,
           210,
           210,
           210,
           210,
           210,
           210,
           210,
           210,
           210,
           210,
           210,
           210,
           210,
           211,
           211,
           211,
           211,
           211,
           211,
           211,
           211,
           211,
           211,
           211,
           211,
           211,
           211,
           211,
           211,
           211,
           211,
           211,
           212,
           212,
           212,
           212,
           212,
           212,
           212,
           212,
           212,
           212,
           212,
           212,
           212,
           212,
           212,
           212,
           212,
           212,
           212,
           212,
           212,
           213,
           213,
           213,
           213,
           213,
           213,
           213,
           213,
           213,
           213,
           213,
           213,
           213,
           213,
           213,
           214,
           214,
           214,
           214,
           214,
           214,
           214,
           214,
           214,
           214,
           214,
           214,
           214,
           214,
           215,
           215,
           215,
           215,
           215,
           215,
           215,
           215,
           215,
           215,
           215,
           216,
           216,
           216,
           216,
           216,
           217,
           217,
           217,
           217,
           217,
           217,
           217,
           217,
           217,
           217,
           217,
           217,
           217,
           218,
           218,
           219,
           219,
           219,
           219,
           219,
           219,
           219,
           219,
           219,
           219,
           219,
           219,
           219,
           219,
           219,
           219,
           219,
           220,
           220,
           220,
           220,
           220,
           220,
           220,
           220,
           220,
           220,
           220,
           220,
           220,
           220,
           220,
           220,
           220,
           220,
           221,
           221,
           221,
           221,
           221,
           221,
           221,
           221,
           221,
           221,
           221,
           221,
           221,
           221,
           221,
           221,
           221,
           221,
           221,
           221,
           222,
           222,
           222,
           222,
           222,
           222,
           222,
           222,
           222,
           222,
           222,
           222,
           222,
           222,
           222,
           222,
           222,
           222,
           222,
           223,
           223,
           223,
           223,
           223,
           223,
           223,
           223,
           223,
           223,
           223,
           223,
           223,
           223,
           223,
           223,
           223,
           223,
           223,
           223,
           224,
           224,
           224,
           224,
           224,
           224,
           224,
           224,
           224,
           224,
           224,
           224,
           224,
           224,
           224,
           224,
           224,
           224,
           224,
           224,
           224,
           224,
           225,
           225,
           225,
           225,
           225,
           225,
           225,
           225,
           225,
           225,
           225,
           225,
           225,
           225,
           225,
           225,
           225,
           225,
           225,
           226,
           226,
           226,
           226,
           226,
           226,
           226,
           226,
           226,
           226,
           226,
           226,
           226,
           226,
           226,
           226,
           226,
           226,
           226,
           226,
           226,
           226,
           226,
           226,
           226,
           226,
           226,
           226,
           226,
           226,
           226,
           226,
           226,
           226,
           226,
           226,
           226,
           226,
           226,
           226,
           226,
           226,
           226,
           226,
           226,
           226,
           226,
           226
          ],
          "value": [
           7,
           3,
           3,
           2,
           1,
           1,
           1,
           1,
           1,
           1,
           1,
           2,
           1,
           1,
           1,
           1,
           1,
           1,
           1,
           1,
           1,
           1,
           1,
           1,
           1,
           1,
           1,
           1,
           1,
           1,
           1,
           1,
           2,
           2,
           1,
           1,
           1,
           1,
           1,
           1,
           1,
           1,
           1,
           1,
           1,
           1,
           1,
           1,
           1,
           1,
           1,
           1,
           2,
           2,
           1,
           1,
           1,
           1,
           1,
           1,
           1,
           1,
           1,
           1,
           1,
           1,
           1,
           1,
           1,
           1,
           1,
           1,
           1,
           1,
           1,
           1,
           1,
           1,
           1,
           1,
           1,
           1,
           1,
           1,
           1,
           1,
           1,
           1,
           1,
           1,
           1,
           1,
           1,
           1,
           3,
           1,
           1,
           1,
           1,
           1,
           1,
           1,
           1,
           1,
           1,
           1,
           1,
           1,
           1,
           1,
           1,
           1,
           1,
           1,
           1,
           1,
           1,
           1,
           1,
           1,
           1,
           1,
           1,
           1,
           1,
           1,
           1,
           1,
           1,
           1,
           1,
           1,
           1,
           1,
           2,
           2,
           2,
           1,
           1,
           1,
           1,
           1,
           1,
           1,
           1,
           1,
           1,
           1,
           1,
           4,
           1,
           1,
           1,
           1,
           1,
           1,
           1,
           1,
           1,
           1,
           1,
           1,
           1,
           3,
           2,
           2,
           1,
           1,
           1,
           1,
           1,
           1,
           1,
           1,
           3,
           1,
           1,
           1,
           1,
           6,
           3,
           2,
           2,
           1,
           1,
           1,
           1,
           1,
           1,
           1,
           1,
           1,
           2,
           1,
           4,
           2,
           2,
           1,
           1,
           1,
           1,
           1,
           1,
           1,
           1,
           1,
           1,
           1,
           1,
           1,
           1,
           3,
           3,
           1,
           1,
           1,
           1,
           1,
           1,
           1,
           1,
           1,
           1,
           1,
           1,
           1,
           1,
           1,
           1,
           2,
           2,
           1,
           1,
           1,
           1,
           1,
           1,
           1,
           1,
           1,
           1,
           1,
           1,
           1,
           1,
           1,
           1,
           1,
           1,
           3,
           2,
           1,
           1,
           1,
           1,
           1,
           1,
           1,
           1,
           1,
           1,
           1,
           1,
           1,
           1,
           1,
           1,
           1,
           2,
           2,
           1,
           1,
           1,
           1,
           1,
           1,
           1,
           1,
           1,
           1,
           1,
           1,
           1,
           1,
           1,
           1,
           1,
           1,
           1,
           1,
           1,
           1,
           1,
           1,
           1,
           1,
           1,
           1,
           1,
           1,
           1,
           1,
           1,
           1,
           1,
           1,
           1,
           1,
           1,
           1,
           3,
           2,
           1,
           1,
           1,
           1,
           1,
           1,
           1,
           1,
           1,
           1,
           1,
           1,
           1,
           1,
           1,
           1,
           1,
           2,
           2,
           2,
           2,
           1,
           1,
           1,
           1,
           1,
           1,
           1,
           1,
           1,
           1,
           1,
           1,
           1,
           1,
           1,
           1,
           1,
           1,
           1,
           1,
           1,
           1,
           1,
           1,
           1,
           1,
           1,
           1,
           1,
           1,
           1,
           1,
           1,
           1,
           1,
           1,
           1,
           1,
           1,
           1,
           1,
           1,
           1,
           1
          ]
         },
         "node": {
          "label": [
           "Max Verstappen - 1",
           "Lewis Hamilton - 1",
           "Lewis Hamilton - 2",
           "Max Verstappen - 3",
           "Valtteri Bottas - 1",
           "Daniel Ricciardo - 2",
           "Max Verstappen - 2",
           "Lewis Hamilton - 4",
           "Sergio Pérez - 6",
           "Esteban Ocon - 8",
           "Lewis Hamilton - 10",
           "Esteban Ocon - 12",
           "George Russell - 3",
           "Lando Norris - 5",
           "Charles Leclerc - 7",
           "Lando Norris - 7",
           "Pierre Gasly - 9",
           "Antonio Giovinazzi - 10",
           "Lance Stroll - 10",
           "Sebastian Vettel - 10",
           "Carlos Sainz - 11",
           "Yuki Tsunoda - 11",
           "Pierre Gasly - 12",
           "Kimi Räikkönen - 13",
           "Lando Norris - 13",
           "Fernando Alonso - 14",
           "Kimi Räikkönen - 14",
           "Fernando Alonso - 15",
           "Yuki Tsunoda - 16",
           "Lando Norris - 18",
           "Sebastian Vettel - 18",
           "Lance Stroll - 19",
           "Carlos Sainz - 5",
           "Pierre Gasly - 2",
           "Sergio Pérez - 2",
           "Lance Stroll - 7",
           "George Russell - 8",
           "Sebastian Vettel - 9",
           "Daniel Ricciardo - 10",
           "Antonio Giovinazzi - 11",
           "Daniel Ricciardo - 11",
           "Lance Stroll - 11",
           "Pierre Gasly - 11",
           "Antonio Giovinazzi - 12",
           "Fernando Alonso - 12",
           "Nicholas Latifi - 13",
           "Sebastian Vettel - 15",
           "Antonio Giovinazzi - 16",
           "Kimi Räikkönen - 18",
           "Lance Stroll - 18",
           "Antonio Giovinazzi - 20",
           "Kimi Räikkönen - 17",
           "Kimi Räikkönen - 0",
           "Daniel Ricciardo - 7",
           "Yuki Tsunoda - 7",
           "Valtteri Bottas - 10",
           "Sebastian Vettel - 11",
           "Daniel Ricciardo - 12",
           "George Russell - 12",
           "Lance Stroll - 12",
           "Lance Stroll - 13",
           "Valtteri Bottas - 13",
           "Daniel Ricciardo - 14",
           "George Russell - 14",
           "Sebastian Vettel - 14",
           "Nicholas Latifi - 16",
           "Mick Schumacher - 20",
           "Yuki Tsunoda - 20",
           "Antonio Giovinazzi - 0",
           "Yuki Tsunoda - 0",
           "Antonio Giovinazzi - 7",
           "Yuki Tsunoda - 8",
           "Lance Stroll - 9",
           "Daniel Ricciardo - 13",
           "Fernando Alonso - 13",
           "Sebastian Vettel - 13",
           "Antonio Giovinazzi - 14",
           "Antonio Giovinazzi - 15",
           "Kimi Räikkönen - 15",
           "Esteban Ocon - 16",
           "Kimi Räikkönen - 16",
           "Fernando Alonso - 17",
           "George Russell - 17",
           "Mick Schumacher - 17",
           "Esteban Ocon - 19",
           "Daniel Ricciardo - 20",
           "George Russell - 15",
           "Esteban Ocon - 9",
           "Yuki Tsunoda - 9",
           "Esteban Ocon - 11",
           "Antonio Giovinazzi - 13",
           "Lando Norris - 15",
           "Antonio Giovinazzi - 17",
           "Esteban Ocon - 17",
           "Lance Stroll - 17",
           "Nicholas Latifi - 17",
           "Robert Kubica - 17",
           "Nikita Mazepin - 18",
           "Mick Schumacher - 19",
           "George Russell - 20",
           "Lance Stroll - 20",
           "Sebastian Vettel - 0",
           "Sergio Pérez - 4",
           "Kimi Räikkönen - 12",
           "George Russell - 13",
           "Nicholas Latifi - 14",
           "Yuki Tsunoda - 14",
           "Yuki Tsunoda - 15",
           "Robert Kubica - 16",
           "Antonio Giovinazzi - 18",
           "Mick Schumacher - 18",
           "Nicholas Latifi - 18",
           "Charles Leclerc - 19",
           "Sebastian Vettel - 20",
           "Nicholas Latifi - 0",
           "Sergio Pérez - 0",
           "Fernando Alonso - 5",
           "George Russell - 11",
           "George Russell - 16",
           "Mick Schumacher - 16",
           "Nicholas Latifi - 19",
           "Nikita Mazepin - 19",
           "Pierre Gasly - 5",
           "Fernando Alonso - 10",
           "Yuki Tsunoda - 12",
           "Nicholas Latifi - 15",
           "Nikita Mazepin - 17",
           "Nikita Mazepin - 15",
           "Nikita Mazepin - 20",
           "Mick Schumacher - 14",
           "Mick Schumacher - 15",
           "George Russell - 2",
           "Lando Norris - 3",
           "Carlos Sainz - 4",
           "Charles Leclerc - 4",
           "Valtteri Bottas - 5",
           "Max Verstappen - 7",
           "Max Verstappen - 20",
           "Valtteri Bottas - 3",
           "Carlos Sainz - 2",
           "Lando Norris - 2",
           "Valtteri Bottas - 2",
           "Fernando Alonso - 3",
           "Lewis Hamilton - 3",
           "Sergio Pérez - 3",
           "Pierre Gasly - 4",
           "Carlos Sainz - 15",
           "Valtteri Bottas - 19",
           "Charles Leclerc - 1",
           "Charles Leclerc - 3",
           "Daniel Ricciardo - 4",
           "Charles Leclerc - 5",
           "Daniel Ricciardo - 5",
           "Fernando Alonso - 9",
           "Sergio Pérez - 9",
           "Sergio Pérez - 11",
           "Daniel Ricciardo - 6",
           "Sergio Pérez - 8",
           "Sebastian Vettel - 5",
           "Charles Leclerc - 6",
           "Charles Leclerc - 8",
           "Lando Norris - 8",
           "Sebastian Vettel - 8",
           "Lando Norris - 9",
           "Carlos Sainz - 10",
           "Lewis Hamilton - 11",
           "Valtteri Bottas - 16",
           "Pierre Gasly - 6",
           "Carlos Sainz - 6",
           "Carlos Sainz - 3",
           "Fernando Alonso - 6",
           "Valtteri Bottas - 6",
           "Fernando Alonso - 8",
           "Valtteri Bottas - 9",
           "Carlos Sainz - 12",
           "Lando Norris - 1",
           "Esteban Ocon - 6",
           "Fernando Alonso - 7",
           "Lewis Hamilton - 7",
           "Pierre Gasly - 7",
           "Carlos Sainz - 8",
           "Charles Leclerc - 9",
           "Kimi Räikkönen - 10",
           "Fernando Alonso - 11",
           "Charles Leclerc - 12",
           "Charles Leclerc - 13",
           "Lance Stroll - 14",
           "Carlos Sainz - 19",
           "Lando Norris - 4",
           "Esteban Ocon - 5",
           "Lance Stroll - 8",
           "Nicholas Latifi - 10",
           "Yuki Tsunoda - 10",
           "Sebastian Vettel - 12",
           "Yuki Tsunoda - 13",
           "Daniel Ricciardo - 16",
           "Pierre Gasly - 0",
           "Sergio Pérez - 5",
           "Lando Norris - 6",
           "Pierre Gasly - 8",
           "Valtteri Bottas - 8",
           "George Russell - 10",
           "Nikita Mazepin - 16",
           "Sebastian Vettel - 17",
           "Yuki Tsunoda - 17",
           "Fernando Alonso - 19",
           "1",
           "10",
           "11",
           "12",
           "13",
           "14",
           "15",
           "16",
           "17",
           "18",
           "19",
           "2",
           "20",
           "3",
           "4",
           "5",
           "6",
           "7",
           "8",
           "9",
           "DNF"
          ],
          "line": {
           "color": "black",
           "width": 0.5
          },
          "pad": 15,
          "thickness": 20
         },
         "type": "sankey"
        }
       ],
       "layout": {
        "font": {
         "size": 10
        },
        "template": {
         "data": {
          "bar": [
           {
            "error_x": {
             "color": "#2a3f5f"
            },
            "error_y": {
             "color": "#2a3f5f"
            },
            "marker": {
             "line": {
              "color": "#E5ECF6",
              "width": 0.5
             },
             "pattern": {
              "fillmode": "overlay",
              "size": 10,
              "solidity": 0.2
             }
            },
            "type": "bar"
           }
          ],
          "barpolar": [
           {
            "marker": {
             "line": {
              "color": "#E5ECF6",
              "width": 0.5
             },
             "pattern": {
              "fillmode": "overlay",
              "size": 10,
              "solidity": 0.2
             }
            },
            "type": "barpolar"
           }
          ],
          "carpet": [
           {
            "aaxis": {
             "endlinecolor": "#2a3f5f",
             "gridcolor": "white",
             "linecolor": "white",
             "minorgridcolor": "white",
             "startlinecolor": "#2a3f5f"
            },
            "baxis": {
             "endlinecolor": "#2a3f5f",
             "gridcolor": "white",
             "linecolor": "white",
             "minorgridcolor": "white",
             "startlinecolor": "#2a3f5f"
            },
            "type": "carpet"
           }
          ],
          "choropleth": [
           {
            "colorbar": {
             "outlinewidth": 0,
             "ticks": ""
            },
            "type": "choropleth"
           }
          ],
          "contour": [
           {
            "colorbar": {
             "outlinewidth": 0,
             "ticks": ""
            },
            "colorscale": [
             [
              0,
              "#0d0887"
             ],
             [
              0.1111111111111111,
              "#46039f"
             ],
             [
              0.2222222222222222,
              "#7201a8"
             ],
             [
              0.3333333333333333,
              "#9c179e"
             ],
             [
              0.4444444444444444,
              "#bd3786"
             ],
             [
              0.5555555555555556,
              "#d8576b"
             ],
             [
              0.6666666666666666,
              "#ed7953"
             ],
             [
              0.7777777777777778,
              "#fb9f3a"
             ],
             [
              0.8888888888888888,
              "#fdca26"
             ],
             [
              1,
              "#f0f921"
             ]
            ],
            "type": "contour"
           }
          ],
          "contourcarpet": [
           {
            "colorbar": {
             "outlinewidth": 0,
             "ticks": ""
            },
            "type": "contourcarpet"
           }
          ],
          "heatmap": [
           {
            "colorbar": {
             "outlinewidth": 0,
             "ticks": ""
            },
            "colorscale": [
             [
              0,
              "#0d0887"
             ],
             [
              0.1111111111111111,
              "#46039f"
             ],
             [
              0.2222222222222222,
              "#7201a8"
             ],
             [
              0.3333333333333333,
              "#9c179e"
             ],
             [
              0.4444444444444444,
              "#bd3786"
             ],
             [
              0.5555555555555556,
              "#d8576b"
             ],
             [
              0.6666666666666666,
              "#ed7953"
             ],
             [
              0.7777777777777778,
              "#fb9f3a"
             ],
             [
              0.8888888888888888,
              "#fdca26"
             ],
             [
              1,
              "#f0f921"
             ]
            ],
            "type": "heatmap"
           }
          ],
          "heatmapgl": [
           {
            "colorbar": {
             "outlinewidth": 0,
             "ticks": ""
            },
            "colorscale": [
             [
              0,
              "#0d0887"
             ],
             [
              0.1111111111111111,
              "#46039f"
             ],
             [
              0.2222222222222222,
              "#7201a8"
             ],
             [
              0.3333333333333333,
              "#9c179e"
             ],
             [
              0.4444444444444444,
              "#bd3786"
             ],
             [
              0.5555555555555556,
              "#d8576b"
             ],
             [
              0.6666666666666666,
              "#ed7953"
             ],
             [
              0.7777777777777778,
              "#fb9f3a"
             ],
             [
              0.8888888888888888,
              "#fdca26"
             ],
             [
              1,
              "#f0f921"
             ]
            ],
            "type": "heatmapgl"
           }
          ],
          "histogram": [
           {
            "marker": {
             "pattern": {
              "fillmode": "overlay",
              "size": 10,
              "solidity": 0.2
             }
            },
            "type": "histogram"
           }
          ],
          "histogram2d": [
           {
            "colorbar": {
             "outlinewidth": 0,
             "ticks": ""
            },
            "colorscale": [
             [
              0,
              "#0d0887"
             ],
             [
              0.1111111111111111,
              "#46039f"
             ],
             [
              0.2222222222222222,
              "#7201a8"
             ],
             [
              0.3333333333333333,
              "#9c179e"
             ],
             [
              0.4444444444444444,
              "#bd3786"
             ],
             [
              0.5555555555555556,
              "#d8576b"
             ],
             [
              0.6666666666666666,
              "#ed7953"
             ],
             [
              0.7777777777777778,
              "#fb9f3a"
             ],
             [
              0.8888888888888888,
              "#fdca26"
             ],
             [
              1,
              "#f0f921"
             ]
            ],
            "type": "histogram2d"
           }
          ],
          "histogram2dcontour": [
           {
            "colorbar": {
             "outlinewidth": 0,
             "ticks": ""
            },
            "colorscale": [
             [
              0,
              "#0d0887"
             ],
             [
              0.1111111111111111,
              "#46039f"
             ],
             [
              0.2222222222222222,
              "#7201a8"
             ],
             [
              0.3333333333333333,
              "#9c179e"
             ],
             [
              0.4444444444444444,
              "#bd3786"
             ],
             [
              0.5555555555555556,
              "#d8576b"
             ],
             [
              0.6666666666666666,
              "#ed7953"
             ],
             [
              0.7777777777777778,
              "#fb9f3a"
             ],
             [
              0.8888888888888888,
              "#fdca26"
             ],
             [
              1,
              "#f0f921"
             ]
            ],
            "type": "histogram2dcontour"
           }
          ],
          "mesh3d": [
           {
            "colorbar": {
             "outlinewidth": 0,
             "ticks": ""
            },
            "type": "mesh3d"
           }
          ],
          "parcoords": [
           {
            "line": {
             "colorbar": {
              "outlinewidth": 0,
              "ticks": ""
             }
            },
            "type": "parcoords"
           }
          ],
          "pie": [
           {
            "automargin": true,
            "type": "pie"
           }
          ],
          "scatter": [
           {
            "marker": {
             "colorbar": {
              "outlinewidth": 0,
              "ticks": ""
             }
            },
            "type": "scatter"
           }
          ],
          "scatter3d": [
           {
            "line": {
             "colorbar": {
              "outlinewidth": 0,
              "ticks": ""
             }
            },
            "marker": {
             "colorbar": {
              "outlinewidth": 0,
              "ticks": ""
             }
            },
            "type": "scatter3d"
           }
          ],
          "scattercarpet": [
           {
            "marker": {
             "colorbar": {
              "outlinewidth": 0,
              "ticks": ""
             }
            },
            "type": "scattercarpet"
           }
          ],
          "scattergeo": [
           {
            "marker": {
             "colorbar": {
              "outlinewidth": 0,
              "ticks": ""
             }
            },
            "type": "scattergeo"
           }
          ],
          "scattergl": [
           {
            "marker": {
             "colorbar": {
              "outlinewidth": 0,
              "ticks": ""
             }
            },
            "type": "scattergl"
           }
          ],
          "scattermapbox": [
           {
            "marker": {
             "colorbar": {
              "outlinewidth": 0,
              "ticks": ""
             }
            },
            "type": "scattermapbox"
           }
          ],
          "scatterpolar": [
           {
            "marker": {
             "colorbar": {
              "outlinewidth": 0,
              "ticks": ""
             }
            },
            "type": "scatterpolar"
           }
          ],
          "scatterpolargl": [
           {
            "marker": {
             "colorbar": {
              "outlinewidth": 0,
              "ticks": ""
             }
            },
            "type": "scatterpolargl"
           }
          ],
          "scatterternary": [
           {
            "marker": {
             "colorbar": {
              "outlinewidth": 0,
              "ticks": ""
             }
            },
            "type": "scatterternary"
           }
          ],
          "surface": [
           {
            "colorbar": {
             "outlinewidth": 0,
             "ticks": ""
            },
            "colorscale": [
             [
              0,
              "#0d0887"
             ],
             [
              0.1111111111111111,
              "#46039f"
             ],
             [
              0.2222222222222222,
              "#7201a8"
             ],
             [
              0.3333333333333333,
              "#9c179e"
             ],
             [
              0.4444444444444444,
              "#bd3786"
             ],
             [
              0.5555555555555556,
              "#d8576b"
             ],
             [
              0.6666666666666666,
              "#ed7953"
             ],
             [
              0.7777777777777778,
              "#fb9f3a"
             ],
             [
              0.8888888888888888,
              "#fdca26"
             ],
             [
              1,
              "#f0f921"
             ]
            ],
            "type": "surface"
           }
          ],
          "table": [
           {
            "cells": {
             "fill": {
              "color": "#EBF0F8"
             },
             "line": {
              "color": "white"
             }
            },
            "header": {
             "fill": {
              "color": "#C8D4E3"
             },
             "line": {
              "color": "white"
             }
            },
            "type": "table"
           }
          ]
         },
         "layout": {
          "annotationdefaults": {
           "arrowcolor": "#2a3f5f",
           "arrowhead": 0,
           "arrowwidth": 1
          },
          "autotypenumbers": "strict",
          "coloraxis": {
           "colorbar": {
            "outlinewidth": 0,
            "ticks": ""
           }
          },
          "colorscale": {
           "diverging": [
            [
             0,
             "#8e0152"
            ],
            [
             0.1,
             "#c51b7d"
            ],
            [
             0.2,
             "#de77ae"
            ],
            [
             0.3,
             "#f1b6da"
            ],
            [
             0.4,
             "#fde0ef"
            ],
            [
             0.5,
             "#f7f7f7"
            ],
            [
             0.6,
             "#e6f5d0"
            ],
            [
             0.7,
             "#b8e186"
            ],
            [
             0.8,
             "#7fbc41"
            ],
            [
             0.9,
             "#4d9221"
            ],
            [
             1,
             "#276419"
            ]
           ],
           "sequential": [
            [
             0,
             "#0d0887"
            ],
            [
             0.1111111111111111,
             "#46039f"
            ],
            [
             0.2222222222222222,
             "#7201a8"
            ],
            [
             0.3333333333333333,
             "#9c179e"
            ],
            [
             0.4444444444444444,
             "#bd3786"
            ],
            [
             0.5555555555555556,
             "#d8576b"
            ],
            [
             0.6666666666666666,
             "#ed7953"
            ],
            [
             0.7777777777777778,
             "#fb9f3a"
            ],
            [
             0.8888888888888888,
             "#fdca26"
            ],
            [
             1,
             "#f0f921"
            ]
           ],
           "sequentialminus": [
            [
             0,
             "#0d0887"
            ],
            [
             0.1111111111111111,
             "#46039f"
            ],
            [
             0.2222222222222222,
             "#7201a8"
            ],
            [
             0.3333333333333333,
             "#9c179e"
            ],
            [
             0.4444444444444444,
             "#bd3786"
            ],
            [
             0.5555555555555556,
             "#d8576b"
            ],
            [
             0.6666666666666666,
             "#ed7953"
            ],
            [
             0.7777777777777778,
             "#fb9f3a"
            ],
            [
             0.8888888888888888,
             "#fdca26"
            ],
            [
             1,
             "#f0f921"
            ]
           ]
          },
          "colorway": [
           "#636efa",
           "#EF553B",
           "#00cc96",
           "#ab63fa",
           "#FFA15A",
           "#19d3f3",
           "#FF6692",
           "#B6E880",
           "#FF97FF",
           "#FECB52"
          ],
          "font": {
           "color": "#2a3f5f"
          },
          "geo": {
           "bgcolor": "white",
           "lakecolor": "white",
           "landcolor": "#E5ECF6",
           "showlakes": true,
           "showland": true,
           "subunitcolor": "white"
          },
          "hoverlabel": {
           "align": "left"
          },
          "hovermode": "closest",
          "mapbox": {
           "style": "light"
          },
          "paper_bgcolor": "white",
          "plot_bgcolor": "#E5ECF6",
          "polar": {
           "angularaxis": {
            "gridcolor": "white",
            "linecolor": "white",
            "ticks": ""
           },
           "bgcolor": "#E5ECF6",
           "radialaxis": {
            "gridcolor": "white",
            "linecolor": "white",
            "ticks": ""
           }
          },
          "scene": {
           "xaxis": {
            "backgroundcolor": "#E5ECF6",
            "gridcolor": "white",
            "gridwidth": 2,
            "linecolor": "white",
            "showbackground": true,
            "ticks": "",
            "zerolinecolor": "white"
           },
           "yaxis": {
            "backgroundcolor": "#E5ECF6",
            "gridcolor": "white",
            "gridwidth": 2,
            "linecolor": "white",
            "showbackground": true,
            "ticks": "",
            "zerolinecolor": "white"
           },
           "zaxis": {
            "backgroundcolor": "#E5ECF6",
            "gridcolor": "white",
            "gridwidth": 2,
            "linecolor": "white",
            "showbackground": true,
            "ticks": "",
            "zerolinecolor": "white"
           }
          },
          "shapedefaults": {
           "line": {
            "color": "#2a3f5f"
           }
          },
          "ternary": {
           "aaxis": {
            "gridcolor": "white",
            "linecolor": "white",
            "ticks": ""
           },
           "baxis": {
            "gridcolor": "white",
            "linecolor": "white",
            "ticks": ""
           },
           "bgcolor": "#E5ECF6",
           "caxis": {
            "gridcolor": "white",
            "linecolor": "white",
            "ticks": ""
           }
          },
          "title": {
           "x": 0.05
          },
          "xaxis": {
           "automargin": true,
           "gridcolor": "white",
           "linecolor": "white",
           "ticks": "",
           "title": {
            "standoff": 15
           },
           "zerolinecolor": "white",
           "zerolinewidth": 2
          },
          "yaxis": {
           "automargin": true,
           "gridcolor": "white",
           "linecolor": "white",
           "ticks": "",
           "title": {
            "standoff": 15
           },
           "zerolinecolor": "white",
           "zerolinewidth": 2
          }
         }
        },
        "title": {
         "text": "Placings in 2021"
        }
       }
      }
     },
     "metadata": {},
     "output_type": "display_data"
    }
   ],
   "source": [
    "fig = go.Figure(data=[go.Sankey(\n",
    "    node = dict(\n",
    "      pad = 15,\n",
    "      thickness = 20,\n",
    "      line = dict(color = \"black\", width = 0.5),\n",
    "      label = labels_uni_line\n",
    "    ),\n",
    "    link = dict(\n",
    "      source = labels_final[:len(labels_final)//2], # indices correspond to labels, eg A1, A2, A1, B1, ...\n",
    "      target = labels_final[len(labels_final)//2:],\n",
    "      value = weights_final\n",
    "  ))])\n",
    "\n",
    "fig.update_layout(title_text=\"Placings in \"+str(year), font_size=10)\n",
    "fig.show()"
   ]
  },
  {
   "cell_type": "code",
   "execution_count": 120,
   "id": "c0e330e1",
   "metadata": {},
   "outputs": [
    {
     "data": {
      "text/html": [
       "<div>\n",
       "<style scoped>\n",
       "    .dataframe tbody tr th:only-of-type {\n",
       "        vertical-align: middle;\n",
       "    }\n",
       "\n",
       "    .dataframe tbody tr th {\n",
       "        vertical-align: top;\n",
       "    }\n",
       "\n",
       "    .dataframe thead th {\n",
       "        text-align: right;\n",
       "    }\n",
       "</style>\n",
       "<table border=\"1\" class=\"dataframe\">\n",
       "  <thead>\n",
       "    <tr style=\"text-align: right;\">\n",
       "      <th></th>\n",
       "      <th>raceId</th>\n",
       "      <th>year</th>\n",
       "      <th>round</th>\n",
       "      <th>circuitId</th>\n",
       "      <th>name</th>\n",
       "      <th>date</th>\n",
       "      <th>time</th>\n",
       "      <th>url</th>\n",
       "    </tr>\n",
       "  </thead>\n",
       "  <tbody>\n",
       "    <tr>\n",
       "      <th>0</th>\n",
       "      <td>1</td>\n",
       "      <td>2009</td>\n",
       "      <td>1</td>\n",
       "      <td>1</td>\n",
       "      <td>Australian Grand Prix</td>\n",
       "      <td>3/29/2009</td>\n",
       "      <td>06:00:00</td>\n",
       "      <td>http://en.wikipedia.org/wiki/2009_Australian_G...</td>\n",
       "    </tr>\n",
       "    <tr>\n",
       "      <th>1</th>\n",
       "      <td>2</td>\n",
       "      <td>2009</td>\n",
       "      <td>2</td>\n",
       "      <td>2</td>\n",
       "      <td>Malaysian Grand Prix</td>\n",
       "      <td>4/5/2009</td>\n",
       "      <td>09:00:00</td>\n",
       "      <td>http://en.wikipedia.org/wiki/2009_Malaysian_Gr...</td>\n",
       "    </tr>\n",
       "    <tr>\n",
       "      <th>2</th>\n",
       "      <td>3</td>\n",
       "      <td>2009</td>\n",
       "      <td>3</td>\n",
       "      <td>17</td>\n",
       "      <td>Chinese Grand Prix</td>\n",
       "      <td>4/19/2009</td>\n",
       "      <td>07:00:00</td>\n",
       "      <td>http://en.wikipedia.org/wiki/2009_Chinese_Gran...</td>\n",
       "    </tr>\n",
       "    <tr>\n",
       "      <th>3</th>\n",
       "      <td>4</td>\n",
       "      <td>2009</td>\n",
       "      <td>4</td>\n",
       "      <td>3</td>\n",
       "      <td>Bahrain Grand Prix</td>\n",
       "      <td>4/26/2009</td>\n",
       "      <td>12:00:00</td>\n",
       "      <td>http://en.wikipedia.org/wiki/2009_Bahrain_Gran...</td>\n",
       "    </tr>\n",
       "    <tr>\n",
       "      <th>4</th>\n",
       "      <td>5</td>\n",
       "      <td>2009</td>\n",
       "      <td>5</td>\n",
       "      <td>4</td>\n",
       "      <td>Spanish Grand Prix</td>\n",
       "      <td>5/10/2009</td>\n",
       "      <td>12:00:00</td>\n",
       "      <td>http://en.wikipedia.org/wiki/2009_Spanish_Gran...</td>\n",
       "    </tr>\n",
       "  </tbody>\n",
       "</table>\n",
       "</div>"
      ],
      "text/plain": [
       "   raceId  year  round  circuitId                   name       date      time  \\\n",
       "0       1  2009      1          1  Australian Grand Prix  3/29/2009  06:00:00   \n",
       "1       2  2009      2          2   Malaysian Grand Prix   4/5/2009  09:00:00   \n",
       "2       3  2009      3         17     Chinese Grand Prix  4/19/2009  07:00:00   \n",
       "3       4  2009      4          3     Bahrain Grand Prix  4/26/2009  12:00:00   \n",
       "4       5  2009      5          4     Spanish Grand Prix  5/10/2009  12:00:00   \n",
       "\n",
       "                                                 url  \n",
       "0  http://en.wikipedia.org/wiki/2009_Australian_G...  \n",
       "1  http://en.wikipedia.org/wiki/2009_Malaysian_Gr...  \n",
       "2  http://en.wikipedia.org/wiki/2009_Chinese_Gran...  \n",
       "3  http://en.wikipedia.org/wiki/2009_Bahrain_Gran...  \n",
       "4  http://en.wikipedia.org/wiki/2009_Spanish_Gran...  "
      ]
     },
     "execution_count": 120,
     "metadata": {},
     "output_type": "execute_result"
    }
   ],
   "source": [
    "races.head()"
   ]
  },
  {
   "cell_type": "code",
   "execution_count": null,
   "id": "7f04ae8d",
   "metadata": {},
   "outputs": [],
   "source": []
  },
  {
   "cell_type": "markdown",
   "id": "e9495c8e",
   "metadata": {},
   "source": [
    "### Year and Driver\n"
   ]
  },
  {
   "cell_type": "code",
   "execution_count": 121,
   "id": "04b1719b",
   "metadata": {},
   "outputs": [],
   "source": [
    "year_drivers = races[['raceId', 'year']].merge(driver_standings[['raceId', 'driverId' ]], on = 'raceId')\n",
    "year_drivers = year_drivers.merge(drivers[['driverId', 'forename', 'surname']], on='driverId')\n",
    "year_drivers = year_drivers.merge(results[['raceId', 'driverId','grid']], on=['raceId','driverId'])\n",
    "\n",
    "years_drivers_list = list(set(np.array(year_drivers['year'])))\n"
   ]
  },
  {
   "cell_type": "code",
   "execution_count": 122,
   "id": "a3627547",
   "metadata": {},
   "outputs": [
    {
     "data": {
      "text/html": [
       "<div>\n",
       "<style scoped>\n",
       "    .dataframe tbody tr th:only-of-type {\n",
       "        vertical-align: middle;\n",
       "    }\n",
       "\n",
       "    .dataframe tbody tr th {\n",
       "        vertical-align: top;\n",
       "    }\n",
       "\n",
       "    .dataframe thead th {\n",
       "        text-align: right;\n",
       "    }\n",
       "</style>\n",
       "<table border=\"1\" class=\"dataframe\">\n",
       "  <thead>\n",
       "    <tr style=\"text-align: right;\">\n",
       "      <th></th>\n",
       "      <th>raceId</th>\n",
       "      <th>year</th>\n",
       "      <th>round</th>\n",
       "      <th>circuitId</th>\n",
       "      <th>name</th>\n",
       "      <th>date</th>\n",
       "      <th>time</th>\n",
       "      <th>url</th>\n",
       "    </tr>\n",
       "  </thead>\n",
       "  <tbody>\n",
       "    <tr>\n",
       "      <th>0</th>\n",
       "      <td>1</td>\n",
       "      <td>2009</td>\n",
       "      <td>1</td>\n",
       "      <td>1</td>\n",
       "      <td>Australian Grand Prix</td>\n",
       "      <td>3/29/2009</td>\n",
       "      <td>06:00:00</td>\n",
       "      <td>http://en.wikipedia.org/wiki/2009_Australian_G...</td>\n",
       "    </tr>\n",
       "    <tr>\n",
       "      <th>1</th>\n",
       "      <td>2</td>\n",
       "      <td>2009</td>\n",
       "      <td>2</td>\n",
       "      <td>2</td>\n",
       "      <td>Malaysian Grand Prix</td>\n",
       "      <td>4/5/2009</td>\n",
       "      <td>09:00:00</td>\n",
       "      <td>http://en.wikipedia.org/wiki/2009_Malaysian_Gr...</td>\n",
       "    </tr>\n",
       "    <tr>\n",
       "      <th>2</th>\n",
       "      <td>3</td>\n",
       "      <td>2009</td>\n",
       "      <td>3</td>\n",
       "      <td>17</td>\n",
       "      <td>Chinese Grand Prix</td>\n",
       "      <td>4/19/2009</td>\n",
       "      <td>07:00:00</td>\n",
       "      <td>http://en.wikipedia.org/wiki/2009_Chinese_Gran...</td>\n",
       "    </tr>\n",
       "    <tr>\n",
       "      <th>3</th>\n",
       "      <td>4</td>\n",
       "      <td>2009</td>\n",
       "      <td>4</td>\n",
       "      <td>3</td>\n",
       "      <td>Bahrain Grand Prix</td>\n",
       "      <td>4/26/2009</td>\n",
       "      <td>12:00:00</td>\n",
       "      <td>http://en.wikipedia.org/wiki/2009_Bahrain_Gran...</td>\n",
       "    </tr>\n",
       "    <tr>\n",
       "      <th>4</th>\n",
       "      <td>5</td>\n",
       "      <td>2009</td>\n",
       "      <td>5</td>\n",
       "      <td>4</td>\n",
       "      <td>Spanish Grand Prix</td>\n",
       "      <td>5/10/2009</td>\n",
       "      <td>12:00:00</td>\n",
       "      <td>http://en.wikipedia.org/wiki/2009_Spanish_Gran...</td>\n",
       "    </tr>\n",
       "    <tr>\n",
       "      <th>...</th>\n",
       "      <td>...</td>\n",
       "      <td>...</td>\n",
       "      <td>...</td>\n",
       "      <td>...</td>\n",
       "      <td>...</td>\n",
       "      <td>...</td>\n",
       "      <td>...</td>\n",
       "      <td>...</td>\n",
       "    </tr>\n",
       "    <tr>\n",
       "      <th>1074</th>\n",
       "      <td>1092</td>\n",
       "      <td>2022</td>\n",
       "      <td>18</td>\n",
       "      <td>22</td>\n",
       "      <td>Japanese Grand Prix</td>\n",
       "      <td>10/9/2022</td>\n",
       "      <td>05:00:00</td>\n",
       "      <td>http://en.wikipedia.org/wiki/2022_Japanese_Gra...</td>\n",
       "    </tr>\n",
       "    <tr>\n",
       "      <th>1075</th>\n",
       "      <td>1093</td>\n",
       "      <td>2022</td>\n",
       "      <td>19</td>\n",
       "      <td>69</td>\n",
       "      <td>United States Grand Prix</td>\n",
       "      <td>10/23/2022</td>\n",
       "      <td>19:00:00</td>\n",
       "      <td>http://en.wikipedia.org/wiki/2022_United_State...</td>\n",
       "    </tr>\n",
       "    <tr>\n",
       "      <th>1076</th>\n",
       "      <td>1094</td>\n",
       "      <td>2022</td>\n",
       "      <td>20</td>\n",
       "      <td>32</td>\n",
       "      <td>Mexico City Grand Prix</td>\n",
       "      <td>10/30/2022</td>\n",
       "      <td>20:00:00</td>\n",
       "      <td>http://en.wikipedia.org/wiki/2022_Mexican_Gran...</td>\n",
       "    </tr>\n",
       "    <tr>\n",
       "      <th>1077</th>\n",
       "      <td>1095</td>\n",
       "      <td>2022</td>\n",
       "      <td>21</td>\n",
       "      <td>18</td>\n",
       "      <td>Brazilian Grand Prix</td>\n",
       "      <td>11/13/2022</td>\n",
       "      <td>18:00:00</td>\n",
       "      <td>http://en.wikipedia.org/wiki/2022_Brazilian_Gr...</td>\n",
       "    </tr>\n",
       "    <tr>\n",
       "      <th>1078</th>\n",
       "      <td>1096</td>\n",
       "      <td>2022</td>\n",
       "      <td>22</td>\n",
       "      <td>24</td>\n",
       "      <td>Abu Dhabi Grand Prix</td>\n",
       "      <td>11/20/2022</td>\n",
       "      <td>13:00:00</td>\n",
       "      <td>http://en.wikipedia.org/wiki/2022_Abu_Dhabi_Gr...</td>\n",
       "    </tr>\n",
       "  </tbody>\n",
       "</table>\n",
       "<p>1079 rows × 8 columns</p>\n",
       "</div>"
      ],
      "text/plain": [
       "      raceId  year  round  circuitId                      name        date  \\\n",
       "0          1  2009      1          1     Australian Grand Prix   3/29/2009   \n",
       "1          2  2009      2          2      Malaysian Grand Prix    4/5/2009   \n",
       "2          3  2009      3         17        Chinese Grand Prix   4/19/2009   \n",
       "3          4  2009      4          3        Bahrain Grand Prix   4/26/2009   \n",
       "4          5  2009      5          4        Spanish Grand Prix   5/10/2009   \n",
       "...      ...   ...    ...        ...                       ...         ...   \n",
       "1074    1092  2022     18         22       Japanese Grand Prix   10/9/2022   \n",
       "1075    1093  2022     19         69  United States Grand Prix  10/23/2022   \n",
       "1076    1094  2022     20         32    Mexico City Grand Prix  10/30/2022   \n",
       "1077    1095  2022     21         18      Brazilian Grand Prix  11/13/2022   \n",
       "1078    1096  2022     22         24      Abu Dhabi Grand Prix  11/20/2022   \n",
       "\n",
       "          time                                                url  \n",
       "0     06:00:00  http://en.wikipedia.org/wiki/2009_Australian_G...  \n",
       "1     09:00:00  http://en.wikipedia.org/wiki/2009_Malaysian_Gr...  \n",
       "2     07:00:00  http://en.wikipedia.org/wiki/2009_Chinese_Gran...  \n",
       "3     12:00:00  http://en.wikipedia.org/wiki/2009_Bahrain_Gran...  \n",
       "4     12:00:00  http://en.wikipedia.org/wiki/2009_Spanish_Gran...  \n",
       "...        ...                                                ...  \n",
       "1074  05:00:00  http://en.wikipedia.org/wiki/2022_Japanese_Gra...  \n",
       "1075  19:00:00  http://en.wikipedia.org/wiki/2022_United_State...  \n",
       "1076  20:00:00  http://en.wikipedia.org/wiki/2022_Mexican_Gran...  \n",
       "1077  18:00:00  http://en.wikipedia.org/wiki/2022_Brazilian_Gr...  \n",
       "1078  13:00:00  http://en.wikipedia.org/wiki/2022_Abu_Dhabi_Gr...  \n",
       "\n",
       "[1079 rows x 8 columns]"
      ]
     },
     "execution_count": 122,
     "metadata": {},
     "output_type": "execute_result"
    }
   ],
   "source": [
    "races"
   ]
  },
  {
   "cell_type": "code",
   "execution_count": 123,
   "id": "8a327d78",
   "metadata": {},
   "outputs": [
    {
     "data": {
      "text/html": [
       "<div>\n",
       "<style scoped>\n",
       "    .dataframe tbody tr th:only-of-type {\n",
       "        vertical-align: middle;\n",
       "    }\n",
       "\n",
       "    .dataframe tbody tr th {\n",
       "        vertical-align: top;\n",
       "    }\n",
       "\n",
       "    .dataframe thead th {\n",
       "        text-align: right;\n",
       "    }\n",
       "</style>\n",
       "<table border=\"1\" class=\"dataframe\">\n",
       "  <thead>\n",
       "    <tr style=\"text-align: right;\">\n",
       "      <th></th>\n",
       "      <th>raceId</th>\n",
       "      <th>year</th>\n",
       "      <th>driverId</th>\n",
       "      <th>forename</th>\n",
       "      <th>surname</th>\n",
       "      <th>grid</th>\n",
       "    </tr>\n",
       "  </thead>\n",
       "  <tbody>\n",
       "    <tr>\n",
       "      <th>0</th>\n",
       "      <td>1</td>\n",
       "      <td>2009</td>\n",
       "      <td>8</td>\n",
       "      <td>Kimi</td>\n",
       "      <td>Räikkönen</td>\n",
       "      <td>7</td>\n",
       "    </tr>\n",
       "    <tr>\n",
       "      <th>1</th>\n",
       "      <td>2</td>\n",
       "      <td>2009</td>\n",
       "      <td>8</td>\n",
       "      <td>Kimi</td>\n",
       "      <td>Räikkönen</td>\n",
       "      <td>7</td>\n",
       "    </tr>\n",
       "    <tr>\n",
       "      <th>2</th>\n",
       "      <td>3</td>\n",
       "      <td>2009</td>\n",
       "      <td>8</td>\n",
       "      <td>Kimi</td>\n",
       "      <td>Räikkönen</td>\n",
       "      <td>8</td>\n",
       "    </tr>\n",
       "    <tr>\n",
       "      <th>3</th>\n",
       "      <td>4</td>\n",
       "      <td>2009</td>\n",
       "      <td>8</td>\n",
       "      <td>Kimi</td>\n",
       "      <td>Räikkönen</td>\n",
       "      <td>10</td>\n",
       "    </tr>\n",
       "    <tr>\n",
       "      <th>4</th>\n",
       "      <td>5</td>\n",
       "      <td>2009</td>\n",
       "      <td>8</td>\n",
       "      <td>Kimi</td>\n",
       "      <td>Räikkönen</td>\n",
       "      <td>16</td>\n",
       "    </tr>\n",
       "    <tr>\n",
       "      <th>...</th>\n",
       "      <td>...</td>\n",
       "      <td>...</td>\n",
       "      <td>...</td>\n",
       "      <td>...</td>\n",
       "      <td>...</td>\n",
       "      <td>...</td>\n",
       "    </tr>\n",
       "    <tr>\n",
       "      <th>24946</th>\n",
       "      <td>1070</td>\n",
       "      <td>2021</td>\n",
       "      <td>852</td>\n",
       "      <td>Yuki</td>\n",
       "      <td>Tsunoda</td>\n",
       "      <td>17</td>\n",
       "    </tr>\n",
       "    <tr>\n",
       "      <th>24947</th>\n",
       "      <td>1071</td>\n",
       "      <td>2021</td>\n",
       "      <td>852</td>\n",
       "      <td>Yuki</td>\n",
       "      <td>Tsunoda</td>\n",
       "      <td>15</td>\n",
       "    </tr>\n",
       "    <tr>\n",
       "      <th>24948</th>\n",
       "      <td>1072</td>\n",
       "      <td>2021</td>\n",
       "      <td>852</td>\n",
       "      <td>Yuki</td>\n",
       "      <td>Tsunoda</td>\n",
       "      <td>8</td>\n",
       "    </tr>\n",
       "    <tr>\n",
       "      <th>24949</th>\n",
       "      <td>1073</td>\n",
       "      <td>2021</td>\n",
       "      <td>852</td>\n",
       "      <td>Yuki</td>\n",
       "      <td>Tsunoda</td>\n",
       "      <td>8</td>\n",
       "    </tr>\n",
       "    <tr>\n",
       "      <th>24950</th>\n",
       "      <td>1074</td>\n",
       "      <td>2022</td>\n",
       "      <td>855</td>\n",
       "      <td>Guanyu</td>\n",
       "      <td>Zhou</td>\n",
       "      <td>15</td>\n",
       "    </tr>\n",
       "  </tbody>\n",
       "</table>\n",
       "<p>24951 rows × 6 columns</p>\n",
       "</div>"
      ],
      "text/plain": [
       "       raceId  year  driverId forename    surname  grid\n",
       "0           1  2009         8     Kimi  Räikkönen     7\n",
       "1           2  2009         8     Kimi  Räikkönen     7\n",
       "2           3  2009         8     Kimi  Räikkönen     8\n",
       "3           4  2009         8     Kimi  Räikkönen    10\n",
       "4           5  2009         8     Kimi  Räikkönen    16\n",
       "...       ...   ...       ...      ...        ...   ...\n",
       "24946    1070  2021       852     Yuki    Tsunoda    17\n",
       "24947    1071  2021       852     Yuki    Tsunoda    15\n",
       "24948    1072  2021       852     Yuki    Tsunoda     8\n",
       "24949    1073  2021       852     Yuki    Tsunoda     8\n",
       "24950    1074  2022       855   Guanyu       Zhou    15\n",
       "\n",
       "[24951 rows x 6 columns]"
      ]
     },
     "execution_count": 123,
     "metadata": {},
     "output_type": "execute_result"
    }
   ],
   "source": [
    "year_drivers"
   ]
  },
  {
   "cell_type": "code",
   "execution_count": 124,
   "id": "9574cfab",
   "metadata": {},
   "outputs": [],
   "source": [
    "drivID = year_drivers[year_drivers['year']==year]['driverId'].sample().iloc[0]"
   ]
  },
  {
   "cell_type": "code",
   "execution_count": 125,
   "id": "d94ead7c",
   "metadata": {},
   "outputs": [
    {
     "data": {
      "text/html": [
       "<div>\n",
       "<style scoped>\n",
       "    .dataframe tbody tr th:only-of-type {\n",
       "        vertical-align: middle;\n",
       "    }\n",
       "\n",
       "    .dataframe tbody tr th {\n",
       "        vertical-align: top;\n",
       "    }\n",
       "\n",
       "    .dataframe thead th {\n",
       "        text-align: right;\n",
       "    }\n",
       "</style>\n",
       "<table border=\"1\" class=\"dataframe\">\n",
       "  <thead>\n",
       "    <tr style=\"text-align: right;\">\n",
       "      <th></th>\n",
       "      <th>raceId</th>\n",
       "      <th>year</th>\n",
       "      <th>driverId</th>\n",
       "      <th>forename</th>\n",
       "      <th>surname</th>\n",
       "      <th>grid</th>\n",
       "    </tr>\n",
       "  </thead>\n",
       "  <tbody>\n",
       "    <tr>\n",
       "      <th>22753</th>\n",
       "      <td>849</td>\n",
       "      <td>2011</td>\n",
       "      <td>817</td>\n",
       "      <td>Daniel</td>\n",
       "      <td>Ricciardo</td>\n",
       "      <td>24</td>\n",
       "    </tr>\n",
       "    <tr>\n",
       "      <th>22754</th>\n",
       "      <td>850</td>\n",
       "      <td>2011</td>\n",
       "      <td>817</td>\n",
       "      <td>Daniel</td>\n",
       "      <td>Ricciardo</td>\n",
       "      <td>22</td>\n",
       "    </tr>\n",
       "    <tr>\n",
       "      <th>22755</th>\n",
       "      <td>851</td>\n",
       "      <td>2011</td>\n",
       "      <td>817</td>\n",
       "      <td>Daniel</td>\n",
       "      <td>Ricciardo</td>\n",
       "      <td>22</td>\n",
       "    </tr>\n",
       "    <tr>\n",
       "      <th>22756</th>\n",
       "      <td>852</td>\n",
       "      <td>2011</td>\n",
       "      <td>817</td>\n",
       "      <td>Daniel</td>\n",
       "      <td>Ricciardo</td>\n",
       "      <td>23</td>\n",
       "    </tr>\n",
       "    <tr>\n",
       "      <th>22757</th>\n",
       "      <td>853</td>\n",
       "      <td>2011</td>\n",
       "      <td>817</td>\n",
       "      <td>Daniel</td>\n",
       "      <td>Ricciardo</td>\n",
       "      <td>23</td>\n",
       "    </tr>\n",
       "    <tr>\n",
       "      <th>...</th>\n",
       "      <td>...</td>\n",
       "      <td>...</td>\n",
       "      <td>...</td>\n",
       "      <td>...</td>\n",
       "      <td>...</td>\n",
       "      <td>...</td>\n",
       "    </tr>\n",
       "    <tr>\n",
       "      <th>22959</th>\n",
       "      <td>1069</td>\n",
       "      <td>2021</td>\n",
       "      <td>817</td>\n",
       "      <td>Daniel</td>\n",
       "      <td>Ricciardo</td>\n",
       "      <td>6</td>\n",
       "    </tr>\n",
       "    <tr>\n",
       "      <th>22960</th>\n",
       "      <td>1070</td>\n",
       "      <td>2021</td>\n",
       "      <td>817</td>\n",
       "      <td>Daniel</td>\n",
       "      <td>Ricciardo</td>\n",
       "      <td>7</td>\n",
       "    </tr>\n",
       "    <tr>\n",
       "      <th>22961</th>\n",
       "      <td>1071</td>\n",
       "      <td>2021</td>\n",
       "      <td>817</td>\n",
       "      <td>Daniel</td>\n",
       "      <td>Ricciardo</td>\n",
       "      <td>11</td>\n",
       "    </tr>\n",
       "    <tr>\n",
       "      <th>22962</th>\n",
       "      <td>1072</td>\n",
       "      <td>2021</td>\n",
       "      <td>817</td>\n",
       "      <td>Daniel</td>\n",
       "      <td>Ricciardo</td>\n",
       "      <td>11</td>\n",
       "    </tr>\n",
       "    <tr>\n",
       "      <th>22963</th>\n",
       "      <td>1073</td>\n",
       "      <td>2021</td>\n",
       "      <td>817</td>\n",
       "      <td>Daniel</td>\n",
       "      <td>Ricciardo</td>\n",
       "      <td>10</td>\n",
       "    </tr>\n",
       "  </tbody>\n",
       "</table>\n",
       "<p>211 rows × 6 columns</p>\n",
       "</div>"
      ],
      "text/plain": [
       "       raceId  year  driverId forename    surname  grid\n",
       "22753     849  2011       817   Daniel  Ricciardo    24\n",
       "22754     850  2011       817   Daniel  Ricciardo    22\n",
       "22755     851  2011       817   Daniel  Ricciardo    22\n",
       "22756     852  2011       817   Daniel  Ricciardo    23\n",
       "22757     853  2011       817   Daniel  Ricciardo    23\n",
       "...       ...   ...       ...      ...        ...   ...\n",
       "22959    1069  2021       817   Daniel  Ricciardo     6\n",
       "22960    1070  2021       817   Daniel  Ricciardo     7\n",
       "22961    1071  2021       817   Daniel  Ricciardo    11\n",
       "22962    1072  2021       817   Daniel  Ricciardo    11\n",
       "22963    1073  2021       817   Daniel  Ricciardo    10\n",
       "\n",
       "[211 rows x 6 columns]"
      ]
     },
     "execution_count": 125,
     "metadata": {},
     "output_type": "execute_result"
    }
   ],
   "source": [
    "year_drivers[year_drivers['driverId']==drivID]"
   ]
  },
  {
   "cell_type": "code",
   "execution_count": 126,
   "id": "964104e6",
   "metadata": {},
   "outputs": [],
   "source": [
    "results_year_driver = results_year[results_year['driverId']==drivID]"
   ]
  },
  {
   "cell_type": "code",
   "execution_count": 127,
   "id": "115dc75e",
   "metadata": {},
   "outputs": [],
   "source": [
    "drivName = results_year_driver['driverName'].iloc[0]"
   ]
  },
  {
   "cell_type": "code",
   "execution_count": 128,
   "id": "4d608427",
   "metadata": {},
   "outputs": [
    {
     "data": {
      "text/plain": [
       "'Daniel Ricciardo'"
      ]
     },
     "execution_count": 128,
     "metadata": {},
     "output_type": "execute_result"
    }
   ],
   "source": [
    "drivName"
   ]
  },
  {
   "cell_type": "code",
   "execution_count": 129,
   "id": "17fc0943",
   "metadata": {},
   "outputs": [
    {
     "data": {
      "text/html": [
       "<div>\n",
       "<style scoped>\n",
       "    .dataframe tbody tr th:only-of-type {\n",
       "        vertical-align: middle;\n",
       "    }\n",
       "\n",
       "    .dataframe tbody tr th {\n",
       "        vertical-align: top;\n",
       "    }\n",
       "\n",
       "    .dataframe thead th {\n",
       "        text-align: right;\n",
       "    }\n",
       "</style>\n",
       "<table border=\"1\" class=\"dataframe\">\n",
       "  <thead>\n",
       "    <tr style=\"text-align: right;\">\n",
       "      <th></th>\n",
       "      <th>resultId</th>\n",
       "      <th>raceId</th>\n",
       "      <th>driverId</th>\n",
       "      <th>constructorId</th>\n",
       "      <th>number</th>\n",
       "      <th>grid</th>\n",
       "      <th>position</th>\n",
       "      <th>positionText</th>\n",
       "      <th>positionOrder</th>\n",
       "      <th>points</th>\n",
       "      <th>...</th>\n",
       "      <th>fastestLap</th>\n",
       "      <th>rank</th>\n",
       "      <th>fastestLapTime</th>\n",
       "      <th>fastestLapSpeed</th>\n",
       "      <th>statusId</th>\n",
       "      <th>driverRef</th>\n",
       "      <th>code</th>\n",
       "      <th>dob</th>\n",
       "      <th>nationality</th>\n",
       "      <th>driverName</th>\n",
       "    </tr>\n",
       "  </thead>\n",
       "  <tbody>\n",
       "    <tr>\n",
       "      <th>23410</th>\n",
       "      <td>24972</td>\n",
       "      <td>1052</td>\n",
       "      <td>817</td>\n",
       "      <td>1</td>\n",
       "      <td>3</td>\n",
       "      <td>6</td>\n",
       "      <td>7</td>\n",
       "      <td>7</td>\n",
       "      <td>7</td>\n",
       "      <td>6.0</td>\n",
       "      <td>...</td>\n",
       "      <td>36</td>\n",
       "      <td>10</td>\n",
       "      <td>1:34.932</td>\n",
       "      <td>205.233</td>\n",
       "      <td>1</td>\n",
       "      <td>ricciardo</td>\n",
       "      <td>RIC</td>\n",
       "      <td>1989-07-01</td>\n",
       "      <td>Australian</td>\n",
       "      <td>Daniel Ricciardo</td>\n",
       "    </tr>\n",
       "    <tr>\n",
       "      <th>23411</th>\n",
       "      <td>24991</td>\n",
       "      <td>1053</td>\n",
       "      <td>817</td>\n",
       "      <td>1</td>\n",
       "      <td>3</td>\n",
       "      <td>6</td>\n",
       "      <td>6</td>\n",
       "      <td>6</td>\n",
       "      <td>6</td>\n",
       "      <td>8.0</td>\n",
       "      <td>...</td>\n",
       "      <td>54</td>\n",
       "      <td>12</td>\n",
       "      <td>1:19.341</td>\n",
       "      <td>222.739</td>\n",
       "      <td>1</td>\n",
       "      <td>ricciardo</td>\n",
       "      <td>RIC</td>\n",
       "      <td>1989-07-01</td>\n",
       "      <td>Australian</td>\n",
       "      <td>Daniel Ricciardo</td>\n",
       "    </tr>\n",
       "    <tr>\n",
       "      <th>23412</th>\n",
       "      <td>25014</td>\n",
       "      <td>1054</td>\n",
       "      <td>817</td>\n",
       "      <td>1</td>\n",
       "      <td>3</td>\n",
       "      <td>16</td>\n",
       "      <td>9</td>\n",
       "      <td>9</td>\n",
       "      <td>9</td>\n",
       "      <td>2.0</td>\n",
       "      <td>...</td>\n",
       "      <td>64</td>\n",
       "      <td>10</td>\n",
       "      <td>1:21.987</td>\n",
       "      <td>204.310</td>\n",
       "      <td>1</td>\n",
       "      <td>ricciardo</td>\n",
       "      <td>RIC</td>\n",
       "      <td>1989-07-01</td>\n",
       "      <td>Australian</td>\n",
       "      <td>Daniel Ricciardo</td>\n",
       "    </tr>\n",
       "    <tr>\n",
       "      <th>23413</th>\n",
       "      <td>25031</td>\n",
       "      <td>1055</td>\n",
       "      <td>817</td>\n",
       "      <td>1</td>\n",
       "      <td>3</td>\n",
       "      <td>7</td>\n",
       "      <td>6</td>\n",
       "      <td>6</td>\n",
       "      <td>6</td>\n",
       "      <td>8.0</td>\n",
       "      <td>...</td>\n",
       "      <td>60</td>\n",
       "      <td>10</td>\n",
       "      <td>1:21.853</td>\n",
       "      <td>205.612</td>\n",
       "      <td>1</td>\n",
       "      <td>ricciardo</td>\n",
       "      <td>RIC</td>\n",
       "      <td>1989-07-01</td>\n",
       "      <td>Australian</td>\n",
       "      <td>Daniel Ricciardo</td>\n",
       "    </tr>\n",
       "    <tr>\n",
       "      <th>23414</th>\n",
       "      <td>25057</td>\n",
       "      <td>1056</td>\n",
       "      <td>817</td>\n",
       "      <td>1</td>\n",
       "      <td>3</td>\n",
       "      <td>12</td>\n",
       "      <td>12</td>\n",
       "      <td>12</td>\n",
       "      <td>12</td>\n",
       "      <td>0.0</td>\n",
       "      <td>...</td>\n",
       "      <td>43</td>\n",
       "      <td>4</td>\n",
       "      <td>1:14.578</td>\n",
       "      <td>161.082</td>\n",
       "      <td>11</td>\n",
       "      <td>ricciardo</td>\n",
       "      <td>RIC</td>\n",
       "      <td>1989-07-01</td>\n",
       "      <td>Australian</td>\n",
       "      <td>Daniel Ricciardo</td>\n",
       "    </tr>\n",
       "    <tr>\n",
       "      <th>23415</th>\n",
       "      <td>25074</td>\n",
       "      <td>1057</td>\n",
       "      <td>817</td>\n",
       "      <td>1</td>\n",
       "      <td>3</td>\n",
       "      <td>13</td>\n",
       "      <td>9</td>\n",
       "      <td>9</td>\n",
       "      <td>9</td>\n",
       "      <td>2.0</td>\n",
       "      <td>...</td>\n",
       "      <td>43</td>\n",
       "      <td>14</td>\n",
       "      <td>1:45.713</td>\n",
       "      <td>204.428</td>\n",
       "      <td>1</td>\n",
       "      <td>ricciardo</td>\n",
       "      <td>RIC</td>\n",
       "      <td>1989-07-01</td>\n",
       "      <td>Australian</td>\n",
       "      <td>Daniel Ricciardo</td>\n",
       "    </tr>\n",
       "    <tr>\n",
       "      <th>23416</th>\n",
       "      <td>25091</td>\n",
       "      <td>1059</td>\n",
       "      <td>817</td>\n",
       "      <td>1</td>\n",
       "      <td>3</td>\n",
       "      <td>10</td>\n",
       "      <td>6</td>\n",
       "      <td>6</td>\n",
       "      <td>6</td>\n",
       "      <td>8.0</td>\n",
       "      <td>...</td>\n",
       "      <td>45</td>\n",
       "      <td>14</td>\n",
       "      <td>1:38.324</td>\n",
       "      <td>213.896</td>\n",
       "      <td>1</td>\n",
       "      <td>ricciardo</td>\n",
       "      <td>RIC</td>\n",
       "      <td>1989-07-01</td>\n",
       "      <td>Australian</td>\n",
       "      <td>Daniel Ricciardo</td>\n",
       "    </tr>\n",
       "    <tr>\n",
       "      <th>23417</th>\n",
       "      <td>25118</td>\n",
       "      <td>1058</td>\n",
       "      <td>817</td>\n",
       "      <td>1</td>\n",
       "      <td>3</td>\n",
       "      <td>13</td>\n",
       "      <td>13</td>\n",
       "      <td>13</td>\n",
       "      <td>13</td>\n",
       "      <td>0.0</td>\n",
       "      <td>...</td>\n",
       "      <td>45</td>\n",
       "      <td>9</td>\n",
       "      <td>1:09.305</td>\n",
       "      <td>224.295</td>\n",
       "      <td>11</td>\n",
       "      <td>ricciardo</td>\n",
       "      <td>RIC</td>\n",
       "      <td>1989-07-01</td>\n",
       "      <td>Australian</td>\n",
       "      <td>Daniel Ricciardo</td>\n",
       "    </tr>\n",
       "    <tr>\n",
       "      <th>23418</th>\n",
       "      <td>25132</td>\n",
       "      <td>1060</td>\n",
       "      <td>817</td>\n",
       "      <td>1</td>\n",
       "      <td>3</td>\n",
       "      <td>13</td>\n",
       "      <td>7</td>\n",
       "      <td>7</td>\n",
       "      <td>7</td>\n",
       "      <td>6.0</td>\n",
       "      <td>...</td>\n",
       "      <td>56</td>\n",
       "      <td>14</td>\n",
       "      <td>1:08.820</td>\n",
       "      <td>225.876</td>\n",
       "      <td>1</td>\n",
       "      <td>ricciardo</td>\n",
       "      <td>RIC</td>\n",
       "      <td>1989-07-01</td>\n",
       "      <td>Australian</td>\n",
       "      <td>Daniel Ricciardo</td>\n",
       "    </tr>\n",
       "    <tr>\n",
       "      <th>23419</th>\n",
       "      <td>25150</td>\n",
       "      <td>1061</td>\n",
       "      <td>817</td>\n",
       "      <td>1</td>\n",
       "      <td>3</td>\n",
       "      <td>6</td>\n",
       "      <td>5</td>\n",
       "      <td>5</td>\n",
       "      <td>5</td>\n",
       "      <td>10.0</td>\n",
       "      <td>...</td>\n",
       "      <td>51</td>\n",
       "      <td>8</td>\n",
       "      <td>1:31.284</td>\n",
       "      <td>232.325</td>\n",
       "      <td>1</td>\n",
       "      <td>ricciardo</td>\n",
       "      <td>RIC</td>\n",
       "      <td>1989-07-01</td>\n",
       "      <td>Australian</td>\n",
       "      <td>Daniel Ricciardo</td>\n",
       "    </tr>\n",
       "    <tr>\n",
       "      <th>23420</th>\n",
       "      <td>25176</td>\n",
       "      <td>1062</td>\n",
       "      <td>817</td>\n",
       "      <td>1</td>\n",
       "      <td>3</td>\n",
       "      <td>11</td>\n",
       "      <td>11</td>\n",
       "      <td>11</td>\n",
       "      <td>11</td>\n",
       "      <td>0.0</td>\n",
       "      <td>...</td>\n",
       "      <td>58</td>\n",
       "      <td>13</td>\n",
       "      <td>1:22.802</td>\n",
       "      <td>190.473</td>\n",
       "      <td>11</td>\n",
       "      <td>ricciardo</td>\n",
       "      <td>RIC</td>\n",
       "      <td>1989-07-01</td>\n",
       "      <td>Australian</td>\n",
       "      <td>Daniel Ricciardo</td>\n",
       "    </tr>\n",
       "    <tr>\n",
       "      <th>23421</th>\n",
       "      <td>25189</td>\n",
       "      <td>1063</td>\n",
       "      <td>817</td>\n",
       "      <td>1</td>\n",
       "      <td>3</td>\n",
       "      <td>4</td>\n",
       "      <td>4</td>\n",
       "      <td>4</td>\n",
       "      <td>4</td>\n",
       "      <td>6.0</td>\n",
       "      <td>...</td>\n",
       "      <td>\\N</td>\n",
       "      <td>0</td>\n",
       "      <td>\\N</td>\n",
       "      <td>\\N</td>\n",
       "      <td>1</td>\n",
       "      <td>ricciardo</td>\n",
       "      <td>RIC</td>\n",
       "      <td>1989-07-01</td>\n",
       "      <td>Australian</td>\n",
       "      <td>Daniel Ricciardo</td>\n",
       "    </tr>\n",
       "    <tr>\n",
       "      <th>23422</th>\n",
       "      <td>25216</td>\n",
       "      <td>1064</td>\n",
       "      <td>817</td>\n",
       "      <td>1</td>\n",
       "      <td>3</td>\n",
       "      <td>10</td>\n",
       "      <td>11</td>\n",
       "      <td>11</td>\n",
       "      <td>11</td>\n",
       "      <td>0.0</td>\n",
       "      <td>...</td>\n",
       "      <td>59</td>\n",
       "      <td>11</td>\n",
       "      <td>1:14.920</td>\n",
       "      <td>204.650</td>\n",
       "      <td>11</td>\n",
       "      <td>ricciardo</td>\n",
       "      <td>RIC</td>\n",
       "      <td>1989-07-01</td>\n",
       "      <td>Australian</td>\n",
       "      <td>Daniel Ricciardo</td>\n",
       "    </tr>\n",
       "    <tr>\n",
       "      <th>23423</th>\n",
       "      <td>25226</td>\n",
       "      <td>1065</td>\n",
       "      <td>817</td>\n",
       "      <td>1</td>\n",
       "      <td>3</td>\n",
       "      <td>2</td>\n",
       "      <td>1</td>\n",
       "      <td>1</td>\n",
       "      <td>1</td>\n",
       "      <td>26.0</td>\n",
       "      <td>...</td>\n",
       "      <td>53</td>\n",
       "      <td>1</td>\n",
       "      <td>1:24.812</td>\n",
       "      <td>245.894</td>\n",
       "      <td>1</td>\n",
       "      <td>ricciardo</td>\n",
       "      <td>RIC</td>\n",
       "      <td>1989-07-01</td>\n",
       "      <td>Australian</td>\n",
       "      <td>Daniel Ricciardo</td>\n",
       "    </tr>\n",
       "    <tr>\n",
       "      <th>23424</th>\n",
       "      <td>25249</td>\n",
       "      <td>1066</td>\n",
       "      <td>817</td>\n",
       "      <td>1</td>\n",
       "      <td>3</td>\n",
       "      <td>5</td>\n",
       "      <td>4</td>\n",
       "      <td>4</td>\n",
       "      <td>4</td>\n",
       "      <td>12.0</td>\n",
       "      <td>...</td>\n",
       "      <td>24</td>\n",
       "      <td>9</td>\n",
       "      <td>1:39.124</td>\n",
       "      <td>212.388</td>\n",
       "      <td>1</td>\n",
       "      <td>ricciardo</td>\n",
       "      <td>RIC</td>\n",
       "      <td>1989-07-01</td>\n",
       "      <td>Australian</td>\n",
       "      <td>Daniel Ricciardo</td>\n",
       "    </tr>\n",
       "    <tr>\n",
       "      <th>23425</th>\n",
       "      <td>25278</td>\n",
       "      <td>1067</td>\n",
       "      <td>817</td>\n",
       "      <td>1</td>\n",
       "      <td>3</td>\n",
       "      <td>20</td>\n",
       "      <td>13</td>\n",
       "      <td>13</td>\n",
       "      <td>13</td>\n",
       "      <td>0.0</td>\n",
       "      <td>...</td>\n",
       "      <td>34</td>\n",
       "      <td>15</td>\n",
       "      <td>1:33.255</td>\n",
       "      <td>206.067</td>\n",
       "      <td>11</td>\n",
       "      <td>ricciardo</td>\n",
       "      <td>RIC</td>\n",
       "      <td>1989-07-01</td>\n",
       "      <td>Australian</td>\n",
       "      <td>Daniel Ricciardo</td>\n",
       "    </tr>\n",
       "    <tr>\n",
       "      <th>23426</th>\n",
       "      <td>25290</td>\n",
       "      <td>1069</td>\n",
       "      <td>817</td>\n",
       "      <td>1</td>\n",
       "      <td>3</td>\n",
       "      <td>6</td>\n",
       "      <td>5</td>\n",
       "      <td>5</td>\n",
       "      <td>5</td>\n",
       "      <td>10.0</td>\n",
       "      <td>...</td>\n",
       "      <td>43</td>\n",
       "      <td>8</td>\n",
       "      <td>1:40.345</td>\n",
       "      <td>197.785</td>\n",
       "      <td>1</td>\n",
       "      <td>ricciardo</td>\n",
       "      <td>RIC</td>\n",
       "      <td>1989-07-01</td>\n",
       "      <td>Australian</td>\n",
       "      <td>Daniel Ricciardo</td>\n",
       "    </tr>\n",
       "    <tr>\n",
       "      <th>23427</th>\n",
       "      <td>25317</td>\n",
       "      <td>1070</td>\n",
       "      <td>817</td>\n",
       "      <td>1</td>\n",
       "      <td>3</td>\n",
       "      <td>7</td>\n",
       "      <td>12</td>\n",
       "      <td>12</td>\n",
       "      <td>12</td>\n",
       "      <td>0.0</td>\n",
       "      <td>...</td>\n",
       "      <td>40</td>\n",
       "      <td>13</td>\n",
       "      <td>1:21.069</td>\n",
       "      <td>191.126</td>\n",
       "      <td>11</td>\n",
       "      <td>ricciardo</td>\n",
       "      <td>RIC</td>\n",
       "      <td>1989-07-01</td>\n",
       "      <td>Australian</td>\n",
       "      <td>Daniel Ricciardo</td>\n",
       "    </tr>\n",
       "    <tr>\n",
       "      <th>23428</th>\n",
       "      <td>25344</td>\n",
       "      <td>1071</td>\n",
       "      <td>817</td>\n",
       "      <td>1</td>\n",
       "      <td>3</td>\n",
       "      <td>11</td>\n",
       "      <td>DNF</td>\n",
       "      <td>R</td>\n",
       "      <td>19</td>\n",
       "      <td>0.0</td>\n",
       "      <td>...</td>\n",
       "      <td>40</td>\n",
       "      <td>17</td>\n",
       "      <td>1:14.443</td>\n",
       "      <td>208.379</td>\n",
       "      <td>75</td>\n",
       "      <td>ricciardo</td>\n",
       "      <td>RIC</td>\n",
       "      <td>1989-07-01</td>\n",
       "      <td>Australian</td>\n",
       "      <td>Daniel Ricciardo</td>\n",
       "    </tr>\n",
       "    <tr>\n",
       "      <th>23429</th>\n",
       "      <td>25357</td>\n",
       "      <td>1051</td>\n",
       "      <td>817</td>\n",
       "      <td>1</td>\n",
       "      <td>3</td>\n",
       "      <td>14</td>\n",
       "      <td>12</td>\n",
       "      <td>12</td>\n",
       "      <td>12</td>\n",
       "      <td>0.0</td>\n",
       "      <td>...</td>\n",
       "      <td>50</td>\n",
       "      <td>14</td>\n",
       "      <td>1:27.198</td>\n",
       "      <td>222.115</td>\n",
       "      <td>11</td>\n",
       "      <td>ricciardo</td>\n",
       "      <td>RIC</td>\n",
       "      <td>1989-07-01</td>\n",
       "      <td>Australian</td>\n",
       "      <td>Daniel Ricciardo</td>\n",
       "    </tr>\n",
       "    <tr>\n",
       "      <th>23430</th>\n",
       "      <td>25370</td>\n",
       "      <td>1072</td>\n",
       "      <td>817</td>\n",
       "      <td>1</td>\n",
       "      <td>3</td>\n",
       "      <td>11</td>\n",
       "      <td>5</td>\n",
       "      <td>5</td>\n",
       "      <td>5</td>\n",
       "      <td>10.0</td>\n",
       "      <td>...</td>\n",
       "      <td>43</td>\n",
       "      <td>11</td>\n",
       "      <td>1:32.716</td>\n",
       "      <td>239.725</td>\n",
       "      <td>1</td>\n",
       "      <td>ricciardo</td>\n",
       "      <td>RIC</td>\n",
       "      <td>1989-07-01</td>\n",
       "      <td>Australian</td>\n",
       "      <td>Daniel Ricciardo</td>\n",
       "    </tr>\n",
       "    <tr>\n",
       "      <th>23431</th>\n",
       "      <td>25397</td>\n",
       "      <td>1073</td>\n",
       "      <td>817</td>\n",
       "      <td>1</td>\n",
       "      <td>3</td>\n",
       "      <td>10</td>\n",
       "      <td>12</td>\n",
       "      <td>12</td>\n",
       "      <td>12</td>\n",
       "      <td>0.0</td>\n",
       "      <td>...</td>\n",
       "      <td>48</td>\n",
       "      <td>14</td>\n",
       "      <td>1:28.723</td>\n",
       "      <td>214.280</td>\n",
       "      <td>11</td>\n",
       "      <td>ricciardo</td>\n",
       "      <td>RIC</td>\n",
       "      <td>1989-07-01</td>\n",
       "      <td>Australian</td>\n",
       "      <td>Daniel Ricciardo</td>\n",
       "    </tr>\n",
       "  </tbody>\n",
       "</table>\n",
       "<p>22 rows × 23 columns</p>\n",
       "</div>"
      ],
      "text/plain": [
       "       resultId  raceId  driverId  constructorId number  grid position  \\\n",
       "23410     24972    1052       817              1      3     6        7   \n",
       "23411     24991    1053       817              1      3     6        6   \n",
       "23412     25014    1054       817              1      3    16        9   \n",
       "23413     25031    1055       817              1      3     7        6   \n",
       "23414     25057    1056       817              1      3    12       12   \n",
       "23415     25074    1057       817              1      3    13        9   \n",
       "23416     25091    1059       817              1      3    10        6   \n",
       "23417     25118    1058       817              1      3    13       13   \n",
       "23418     25132    1060       817              1      3    13        7   \n",
       "23419     25150    1061       817              1      3     6        5   \n",
       "23420     25176    1062       817              1      3    11       11   \n",
       "23421     25189    1063       817              1      3     4        4   \n",
       "23422     25216    1064       817              1      3    10       11   \n",
       "23423     25226    1065       817              1      3     2        1   \n",
       "23424     25249    1066       817              1      3     5        4   \n",
       "23425     25278    1067       817              1      3    20       13   \n",
       "23426     25290    1069       817              1      3     6        5   \n",
       "23427     25317    1070       817              1      3     7       12   \n",
       "23428     25344    1071       817              1      3    11      DNF   \n",
       "23429     25357    1051       817              1      3    14       12   \n",
       "23430     25370    1072       817              1      3    11        5   \n",
       "23431     25397    1073       817              1      3    10       12   \n",
       "\n",
       "      positionText  positionOrder  points  ...  fastestLap rank  \\\n",
       "23410            7              7     6.0  ...          36   10   \n",
       "23411            6              6     8.0  ...          54   12   \n",
       "23412            9              9     2.0  ...          64   10   \n",
       "23413            6              6     8.0  ...          60   10   \n",
       "23414           12             12     0.0  ...          43    4   \n",
       "23415            9              9     2.0  ...          43   14   \n",
       "23416            6              6     8.0  ...          45   14   \n",
       "23417           13             13     0.0  ...          45    9   \n",
       "23418            7              7     6.0  ...          56   14   \n",
       "23419            5              5    10.0  ...          51    8   \n",
       "23420           11             11     0.0  ...          58   13   \n",
       "23421            4              4     6.0  ...          \\N    0   \n",
       "23422           11             11     0.0  ...          59   11   \n",
       "23423            1              1    26.0  ...          53    1   \n",
       "23424            4              4    12.0  ...          24    9   \n",
       "23425           13             13     0.0  ...          34   15   \n",
       "23426            5              5    10.0  ...          43    8   \n",
       "23427           12             12     0.0  ...          40   13   \n",
       "23428            R             19     0.0  ...          40   17   \n",
       "23429           12             12     0.0  ...          50   14   \n",
       "23430            5              5    10.0  ...          43   11   \n",
       "23431           12             12     0.0  ...          48   14   \n",
       "\n",
       "      fastestLapTime fastestLapSpeed statusId  driverRef code         dob  \\\n",
       "23410       1:34.932         205.233        1  ricciardo  RIC  1989-07-01   \n",
       "23411       1:19.341         222.739        1  ricciardo  RIC  1989-07-01   \n",
       "23412       1:21.987         204.310        1  ricciardo  RIC  1989-07-01   \n",
       "23413       1:21.853         205.612        1  ricciardo  RIC  1989-07-01   \n",
       "23414       1:14.578         161.082       11  ricciardo  RIC  1989-07-01   \n",
       "23415       1:45.713         204.428        1  ricciardo  RIC  1989-07-01   \n",
       "23416       1:38.324         213.896        1  ricciardo  RIC  1989-07-01   \n",
       "23417       1:09.305         224.295       11  ricciardo  RIC  1989-07-01   \n",
       "23418       1:08.820         225.876        1  ricciardo  RIC  1989-07-01   \n",
       "23419       1:31.284         232.325        1  ricciardo  RIC  1989-07-01   \n",
       "23420       1:22.802         190.473       11  ricciardo  RIC  1989-07-01   \n",
       "23421             \\N              \\N        1  ricciardo  RIC  1989-07-01   \n",
       "23422       1:14.920         204.650       11  ricciardo  RIC  1989-07-01   \n",
       "23423       1:24.812         245.894        1  ricciardo  RIC  1989-07-01   \n",
       "23424       1:39.124         212.388        1  ricciardo  RIC  1989-07-01   \n",
       "23425       1:33.255         206.067       11  ricciardo  RIC  1989-07-01   \n",
       "23426       1:40.345         197.785        1  ricciardo  RIC  1989-07-01   \n",
       "23427       1:21.069         191.126       11  ricciardo  RIC  1989-07-01   \n",
       "23428       1:14.443         208.379       75  ricciardo  RIC  1989-07-01   \n",
       "23429       1:27.198         222.115       11  ricciardo  RIC  1989-07-01   \n",
       "23430       1:32.716         239.725        1  ricciardo  RIC  1989-07-01   \n",
       "23431       1:28.723         214.280       11  ricciardo  RIC  1989-07-01   \n",
       "\n",
       "      nationality        driverName  \n",
       "23410  Australian  Daniel Ricciardo  \n",
       "23411  Australian  Daniel Ricciardo  \n",
       "23412  Australian  Daniel Ricciardo  \n",
       "23413  Australian  Daniel Ricciardo  \n",
       "23414  Australian  Daniel Ricciardo  \n",
       "23415  Australian  Daniel Ricciardo  \n",
       "23416  Australian  Daniel Ricciardo  \n",
       "23417  Australian  Daniel Ricciardo  \n",
       "23418  Australian  Daniel Ricciardo  \n",
       "23419  Australian  Daniel Ricciardo  \n",
       "23420  Australian  Daniel Ricciardo  \n",
       "23421  Australian  Daniel Ricciardo  \n",
       "23422  Australian  Daniel Ricciardo  \n",
       "23423  Australian  Daniel Ricciardo  \n",
       "23424  Australian  Daniel Ricciardo  \n",
       "23425  Australian  Daniel Ricciardo  \n",
       "23426  Australian  Daniel Ricciardo  \n",
       "23427  Australian  Daniel Ricciardo  \n",
       "23428  Australian  Daniel Ricciardo  \n",
       "23429  Australian  Daniel Ricciardo  \n",
       "23430  Australian  Daniel Ricciardo  \n",
       "23431  Australian  Daniel Ricciardo  \n",
       "\n",
       "[22 rows x 23 columns]"
      ]
     },
     "execution_count": 129,
     "metadata": {},
     "output_type": "execute_result"
    }
   ],
   "source": [
    "results_year_driver"
   ]
  },
  {
   "cell_type": "code",
   "execution_count": 130,
   "id": "db933658",
   "metadata": {},
   "outputs": [],
   "source": [
    "results_yd = results_year_driver[['driverId',\\\n",
    "    'driverName','raceId','grid','position']]"
   ]
  },
  {
   "cell_type": "code",
   "execution_count": 131,
   "id": "ff2ade6f",
   "metadata": {},
   "outputs": [
    {
     "data": {
      "text/html": [
       "<div>\n",
       "<style scoped>\n",
       "    .dataframe tbody tr th:only-of-type {\n",
       "        vertical-align: middle;\n",
       "    }\n",
       "\n",
       "    .dataframe tbody tr th {\n",
       "        vertical-align: top;\n",
       "    }\n",
       "\n",
       "    .dataframe thead th {\n",
       "        text-align: right;\n",
       "    }\n",
       "</style>\n",
       "<table border=\"1\" class=\"dataframe\">\n",
       "  <thead>\n",
       "    <tr style=\"text-align: right;\">\n",
       "      <th></th>\n",
       "      <th>driverId</th>\n",
       "      <th>driverName</th>\n",
       "      <th>raceId</th>\n",
       "      <th>grid</th>\n",
       "      <th>position</th>\n",
       "    </tr>\n",
       "  </thead>\n",
       "  <tbody>\n",
       "    <tr>\n",
       "      <th>23410</th>\n",
       "      <td>817</td>\n",
       "      <td>Daniel Ricciardo</td>\n",
       "      <td>1052</td>\n",
       "      <td>6</td>\n",
       "      <td>7</td>\n",
       "    </tr>\n",
       "    <tr>\n",
       "      <th>23411</th>\n",
       "      <td>817</td>\n",
       "      <td>Daniel Ricciardo</td>\n",
       "      <td>1053</td>\n",
       "      <td>6</td>\n",
       "      <td>6</td>\n",
       "    </tr>\n",
       "    <tr>\n",
       "      <th>23412</th>\n",
       "      <td>817</td>\n",
       "      <td>Daniel Ricciardo</td>\n",
       "      <td>1054</td>\n",
       "      <td>16</td>\n",
       "      <td>9</td>\n",
       "    </tr>\n",
       "    <tr>\n",
       "      <th>23413</th>\n",
       "      <td>817</td>\n",
       "      <td>Daniel Ricciardo</td>\n",
       "      <td>1055</td>\n",
       "      <td>7</td>\n",
       "      <td>6</td>\n",
       "    </tr>\n",
       "    <tr>\n",
       "      <th>23414</th>\n",
       "      <td>817</td>\n",
       "      <td>Daniel Ricciardo</td>\n",
       "      <td>1056</td>\n",
       "      <td>12</td>\n",
       "      <td>12</td>\n",
       "    </tr>\n",
       "  </tbody>\n",
       "</table>\n",
       "</div>"
      ],
      "text/plain": [
       "       driverId        driverName  raceId  grid position\n",
       "23410       817  Daniel Ricciardo    1052     6        7\n",
       "23411       817  Daniel Ricciardo    1053     6        6\n",
       "23412       817  Daniel Ricciardo    1054    16        9\n",
       "23413       817  Daniel Ricciardo    1055     7        6\n",
       "23414       817  Daniel Ricciardo    1056    12       12"
      ]
     },
     "execution_count": 131,
     "metadata": {},
     "output_type": "execute_result"
    }
   ],
   "source": [
    "results_yd.head()"
   ]
  },
  {
   "cell_type": "code",
   "execution_count": 132,
   "id": "e190eda4",
   "metadata": {},
   "outputs": [],
   "source": [
    "results_yd_abr = results_yd[['position','grid']].sort_values(['position','grid'])"
   ]
  },
  {
   "cell_type": "code",
   "execution_count": 133,
   "id": "79479401",
   "metadata": {},
   "outputs": [
    {
     "data": {
      "text/html": [
       "<div>\n",
       "<style scoped>\n",
       "    .dataframe tbody tr th:only-of-type {\n",
       "        vertical-align: middle;\n",
       "    }\n",
       "\n",
       "    .dataframe tbody tr th {\n",
       "        vertical-align: top;\n",
       "    }\n",
       "\n",
       "    .dataframe thead th {\n",
       "        text-align: right;\n",
       "    }\n",
       "</style>\n",
       "<table border=\"1\" class=\"dataframe\">\n",
       "  <thead>\n",
       "    <tr style=\"text-align: right;\">\n",
       "      <th></th>\n",
       "      <th>position</th>\n",
       "      <th>grid</th>\n",
       "    </tr>\n",
       "  </thead>\n",
       "  <tbody>\n",
       "    <tr>\n",
       "      <th>23423</th>\n",
       "      <td>1</td>\n",
       "      <td>2</td>\n",
       "    </tr>\n",
       "    <tr>\n",
       "      <th>23422</th>\n",
       "      <td>11</td>\n",
       "      <td>10</td>\n",
       "    </tr>\n",
       "    <tr>\n",
       "      <th>23420</th>\n",
       "      <td>11</td>\n",
       "      <td>11</td>\n",
       "    </tr>\n",
       "    <tr>\n",
       "      <th>23427</th>\n",
       "      <td>12</td>\n",
       "      <td>7</td>\n",
       "    </tr>\n",
       "    <tr>\n",
       "      <th>23431</th>\n",
       "      <td>12</td>\n",
       "      <td>10</td>\n",
       "    </tr>\n",
       "  </tbody>\n",
       "</table>\n",
       "</div>"
      ],
      "text/plain": [
       "      position  grid\n",
       "23423        1     2\n",
       "23422       11    10\n",
       "23420       11    11\n",
       "23427       12     7\n",
       "23431       12    10"
      ]
     },
     "execution_count": 133,
     "metadata": {},
     "output_type": "execute_result"
    }
   ],
   "source": [
    "results_yd_abr.head()#['position']#.iloc[11]"
   ]
  },
  {
   "cell_type": "code",
   "execution_count": 134,
   "id": "16921fcd",
   "metadata": {},
   "outputs": [
    {
     "data": {
      "text/plain": [
       "['1', 2, 1]"
      ]
     },
     "execution_count": 134,
     "metadata": {},
     "output_type": "execute_result"
    }
   ],
   "source": [
    "list(results_yd_abr.iloc[0,:])+[1]"
   ]
  },
  {
   "cell_type": "code",
   "execution_count": 135,
   "id": "fe066dd8",
   "metadata": {},
   "outputs": [],
   "source": [
    "posit_list = []\n",
    "\n",
    "curr_posit = list(results_yd_abr.iloc[0,:]) + [1]\n",
    "\n",
    "for i in range(1,len(results_yd_abr['position'])):\n",
    "    if results_yd_abr['position'].iloc[i] == results_yd_abr['position'].iloc[i-1]:\n",
    "        if results_yd_abr['grid'].iloc[i] == results_yd_abr['grid'].iloc[i-1]:\n",
    "            curr_posit[2] += 1\n",
    "        else:\n",
    "            posit_list.append(curr_posit)\n",
    "            curr_posit = list(results_yd_abr.iloc[i,:]) + [1]\n",
    "    else:\n",
    "        posit_list.append(curr_posit)\n",
    "        curr_posit = list(results_yd_abr.iloc[i,:]) + [1]\n",
    "\n",
    "posit_list.append(curr_posit)\n"
   ]
  },
  {
   "cell_type": "code",
   "execution_count": 136,
   "id": "996d5aab",
   "metadata": {},
   "outputs": [
    {
     "data": {
      "text/plain": [
       "['DNF', 11, 1]"
      ]
     },
     "execution_count": 136,
     "metadata": {},
     "output_type": "execute_result"
    }
   ],
   "source": [
    "curr_posit"
   ]
  },
  {
   "cell_type": "code",
   "execution_count": 137,
   "id": "4cd2c1c2",
   "metadata": {},
   "outputs": [],
   "source": [
    "posit_frame = pd.DataFrame(posit_list,columns=['position','grid','weight'])\\\n",
    "    .sort_values(['position','weight'],ascending=[True,False])"
   ]
  },
  {
   "cell_type": "code",
   "execution_count": 138,
   "id": "5745ad57",
   "metadata": {},
   "outputs": [],
   "source": [
    "labels_line = list(posit_frame['grid'])+list(posit_frame['position'])\n",
    "labels_uni_line = list(dict.fromkeys(labels_line))\n",
    "labels_final = [labels_uni_line.index(x) for x in labels_line]\n",
    "weights_final = list(posit_frame['weight'])"
   ]
  },
  {
   "cell_type": "code",
   "execution_count": 139,
   "id": "75d0661e",
   "metadata": {},
   "outputs": [
    {
     "data": {
      "text/plain": [
       "[2,\n",
       " 10,\n",
       " 11,\n",
       " 7,\n",
       " 12,\n",
       " 14,\n",
       " 13,\n",
       " 20,\n",
       " 4,\n",
       " 5,\n",
       " 6,\n",
       " 16,\n",
       " '1',\n",
       " '11',\n",
       " '12',\n",
       " '13',\n",
       " '4',\n",
       " '5',\n",
       " '6',\n",
       " '7',\n",
       " '9',\n",
       " 'DNF']"
      ]
     },
     "execution_count": 139,
     "metadata": {},
     "output_type": "execute_result"
    }
   ],
   "source": [
    "labels_uni_line"
   ]
  },
  {
   "cell_type": "code",
   "execution_count": 140,
   "id": "6e2fb2ba",
   "metadata": {},
   "outputs": [
    {
     "data": {
      "text/plain": [
       "[0, 1, 2, 3, 1, 4, 5, 6, 7, 8, 9, 10, 2, 10, 3, 1, 10, 6, 6, 11, 2]"
      ]
     },
     "execution_count": 140,
     "metadata": {},
     "output_type": "execute_result"
    }
   ],
   "source": [
    "labels_final[:len(labels_final)//2]"
   ]
  },
  {
   "cell_type": "code",
   "execution_count": 141,
   "id": "17730d7e",
   "metadata": {},
   "outputs": [
    {
     "name": "stdout",
     "output_type": "stream",
     "text": [
      "[0, 1, 2, 3, 1, 4, 5, 6, 7, 8, 9, 10, 2, 10, 3, 1, 10, 6, 6, 11, 2]\n",
      "[12, 13, 13, 14, 14, 14, 14, 15, 15, 16, 16, 17, 17, 18, 18, 18, 19, 19, 20, 20, 21]\n",
      "[1, 1, 1, 1, 1, 1, 1, 1, 1, 1, 1, 2, 1, 1, 1, 1, 1, 1, 1, 1, 1]\n"
     ]
    }
   ],
   "source": [
    "print(labels_final[:len(labels_final)//2]) # indices correspond to labels, eg A1, A2, A1, B1, .\n",
    "print(labels_final[len(labels_final)//2:])\n",
    "print(weights_final)"
   ]
  },
  {
   "cell_type": "code",
   "execution_count": 142,
   "id": "46f6178f",
   "metadata": {},
   "outputs": [],
   "source": [
    "colorstr = 'aliceblue, antiquewhite, aqua, aquamarine, azure, beige, bisque, black, blanchedalmond, blue, blueviolet, brown, burlywood, cadetblue, chartreuse, chocolate, coral, cornflowerblue, cornsilk, crimson, cyan, darkblue, darkcyan, darkgoldenrod, darkgray, darkgrey, darkgreen, darkkhaki, darkmagenta, darkolivegreen, darkorange, darkorchid, darkred, darksalmon, darkseagreen, darkslateblue, darkslategray, darkslategrey, darkturquoise, darkviolet, deeppink, deepskyblue, dimgray, dimgrey, dodgerblue, firebrick, floralwhite, forestgreen, fuchsia, gainsboro, ghostwhite, gold, goldenrod, gray, grey, green, greenyellow, honeydew, indianred, indigo, ivory, lavender, lavenderblush, lemonchiffon, lightblue, lightcoral, lightcyan, lightgoldenrodyellow, lightgray, lightgrey, lightgreen, lightpink, lightsalmon, lightseagreen, lightskyblue, lightslategray, lightslategrey, lightsteelblue, lightyellow, lime, limegreen, linen, magenta, maroon, mediumaquamarine, mediumblue, mediumorchid, mediumpurple, mediumseagreen, mediumslateblue, mediumspringgreen, mediumturquoise, mediumvioletred, midnightblue, mintcream, mistyrose, moccasin, navy, oldlace, olive, olivedrab, orange, orangered, orchid, palegoldenrod, palegreen, paleturquoise, palevioletred, papayawhip, peachpuff, peru, pink, plum, powderblue, purple, red, rosybrown, royalblue, rebeccapurple, saddlebrown, salmon, sandybrown, seagreen, seashell, sienna, silver, skyblue, slateblue, slategray, slategrey, snow, springgreen, steelblue, tan, teal, thistle, tomato, turquoise, violet, wheat, white, whitesmoke, yellow, yellowgreen'"
   ]
  },
  {
   "cell_type": "code",
   "execution_count": 143,
   "id": "0b231e74",
   "metadata": {},
   "outputs": [],
   "source": [
    "colorbiglist = colorstr.split(', ')"
   ]
  },
  {
   "cell_type": "code",
   "execution_count": 144,
   "id": "31761303",
   "metadata": {},
   "outputs": [],
   "source": [
    "\n",
    "\n",
    "random.seed(47)\n",
    "\n",
    "colorlist=random.sample(colorbiglist,k=len(labels_uni_line))"
   ]
  },
  {
   "cell_type": "code",
   "execution_count": 145,
   "id": "d031fc70",
   "metadata": {},
   "outputs": [
    {
     "data": {
      "text/plain": [
       "['mediumspringgreen',\n",
       " 'coral',\n",
       " 'peru',\n",
       " 'rosybrown',\n",
       " 'mediumpurple',\n",
       " 'lightcoral',\n",
       " 'springgreen',\n",
       " 'oldlace',\n",
       " 'olivedrab',\n",
       " 'blueviolet',\n",
       " 'palevioletred',\n",
       " 'bisque',\n",
       " 'darkgreen',\n",
       " 'aliceblue',\n",
       " 'lightgoldenrodyellow',\n",
       " 'seashell',\n",
       " 'aqua',\n",
       " 'royalblue',\n",
       " 'palegoldenrod',\n",
       " 'red',\n",
       " 'deeppink',\n",
       " 'lightsalmon']"
      ]
     },
     "execution_count": 145,
     "metadata": {},
     "output_type": "execute_result"
    }
   ],
   "source": [
    "colorlist"
   ]
  },
  {
   "cell_type": "code",
   "execution_count": 146,
   "id": "2f2aad8b",
   "metadata": {},
   "outputs": [],
   "source": [
    "# override gray link colors with 'source' colors\n",
    "opacity = 0.2\n",
    "\n",
    "colorlinks = [colorlist[src].replace(\"0.8\", str(opacity))\n",
    "                                    for src in labels_final[:len(labels_final)//2]]"
   ]
  },
  {
   "cell_type": "code",
   "execution_count": 199,
   "id": "8ae1e5ce",
   "metadata": {},
   "outputs": [
    {
     "data": {
      "application/vnd.plotly.v1+json": {
       "config": {
        "plotlyServerURL": "https://plot.ly"
       },
       "data": [
        {
         "link": {
          "source": [
           0,
           1,
           2,
           3,
           1,
           4,
           5,
           6,
           7,
           8,
           9,
           10,
           2,
           10,
           3,
           1,
           10,
           6,
           6,
           11,
           2
          ],
          "target": [
           12,
           13,
           13,
           14,
           14,
           14,
           14,
           15,
           15,
           16,
           16,
           17,
           17,
           18,
           18,
           18,
           19,
           19,
           20,
           20,
           21
          ],
          "value": [
           1,
           1,
           1,
           1,
           1,
           1,
           1,
           1,
           1,
           1,
           1,
           2,
           1,
           1,
           1,
           1,
           1,
           1,
           1,
           1,
           1
          ]
         },
         "node": {
          "label": [
           2,
           10,
           11,
           7,
           12,
           14,
           13,
           20,
           4,
           5,
           6,
           16,
           "1",
           "11",
           "12",
           "13",
           "4",
           "5",
           "6",
           "7",
           "9",
           "DNF"
          ],
          "line": {
           "color": "black",
           "width": 0.5
          },
          "pad": 15,
          "thickness": 20
         },
         "type": "sankey"
        }
       ],
       "layout": {
        "font": {
         "size": 10
        },
        "template": {
         "data": {
          "bar": [
           {
            "error_x": {
             "color": "#2a3f5f"
            },
            "error_y": {
             "color": "#2a3f5f"
            },
            "marker": {
             "line": {
              "color": "#E5ECF6",
              "width": 0.5
             },
             "pattern": {
              "fillmode": "overlay",
              "size": 10,
              "solidity": 0.2
             }
            },
            "type": "bar"
           }
          ],
          "barpolar": [
           {
            "marker": {
             "line": {
              "color": "#E5ECF6",
              "width": 0.5
             },
             "pattern": {
              "fillmode": "overlay",
              "size": 10,
              "solidity": 0.2
             }
            },
            "type": "barpolar"
           }
          ],
          "carpet": [
           {
            "aaxis": {
             "endlinecolor": "#2a3f5f",
             "gridcolor": "white",
             "linecolor": "white",
             "minorgridcolor": "white",
             "startlinecolor": "#2a3f5f"
            },
            "baxis": {
             "endlinecolor": "#2a3f5f",
             "gridcolor": "white",
             "linecolor": "white",
             "minorgridcolor": "white",
             "startlinecolor": "#2a3f5f"
            },
            "type": "carpet"
           }
          ],
          "choropleth": [
           {
            "colorbar": {
             "outlinewidth": 0,
             "ticks": ""
            },
            "type": "choropleth"
           }
          ],
          "contour": [
           {
            "colorbar": {
             "outlinewidth": 0,
             "ticks": ""
            },
            "colorscale": [
             [
              0,
              "#0d0887"
             ],
             [
              0.1111111111111111,
              "#46039f"
             ],
             [
              0.2222222222222222,
              "#7201a8"
             ],
             [
              0.3333333333333333,
              "#9c179e"
             ],
             [
              0.4444444444444444,
              "#bd3786"
             ],
             [
              0.5555555555555556,
              "#d8576b"
             ],
             [
              0.6666666666666666,
              "#ed7953"
             ],
             [
              0.7777777777777778,
              "#fb9f3a"
             ],
             [
              0.8888888888888888,
              "#fdca26"
             ],
             [
              1,
              "#f0f921"
             ]
            ],
            "type": "contour"
           }
          ],
          "contourcarpet": [
           {
            "colorbar": {
             "outlinewidth": 0,
             "ticks": ""
            },
            "type": "contourcarpet"
           }
          ],
          "heatmap": [
           {
            "colorbar": {
             "outlinewidth": 0,
             "ticks": ""
            },
            "colorscale": [
             [
              0,
              "#0d0887"
             ],
             [
              0.1111111111111111,
              "#46039f"
             ],
             [
              0.2222222222222222,
              "#7201a8"
             ],
             [
              0.3333333333333333,
              "#9c179e"
             ],
             [
              0.4444444444444444,
              "#bd3786"
             ],
             [
              0.5555555555555556,
              "#d8576b"
             ],
             [
              0.6666666666666666,
              "#ed7953"
             ],
             [
              0.7777777777777778,
              "#fb9f3a"
             ],
             [
              0.8888888888888888,
              "#fdca26"
             ],
             [
              1,
              "#f0f921"
             ]
            ],
            "type": "heatmap"
           }
          ],
          "heatmapgl": [
           {
            "colorbar": {
             "outlinewidth": 0,
             "ticks": ""
            },
            "colorscale": [
             [
              0,
              "#0d0887"
             ],
             [
              0.1111111111111111,
              "#46039f"
             ],
             [
              0.2222222222222222,
              "#7201a8"
             ],
             [
              0.3333333333333333,
              "#9c179e"
             ],
             [
              0.4444444444444444,
              "#bd3786"
             ],
             [
              0.5555555555555556,
              "#d8576b"
             ],
             [
              0.6666666666666666,
              "#ed7953"
             ],
             [
              0.7777777777777778,
              "#fb9f3a"
             ],
             [
              0.8888888888888888,
              "#fdca26"
             ],
             [
              1,
              "#f0f921"
             ]
            ],
            "type": "heatmapgl"
           }
          ],
          "histogram": [
           {
            "marker": {
             "pattern": {
              "fillmode": "overlay",
              "size": 10,
              "solidity": 0.2
             }
            },
            "type": "histogram"
           }
          ],
          "histogram2d": [
           {
            "colorbar": {
             "outlinewidth": 0,
             "ticks": ""
            },
            "colorscale": [
             [
              0,
              "#0d0887"
             ],
             [
              0.1111111111111111,
              "#46039f"
             ],
             [
              0.2222222222222222,
              "#7201a8"
             ],
             [
              0.3333333333333333,
              "#9c179e"
             ],
             [
              0.4444444444444444,
              "#bd3786"
             ],
             [
              0.5555555555555556,
              "#d8576b"
             ],
             [
              0.6666666666666666,
              "#ed7953"
             ],
             [
              0.7777777777777778,
              "#fb9f3a"
             ],
             [
              0.8888888888888888,
              "#fdca26"
             ],
             [
              1,
              "#f0f921"
             ]
            ],
            "type": "histogram2d"
           }
          ],
          "histogram2dcontour": [
           {
            "colorbar": {
             "outlinewidth": 0,
             "ticks": ""
            },
            "colorscale": [
             [
              0,
              "#0d0887"
             ],
             [
              0.1111111111111111,
              "#46039f"
             ],
             [
              0.2222222222222222,
              "#7201a8"
             ],
             [
              0.3333333333333333,
              "#9c179e"
             ],
             [
              0.4444444444444444,
              "#bd3786"
             ],
             [
              0.5555555555555556,
              "#d8576b"
             ],
             [
              0.6666666666666666,
              "#ed7953"
             ],
             [
              0.7777777777777778,
              "#fb9f3a"
             ],
             [
              0.8888888888888888,
              "#fdca26"
             ],
             [
              1,
              "#f0f921"
             ]
            ],
            "type": "histogram2dcontour"
           }
          ],
          "mesh3d": [
           {
            "colorbar": {
             "outlinewidth": 0,
             "ticks": ""
            },
            "type": "mesh3d"
           }
          ],
          "parcoords": [
           {
            "line": {
             "colorbar": {
              "outlinewidth": 0,
              "ticks": ""
             }
            },
            "type": "parcoords"
           }
          ],
          "pie": [
           {
            "automargin": true,
            "type": "pie"
           }
          ],
          "scatter": [
           {
            "marker": {
             "colorbar": {
              "outlinewidth": 0,
              "ticks": ""
             }
            },
            "type": "scatter"
           }
          ],
          "scatter3d": [
           {
            "line": {
             "colorbar": {
              "outlinewidth": 0,
              "ticks": ""
             }
            },
            "marker": {
             "colorbar": {
              "outlinewidth": 0,
              "ticks": ""
             }
            },
            "type": "scatter3d"
           }
          ],
          "scattercarpet": [
           {
            "marker": {
             "colorbar": {
              "outlinewidth": 0,
              "ticks": ""
             }
            },
            "type": "scattercarpet"
           }
          ],
          "scattergeo": [
           {
            "marker": {
             "colorbar": {
              "outlinewidth": 0,
              "ticks": ""
             }
            },
            "type": "scattergeo"
           }
          ],
          "scattergl": [
           {
            "marker": {
             "colorbar": {
              "outlinewidth": 0,
              "ticks": ""
             }
            },
            "type": "scattergl"
           }
          ],
          "scattermapbox": [
           {
            "marker": {
             "colorbar": {
              "outlinewidth": 0,
              "ticks": ""
             }
            },
            "type": "scattermapbox"
           }
          ],
          "scatterpolar": [
           {
            "marker": {
             "colorbar": {
              "outlinewidth": 0,
              "ticks": ""
             }
            },
            "type": "scatterpolar"
           }
          ],
          "scatterpolargl": [
           {
            "marker": {
             "colorbar": {
              "outlinewidth": 0,
              "ticks": ""
             }
            },
            "type": "scatterpolargl"
           }
          ],
          "scatterternary": [
           {
            "marker": {
             "colorbar": {
              "outlinewidth": 0,
              "ticks": ""
             }
            },
            "type": "scatterternary"
           }
          ],
          "surface": [
           {
            "colorbar": {
             "outlinewidth": 0,
             "ticks": ""
            },
            "colorscale": [
             [
              0,
              "#0d0887"
             ],
             [
              0.1111111111111111,
              "#46039f"
             ],
             [
              0.2222222222222222,
              "#7201a8"
             ],
             [
              0.3333333333333333,
              "#9c179e"
             ],
             [
              0.4444444444444444,
              "#bd3786"
             ],
             [
              0.5555555555555556,
              "#d8576b"
             ],
             [
              0.6666666666666666,
              "#ed7953"
             ],
             [
              0.7777777777777778,
              "#fb9f3a"
             ],
             [
              0.8888888888888888,
              "#fdca26"
             ],
             [
              1,
              "#f0f921"
             ]
            ],
            "type": "surface"
           }
          ],
          "table": [
           {
            "cells": {
             "fill": {
              "color": "#EBF0F8"
             },
             "line": {
              "color": "white"
             }
            },
            "header": {
             "fill": {
              "color": "#C8D4E3"
             },
             "line": {
              "color": "white"
             }
            },
            "type": "table"
           }
          ]
         },
         "layout": {
          "annotationdefaults": {
           "arrowcolor": "#2a3f5f",
           "arrowhead": 0,
           "arrowwidth": 1
          },
          "autotypenumbers": "strict",
          "coloraxis": {
           "colorbar": {
            "outlinewidth": 0,
            "ticks": ""
           }
          },
          "colorscale": {
           "diverging": [
            [
             0,
             "#8e0152"
            ],
            [
             0.1,
             "#c51b7d"
            ],
            [
             0.2,
             "#de77ae"
            ],
            [
             0.3,
             "#f1b6da"
            ],
            [
             0.4,
             "#fde0ef"
            ],
            [
             0.5,
             "#f7f7f7"
            ],
            [
             0.6,
             "#e6f5d0"
            ],
            [
             0.7,
             "#b8e186"
            ],
            [
             0.8,
             "#7fbc41"
            ],
            [
             0.9,
             "#4d9221"
            ],
            [
             1,
             "#276419"
            ]
           ],
           "sequential": [
            [
             0,
             "#0d0887"
            ],
            [
             0.1111111111111111,
             "#46039f"
            ],
            [
             0.2222222222222222,
             "#7201a8"
            ],
            [
             0.3333333333333333,
             "#9c179e"
            ],
            [
             0.4444444444444444,
             "#bd3786"
            ],
            [
             0.5555555555555556,
             "#d8576b"
            ],
            [
             0.6666666666666666,
             "#ed7953"
            ],
            [
             0.7777777777777778,
             "#fb9f3a"
            ],
            [
             0.8888888888888888,
             "#fdca26"
            ],
            [
             1,
             "#f0f921"
            ]
           ],
           "sequentialminus": [
            [
             0,
             "#0d0887"
            ],
            [
             0.1111111111111111,
             "#46039f"
            ],
            [
             0.2222222222222222,
             "#7201a8"
            ],
            [
             0.3333333333333333,
             "#9c179e"
            ],
            [
             0.4444444444444444,
             "#bd3786"
            ],
            [
             0.5555555555555556,
             "#d8576b"
            ],
            [
             0.6666666666666666,
             "#ed7953"
            ],
            [
             0.7777777777777778,
             "#fb9f3a"
            ],
            [
             0.8888888888888888,
             "#fdca26"
            ],
            [
             1,
             "#f0f921"
            ]
           ]
          },
          "colorway": [
           "#636efa",
           "#EF553B",
           "#00cc96",
           "#ab63fa",
           "#FFA15A",
           "#19d3f3",
           "#FF6692",
           "#B6E880",
           "#FF97FF",
           "#FECB52"
          ],
          "font": {
           "color": "#2a3f5f"
          },
          "geo": {
           "bgcolor": "white",
           "lakecolor": "white",
           "landcolor": "#E5ECF6",
           "showlakes": true,
           "showland": true,
           "subunitcolor": "white"
          },
          "hoverlabel": {
           "align": "left"
          },
          "hovermode": "closest",
          "mapbox": {
           "style": "light"
          },
          "paper_bgcolor": "white",
          "plot_bgcolor": "#E5ECF6",
          "polar": {
           "angularaxis": {
            "gridcolor": "white",
            "linecolor": "white",
            "ticks": ""
           },
           "bgcolor": "#E5ECF6",
           "radialaxis": {
            "gridcolor": "white",
            "linecolor": "white",
            "ticks": ""
           }
          },
          "scene": {
           "xaxis": {
            "backgroundcolor": "#E5ECF6",
            "gridcolor": "white",
            "gridwidth": 2,
            "linecolor": "white",
            "showbackground": true,
            "ticks": "",
            "zerolinecolor": "white"
           },
           "yaxis": {
            "backgroundcolor": "#E5ECF6",
            "gridcolor": "white",
            "gridwidth": 2,
            "linecolor": "white",
            "showbackground": true,
            "ticks": "",
            "zerolinecolor": "white"
           },
           "zaxis": {
            "backgroundcolor": "#E5ECF6",
            "gridcolor": "white",
            "gridwidth": 2,
            "linecolor": "white",
            "showbackground": true,
            "ticks": "",
            "zerolinecolor": "white"
           }
          },
          "shapedefaults": {
           "line": {
            "color": "#2a3f5f"
           }
          },
          "ternary": {
           "aaxis": {
            "gridcolor": "white",
            "linecolor": "white",
            "ticks": ""
           },
           "baxis": {
            "gridcolor": "white",
            "linecolor": "white",
            "ticks": ""
           },
           "bgcolor": "#E5ECF6",
           "caxis": {
            "gridcolor": "white",
            "linecolor": "white",
            "ticks": ""
           }
          },
          "title": {
           "x": 0.05
          },
          "xaxis": {
           "automargin": true,
           "gridcolor": "white",
           "linecolor": "white",
           "ticks": "",
           "title": {
            "standoff": 15
           },
           "zerolinecolor": "white",
           "zerolinewidth": 2
          },
          "yaxis": {
           "automargin": true,
           "gridcolor": "white",
           "linecolor": "white",
           "ticks": "",
           "title": {
            "standoff": 15
           },
           "zerolinecolor": "white",
           "zerolinewidth": 2
          }
         }
        },
        "title": {
         "text": "Starting positions and placings of driver Daniel Ricciardo in 2021"
        }
       }
      }
     },
     "metadata": {},
     "output_type": "display_data"
    }
   ],
   "source": [
    "fig = go.Figure(data=[go.Sankey(\n",
    "    node = dict(\n",
    "      pad = 15,\n",
    "      thickness = 20,\n",
    "      line = dict(color = \"black\", width = 0.5),\n",
    "      label = labels_uni_line\n",
    "    ),\n",
    "    link = dict(\n",
    "      source = labels_final[:len(labels_final)//2], # indices correspond to labels, eg A1, A2, A1, B1, ...\n",
    "      target = labels_final[len(labels_final)//2:],\n",
    "      value = weights_final\n",
    "  ))])\n",
    "\n",
    "fig.update_layout(title_text=\"Starting positions and placings of driver \"\\\n",
    "   + drivName + \" in \"+str(year), font_size=10)\n",
    "fig.show()"
   ]
  },
  {
   "cell_type": "markdown",
   "id": "9cf71107",
   "metadata": {},
   "source": [
    "#### Year, driver and start"
   ]
  },
  {
   "cell_type": "code",
   "execution_count": 148,
   "id": "e51c9e39",
   "metadata": {},
   "outputs": [],
   "source": [
    "pstn = year_drivers[(year_drivers['year']==year) & \\\n",
    "    (year_drivers['driverId']==drivID)]['grid'].sample().iloc[0]"
   ]
  },
  {
   "cell_type": "code",
   "execution_count": 149,
   "id": "ccd61a66",
   "metadata": {},
   "outputs": [],
   "source": [
    "results_year_driver_pstn = results_year_driver[results_year_driver['grid']==pstn]"
   ]
  },
  {
   "cell_type": "code",
   "execution_count": 150,
   "id": "fedf5d0f",
   "metadata": {},
   "outputs": [
    {
     "data": {
      "text/html": [
       "<div>\n",
       "<style scoped>\n",
       "    .dataframe tbody tr th:only-of-type {\n",
       "        vertical-align: middle;\n",
       "    }\n",
       "\n",
       "    .dataframe tbody tr th {\n",
       "        vertical-align: top;\n",
       "    }\n",
       "\n",
       "    .dataframe thead th {\n",
       "        text-align: right;\n",
       "    }\n",
       "</style>\n",
       "<table border=\"1\" class=\"dataframe\">\n",
       "  <thead>\n",
       "    <tr style=\"text-align: right;\">\n",
       "      <th></th>\n",
       "      <th>resultId</th>\n",
       "      <th>raceId</th>\n",
       "      <th>driverId</th>\n",
       "      <th>constructorId</th>\n",
       "      <th>number</th>\n",
       "      <th>grid</th>\n",
       "      <th>position</th>\n",
       "      <th>positionText</th>\n",
       "      <th>positionOrder</th>\n",
       "      <th>points</th>\n",
       "      <th>...</th>\n",
       "      <th>fastestLap</th>\n",
       "      <th>rank</th>\n",
       "      <th>fastestLapTime</th>\n",
       "      <th>fastestLapSpeed</th>\n",
       "      <th>statusId</th>\n",
       "      <th>driverRef</th>\n",
       "      <th>code</th>\n",
       "      <th>dob</th>\n",
       "      <th>nationality</th>\n",
       "      <th>driverName</th>\n",
       "    </tr>\n",
       "  </thead>\n",
       "  <tbody>\n",
       "    <tr>\n",
       "      <th>23415</th>\n",
       "      <td>25074</td>\n",
       "      <td>1057</td>\n",
       "      <td>817</td>\n",
       "      <td>1</td>\n",
       "      <td>3</td>\n",
       "      <td>13</td>\n",
       "      <td>9</td>\n",
       "      <td>9</td>\n",
       "      <td>9</td>\n",
       "      <td>2.0</td>\n",
       "      <td>...</td>\n",
       "      <td>43</td>\n",
       "      <td>14</td>\n",
       "      <td>1:45.713</td>\n",
       "      <td>204.428</td>\n",
       "      <td>1</td>\n",
       "      <td>ricciardo</td>\n",
       "      <td>RIC</td>\n",
       "      <td>1989-07-01</td>\n",
       "      <td>Australian</td>\n",
       "      <td>Daniel Ricciardo</td>\n",
       "    </tr>\n",
       "    <tr>\n",
       "      <th>23417</th>\n",
       "      <td>25118</td>\n",
       "      <td>1058</td>\n",
       "      <td>817</td>\n",
       "      <td>1</td>\n",
       "      <td>3</td>\n",
       "      <td>13</td>\n",
       "      <td>13</td>\n",
       "      <td>13</td>\n",
       "      <td>13</td>\n",
       "      <td>0.0</td>\n",
       "      <td>...</td>\n",
       "      <td>45</td>\n",
       "      <td>9</td>\n",
       "      <td>1:09.305</td>\n",
       "      <td>224.295</td>\n",
       "      <td>11</td>\n",
       "      <td>ricciardo</td>\n",
       "      <td>RIC</td>\n",
       "      <td>1989-07-01</td>\n",
       "      <td>Australian</td>\n",
       "      <td>Daniel Ricciardo</td>\n",
       "    </tr>\n",
       "    <tr>\n",
       "      <th>23418</th>\n",
       "      <td>25132</td>\n",
       "      <td>1060</td>\n",
       "      <td>817</td>\n",
       "      <td>1</td>\n",
       "      <td>3</td>\n",
       "      <td>13</td>\n",
       "      <td>7</td>\n",
       "      <td>7</td>\n",
       "      <td>7</td>\n",
       "      <td>6.0</td>\n",
       "      <td>...</td>\n",
       "      <td>56</td>\n",
       "      <td>14</td>\n",
       "      <td>1:08.820</td>\n",
       "      <td>225.876</td>\n",
       "      <td>1</td>\n",
       "      <td>ricciardo</td>\n",
       "      <td>RIC</td>\n",
       "      <td>1989-07-01</td>\n",
       "      <td>Australian</td>\n",
       "      <td>Daniel Ricciardo</td>\n",
       "    </tr>\n",
       "  </tbody>\n",
       "</table>\n",
       "<p>3 rows × 23 columns</p>\n",
       "</div>"
      ],
      "text/plain": [
       "       resultId  raceId  driverId  constructorId number  grid position  \\\n",
       "23415     25074    1057       817              1      3    13        9   \n",
       "23417     25118    1058       817              1      3    13       13   \n",
       "23418     25132    1060       817              1      3    13        7   \n",
       "\n",
       "      positionText  positionOrder  points  ...  fastestLap rank  \\\n",
       "23415            9              9     2.0  ...          43   14   \n",
       "23417           13             13     0.0  ...          45    9   \n",
       "23418            7              7     6.0  ...          56   14   \n",
       "\n",
       "      fastestLapTime fastestLapSpeed statusId  driverRef code         dob  \\\n",
       "23415       1:45.713         204.428        1  ricciardo  RIC  1989-07-01   \n",
       "23417       1:09.305         224.295       11  ricciardo  RIC  1989-07-01   \n",
       "23418       1:08.820         225.876        1  ricciardo  RIC  1989-07-01   \n",
       "\n",
       "      nationality        driverName  \n",
       "23415  Australian  Daniel Ricciardo  \n",
       "23417  Australian  Daniel Ricciardo  \n",
       "23418  Australian  Daniel Ricciardo  \n",
       "\n",
       "[3 rows x 23 columns]"
      ]
     },
     "execution_count": 150,
     "metadata": {},
     "output_type": "execute_result"
    }
   ],
   "source": [
    "results_year_driver_pstn"
   ]
  },
  {
   "cell_type": "code",
   "execution_count": 190,
   "id": "836bb000",
   "metadata": {},
   "outputs": [],
   "source": [
    "results_ydp = results_year_driver_pstn[['driverId',\\\n",
    "    'driverName','raceId','grid','position']]\n",
    "results_ydp_abr = results_ydp['position'].sort_values()"
   ]
  },
  {
   "cell_type": "code",
   "execution_count": 191,
   "id": "1084293a",
   "metadata": {},
   "outputs": [
    {
     "data": {
      "text/plain": [
       "'13'"
      ]
     },
     "execution_count": 191,
     "metadata": {},
     "output_type": "execute_result"
    }
   ],
   "source": [
    "results_ydp_abr.iloc[0]"
   ]
  },
  {
   "cell_type": "code",
   "execution_count": 188,
   "id": "28b625cd",
   "metadata": {},
   "outputs": [],
   "source": [
    "all_list = []\n",
    "\n",
    "curr_end_p = [results_ydp_abr.iloc[0], 1]\n",
    "\n",
    "for i in range(1,len(results_ydp_abr)):\n",
    "    if results_ydp_abr.iloc[i] == results_ydp_abr.iloc[i-1]:\n",
    "        curr_end_p[1] += 1\n",
    "    else:\n",
    "        all_list.append(curr_end_p)\n",
    "        curr_end_p = [results_ydp_abr.iloc[i], 1]\n",
    "\n",
    "\n",
    "all_list.append(curr_end_p)\n"
   ]
  },
  {
   "cell_type": "code",
   "execution_count": 193,
   "id": "b6ecde4a",
   "metadata": {},
   "outputs": [
    {
     "data": {
      "text/plain": [
       "[['13', 1], ['7', 1], ['9', 1]]"
      ]
     },
     "execution_count": 193,
     "metadata": {},
     "output_type": "execute_result"
    }
   ],
   "source": [
    "all_list"
   ]
  },
  {
   "cell_type": "code",
   "execution_count": 194,
   "id": "54cbfc5a",
   "metadata": {},
   "outputs": [],
   "source": [
    "all_frame = pd.DataFrame(all_list,columns=['position','weight'])\\\n",
    "    .sort_values(['position','weight'],ascending=[True,False])"
   ]
  },
  {
   "cell_type": "code",
   "execution_count": null,
   "id": "bad9a071",
   "metadata": {},
   "outputs": [],
   "source": [
    "labels_line = list(all_frame['position'])\n",
    "labels_uni_line = list(dict.fromkeys(labels_line))\n",
    "labels_final = [labels_uni_line.index(x) for x in labels_line]\n",
    "weights_final = list(all_frame['weight'])"
   ]
  },
  {
   "cell_type": "code",
   "execution_count": 197,
   "id": "e78841f6",
   "metadata": {},
   "outputs": [
    {
     "data": {
      "text/plain": [
       "[0,\n",
       " 1,\n",
       " 2,\n",
       " 3,\n",
       " 1,\n",
       " 4,\n",
       " 5,\n",
       " 6,\n",
       " 7,\n",
       " 8,\n",
       " 9,\n",
       " 10,\n",
       " 2,\n",
       " 10,\n",
       " 3,\n",
       " 1,\n",
       " 10,\n",
       " 6,\n",
       " 6,\n",
       " 11,\n",
       " 2,\n",
       " 12,\n",
       " 13,\n",
       " 13,\n",
       " 14,\n",
       " 14,\n",
       " 14,\n",
       " 14,\n",
       " 15,\n",
       " 15,\n",
       " 16,\n",
       " 16,\n",
       " 17,\n",
       " 17,\n",
       " 18,\n",
       " 18,\n",
       " 18,\n",
       " 19,\n",
       " 19,\n",
       " 20,\n",
       " 20,\n",
       " 21]"
      ]
     },
     "execution_count": 197,
     "metadata": {},
     "output_type": "execute_result"
    }
   ],
   "source": [
    "labels_final"
   ]
  },
  {
   "cell_type": "code",
   "execution_count": 198,
   "id": "df64ddae",
   "metadata": {},
   "outputs": [
    {
     "data": {
      "application/vnd.plotly.v1+json": {
       "config": {
        "plotlyServerURL": "https://plot.ly"
       },
       "data": [
        {
         "link": {
          "source": [
           817,
           817,
           817,
           817,
           817,
           817,
           817,
           817,
           817,
           817,
           817,
           817,
           817,
           817,
           817,
           817,
           817,
           817,
           817,
           817,
           817,
           817,
           817,
           817,
           817,
           817,
           817,
           817,
           817,
           817,
           817,
           817,
           817,
           817,
           817,
           817,
           817,
           817,
           817,
           817,
           817,
           817
          ],
          "target": [
           0,
           1,
           2,
           3,
           1,
           4,
           5,
           6,
           7,
           8,
           9,
           10,
           2,
           10,
           3,
           1,
           10,
           6,
           6,
           11,
           2,
           12,
           13,
           13,
           14,
           14,
           14,
           14,
           15,
           15,
           16,
           16,
           17,
           17,
           18,
           18,
           18,
           19,
           19,
           20,
           20,
           21
          ],
          "value": [
           1,
           1,
           1,
           1,
           1,
           1,
           1,
           1,
           1,
           1,
           1,
           2,
           1,
           1,
           1,
           1,
           1,
           1,
           1,
           1,
           1
          ]
         },
         "node": {
          "label": [
           2,
           10,
           11,
           7,
           12,
           14,
           13,
           20,
           4,
           5,
           6,
           16,
           "1",
           "11",
           "12",
           "13",
           "4",
           "5",
           "6",
           "7",
           "9",
           "DNF"
          ],
          "line": {
           "color": "black",
           "width": 0.5
          },
          "pad": 15,
          "thickness": 20
         },
         "type": "sankey"
        }
       ],
       "layout": {
        "font": {
         "size": 10
        },
        "template": {
         "data": {
          "bar": [
           {
            "error_x": {
             "color": "#2a3f5f"
            },
            "error_y": {
             "color": "#2a3f5f"
            },
            "marker": {
             "line": {
              "color": "#E5ECF6",
              "width": 0.5
             },
             "pattern": {
              "fillmode": "overlay",
              "size": 10,
              "solidity": 0.2
             }
            },
            "type": "bar"
           }
          ],
          "barpolar": [
           {
            "marker": {
             "line": {
              "color": "#E5ECF6",
              "width": 0.5
             },
             "pattern": {
              "fillmode": "overlay",
              "size": 10,
              "solidity": 0.2
             }
            },
            "type": "barpolar"
           }
          ],
          "carpet": [
           {
            "aaxis": {
             "endlinecolor": "#2a3f5f",
             "gridcolor": "white",
             "linecolor": "white",
             "minorgridcolor": "white",
             "startlinecolor": "#2a3f5f"
            },
            "baxis": {
             "endlinecolor": "#2a3f5f",
             "gridcolor": "white",
             "linecolor": "white",
             "minorgridcolor": "white",
             "startlinecolor": "#2a3f5f"
            },
            "type": "carpet"
           }
          ],
          "choropleth": [
           {
            "colorbar": {
             "outlinewidth": 0,
             "ticks": ""
            },
            "type": "choropleth"
           }
          ],
          "contour": [
           {
            "colorbar": {
             "outlinewidth": 0,
             "ticks": ""
            },
            "colorscale": [
             [
              0,
              "#0d0887"
             ],
             [
              0.1111111111111111,
              "#46039f"
             ],
             [
              0.2222222222222222,
              "#7201a8"
             ],
             [
              0.3333333333333333,
              "#9c179e"
             ],
             [
              0.4444444444444444,
              "#bd3786"
             ],
             [
              0.5555555555555556,
              "#d8576b"
             ],
             [
              0.6666666666666666,
              "#ed7953"
             ],
             [
              0.7777777777777778,
              "#fb9f3a"
             ],
             [
              0.8888888888888888,
              "#fdca26"
             ],
             [
              1,
              "#f0f921"
             ]
            ],
            "type": "contour"
           }
          ],
          "contourcarpet": [
           {
            "colorbar": {
             "outlinewidth": 0,
             "ticks": ""
            },
            "type": "contourcarpet"
           }
          ],
          "heatmap": [
           {
            "colorbar": {
             "outlinewidth": 0,
             "ticks": ""
            },
            "colorscale": [
             [
              0,
              "#0d0887"
             ],
             [
              0.1111111111111111,
              "#46039f"
             ],
             [
              0.2222222222222222,
              "#7201a8"
             ],
             [
              0.3333333333333333,
              "#9c179e"
             ],
             [
              0.4444444444444444,
              "#bd3786"
             ],
             [
              0.5555555555555556,
              "#d8576b"
             ],
             [
              0.6666666666666666,
              "#ed7953"
             ],
             [
              0.7777777777777778,
              "#fb9f3a"
             ],
             [
              0.8888888888888888,
              "#fdca26"
             ],
             [
              1,
              "#f0f921"
             ]
            ],
            "type": "heatmap"
           }
          ],
          "heatmapgl": [
           {
            "colorbar": {
             "outlinewidth": 0,
             "ticks": ""
            },
            "colorscale": [
             [
              0,
              "#0d0887"
             ],
             [
              0.1111111111111111,
              "#46039f"
             ],
             [
              0.2222222222222222,
              "#7201a8"
             ],
             [
              0.3333333333333333,
              "#9c179e"
             ],
             [
              0.4444444444444444,
              "#bd3786"
             ],
             [
              0.5555555555555556,
              "#d8576b"
             ],
             [
              0.6666666666666666,
              "#ed7953"
             ],
             [
              0.7777777777777778,
              "#fb9f3a"
             ],
             [
              0.8888888888888888,
              "#fdca26"
             ],
             [
              1,
              "#f0f921"
             ]
            ],
            "type": "heatmapgl"
           }
          ],
          "histogram": [
           {
            "marker": {
             "pattern": {
              "fillmode": "overlay",
              "size": 10,
              "solidity": 0.2
             }
            },
            "type": "histogram"
           }
          ],
          "histogram2d": [
           {
            "colorbar": {
             "outlinewidth": 0,
             "ticks": ""
            },
            "colorscale": [
             [
              0,
              "#0d0887"
             ],
             [
              0.1111111111111111,
              "#46039f"
             ],
             [
              0.2222222222222222,
              "#7201a8"
             ],
             [
              0.3333333333333333,
              "#9c179e"
             ],
             [
              0.4444444444444444,
              "#bd3786"
             ],
             [
              0.5555555555555556,
              "#d8576b"
             ],
             [
              0.6666666666666666,
              "#ed7953"
             ],
             [
              0.7777777777777778,
              "#fb9f3a"
             ],
             [
              0.8888888888888888,
              "#fdca26"
             ],
             [
              1,
              "#f0f921"
             ]
            ],
            "type": "histogram2d"
           }
          ],
          "histogram2dcontour": [
           {
            "colorbar": {
             "outlinewidth": 0,
             "ticks": ""
            },
            "colorscale": [
             [
              0,
              "#0d0887"
             ],
             [
              0.1111111111111111,
              "#46039f"
             ],
             [
              0.2222222222222222,
              "#7201a8"
             ],
             [
              0.3333333333333333,
              "#9c179e"
             ],
             [
              0.4444444444444444,
              "#bd3786"
             ],
             [
              0.5555555555555556,
              "#d8576b"
             ],
             [
              0.6666666666666666,
              "#ed7953"
             ],
             [
              0.7777777777777778,
              "#fb9f3a"
             ],
             [
              0.8888888888888888,
              "#fdca26"
             ],
             [
              1,
              "#f0f921"
             ]
            ],
            "type": "histogram2dcontour"
           }
          ],
          "mesh3d": [
           {
            "colorbar": {
             "outlinewidth": 0,
             "ticks": ""
            },
            "type": "mesh3d"
           }
          ],
          "parcoords": [
           {
            "line": {
             "colorbar": {
              "outlinewidth": 0,
              "ticks": ""
             }
            },
            "type": "parcoords"
           }
          ],
          "pie": [
           {
            "automargin": true,
            "type": "pie"
           }
          ],
          "scatter": [
           {
            "marker": {
             "colorbar": {
              "outlinewidth": 0,
              "ticks": ""
             }
            },
            "type": "scatter"
           }
          ],
          "scatter3d": [
           {
            "line": {
             "colorbar": {
              "outlinewidth": 0,
              "ticks": ""
             }
            },
            "marker": {
             "colorbar": {
              "outlinewidth": 0,
              "ticks": ""
             }
            },
            "type": "scatter3d"
           }
          ],
          "scattercarpet": [
           {
            "marker": {
             "colorbar": {
              "outlinewidth": 0,
              "ticks": ""
             }
            },
            "type": "scattercarpet"
           }
          ],
          "scattergeo": [
           {
            "marker": {
             "colorbar": {
              "outlinewidth": 0,
              "ticks": ""
             }
            },
            "type": "scattergeo"
           }
          ],
          "scattergl": [
           {
            "marker": {
             "colorbar": {
              "outlinewidth": 0,
              "ticks": ""
             }
            },
            "type": "scattergl"
           }
          ],
          "scattermapbox": [
           {
            "marker": {
             "colorbar": {
              "outlinewidth": 0,
              "ticks": ""
             }
            },
            "type": "scattermapbox"
           }
          ],
          "scatterpolar": [
           {
            "marker": {
             "colorbar": {
              "outlinewidth": 0,
              "ticks": ""
             }
            },
            "type": "scatterpolar"
           }
          ],
          "scatterpolargl": [
           {
            "marker": {
             "colorbar": {
              "outlinewidth": 0,
              "ticks": ""
             }
            },
            "type": "scatterpolargl"
           }
          ],
          "scatterternary": [
           {
            "marker": {
             "colorbar": {
              "outlinewidth": 0,
              "ticks": ""
             }
            },
            "type": "scatterternary"
           }
          ],
          "surface": [
           {
            "colorbar": {
             "outlinewidth": 0,
             "ticks": ""
            },
            "colorscale": [
             [
              0,
              "#0d0887"
             ],
             [
              0.1111111111111111,
              "#46039f"
             ],
             [
              0.2222222222222222,
              "#7201a8"
             ],
             [
              0.3333333333333333,
              "#9c179e"
             ],
             [
              0.4444444444444444,
              "#bd3786"
             ],
             [
              0.5555555555555556,
              "#d8576b"
             ],
             [
              0.6666666666666666,
              "#ed7953"
             ],
             [
              0.7777777777777778,
              "#fb9f3a"
             ],
             [
              0.8888888888888888,
              "#fdca26"
             ],
             [
              1,
              "#f0f921"
             ]
            ],
            "type": "surface"
           }
          ],
          "table": [
           {
            "cells": {
             "fill": {
              "color": "#EBF0F8"
             },
             "line": {
              "color": "white"
             }
            },
            "header": {
             "fill": {
              "color": "#C8D4E3"
             },
             "line": {
              "color": "white"
             }
            },
            "type": "table"
           }
          ]
         },
         "layout": {
          "annotationdefaults": {
           "arrowcolor": "#2a3f5f",
           "arrowhead": 0,
           "arrowwidth": 1
          },
          "autotypenumbers": "strict",
          "coloraxis": {
           "colorbar": {
            "outlinewidth": 0,
            "ticks": ""
           }
          },
          "colorscale": {
           "diverging": [
            [
             0,
             "#8e0152"
            ],
            [
             0.1,
             "#c51b7d"
            ],
            [
             0.2,
             "#de77ae"
            ],
            [
             0.3,
             "#f1b6da"
            ],
            [
             0.4,
             "#fde0ef"
            ],
            [
             0.5,
             "#f7f7f7"
            ],
            [
             0.6,
             "#e6f5d0"
            ],
            [
             0.7,
             "#b8e186"
            ],
            [
             0.8,
             "#7fbc41"
            ],
            [
             0.9,
             "#4d9221"
            ],
            [
             1,
             "#276419"
            ]
           ],
           "sequential": [
            [
             0,
             "#0d0887"
            ],
            [
             0.1111111111111111,
             "#46039f"
            ],
            [
             0.2222222222222222,
             "#7201a8"
            ],
            [
             0.3333333333333333,
             "#9c179e"
            ],
            [
             0.4444444444444444,
             "#bd3786"
            ],
            [
             0.5555555555555556,
             "#d8576b"
            ],
            [
             0.6666666666666666,
             "#ed7953"
            ],
            [
             0.7777777777777778,
             "#fb9f3a"
            ],
            [
             0.8888888888888888,
             "#fdca26"
            ],
            [
             1,
             "#f0f921"
            ]
           ],
           "sequentialminus": [
            [
             0,
             "#0d0887"
            ],
            [
             0.1111111111111111,
             "#46039f"
            ],
            [
             0.2222222222222222,
             "#7201a8"
            ],
            [
             0.3333333333333333,
             "#9c179e"
            ],
            [
             0.4444444444444444,
             "#bd3786"
            ],
            [
             0.5555555555555556,
             "#d8576b"
            ],
            [
             0.6666666666666666,
             "#ed7953"
            ],
            [
             0.7777777777777778,
             "#fb9f3a"
            ],
            [
             0.8888888888888888,
             "#fdca26"
            ],
            [
             1,
             "#f0f921"
            ]
           ]
          },
          "colorway": [
           "#636efa",
           "#EF553B",
           "#00cc96",
           "#ab63fa",
           "#FFA15A",
           "#19d3f3",
           "#FF6692",
           "#B6E880",
           "#FF97FF",
           "#FECB52"
          ],
          "font": {
           "color": "#2a3f5f"
          },
          "geo": {
           "bgcolor": "white",
           "lakecolor": "white",
           "landcolor": "#E5ECF6",
           "showlakes": true,
           "showland": true,
           "subunitcolor": "white"
          },
          "hoverlabel": {
           "align": "left"
          },
          "hovermode": "closest",
          "mapbox": {
           "style": "light"
          },
          "paper_bgcolor": "white",
          "plot_bgcolor": "#E5ECF6",
          "polar": {
           "angularaxis": {
            "gridcolor": "white",
            "linecolor": "white",
            "ticks": ""
           },
           "bgcolor": "#E5ECF6",
           "radialaxis": {
            "gridcolor": "white",
            "linecolor": "white",
            "ticks": ""
           }
          },
          "scene": {
           "xaxis": {
            "backgroundcolor": "#E5ECF6",
            "gridcolor": "white",
            "gridwidth": 2,
            "linecolor": "white",
            "showbackground": true,
            "ticks": "",
            "zerolinecolor": "white"
           },
           "yaxis": {
            "backgroundcolor": "#E5ECF6",
            "gridcolor": "white",
            "gridwidth": 2,
            "linecolor": "white",
            "showbackground": true,
            "ticks": "",
            "zerolinecolor": "white"
           },
           "zaxis": {
            "backgroundcolor": "#E5ECF6",
            "gridcolor": "white",
            "gridwidth": 2,
            "linecolor": "white",
            "showbackground": true,
            "ticks": "",
            "zerolinecolor": "white"
           }
          },
          "shapedefaults": {
           "line": {
            "color": "#2a3f5f"
           }
          },
          "ternary": {
           "aaxis": {
            "gridcolor": "white",
            "linecolor": "white",
            "ticks": ""
           },
           "baxis": {
            "gridcolor": "white",
            "linecolor": "white",
            "ticks": ""
           },
           "bgcolor": "#E5ECF6",
           "caxis": {
            "gridcolor": "white",
            "linecolor": "white",
            "ticks": ""
           }
          },
          "title": {
           "x": 0.05
          },
          "xaxis": {
           "automargin": true,
           "gridcolor": "white",
           "linecolor": "white",
           "ticks": "",
           "title": {
            "standoff": 15
           },
           "zerolinecolor": "white",
           "zerolinewidth": 2
          },
          "yaxis": {
           "automargin": true,
           "gridcolor": "white",
           "linecolor": "white",
           "ticks": "",
           "title": {
            "standoff": 15
           },
           "zerolinecolor": "white",
           "zerolinewidth": 2
          }
         }
        },
        "title": {
         "text": "Placings in 2021 starting at position 13"
        }
       }
      }
     },
     "metadata": {},
     "output_type": "display_data"
    }
   ],
   "source": [
    "fig = go.Figure(data=[go.Sankey(\n",
    "    node = dict(\n",
    "      pad = 15,\n",
    "      thickness = 20,\n",
    "      line = dict(color = \"black\", width = 0.5),\n",
    "      label = labels_uni_line\n",
    "    ),\n",
    "    link = dict(\n",
    "      source = len(labels_final)*[drivID], # indices correspond to labels, eg A1, A2, A1, B1, ...\n",
    "      target = labels_final,\n",
    "      value = weights_final\n",
    "  ))])\n",
    "\n",
    "fig.update_layout(title_text=\"Placings in \"+str(year)+\\\n",
    "  \"of driver \" + str(data)\n",
    "  \" starting at position \"+str(pstn), font_size=10)\n",
    "fig.show()"
   ]
  },
  {
   "cell_type": "code",
   "execution_count": null,
   "id": "541779c1",
   "metadata": {},
   "outputs": [],
   "source": []
  },
  {
   "cell_type": "code",
   "execution_count": null,
   "id": "e105fe3a",
   "metadata": {},
   "outputs": [],
   "source": []
  },
  {
   "cell_type": "markdown",
   "id": "e22f9602",
   "metadata": {},
   "source": [
    "#### Year and position"
   ]
  },
  {
   "cell_type": "code",
   "execution_count": null,
   "id": "f56355c0",
   "metadata": {},
   "outputs": [],
   "source": [
    "results_year_pstn = results_year[results_year['grid']==pstn]"
   ]
  },
  {
   "cell_type": "code",
   "execution_count": null,
   "id": "a0b97cde",
   "metadata": {},
   "outputs": [],
   "source": [
    "results_yp = results_year_pstn[['driverId',\\\n",
    "    'driverName','raceId','grid','position','code','dob','nationality']]"
   ]
  },
  {
   "cell_type": "code",
   "execution_count": null,
   "id": "8975070d",
   "metadata": {},
   "outputs": [],
   "source": [
    "results_yp_abr = results_yp[['position','driverName']].sort_values(['position','driverName'])"
   ]
  },
  {
   "cell_type": "code",
   "execution_count": null,
   "id": "8c18c3f4",
   "metadata": {},
   "outputs": [],
   "source": [
    "driver_list = []\n",
    "\n",
    "curr_driver = list(results_yp_abr.iloc[0,:]) + [1]\n",
    "\n",
    "for i in range(1,len(results_yp_abr['position'])):\n",
    "    if results_yp_abr['position'].iloc[i] == results_yp_abr['position'].iloc[i-1]:\n",
    "        if results_yp_abr['driverName'].iloc[i] == results_yp_abr['driverName'].iloc[i-1]:\n",
    "            curr_driver[2] += 1\n",
    "        else:\n",
    "            driver_list.append(curr_driver)\n",
    "            curr_driver = list(results_yp_abr.iloc[i,:]) + [1]\n",
    "    else:\n",
    "        driver_list.append(curr_driver)\n",
    "        curr_driver = list(results_yp_abr.iloc[i,:]) + [1]\n",
    "\n",
    "driver_list.append(curr_driver)"
   ]
  },
  {
   "cell_type": "code",
   "execution_count": null,
   "id": "42dc3150",
   "metadata": {},
   "outputs": [
    {
     "data": {
      "text/plain": [
       "[['12', 'Kimi Räikkönen', 1],\n",
       " ['13', 'Antonio Giovinazzi', 1],\n",
       " ['13', 'Yuki Tsunoda', 1],\n",
       " ['15', 'Sebastian Vettel', 1],\n",
       " ['16', 'Nicholas Latifi', 1],\n",
       " ['16', 'Sergio Pérez', 1],\n",
       " ['18', 'Kimi Räikkönen', 1],\n",
       " ['19', 'Sergio Pérez', 1],\n",
       " ['5', 'Sergio Pérez', 1],\n",
       " ['8', 'Sergio Pérez', 1],\n",
       " ['DNF', 'Pierre Gasly', 1],\n",
       " ['DNF', 'Yuki Tsunoda', 1]]"
      ]
     },
     "execution_count": 32,
     "metadata": {},
     "output_type": "execute_result"
    }
   ],
   "source": [
    "driver_list"
   ]
  },
  {
   "cell_type": "code",
   "execution_count": null,
   "id": "c0976057",
   "metadata": {},
   "outputs": [],
   "source": [
    "driver_frame = pd.DataFrame(driver_list,columns=['position','name','weight'])\\\n",
    "    .sort_values(['position','weight'],ascending=[True,False])"
   ]
  },
  {
   "cell_type": "code",
   "execution_count": null,
   "id": "4d8b74c0",
   "metadata": {},
   "outputs": [],
   "source": [
    "labels_line = list(driver_frame['name'])+list(driver_frame['position'])\n",
    "labels_uni_line = list(dict.fromkeys(labels_line))\n",
    "labels_final = [labels_uni_line.index(x) for x in labels_line]\n",
    "weights_final = list(driver_frame['weight'])"
   ]
  },
  {
   "cell_type": "code",
   "execution_count": null,
   "metadata": {},
   "outputs": [
    {
     "name": "stdout",
     "output_type": "stream",
     "text": [
      "[0, 1, 2, 3, 4, 5, 0, 5, 5, 5, 6, 2]\n",
      "[7, 8, 8, 9, 10, 10, 11, 12, 13, 14, 15, 15]\n",
      "[1, 1, 1, 1, 1, 1, 1, 1, 1, 1, 1, 1]\n"
     ]
    }
   ],
   "source": [
    "print(labels_final[:len(labels_final)//2]) # indices correspond to labels, eg A1, A2, A1, B1, .\n",
    "print(labels_final[len(labels_final)//2:])\n",
    "print(weights_final)"
   ]
  },
  {
   "cell_type": "code",
   "execution_count": null,
   "id": "ff4aefde",
   "metadata": {},
   "outputs": [
    {
     "data": {
      "application/vnd.plotly.v1+json": {
       "config": {
        "plotlyServerURL": "https://plot.ly"
       },
       "data": [
        {
         "link": {
          "source": [
           0,
           1,
           2,
           3,
           4,
           5,
           0,
           5,
           5,
           5,
           6,
           2
          ],
          "target": [
           7,
           8,
           8,
           9,
           10,
           10,
           11,
           12,
           13,
           14,
           15,
           15
          ],
          "value": [
           1,
           1,
           1,
           1,
           1,
           1,
           1,
           1,
           1,
           1,
           1,
           1
          ]
         },
         "node": {
          "label": [
           "Kimi Räikkönen",
           "Antonio Giovinazzi",
           "Yuki Tsunoda",
           "Sebastian Vettel",
           "Nicholas Latifi",
           "Sergio Pérez",
           "Pierre Gasly",
           "12",
           "13",
           "15",
           "16",
           "18",
           "19",
           "5",
           "8",
           "DNF"
          ],
          "line": {
           "color": "black",
           "width": 0.5
          },
          "pad": 15,
          "thickness": 20
         },
         "type": "sankey"
        }
       ],
       "layout": {
        "font": {
         "size": 10
        },
        "template": {
         "data": {
          "bar": [
           {
            "error_x": {
             "color": "#2a3f5f"
            },
            "error_y": {
             "color": "#2a3f5f"
            },
            "marker": {
             "line": {
              "color": "#E5ECF6",
              "width": 0.5
             },
             "pattern": {
              "fillmode": "overlay",
              "size": 10,
              "solidity": 0.2
             }
            },
            "type": "bar"
           }
          ],
          "barpolar": [
           {
            "marker": {
             "line": {
              "color": "#E5ECF6",
              "width": 0.5
             },
             "pattern": {
              "fillmode": "overlay",
              "size": 10,
              "solidity": 0.2
             }
            },
            "type": "barpolar"
           }
          ],
          "carpet": [
           {
            "aaxis": {
             "endlinecolor": "#2a3f5f",
             "gridcolor": "white",
             "linecolor": "white",
             "minorgridcolor": "white",
             "startlinecolor": "#2a3f5f"
            },
            "baxis": {
             "endlinecolor": "#2a3f5f",
             "gridcolor": "white",
             "linecolor": "white",
             "minorgridcolor": "white",
             "startlinecolor": "#2a3f5f"
            },
            "type": "carpet"
           }
          ],
          "choropleth": [
           {
            "colorbar": {
             "outlinewidth": 0,
             "ticks": ""
            },
            "type": "choropleth"
           }
          ],
          "contour": [
           {
            "colorbar": {
             "outlinewidth": 0,
             "ticks": ""
            },
            "colorscale": [
             [
              0,
              "#0d0887"
             ],
             [
              0.1111111111111111,
              "#46039f"
             ],
             [
              0.2222222222222222,
              "#7201a8"
             ],
             [
              0.3333333333333333,
              "#9c179e"
             ],
             [
              0.4444444444444444,
              "#bd3786"
             ],
             [
              0.5555555555555556,
              "#d8576b"
             ],
             [
              0.6666666666666666,
              "#ed7953"
             ],
             [
              0.7777777777777778,
              "#fb9f3a"
             ],
             [
              0.8888888888888888,
              "#fdca26"
             ],
             [
              1,
              "#f0f921"
             ]
            ],
            "type": "contour"
           }
          ],
          "contourcarpet": [
           {
            "colorbar": {
             "outlinewidth": 0,
             "ticks": ""
            },
            "type": "contourcarpet"
           }
          ],
          "heatmap": [
           {
            "colorbar": {
             "outlinewidth": 0,
             "ticks": ""
            },
            "colorscale": [
             [
              0,
              "#0d0887"
             ],
             [
              0.1111111111111111,
              "#46039f"
             ],
             [
              0.2222222222222222,
              "#7201a8"
             ],
             [
              0.3333333333333333,
              "#9c179e"
             ],
             [
              0.4444444444444444,
              "#bd3786"
             ],
             [
              0.5555555555555556,
              "#d8576b"
             ],
             [
              0.6666666666666666,
              "#ed7953"
             ],
             [
              0.7777777777777778,
              "#fb9f3a"
             ],
             [
              0.8888888888888888,
              "#fdca26"
             ],
             [
              1,
              "#f0f921"
             ]
            ],
            "type": "heatmap"
           }
          ],
          "heatmapgl": [
           {
            "colorbar": {
             "outlinewidth": 0,
             "ticks": ""
            },
            "colorscale": [
             [
              0,
              "#0d0887"
             ],
             [
              0.1111111111111111,
              "#46039f"
             ],
             [
              0.2222222222222222,
              "#7201a8"
             ],
             [
              0.3333333333333333,
              "#9c179e"
             ],
             [
              0.4444444444444444,
              "#bd3786"
             ],
             [
              0.5555555555555556,
              "#d8576b"
             ],
             [
              0.6666666666666666,
              "#ed7953"
             ],
             [
              0.7777777777777778,
              "#fb9f3a"
             ],
             [
              0.8888888888888888,
              "#fdca26"
             ],
             [
              1,
              "#f0f921"
             ]
            ],
            "type": "heatmapgl"
           }
          ],
          "histogram": [
           {
            "marker": {
             "pattern": {
              "fillmode": "overlay",
              "size": 10,
              "solidity": 0.2
             }
            },
            "type": "histogram"
           }
          ],
          "histogram2d": [
           {
            "colorbar": {
             "outlinewidth": 0,
             "ticks": ""
            },
            "colorscale": [
             [
              0,
              "#0d0887"
             ],
             [
              0.1111111111111111,
              "#46039f"
             ],
             [
              0.2222222222222222,
              "#7201a8"
             ],
             [
              0.3333333333333333,
              "#9c179e"
             ],
             [
              0.4444444444444444,
              "#bd3786"
             ],
             [
              0.5555555555555556,
              "#d8576b"
             ],
             [
              0.6666666666666666,
              "#ed7953"
             ],
             [
              0.7777777777777778,
              "#fb9f3a"
             ],
             [
              0.8888888888888888,
              "#fdca26"
             ],
             [
              1,
              "#f0f921"
             ]
            ],
            "type": "histogram2d"
           }
          ],
          "histogram2dcontour": [
           {
            "colorbar": {
             "outlinewidth": 0,
             "ticks": ""
            },
            "colorscale": [
             [
              0,
              "#0d0887"
             ],
             [
              0.1111111111111111,
              "#46039f"
             ],
             [
              0.2222222222222222,
              "#7201a8"
             ],
             [
              0.3333333333333333,
              "#9c179e"
             ],
             [
              0.4444444444444444,
              "#bd3786"
             ],
             [
              0.5555555555555556,
              "#d8576b"
             ],
             [
              0.6666666666666666,
              "#ed7953"
             ],
             [
              0.7777777777777778,
              "#fb9f3a"
             ],
             [
              0.8888888888888888,
              "#fdca26"
             ],
             [
              1,
              "#f0f921"
             ]
            ],
            "type": "histogram2dcontour"
           }
          ],
          "mesh3d": [
           {
            "colorbar": {
             "outlinewidth": 0,
             "ticks": ""
            },
            "type": "mesh3d"
           }
          ],
          "parcoords": [
           {
            "line": {
             "colorbar": {
              "outlinewidth": 0,
              "ticks": ""
             }
            },
            "type": "parcoords"
           }
          ],
          "pie": [
           {
            "automargin": true,
            "type": "pie"
           }
          ],
          "scatter": [
           {
            "marker": {
             "colorbar": {
              "outlinewidth": 0,
              "ticks": ""
             }
            },
            "type": "scatter"
           }
          ],
          "scatter3d": [
           {
            "line": {
             "colorbar": {
              "outlinewidth": 0,
              "ticks": ""
             }
            },
            "marker": {
             "colorbar": {
              "outlinewidth": 0,
              "ticks": ""
             }
            },
            "type": "scatter3d"
           }
          ],
          "scattercarpet": [
           {
            "marker": {
             "colorbar": {
              "outlinewidth": 0,
              "ticks": ""
             }
            },
            "type": "scattercarpet"
           }
          ],
          "scattergeo": [
           {
            "marker": {
             "colorbar": {
              "outlinewidth": 0,
              "ticks": ""
             }
            },
            "type": "scattergeo"
           }
          ],
          "scattergl": [
           {
            "marker": {
             "colorbar": {
              "outlinewidth": 0,
              "ticks": ""
             }
            },
            "type": "scattergl"
           }
          ],
          "scattermapbox": [
           {
            "marker": {
             "colorbar": {
              "outlinewidth": 0,
              "ticks": ""
             }
            },
            "type": "scattermapbox"
           }
          ],
          "scatterpolar": [
           {
            "marker": {
             "colorbar": {
              "outlinewidth": 0,
              "ticks": ""
             }
            },
            "type": "scatterpolar"
           }
          ],
          "scatterpolargl": [
           {
            "marker": {
             "colorbar": {
              "outlinewidth": 0,
              "ticks": ""
             }
            },
            "type": "scatterpolargl"
           }
          ],
          "scatterternary": [
           {
            "marker": {
             "colorbar": {
              "outlinewidth": 0,
              "ticks": ""
             }
            },
            "type": "scatterternary"
           }
          ],
          "surface": [
           {
            "colorbar": {
             "outlinewidth": 0,
             "ticks": ""
            },
            "colorscale": [
             [
              0,
              "#0d0887"
             ],
             [
              0.1111111111111111,
              "#46039f"
             ],
             [
              0.2222222222222222,
              "#7201a8"
             ],
             [
              0.3333333333333333,
              "#9c179e"
             ],
             [
              0.4444444444444444,
              "#bd3786"
             ],
             [
              0.5555555555555556,
              "#d8576b"
             ],
             [
              0.6666666666666666,
              "#ed7953"
             ],
             [
              0.7777777777777778,
              "#fb9f3a"
             ],
             [
              0.8888888888888888,
              "#fdca26"
             ],
             [
              1,
              "#f0f921"
             ]
            ],
            "type": "surface"
           }
          ],
          "table": [
           {
            "cells": {
             "fill": {
              "color": "#EBF0F8"
             },
             "line": {
              "color": "white"
             }
            },
            "header": {
             "fill": {
              "color": "#C8D4E3"
             },
             "line": {
              "color": "white"
             }
            },
            "type": "table"
           }
          ]
         },
         "layout": {
          "annotationdefaults": {
           "arrowcolor": "#2a3f5f",
           "arrowhead": 0,
           "arrowwidth": 1
          },
          "autotypenumbers": "strict",
          "coloraxis": {
           "colorbar": {
            "outlinewidth": 0,
            "ticks": ""
           }
          },
          "colorscale": {
           "diverging": [
            [
             0,
             "#8e0152"
            ],
            [
             0.1,
             "#c51b7d"
            ],
            [
             0.2,
             "#de77ae"
            ],
            [
             0.3,
             "#f1b6da"
            ],
            [
             0.4,
             "#fde0ef"
            ],
            [
             0.5,
             "#f7f7f7"
            ],
            [
             0.6,
             "#e6f5d0"
            ],
            [
             0.7,
             "#b8e186"
            ],
            [
             0.8,
             "#7fbc41"
            ],
            [
             0.9,
             "#4d9221"
            ],
            [
             1,
             "#276419"
            ]
           ],
           "sequential": [
            [
             0,
             "#0d0887"
            ],
            [
             0.1111111111111111,
             "#46039f"
            ],
            [
             0.2222222222222222,
             "#7201a8"
            ],
            [
             0.3333333333333333,
             "#9c179e"
            ],
            [
             0.4444444444444444,
             "#bd3786"
            ],
            [
             0.5555555555555556,
             "#d8576b"
            ],
            [
             0.6666666666666666,
             "#ed7953"
            ],
            [
             0.7777777777777778,
             "#fb9f3a"
            ],
            [
             0.8888888888888888,
             "#fdca26"
            ],
            [
             1,
             "#f0f921"
            ]
           ],
           "sequentialminus": [
            [
             0,
             "#0d0887"
            ],
            [
             0.1111111111111111,
             "#46039f"
            ],
            [
             0.2222222222222222,
             "#7201a8"
            ],
            [
             0.3333333333333333,
             "#9c179e"
            ],
            [
             0.4444444444444444,
             "#bd3786"
            ],
            [
             0.5555555555555556,
             "#d8576b"
            ],
            [
             0.6666666666666666,
             "#ed7953"
            ],
            [
             0.7777777777777778,
             "#fb9f3a"
            ],
            [
             0.8888888888888888,
             "#fdca26"
            ],
            [
             1,
             "#f0f921"
            ]
           ]
          },
          "colorway": [
           "#636efa",
           "#EF553B",
           "#00cc96",
           "#ab63fa",
           "#FFA15A",
           "#19d3f3",
           "#FF6692",
           "#B6E880",
           "#FF97FF",
           "#FECB52"
          ],
          "font": {
           "color": "#2a3f5f"
          },
          "geo": {
           "bgcolor": "white",
           "lakecolor": "white",
           "landcolor": "#E5ECF6",
           "showlakes": true,
           "showland": true,
           "subunitcolor": "white"
          },
          "hoverlabel": {
           "align": "left"
          },
          "hovermode": "closest",
          "mapbox": {
           "style": "light"
          },
          "paper_bgcolor": "white",
          "plot_bgcolor": "#E5ECF6",
          "polar": {
           "angularaxis": {
            "gridcolor": "white",
            "linecolor": "white",
            "ticks": ""
           },
           "bgcolor": "#E5ECF6",
           "radialaxis": {
            "gridcolor": "white",
            "linecolor": "white",
            "ticks": ""
           }
          },
          "scene": {
           "xaxis": {
            "backgroundcolor": "#E5ECF6",
            "gridcolor": "white",
            "gridwidth": 2,
            "linecolor": "white",
            "showbackground": true,
            "ticks": "",
            "zerolinecolor": "white"
           },
           "yaxis": {
            "backgroundcolor": "#E5ECF6",
            "gridcolor": "white",
            "gridwidth": 2,
            "linecolor": "white",
            "showbackground": true,
            "ticks": "",
            "zerolinecolor": "white"
           },
           "zaxis": {
            "backgroundcolor": "#E5ECF6",
            "gridcolor": "white",
            "gridwidth": 2,
            "linecolor": "white",
            "showbackground": true,
            "ticks": "",
            "zerolinecolor": "white"
           }
          },
          "shapedefaults": {
           "line": {
            "color": "#2a3f5f"
           }
          },
          "ternary": {
           "aaxis": {
            "gridcolor": "white",
            "linecolor": "white",
            "ticks": ""
           },
           "baxis": {
            "gridcolor": "white",
            "linecolor": "white",
            "ticks": ""
           },
           "bgcolor": "#E5ECF6",
           "caxis": {
            "gridcolor": "white",
            "linecolor": "white",
            "ticks": ""
           }
          },
          "title": {
           "x": 0.05
          },
          "xaxis": {
           "automargin": true,
           "gridcolor": "white",
           "linecolor": "white",
           "ticks": "",
           "title": {
            "standoff": 15
           },
           "zerolinecolor": "white",
           "zerolinewidth": 2
          },
          "yaxis": {
           "automargin": true,
           "gridcolor": "white",
           "linecolor": "white",
           "ticks": "",
           "title": {
            "standoff": 15
           },
           "zerolinecolor": "white",
           "zerolinewidth": 2
          }
         }
        },
        "title": {
         "text": "Placings in 2021 starting at position Pit"
        }
       }
      }
     },
     "metadata": {},
     "output_type": "display_data"
    }
   ],
   "source": [
    "fig = go.Figure(data=[go.Sankey(\n",
    "    node = dict(\n",
    "      pad = 15,\n",
    "      thickness = 20,\n",
    "      line = dict(color = \"black\", width = 0.5),\n",
    "      label = labels_uni_line\n",
    "    ),\n",
    "    link = dict(\n",
    "      source = labels_final[:len(labels_final)//2], # indices correspond to labels, eg A1, A2, A1, B1, ...\n",
    "      target = labels_final[len(labels_final)//2:],\n",
    "      value = weights_final\n",
    "  ))])\n",
    "\n",
    "fig.update_layout(title_text=\"Placings in \"+str(year)+\\\n",
    "  \" starting at position \"+str(pstn), font_size=10)\n",
    "fig.show()"
   ]
  },
  {
   "cell_type": "code",
   "execution_count": null,
   "id": "67ce1187",
   "metadata": {},
   "outputs": [],
   "source": []
  },
  {
   "cell_type": "markdown",
   "id": "c3a519f8",
   "metadata": {},
   "source": [
    "#### Year, start and driver"
   ]
  },
  {
   "cell_type": "code",
   "execution_count": null,
   "id": "67195538",
   "metadata": {},
   "outputs": [],
   "source": [
    "results['grid'].replace(to_replace='Pit',value=0,inplace=True)"
   ]
  },
  {
   "cell_type": "code",
   "execution_count": null,
   "id": "bb317bde",
   "metadata": {},
   "outputs": [
    {
     "data": {
      "text/plain": [
       "array([ 1,  2,  3,  4,  5,  6,  7,  8,  9, 10, 11, 12, 13, 14, 15, 16, 17,\n",
       "       18, 19, 20, 21, 22, 23, 24, 25, 26, 27, 28, 29, 30, 31, 32, 33, 34],\n",
       "      dtype=int64)"
      ]
     },
     "execution_count": 54,
     "metadata": {},
     "output_type": "execute_result"
    }
   ],
   "source": [
    "np.sort(results['grid'].unique())[1:]"
   ]
  },
  {
   "cell_type": "markdown",
   "id": "c8f244a8",
   "metadata": {},
   "source": [
    "#### Sankey in Dash"
   ]
  },
  {
   "cell_type": "code",
   "execution_count": null,
   "id": "1212006e",
   "metadata": {},
   "outputs": [
    {
     "name": "stdout",
     "output_type": "stream",
     "text": [
      "Dash is running on http://127.0.0.1:8050/\n",
      "\n",
      "Dash is running on http://127.0.0.1:8050/\n",
      "\n",
      " * Serving Flask app '__main__' (lazy loading)\n",
      " * Environment: production\n",
      "\u001b[31m   WARNING: This is a development server. Do not use it in a production deployment.\u001b[0m\n",
      "\u001b[2m   Use a production WSGI server instead.\u001b[0m\n",
      " * Debug mode: on\n"
     ]
    },
    {
     "ename": "SystemExit",
     "evalue": "1",
     "output_type": "error",
     "traceback": [
      "An exception has occurred, use %tb to see the full traceback.\n",
      "\u001b[1;31mSystemExit\u001b[0m\u001b[1;31m:\u001b[0m 1\n"
     ]
    },
    {
     "name": "stderr",
     "output_type": "stream",
     "text": [
      "C:\\Users\\Utilizador\\.conda\\envs\\data_mongpy\\lib\\site-packages\\IPython\\core\\interactiveshell.py:3369: UserWarning:\n",
      "\n",
      "To exit: use 'exit', 'quit', or Ctrl-D.\n",
      "\n"
     ]
    }
   ],
   "source": [
    "from dash import Dash, dcc, html, Input, Output\n",
    "import plotly.graph_objects as go\n",
    "import json, urllib\n",
    "\n",
    "app = Dash(__name__)\n",
    "\n",
    "app.layout = html.Div([\n",
    "    html.H4('Supply chain of the energy production'),\n",
    "    dcc.Graph(id=\"graph\"),\n",
    "    html.P(\"Opacity\"),\n",
    "    dcc.Slider(id='slider', min=0, max=1, \n",
    "               value=0.5, step=0.1)\n",
    "])\n",
    "\n",
    "@app.callback(\n",
    "    Output(\"graph\", \"figure\"), \n",
    "    Input(\"slider\", \"value\"))\n",
    "def display_sankey(opacity):\n",
    "    url = 'https://raw.githubusercontent.com/plotly/plotly.js/master/test/image/mocks/sankey_energy.json'\n",
    "    response = urllib.request.urlopen(url)\n",
    "    data = json.loads(response.read()) # replace with your own data source\n",
    "\n",
    "    node = data['data'][0]['node']\n",
    "    node['color'] = [\n",
    "        f'rgba(255,0,255,{opacity})' \n",
    "        if c == \"magenta\" else c.replace('0.8', str(opacity)) \n",
    "        for c in node['color']]\n",
    "\n",
    "    link = data['data'][0]['link']\n",
    "    link['color'] = [\n",
    "        node['color'][src] for src in link['source']]\n",
    "\n",
    "    fig = go.Figure(go.Sankey(link=link, node=node))\n",
    "    fig.update_layout(font_size=10)\n",
    "    return fig\n",
    "\n",
    "app.run_server(debug=True)"
   ]
  },
  {
   "cell_type": "code",
   "execution_count": null,
   "id": "fe6e2fb4",
   "metadata": {},
   "outputs": [],
   "source": []
  },
  {
   "cell_type": "markdown",
   "id": "cd7fad05",
   "metadata": {},
   "source": [
    "### Tab code"
   ]
  },
  {
   "cell_type": "code",
   "execution_count": null,
   "id": "9431e9f9",
   "metadata": {},
   "outputs": [],
   "source": [
    "from dash import Dash, dcc, html\n",
    "\n",
    "external_stylesheets = ['https://codepen.io/chriddyp/pen/bWLwgP.css']\n",
    "\n",
    "app = Dash(__name__, external_stylesheets=external_stylesheets)\n",
    "\n",
    "app.layout = html.Div([\n",
    "    dcc.Tabs([\n",
    "        dcc.Tab(label='Tab one', children=[\n",
    "            dcc.Graph(\n",
    "                figure={\n",
    "                    'data': [\n",
    "                        {'x': [1, 2, 3], 'y': [4, 1, 2],\n",
    "                            'type': 'bar', 'name': 'SF'},\n",
    "                        {'x': [1, 2, 3], 'y': [2, 4, 5],\n",
    "                         'type': 'bar', 'name': u'Montréal'},\n",
    "                    ]\n",
    "                }\n",
    "            )\n",
    "        ]),\n",
    "        dcc.Tab(label='Tab two', children=[\n",
    "            dcc.Graph(\n",
    "                figure={\n",
    "                    'data': [\n",
    "                        {'x': [1, 2, 3], 'y': [1, 4, 1],\n",
    "                            'type': 'bar', 'name': 'SF'},\n",
    "                        {'x': [1, 2, 3], 'y': [1, 2, 3],\n",
    "                         'type': 'bar', 'name': u'Montréal'},\n",
    "                    ]\n",
    "                }\n",
    "            )\n",
    "        ]),\n",
    "        dcc.Tab(label='Tab three', children=[\n",
    "            dcc.Graph(\n",
    "                figure={\n",
    "                    'data': [\n",
    "                        {'x': [1, 2, 3], 'y': [2, 4, 3],\n",
    "                            'type': 'bar', 'name': 'SF'},\n",
    "                        {'x': [1, 2, 3], 'y': [5, 4, 3],\n",
    "                         'type': 'bar', 'name': u'Montréal'},\n",
    "                    ]\n",
    "                }\n",
    "            )\n",
    "        ]),\n",
    "    ])\n",
    "])\n",
    "\n",
    "if __name__ == '__main__':\n",
    "    app.run_server(debug=True)"
   ]
  },
  {
   "cell_type": "code",
   "execution_count": null,
   "id": "caa54a8b",
   "metadata": {},
   "outputs": [],
   "source": []
  },
  {
   "cell_type": "code",
   "execution_count": null,
   "id": "8f6af02d",
   "metadata": {},
   "outputs": [],
   "source": []
  },
  {
   "cell_type": "code",
   "execution_count": null,
   "id": "75b054a7",
   "metadata": {},
   "outputs": [],
   "source": []
  },
  {
   "cell_type": "code",
   "execution_count": null,
   "id": "d2fca08a",
   "metadata": {},
   "outputs": [],
   "source": []
  }
 ],
 "metadata": {
  "kernelspec": {
   "display_name": "Python 3 (ipykernel)",
   "language": "python",
   "name": "python3"
  },
  "language_info": {
   "codemirror_mode": {
    "name": "ipython",
    "version": 3
   },
   "file_extension": ".py",
   "mimetype": "text/x-python",
   "name": "python",
   "nbconvert_exporter": "python",
   "pygments_lexer": "ipython3",
   "version": "3.8.12"
  }
 },
 "nbformat": 4,
 "nbformat_minor": 5
}
